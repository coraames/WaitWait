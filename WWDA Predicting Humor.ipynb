{
 "cells": [
  {
   "cell_type": "markdown",
   "metadata": {},
   "source": [
    "# Wait Wait, Don't Analyze Me!"
   ]
  },
  {
   "cell_type": "markdown",
   "metadata": {},
   "source": [
    "![NPR logo](https://media.npr.org/branding/programs/wait-wait-dont-tell-me/branding_main-c5920a167d6a5d445ce86fac30b90454223b6b57.png \"One nerd's attempt to learn everything there is to know about NPR's greatest quiz show.\")\n"
   ]
  },
  {
   "cell_type": "markdown",
   "metadata": {},
   "source": [
    "# Introduction\n",
    "[Wait Wait, Don't Tell Me!](https://www.npr.org/programs/wait-wait-dont-tell-me/) is NPR's longest-running news quiz show. Contestents call in to answer questions about the week's news, and a rotating cast of three panelists make jokes and parody newsworthy (and not-so-newsworthy) current events. Listening to \"Wait wait\" has been a highlight of my week since I was a kid, and it remains one of NPR's most popular segments. So what better way to show my appreciation than to take it apart and see what makes it tick?\n",
    "\n",
    "For this project, I have pulled text transcripts of each episode of \"Wait, Wait\", storing them as a MySQL library. I have two goals:\n",
    "1. Understand and predict jokes in the program.\n",
    "2. Create a \"Wait wait\" transcript generator, so that I don't have to wait a whole week between episodes!"
   ]
  },
  {
   "cell_type": "markdown",
   "metadata": {},
   "source": [
    "# Table of contents\n",
    "\n",
    "1. [Loading the data](#data-loading)\n",
    "2. [Line Statistics Predictions](#line-stats)\n",
    "3. [Word Content Predictions](#words)\n",
    "4. [Combined Predictions](#combo)\n",
    "5. [Recurrent Neural Network Predictions](#GRU)\n",
    "    1. [Data preparation](#rnn-prep)\n",
    "    2. [Synonyms data augmentation](#rnn-syn)\n",
    "    3. [Model Generation](#rnn-model)\n",
    "    4. [Model Training](#rnn-train)\n",
    "    5. [Model Optimization](#rnn-optimize)\n",
    "    6. [Attention](#rnn-attention)\n",
    "    "
   ]
  },
  {
   "cell_type": "markdown",
   "metadata": {},
   "source": [
    "# Section 0: Loading the data <a name=\"data-loading\"></a>"
   ]
  },
  {
   "cell_type": "markdown",
   "metadata": {},
   "source": [
    "Before I can analyze the data, I must first load it and process it. To accomplish this, I wrote a simple set of  functions to load in text files containing the transcripts, figure out who the speakers are, and separate the text blocks into a list of words.\n",
    "\n",
    "For full discussion of these functions, take a look at my previous Jupyter notebook, \"WWDA Analyzing text.ipynb\"."
   ]
  },
  {
   "cell_type": "code",
   "execution_count": 1,
   "metadata": {},
   "outputs": [
    {
     "name": "stderr",
     "output_type": "stream",
     "text": [
      "/Users/coraames/git/BimanualModeling/py_36_env/lib/python3.6/site-packages/tensorflow/python/framework/dtypes.py:516: FutureWarning: Passing (type, 1) or '1type' as a synonym of type is deprecated; in a future version of numpy, it will be understood as (type, (1,)) / '(1,)type'.\n",
      "  _np_qint8 = np.dtype([(\"qint8\", np.int8, 1)])\n",
      "/Users/coraames/git/BimanualModeling/py_36_env/lib/python3.6/site-packages/tensorflow/python/framework/dtypes.py:517: FutureWarning: Passing (type, 1) or '1type' as a synonym of type is deprecated; in a future version of numpy, it will be understood as (type, (1,)) / '(1,)type'.\n",
      "  _np_quint8 = np.dtype([(\"quint8\", np.uint8, 1)])\n",
      "/Users/coraames/git/BimanualModeling/py_36_env/lib/python3.6/site-packages/tensorflow/python/framework/dtypes.py:518: FutureWarning: Passing (type, 1) or '1type' as a synonym of type is deprecated; in a future version of numpy, it will be understood as (type, (1,)) / '(1,)type'.\n",
      "  _np_qint16 = np.dtype([(\"qint16\", np.int16, 1)])\n",
      "/Users/coraames/git/BimanualModeling/py_36_env/lib/python3.6/site-packages/tensorflow/python/framework/dtypes.py:519: FutureWarning: Passing (type, 1) or '1type' as a synonym of type is deprecated; in a future version of numpy, it will be understood as (type, (1,)) / '(1,)type'.\n",
      "  _np_quint16 = np.dtype([(\"quint16\", np.uint16, 1)])\n",
      "/Users/coraames/git/BimanualModeling/py_36_env/lib/python3.6/site-packages/tensorflow/python/framework/dtypes.py:520: FutureWarning: Passing (type, 1) or '1type' as a synonym of type is deprecated; in a future version of numpy, it will be understood as (type, (1,)) / '(1,)type'.\n",
      "  _np_qint32 = np.dtype([(\"qint32\", np.int32, 1)])\n",
      "/Users/coraames/git/BimanualModeling/py_36_env/lib/python3.6/site-packages/tensorflow/python/framework/dtypes.py:525: FutureWarning: Passing (type, 1) or '1type' as a synonym of type is deprecated; in a future version of numpy, it will be understood as (type, (1,)) / '(1,)type'.\n",
      "  np_resource = np.dtype([(\"resource\", np.ubyte, 1)])\n"
     ]
    }
   ],
   "source": [
    "import tensorflow as tf\n",
    "tf.enable_eager_execution()\n",
    "\n",
    "import pandas as pd\n",
    "import numpy as np\n",
    "import os\n",
    "import matplotlib.pyplot as plt\n",
    "import mysql.connector\n",
    "import re\n",
    "from sklearn.preprocessing import QuantileTransformer\n",
    "import time\n",
    "import matplotlib.cm as cm\n",
    "\n",
    "from tensorflow.python import keras\n",
    "\n",
    "os.environ['TF_KERAS'] = 'True'\n",
    "\n",
    "%matplotlib inline\n",
    "\n",
    "# change the default font size in figures to be larger\n",
    "font = {'size'   : 15}\n",
    "\n",
    "plt.rc('font', **font)"
   ]
  },
  {
   "cell_type": "code",
   "execution_count": 2,
   "metadata": {},
   "outputs": [],
   "source": [
    "# connect to the database of wait wait don't tell me transcripts\n",
    "cnx = mysql.connector.connect(database='wait_wait',\n",
    "                              user='root')"
   ]
  },
  {
   "cell_type": "code",
   "execution_count": 3,
   "metadata": {},
   "outputs": [],
   "source": [
    "# function to pull some transcripts from the database\n",
    "def pull_transcript(n=5):\n",
    "    # instantiate a cursor to select data from the database\n",
    "    curs = cnx.cursor()\n",
    "    curs.execute(f'select * from transcripts limit {n}')\n",
    "    \n",
    "    # pull the data and convert to a pandas dataframe\n",
    "    df = pd.DataFrame(data = np.array(curs.fetchmany(n)),columns=curs.column_names)\n",
    "    df = df.set_index('id')\n",
    "    \n",
    "    # close the cursor\n",
    "    curs.close()\n",
    "    return df"
   ]
  },
  {
   "cell_type": "code",
   "execution_count": 4,
   "metadata": {},
   "outputs": [],
   "source": [
    "num_transcripts = 4131\n",
    "transcript_df = pull_transcript(n=num_transcripts)"
   ]
  },
  {
   "cell_type": "code",
   "execution_count": 5,
   "metadata": {},
   "outputs": [],
   "source": [
    "# We want to go ahead and split the entries into testing, training, and validation sets,\n",
    "# so that we don't over-fit.\n",
    "np.random.seed(42)\n",
    "transcript_df['train'] = np.random.rand(num_transcripts)>.2\n",
    "transcript_df['val'] = (transcript_df['train']*np.random.rand(num_transcripts))>.8\n",
    "transcript_df['train'] = transcript_df['train'] & ~transcript_df['val']"
   ]
  },
  {
   "cell_type": "code",
   "execution_count": 6,
   "metadata": {},
   "outputs": [],
   "source": [
    "# Support function that pulls lines from the transcript and labels them by segment and air date\n",
    "# Note: I feel I should be able to eliminate the for loop, as this can be somewhat\n",
    "# time-consuming, but it gets the job done for now.\n",
    "def extract_lines(transcript_numbers):\n",
    "    \n",
    "    # initialize list\n",
    "    df_list = []\n",
    "    \n",
    "    # separate the lines\n",
    "    lines = transcript_df['transcript'].str.split('\\n    ')\n",
    "    \n",
    "    # make each line into a row in a dataframe, labeled by transcript number\n",
    "    for df_idx,line_idx in enumerate(transcript_numbers):\n",
    "        df_list.append(pd.DataFrame(lines[line_idx],columns=['lines']))\n",
    "        df_list[df_idx].loc[:,'line_num'] = df_list[df_idx].index\n",
    "        df_list[df_idx].loc[:,'transcript_id'] = line_idx\n",
    "    \n",
    "    # join the lines from all transcripts, and add info from the transcript dataframe\n",
    "    lines_df = pd.concat(df_list)\n",
    "    lines_df = lines_df.merge(transcript_df.loc[:,['aired_at','segment','train','val']],\n",
    "                              left_on='transcript_id',right_on='id',copy=False)\n",
    "    lines_df.set_index(['transcript_id','line_num'],inplace=True)\n",
    "    \n",
    "    return lines_df"
   ]
  },
  {
   "cell_type": "code",
   "execution_count": 7,
   "metadata": {},
   "outputs": [],
   "source": [
    "def line_info(transcript_numbers):\n",
    "    \n",
    "    # extract the transcript, and divide it by lines\n",
    "    df = extract_lines(transcript_numbers) # turn the lines into a dataframe\n",
    "    \n",
    "    # if the line contains \"LAUGHTER\", mark the previous line as \"funny\"\n",
    "    df['funny'] = df['lines'].str.contains('LAUGHTER')\n",
    "    df['funny'] = df.funny.shift(-1) # need funny to modify the previous line\n",
    "    \n",
    "    # if the line contains \"APPLAUSE\", mark the previous line as \"clapping\"\n",
    "    df['clapping'] = df['lines'].str.contains('APPLAUSE')\n",
    "    df['clapping'] = df['lines'].str.contains('CLAPPING')\n",
    "    df['clapping'] = df['lines'].str.contains('CHEERING')\n",
    "    df['clapping'] = df.clapping.shift(-1)\n",
    "\n",
    "    # for the remaining lines, identify the speaker using regular expressions\n",
    "    df['speaker'] = df['lines'].str.extract(r'([A-Z]+:)',expand=False).str.replace(r':','')\n",
    "    df['lines'] = df['lines'].str.replace(r'.+?(?=:)','').str.replace(r':','')\n",
    "    df['speaker'] = df['speaker'].str.replace('JR','BLOUNT') # disambiguating Roy Blount Jr\n",
    "    df['speaker'] = df['speaker'].str.replace('HOST','SAGAL') # sometimes refers to Sagal as host\n",
    "    \n",
    "    # drop the lines with no speaker (Applause markers, empty lines, etc.)\n",
    "    df = df.dropna()\n",
    "    \n",
    "    # Create a column with the number of separated words\n",
    "    df['num_words'] = df.lines.str.split().str.len()\n",
    "    \n",
    "    # Normalize the number of words with a quantile transformer\n",
    "    QT = QuantileTransformer(n_quantiles=1000,output_distribution='uniform')\n",
    "    QT.fit(df.num_words.values.reshape(-1,1)) \n",
    "    df['uniform_words'] = QT.transform(df.num_words.values.reshape(-1,1))\n",
    "    \n",
    "    # Create a column with whether the previous line was funny (for predictions)\n",
    "    df['prev_line_funny'] = df.funny.shift(1)\n",
    "\n",
    "    return df"
   ]
  },
  {
   "cell_type": "code",
   "execution_count": 9,
   "metadata": {},
   "outputs": [
    {
     "data": {
      "text/html": [
       "<div>\n",
       "<style scoped>\n",
       "    .dataframe tbody tr th:only-of-type {\n",
       "        vertical-align: middle;\n",
       "    }\n",
       "\n",
       "    .dataframe tbody tr th {\n",
       "        vertical-align: top;\n",
       "    }\n",
       "\n",
       "    .dataframe thead th {\n",
       "        text-align: right;\n",
       "    }\n",
       "</style>\n",
       "<table border=\"1\" class=\"dataframe\">\n",
       "  <thead>\n",
       "    <tr style=\"text-align: right;\">\n",
       "      <th></th>\n",
       "      <th></th>\n",
       "      <th>lines</th>\n",
       "      <th>aired_at</th>\n",
       "      <th>segment</th>\n",
       "      <th>train</th>\n",
       "      <th>val</th>\n",
       "      <th>funny</th>\n",
       "      <th>clapping</th>\n",
       "      <th>speaker</th>\n",
       "      <th>num_words</th>\n",
       "      <th>uniform_words</th>\n",
       "      <th>prev_line_funny</th>\n",
       "    </tr>\n",
       "    <tr>\n",
       "      <th>transcript_id</th>\n",
       "      <th>line_num</th>\n",
       "      <th></th>\n",
       "      <th></th>\n",
       "      <th></th>\n",
       "      <th></th>\n",
       "      <th></th>\n",
       "      <th></th>\n",
       "      <th></th>\n",
       "      <th></th>\n",
       "      <th></th>\n",
       "      <th></th>\n",
       "      <th></th>\n",
       "    </tr>\n",
       "  </thead>\n",
       "  <tbody>\n",
       "    <tr>\n",
       "      <th rowspan=\"5\" valign=\"top\">1</th>\n",
       "      <th>4</th>\n",
       "      <td>From NPR and WBEZ Chicago, this is WAIT WAIT....</td>\n",
       "      <td>2019-05-04</td>\n",
       "      <td>who</td>\n",
       "      <td>True</td>\n",
       "      <td>False</td>\n",
       "      <td>True</td>\n",
       "      <td>False</td>\n",
       "      <td>KURTIS</td>\n",
       "      <td>25</td>\n",
       "      <td>0.837337</td>\n",
       "      <td>NaN</td>\n",
       "    </tr>\n",
       "    <tr>\n",
       "      <th>6</th>\n",
       "      <td>I'm Bill Kurtis. And here's your host at the ...</td>\n",
       "      <td>2019-05-04</td>\n",
       "      <td>who</td>\n",
       "      <td>True</td>\n",
       "      <td>False</td>\n",
       "      <td>False</td>\n",
       "      <td>False</td>\n",
       "      <td>KURTIS</td>\n",
       "      <td>17</td>\n",
       "      <td>0.737237</td>\n",
       "      <td>True</td>\n",
       "    </tr>\n",
       "    <tr>\n",
       "      <th>7</th>\n",
       "      <td></td>\n",
       "      <td>2019-05-04</td>\n",
       "      <td>who</td>\n",
       "      <td>True</td>\n",
       "      <td>False</td>\n",
       "      <td>False</td>\n",
       "      <td>False</td>\n",
       "      <td>SAGAL</td>\n",
       "      <td>0</td>\n",
       "      <td>0.000000</td>\n",
       "      <td>False</td>\n",
       "    </tr>\n",
       "    <tr>\n",
       "      <th>10</th>\n",
       "      <td>Thank you so much. We have a very interesting...</td>\n",
       "      <td>2019-05-04</td>\n",
       "      <td>who</td>\n",
       "      <td>True</td>\n",
       "      <td>False</td>\n",
       "      <td>True</td>\n",
       "      <td>False</td>\n",
       "      <td>SAGAL</td>\n",
       "      <td>56</td>\n",
       "      <td>0.964464</td>\n",
       "      <td>False</td>\n",
       "    </tr>\n",
       "    <tr>\n",
       "      <th>12</th>\n",
       "      <td>But first, as many of you know, the NPR podca...</td>\n",
       "      <td>2019-05-04</td>\n",
       "      <td>who</td>\n",
       "      <td>True</td>\n",
       "      <td>False</td>\n",
       "      <td>True</td>\n",
       "      <td>False</td>\n",
       "      <td>SAGAL</td>\n",
       "      <td>53</td>\n",
       "      <td>0.958959</td>\n",
       "      <td>True</td>\n",
       "    </tr>\n",
       "  </tbody>\n",
       "</table>\n",
       "</div>"
      ],
      "text/plain": [
       "                                                                    lines  \\\n",
       "transcript_id line_num                                                      \n",
       "1             4          From NPR and WBEZ Chicago, this is WAIT WAIT....   \n",
       "              6          I'm Bill Kurtis. And here's your host at the ...   \n",
       "              7                                                             \n",
       "              10         Thank you so much. We have a very interesting...   \n",
       "              12         But first, as many of you know, the NPR podca...   \n",
       "\n",
       "                          aired_at segment  train    val  funny clapping  \\\n",
       "transcript_id line_num                                                     \n",
       "1             4         2019-05-04     who   True  False   True    False   \n",
       "              6         2019-05-04     who   True  False  False    False   \n",
       "              7         2019-05-04     who   True  False  False    False   \n",
       "              10        2019-05-04     who   True  False   True    False   \n",
       "              12        2019-05-04     who   True  False   True    False   \n",
       "\n",
       "                       speaker  num_words  uniform_words prev_line_funny  \n",
       "transcript_id line_num                                                    \n",
       "1             4         KURTIS         25       0.837337             NaN  \n",
       "              6         KURTIS         17       0.737237            True  \n",
       "              7          SAGAL          0       0.000000           False  \n",
       "              10         SAGAL         56       0.964464           False  \n",
       "              12         SAGAL         53       0.958959            True  "
      ]
     },
     "execution_count": 9,
     "metadata": {},
     "output_type": "execute_result"
    }
   ],
   "source": [
    "# Process the training set and show the top of the dataframe\n",
    "lines_df = line_info(transcript_df.index)\n",
    "lines_df.head()"
   ]
  },
  {
   "cell_type": "markdown",
   "metadata": {},
   "source": [
    "## 1.1 Setting up the data\n",
    "Let's get everything into a really nice format for our classifiers."
   ]
  },
  {
   "cell_type": "code",
   "execution_count": 10,
   "metadata": {},
   "outputs": [],
   "source": [
    "# Add in the one-hot encoding for speakers\n",
    "# Convert speaker to categorical\n",
    "speaker_list = ['BABYLON','BLOUNT','BODDEN','BODETT','BURBANK','BURKE','CONNOR','DICKINSON','FARSAD',\n",
    "               'FELBER','FERO','GOLDTHWAIT','GROSZ','HONG','JOBRANI','KLEIN','PIERCE','POUNDSTONE','ROBERTS',\n",
    "               'ROCCA','ROURKE','SALIE','SAGAL','KURTIS','KASELL'] # As found in my previous notebook WWDA Analyzing text\n",
    "\n",
    "lines_df = pd.concat([lines_df,pd.get_dummies(lines_df.speaker).loc[:,speaker_list]],axis=1)"
   ]
  },
  {
   "cell_type": "code",
   "execution_count": 11,
   "metadata": {},
   "outputs": [],
   "source": [
    "# Add in the one-hot encoding for speakers\n",
    "segment_list = lines_df.segment.unique()\n",
    "lines_df = pd.concat([lines_df,pd.get_dummies(lines_df.segment).loc[:,segment_list]],axis=1)"
   ]
  },
  {
   "cell_type": "code",
   "execution_count": 12,
   "metadata": {},
   "outputs": [],
   "source": [
    "# Remove lines with no previous line value\n",
    "lines_df = lines_df.dropna(subset=['prev_line_funny'])\n",
    "\n",
    "# remove lines with less than five words\n",
    "lines_df = lines_df[lines_df.num_words>=5]"
   ]
  },
  {
   "cell_type": "code",
   "execution_count": 13,
   "metadata": {},
   "outputs": [
    {
     "data": {
      "text/html": [
       "<div>\n",
       "<style scoped>\n",
       "    .dataframe tbody tr th:only-of-type {\n",
       "        vertical-align: middle;\n",
       "    }\n",
       "\n",
       "    .dataframe tbody tr th {\n",
       "        vertical-align: top;\n",
       "    }\n",
       "\n",
       "    .dataframe thead th {\n",
       "        text-align: right;\n",
       "    }\n",
       "</style>\n",
       "<table border=\"1\" class=\"dataframe\">\n",
       "  <thead>\n",
       "    <tr style=\"text-align: right;\">\n",
       "      <th></th>\n",
       "      <th></th>\n",
       "      <th>val</th>\n",
       "      <th>uniform_words</th>\n",
       "      <th>prev_line_funny</th>\n",
       "      <th>BABYLON</th>\n",
       "      <th>BLOUNT</th>\n",
       "      <th>BODDEN</th>\n",
       "      <th>BODETT</th>\n",
       "      <th>BURBANK</th>\n",
       "      <th>BURKE</th>\n",
       "      <th>CONNOR</th>\n",
       "      <th>...</th>\n",
       "      <th>SAGAL</th>\n",
       "      <th>KURTIS</th>\n",
       "      <th>KASELL</th>\n",
       "      <th>who</th>\n",
       "      <th>panel</th>\n",
       "      <th>bluff</th>\n",
       "      <th>job</th>\n",
       "      <th>limerick</th>\n",
       "      <th>lightning</th>\n",
       "      <th>predictions</th>\n",
       "    </tr>\n",
       "    <tr>\n",
       "      <th>transcript_id</th>\n",
       "      <th>line_num</th>\n",
       "      <th></th>\n",
       "      <th></th>\n",
       "      <th></th>\n",
       "      <th></th>\n",
       "      <th></th>\n",
       "      <th></th>\n",
       "      <th></th>\n",
       "      <th></th>\n",
       "      <th></th>\n",
       "      <th></th>\n",
       "      <th></th>\n",
       "      <th></th>\n",
       "      <th></th>\n",
       "      <th></th>\n",
       "      <th></th>\n",
       "      <th></th>\n",
       "      <th></th>\n",
       "      <th></th>\n",
       "      <th></th>\n",
       "      <th></th>\n",
       "      <th></th>\n",
       "    </tr>\n",
       "  </thead>\n",
       "  <tbody>\n",
       "    <tr>\n",
       "      <th rowspan=\"3\" valign=\"top\">4129</th>\n",
       "      <th>79</th>\n",
       "      <td>False</td>\n",
       "      <td>0.845345</td>\n",
       "      <td>False</td>\n",
       "      <td>0</td>\n",
       "      <td>0</td>\n",
       "      <td>0</td>\n",
       "      <td>0</td>\n",
       "      <td>0</td>\n",
       "      <td>0</td>\n",
       "      <td>0</td>\n",
       "      <td>...</td>\n",
       "      <td>1</td>\n",
       "      <td>0</td>\n",
       "      <td>0</td>\n",
       "      <td>0</td>\n",
       "      <td>0</td>\n",
       "      <td>0</td>\n",
       "      <td>0</td>\n",
       "      <td>1</td>\n",
       "      <td>0</td>\n",
       "      <td>0</td>\n",
       "    </tr>\n",
       "    <tr>\n",
       "      <th>82</th>\n",
       "      <td>False</td>\n",
       "      <td>0.663163</td>\n",
       "      <td>False</td>\n",
       "      <td>0</td>\n",
       "      <td>0</td>\n",
       "      <td>0</td>\n",
       "      <td>0</td>\n",
       "      <td>0</td>\n",
       "      <td>0</td>\n",
       "      <td>0</td>\n",
       "      <td>...</td>\n",
       "      <td>0</td>\n",
       "      <td>0</td>\n",
       "      <td>1</td>\n",
       "      <td>0</td>\n",
       "      <td>0</td>\n",
       "      <td>0</td>\n",
       "      <td>0</td>\n",
       "      <td>1</td>\n",
       "      <td>0</td>\n",
       "      <td>0</td>\n",
       "    </tr>\n",
       "    <tr>\n",
       "      <th>83</th>\n",
       "      <td>False</td>\n",
       "      <td>0.492492</td>\n",
       "      <td>False</td>\n",
       "      <td>0</td>\n",
       "      <td>0</td>\n",
       "      <td>0</td>\n",
       "      <td>0</td>\n",
       "      <td>0</td>\n",
       "      <td>0</td>\n",
       "      <td>0</td>\n",
       "      <td>...</td>\n",
       "      <td>1</td>\n",
       "      <td>0</td>\n",
       "      <td>0</td>\n",
       "      <td>0</td>\n",
       "      <td>0</td>\n",
       "      <td>0</td>\n",
       "      <td>0</td>\n",
       "      <td>1</td>\n",
       "      <td>0</td>\n",
       "      <td>0</td>\n",
       "    </tr>\n",
       "    <tr>\n",
       "      <th rowspan=\"2\" valign=\"top\">4131</th>\n",
       "      <th>15</th>\n",
       "      <td>False</td>\n",
       "      <td>0.783283</td>\n",
       "      <td>False</td>\n",
       "      <td>0</td>\n",
       "      <td>0</td>\n",
       "      <td>0</td>\n",
       "      <td>0</td>\n",
       "      <td>0</td>\n",
       "      <td>0</td>\n",
       "      <td>0</td>\n",
       "      <td>...</td>\n",
       "      <td>0</td>\n",
       "      <td>0</td>\n",
       "      <td>0</td>\n",
       "      <td>0</td>\n",
       "      <td>0</td>\n",
       "      <td>0</td>\n",
       "      <td>0</td>\n",
       "      <td>0</td>\n",
       "      <td>0</td>\n",
       "      <td>1</td>\n",
       "    </tr>\n",
       "    <tr>\n",
       "      <th>20</th>\n",
       "      <td>False</td>\n",
       "      <td>0.875876</td>\n",
       "      <td>False</td>\n",
       "      <td>0</td>\n",
       "      <td>0</td>\n",
       "      <td>0</td>\n",
       "      <td>0</td>\n",
       "      <td>0</td>\n",
       "      <td>0</td>\n",
       "      <td>0</td>\n",
       "      <td>...</td>\n",
       "      <td>1</td>\n",
       "      <td>0</td>\n",
       "      <td>0</td>\n",
       "      <td>0</td>\n",
       "      <td>0</td>\n",
       "      <td>0</td>\n",
       "      <td>0</td>\n",
       "      <td>0</td>\n",
       "      <td>0</td>\n",
       "      <td>1</td>\n",
       "    </tr>\n",
       "  </tbody>\n",
       "</table>\n",
       "<p>5 rows × 35 columns</p>\n",
       "</div>"
      ],
      "text/plain": [
       "                          val  uniform_words prev_line_funny  BABYLON  BLOUNT  \\\n",
       "transcript_id line_num                                                          \n",
       "4129          79        False       0.845345           False        0       0   \n",
       "              82        False       0.663163           False        0       0   \n",
       "              83        False       0.492492           False        0       0   \n",
       "4131          15        False       0.783283           False        0       0   \n",
       "              20        False       0.875876           False        0       0   \n",
       "\n",
       "                        BODDEN  BODETT  BURBANK  BURKE  CONNOR     ...       \\\n",
       "transcript_id line_num                                             ...        \n",
       "4129          79             0       0        0      0       0     ...        \n",
       "              82             0       0        0      0       0     ...        \n",
       "              83             0       0        0      0       0     ...        \n",
       "4131          15             0       0        0      0       0     ...        \n",
       "              20             0       0        0      0       0     ...        \n",
       "\n",
       "                        SAGAL  KURTIS  KASELL  who  panel  bluff  job  \\\n",
       "transcript_id line_num                                                  \n",
       "4129          79            1       0       0    0      0      0    0   \n",
       "              82            0       0       1    0      0      0    0   \n",
       "              83            1       0       0    0      0      0    0   \n",
       "4131          15            0       0       0    0      0      0    0   \n",
       "              20            1       0       0    0      0      0    0   \n",
       "\n",
       "                        limerick  lightning  predictions  \n",
       "transcript_id line_num                                    \n",
       "4129          79               1          0            0  \n",
       "              82               1          0            0  \n",
       "              83               1          0            0  \n",
       "4131          15               0          0            1  \n",
       "              20               0          0            1  \n",
       "\n",
       "[5 rows x 35 columns]"
      ]
     },
     "execution_count": 13,
     "metadata": {},
     "output_type": "execute_result"
    }
   ],
   "source": [
    "target = lines_df.loc[lines_df.train,'funny'].astype(int)\n",
    "line_stats = lines_df.loc[lines_df.train,:].drop(['lines','segment', 'funny', 'clapping', 'speaker', 'num_words','aired_at','train'],axis=1)\n",
    "line_stats.tail()"
   ]
  },
  {
   "cell_type": "markdown",
   "metadata": {},
   "source": [
    "# 1.0 Predicting humor based on line statistics  <a name=\"line-stats\"></a>"
   ]
  },
  {
   "cell_type": "markdown",
   "metadata": {},
   "source": [
    "For a simple attempt at predicting humor, I can assess whether we can predict the funniness of a line based only on line statistics. For the statistics, I'm using the following:\n",
    "1. Length of line (shifted to have a uniform distribution)\n",
    "2. Speaker identity (As a one-hot encoding)\n",
    "3. Was the previous line funny? (funny lines may \"cluter\")"
   ]
  },
  {
   "cell_type": "markdown",
   "metadata": {},
   "source": [
    "## 1.2 Non-optimized classifier performance"
   ]
  },
  {
   "cell_type": "markdown",
   "metadata": {},
   "source": [
    "I'll compare the performance of three types of classifiers: \n",
    "1. Logistic regression\n",
    "2. Naive bayes\n",
    "3. Decision trees\n",
    "\n",
    "To determine model performance, I will classify the **log loss**. Measuring model performance based on accuracy can be non-optimal. For example, if the model had the right output but was close to guessing the wrong output, then we would want that outcome to perform worse than if the model had the correct output and was very confident in that guess. Log loss takes into account model certainty as well as accuracy (it operates on the model's predicted probability, and can therefore provide a more nuanced view of model performance.\n",
    "\n",
    "A support vector machine is also likely to be a good model. However, it doesn't calculate probabilities natively, so I will exclude it for now, and perhaps later compare it to my other models."
   ]
  },
  {
   "cell_type": "code",
   "execution_count": 14,
   "metadata": {},
   "outputs": [],
   "source": [
    "# Importing model-generating functions\n",
    "from sklearn.linear_model import LogisticRegression\n",
    "from sklearn.naive_bayes import MultinomialNB,GaussianNB,ComplementNB,BernoulliNB\n",
    "from sklearn.ensemble import RandomForestClassifier,ExtraTreesClassifier,GradientBoostingClassifier\n",
    "from sklearn.svm import SVC\n",
    "\n",
    "# Importing model evaluation functions\n",
    "from sklearn.feature_selection import SelectKBest,f_classif\n",
    "from sklearn.decomposition import PCA,TruncatedSVD\n",
    "from sklearn.feature_extraction.text import CountVectorizer,TfidfTransformer\n",
    "from sklearn.model_selection import cross_val_score, RandomizedSearchCV,GridSearchCV,cross_validate\n",
    "from sklearn.preprocessing import StandardScaler,OneHotEncoder\n",
    "from sklearn.metrics import log_loss, make_scorer\n",
    "from sklearn.pipeline import Pipeline\n",
    "from scipy.stats import randint,uniform"
   ]
  },
  {
   "cell_type": "markdown",
   "metadata": {},
   "source": [
    "First, it is helpful to determine the performance based on a \"just guess the mean\" strategy. This will tell us whether we are actually getting anything useful out of our models."
   ]
  },
  {
   "cell_type": "code",
   "execution_count": 15,
   "metadata": {},
   "outputs": [
    {
     "name": "stdout",
     "output_type": "stream",
     "text": [
      "Loss for mean guessing is 0.575285541754947\n",
      "Accuracy for mean guessing is 0.7378579397545556\n"
     ]
    }
   ],
   "source": [
    "# Naive mean-guessing performance\n",
    "naive_loss = log_loss(target,target.mean()*np.ones(target.size))\n",
    "print(f'Loss for mean guessing is {naive_loss}')\n",
    "print(f'Accuracy for mean guessing is {1-target.mean()}')"
   ]
  },
  {
   "cell_type": "markdown",
   "metadata": {},
   "source": [
    "For my first \"simple\" classifier, I am using logistic regression. This is a very simple model, which assigns weights and biases to each input variable, and then adds the results together. The final number is then fed through a sigmoid function, to constrain the results between zero and one. It is a classifier generalization of linear regression, and can find simple (linear) relationships between the input variables and the output."
   ]
  },
  {
   "cell_type": "code",
   "execution_count": null,
   "metadata": {},
   "outputs": [],
   "source": [
    "### logistic regression\n",
    "lr = LogisticRegression(solver='lbfgs',max_iter=200)\n",
    "scores_lr=cross_validate(lr,\n",
    "                       line_stats,\n",
    "                       target,\n",
    "                       scoring=make_scorer(log_loss,needs_proba=True,greater_is_better=False),\n",
    "                       cv=10)\n",
    "print(f'Cross-validated loss for logistic regression is {-scores_lr[\"test_score\"].mean()}')"
   ]
  },
  {
   "cell_type": "markdown",
   "metadata": {},
   "source": [
    "For my next classifier, I will examine a Naive Bayes classifier. Bayesian inference is a technique which attempts to calculate the probability of each possible category (e.g. the **posterior** probability), given the inputs and its estimate of the typical probability for each category (e.g. the **prior** probability). So, for example, in this case we have approximately four times as many \"not funny\" lines as \"funny\" lines, so the model would need more evidence in order to make a judgement that a line is funny than it would need to make a judgement that a line is not funny. \n",
    "\n",
    "A Naive bayes classifier makes the further assumption that all of the input variables are **independent** of each other. This is not strictly true in this dataset. For example, the speakers are all negatively correlated - if one speaker has said a line, then another speaker cannot have said it. Regardless, we can examine how well the classifier works on our dataset before we move to more complicated models."
   ]
  },
  {
   "cell_type": "code",
   "execution_count": null,
   "metadata": {},
   "outputs": [],
   "source": [
    "# naive bayes\n",
    "nb = MultinomialNB()\n",
    "scores_nb=cross_validate(nb,\n",
    "                       line_stats,\n",
    "                       target,\n",
    "                       scoring=make_scorer(log_loss,needs_proba=True,greater_is_better=False),\n",
    "                       cv=10)\n",
    "print(f'Cross-validated loss for naive bayes is {-scores_nb[\"test_score\"].mean()}')"
   ]
  },
  {
   "cell_type": "markdown",
   "metadata": {},
   "source": [
    "I will now examine two quite complex classifiers, based on **decision trees**. Decision trees take in the data, and then attempt to split it based on the input into two leaves. Each leaf is then split again (and again), until the data can be classified as well as possible. These models are good at capturing complex nonlinearities, but can also be prone to over-fitting, as they are highly complex with many parameters. \n",
    "\n",
    "One way of getting around these weaknesses is by using a **Random Forest**. A forest, as the name might suggest, is a combination of many trees. Each tree only sees a subset of the input data and a subset of the input parameters, and so will make a sub-optimal decision. But by averaging these biased decisions of all of the trees together, we can usually wind up with a more-accurate answer in the end, as the biases will cancel out on average. "
   ]
  },
  {
   "cell_type": "code",
   "execution_count": 33,
   "metadata": {},
   "outputs": [
    {
     "name": "stderr",
     "output_type": "stream",
     "text": [
      "/Users/coraames/git/BimanualModeling/py_36_env/lib/python3.6/site-packages/sklearn/ensemble/forest.py:245: FutureWarning: The default value of n_estimators will change from 10 in version 0.20 to 100 in 0.22.\n",
      "  \"10 in version 0.20 to 100 in 0.22.\", FutureWarning)\n",
      "/Users/coraames/git/BimanualModeling/py_36_env/lib/python3.6/site-packages/sklearn/ensemble/forest.py:245: FutureWarning: The default value of n_estimators will change from 10 in version 0.20 to 100 in 0.22.\n",
      "  \"10 in version 0.20 to 100 in 0.22.\", FutureWarning)\n",
      "/Users/coraames/git/BimanualModeling/py_36_env/lib/python3.6/site-packages/sklearn/ensemble/forest.py:245: FutureWarning: The default value of n_estimators will change from 10 in version 0.20 to 100 in 0.22.\n",
      "  \"10 in version 0.20 to 100 in 0.22.\", FutureWarning)\n"
     ]
    },
    {
     "name": "stdout",
     "output_type": "stream",
     "text": [
      "Cross-validated loss for random forest is 1.653541920549183\n"
     ]
    }
   ],
   "source": [
    "# Random forest\n",
    "rf = ExtraTreesClassifier()\n",
    "scores_rf=cross_validate(rf,\n",
    "                       line_stats,\n",
    "                       target,\n",
    "                       scoring=make_scorer(log_loss,needs_proba=True,greater_is_better=False),\n",
    "                       cv=3)\n",
    "print(f'Cross-validated loss for random forest is {-scores_rf[\"test_score\"].mean()}')"
   ]
  },
  {
   "cell_type": "markdown",
   "metadata": {},
   "source": [
    "A second method for improving deicision trees is called **Gradient boosted trees.** This is also an ensemble method, which trains multiple classifiers to improve performance. Unlike the Random Forest, however, Gradient Boosted Trees calculates a sequence of classifiers. Each one is trained to improve the output of the previous one (by looking at the prediction residuals), so it is specifically formulated to improve performance with the addition of each tree. Whereas Random Forests tend to benefit from large, deep trees, Gradient boosted tree classifiers tend to put together many small, shallow trees (e.g. not many splits of the data performed by any given tree). "
   ]
  },
  {
   "cell_type": "code",
   "execution_count": 34,
   "metadata": {},
   "outputs": [
    {
     "name": "stdout",
     "output_type": "stream",
     "text": [
      "Cross-validated loss for gradient boosted trees is 0.5153023754563527\n"
     ]
    }
   ],
   "source": [
    "# Gradient boosted trees\n",
    "xgb = GradientBoostingClassifier()\n",
    "scores_xgb=cross_validate(xgb,\n",
    "                       line_stats,\n",
    "                       target,\n",
    "                       scoring=make_scorer(log_loss,needs_proba=True,greater_is_better=False),\n",
    "                       return_estimator=True,\n",
    "                       cv=3)\n",
    "print(f'Cross-validated loss for gradient boosted trees is {-scores_xgb[\"test_score\"].mean()}')\n"
   ]
  },
  {
   "cell_type": "markdown",
   "metadata": {},
   "source": [
    "So, out-of-the-box performance is best for Gradient boosted trees, followed by Logistic Regression (keep in mind that small loss = better). The Random Forest performs worse than a mean-guessing strategy, while the naive bayes model performs only ever so slightly better.\n",
    "\n",
    "What we would really want to do, of course, is to perform a **parameter sweep** to select the best parameters for each model. Fortunately, scikit-learn has ways of doing exactly that. So let's try a parameter sweep now, and see how our \"best\" model that we can find for each model type performs."
   ]
  },
  {
   "cell_type": "markdown",
   "metadata": {},
   "source": [
    "## 1.3 Parameter optimization via random search\n",
    "\n",
    "To optimize parameters for each function, we have a couple of options: Grid Search or Random Search. Both search methods build multiple models with different parameters. \n",
    "\n",
    "**Grid Search** exhaustively checks every combination of parameters you specify. For example, if you have three parameters, each of which could take three values, then there are 3^3, or 27 different possible combinations to check.\n",
    "\n",
    "**Random Search** instead builds many models, each time selecting a random value for the parameters. While this might initially seem less useful than grid search, it has a few advantages that I like. It can check more values for each parameter. Parameters that have more influence will wind up affecting the output more, and less time will be wasted exhaustively checking the parameters which wind up being unimportant. \n",
    "\n",
    "For a nice discussion of Random Search versus Grid Search, see this paper: [Bergstra & Bengio, 2012](http://jmlr.csail.mit.edu/papers/volume13/bergstra12a/bergstra12a.pdf)."
   ]
  },
  {
   "cell_type": "markdown",
   "metadata": {},
   "source": [
    "### 1.3.1 Preparing Summary Function\n",
    "\n",
    "First, I build a function that will show the results of my optimization, so that I can examine how important each parameter is, and compare model performance."
   ]
  },
  {
   "cell_type": "code",
   "execution_count": 15,
   "metadata": {},
   "outputs": [],
   "source": [
    "# This is a function which shows how model performance changes with each parameter individually.\n",
    "# Note: it will not capture interactions between parameters, but will give a decent \"high level\" sense\n",
    "# of how much each parameter seems to matter to model performance on its own\n",
    "\n",
    "def Plot_results(random_search):\n",
    "    \n",
    "    print(f'Best performance was {-random_search.best_score_}')\n",
    "    for key in random_search.best_params_.keys():\n",
    "        print(f'Best model value for {key} = {random_search.best_params_[key]}')\n",
    "    \n",
    "    # Plot the results\n",
    "    random_search_results = pd.DataFrame(random_search.cv_results_)\n",
    "    params = random_search_results.loc[0,'params'].keys()\n",
    "    plt.figure(figsize=(5*len(params),10))\n",
    "    \n",
    "    for i,param in enumerate(params):\n",
    "        try:\n",
    "            plt.subplot(2,len(params),i+1)\n",
    "            plt.axis('tight')\n",
    "            plt.scatter(random_search_results['param_' + param].apply(np.max),-random_search_results['mean_test_score'])\n",
    "            plt.xlabel(param)\n",
    "            plt.ylabel('log loss')\n",
    "            plt.axis('tight') # This is a repeat - for some reason axis is too zoomed out without both.\n",
    "\n",
    "            plt.subplot(2,len(params),i+1+len(params))\n",
    "            x = random_search_results['param_' + param].apply(np.max) # Max deals with n-gram parameter, which is a tuple\n",
    "            y = random_search_results['mean_fit_time']\n",
    "            plt.scatter(x,y)\n",
    "            plt.xlabel(param)\n",
    "            plt.ylabel('run time')\n",
    "        except:\n",
    "            continue\n"
   ]
  },
  {
   "cell_type": "markdown",
   "metadata": {},
   "source": [
    "### 1.3.2 Optimizing Logistic Regression"
   ]
  },
  {
   "cell_type": "code",
   "execution_count": 36,
   "metadata": {
    "scrolled": true
   },
   "outputs": [
    {
     "name": "stderr",
     "output_type": "stream",
     "text": [
      "/Users/coraames/git/BimanualModeling/py_36_env/lib/python3.6/site-packages/sklearn/feature_selection/univariate_selection.py:114: UserWarning: Features [ 0 11] are constant.\n",
      "  UserWarning)\n",
      "/Users/coraames/git/BimanualModeling/py_36_env/lib/python3.6/site-packages/sklearn/feature_selection/univariate_selection.py:115: RuntimeWarning: invalid value encountered in true_divide\n",
      "  f = msb / msw\n",
      "/Users/coraames/git/BimanualModeling/py_36_env/lib/python3.6/site-packages/sklearn/feature_selection/univariate_selection.py:114: UserWarning: Features [ 0 13] are constant.\n",
      "  UserWarning)\n",
      "/Users/coraames/git/BimanualModeling/py_36_env/lib/python3.6/site-packages/sklearn/feature_selection/univariate_selection.py:115: RuntimeWarning: invalid value encountered in true_divide\n",
      "  f = msb / msw\n",
      "/Users/coraames/git/BimanualModeling/py_36_env/lib/python3.6/site-packages/sklearn/feature_selection/univariate_selection.py:114: UserWarning: Features [0] are constant.\n",
      "  UserWarning)\n",
      "/Users/coraames/git/BimanualModeling/py_36_env/lib/python3.6/site-packages/sklearn/feature_selection/univariate_selection.py:115: RuntimeWarning: invalid value encountered in true_divide\n",
      "  f = msb / msw\n",
      "/Users/coraames/git/BimanualModeling/py_36_env/lib/python3.6/site-packages/sklearn/feature_selection/univariate_selection.py:114: UserWarning: Features [ 0 11] are constant.\n",
      "  UserWarning)\n",
      "/Users/coraames/git/BimanualModeling/py_36_env/lib/python3.6/site-packages/sklearn/feature_selection/univariate_selection.py:115: RuntimeWarning: invalid value encountered in true_divide\n",
      "  f = msb / msw\n",
      "/Users/coraames/git/BimanualModeling/py_36_env/lib/python3.6/site-packages/sklearn/feature_selection/univariate_selection.py:114: UserWarning: Features [ 0 13] are constant.\n",
      "  UserWarning)\n",
      "/Users/coraames/git/BimanualModeling/py_36_env/lib/python3.6/site-packages/sklearn/feature_selection/univariate_selection.py:115: RuntimeWarning: invalid value encountered in true_divide\n",
      "  f = msb / msw\n",
      "/Users/coraames/git/BimanualModeling/py_36_env/lib/python3.6/site-packages/sklearn/feature_selection/univariate_selection.py:114: UserWarning: Features [0] are constant.\n",
      "  UserWarning)\n",
      "/Users/coraames/git/BimanualModeling/py_36_env/lib/python3.6/site-packages/sklearn/feature_selection/univariate_selection.py:115: RuntimeWarning: invalid value encountered in true_divide\n",
      "  f = msb / msw\n",
      "/Users/coraames/git/BimanualModeling/py_36_env/lib/python3.6/site-packages/sklearn/feature_selection/univariate_selection.py:114: UserWarning: Features [ 0 11] are constant.\n",
      "  UserWarning)\n",
      "/Users/coraames/git/BimanualModeling/py_36_env/lib/python3.6/site-packages/sklearn/feature_selection/univariate_selection.py:115: RuntimeWarning: invalid value encountered in true_divide\n",
      "  f = msb / msw\n",
      "/Users/coraames/git/BimanualModeling/py_36_env/lib/python3.6/site-packages/sklearn/feature_selection/univariate_selection.py:114: UserWarning: Features [ 0 13] are constant.\n",
      "  UserWarning)\n",
      "/Users/coraames/git/BimanualModeling/py_36_env/lib/python3.6/site-packages/sklearn/feature_selection/univariate_selection.py:115: RuntimeWarning: invalid value encountered in true_divide\n",
      "  f = msb / msw\n",
      "/Users/coraames/git/BimanualModeling/py_36_env/lib/python3.6/site-packages/sklearn/feature_selection/univariate_selection.py:114: UserWarning: Features [0] are constant.\n",
      "  UserWarning)\n",
      "/Users/coraames/git/BimanualModeling/py_36_env/lib/python3.6/site-packages/sklearn/feature_selection/univariate_selection.py:115: RuntimeWarning: invalid value encountered in true_divide\n",
      "  f = msb / msw\n",
      "/Users/coraames/git/BimanualModeling/py_36_env/lib/python3.6/site-packages/sklearn/feature_selection/univariate_selection.py:114: UserWarning: Features [ 0 11] are constant.\n",
      "  UserWarning)\n",
      "/Users/coraames/git/BimanualModeling/py_36_env/lib/python3.6/site-packages/sklearn/feature_selection/univariate_selection.py:115: RuntimeWarning: invalid value encountered in true_divide\n",
      "  f = msb / msw\n",
      "/Users/coraames/git/BimanualModeling/py_36_env/lib/python3.6/site-packages/sklearn/feature_selection/univariate_selection.py:114: UserWarning: Features [ 0 13] are constant.\n",
      "  UserWarning)\n",
      "/Users/coraames/git/BimanualModeling/py_36_env/lib/python3.6/site-packages/sklearn/feature_selection/univariate_selection.py:115: RuntimeWarning: invalid value encountered in true_divide\n",
      "  f = msb / msw\n",
      "/Users/coraames/git/BimanualModeling/py_36_env/lib/python3.6/site-packages/sklearn/feature_selection/univariate_selection.py:114: UserWarning: Features [0] are constant.\n",
      "  UserWarning)\n",
      "/Users/coraames/git/BimanualModeling/py_36_env/lib/python3.6/site-packages/sklearn/feature_selection/univariate_selection.py:115: RuntimeWarning: invalid value encountered in true_divide\n",
      "  f = msb / msw\n",
      "/Users/coraames/git/BimanualModeling/py_36_env/lib/python3.6/site-packages/sklearn/feature_selection/univariate_selection.py:114: UserWarning: Features [ 0 11] are constant.\n",
      "  UserWarning)\n",
      "/Users/coraames/git/BimanualModeling/py_36_env/lib/python3.6/site-packages/sklearn/feature_selection/univariate_selection.py:115: RuntimeWarning: invalid value encountered in true_divide\n",
      "  f = msb / msw\n",
      "/Users/coraames/git/BimanualModeling/py_36_env/lib/python3.6/site-packages/sklearn/feature_selection/univariate_selection.py:114: UserWarning: Features [ 0 13] are constant.\n",
      "  UserWarning)\n",
      "/Users/coraames/git/BimanualModeling/py_36_env/lib/python3.6/site-packages/sklearn/feature_selection/univariate_selection.py:115: RuntimeWarning: invalid value encountered in true_divide\n",
      "  f = msb / msw\n",
      "/Users/coraames/git/BimanualModeling/py_36_env/lib/python3.6/site-packages/sklearn/feature_selection/univariate_selection.py:114: UserWarning: Features [0] are constant.\n",
      "  UserWarning)\n",
      "/Users/coraames/git/BimanualModeling/py_36_env/lib/python3.6/site-packages/sklearn/feature_selection/univariate_selection.py:115: RuntimeWarning: invalid value encountered in true_divide\n",
      "  f = msb / msw\n",
      "/Users/coraames/git/BimanualModeling/py_36_env/lib/python3.6/site-packages/sklearn/feature_selection/univariate_selection.py:114: UserWarning: Features [ 0 11] are constant.\n",
      "  UserWarning)\n",
      "/Users/coraames/git/BimanualModeling/py_36_env/lib/python3.6/site-packages/sklearn/feature_selection/univariate_selection.py:115: RuntimeWarning: invalid value encountered in true_divide\n",
      "  f = msb / msw\n",
      "/Users/coraames/git/BimanualModeling/py_36_env/lib/python3.6/site-packages/sklearn/feature_selection/univariate_selection.py:114: UserWarning: Features [ 0 13] are constant.\n",
      "  UserWarning)\n",
      "/Users/coraames/git/BimanualModeling/py_36_env/lib/python3.6/site-packages/sklearn/feature_selection/univariate_selection.py:115: RuntimeWarning: invalid value encountered in true_divide\n",
      "  f = msb / msw\n",
      "/Users/coraames/git/BimanualModeling/py_36_env/lib/python3.6/site-packages/sklearn/feature_selection/univariate_selection.py:114: UserWarning: Features [0] are constant.\n",
      "  UserWarning)\n",
      "/Users/coraames/git/BimanualModeling/py_36_env/lib/python3.6/site-packages/sklearn/feature_selection/univariate_selection.py:115: RuntimeWarning: invalid value encountered in true_divide\n",
      "  f = msb / msw\n",
      "/Users/coraames/git/BimanualModeling/py_36_env/lib/python3.6/site-packages/sklearn/feature_selection/univariate_selection.py:114: UserWarning: Features [ 0 11] are constant.\n",
      "  UserWarning)\n",
      "/Users/coraames/git/BimanualModeling/py_36_env/lib/python3.6/site-packages/sklearn/feature_selection/univariate_selection.py:115: RuntimeWarning: invalid value encountered in true_divide\n",
      "  f = msb / msw\n",
      "/Users/coraames/git/BimanualModeling/py_36_env/lib/python3.6/site-packages/sklearn/feature_selection/univariate_selection.py:114: UserWarning: Features [ 0 13] are constant.\n",
      "  UserWarning)\n",
      "/Users/coraames/git/BimanualModeling/py_36_env/lib/python3.6/site-packages/sklearn/feature_selection/univariate_selection.py:115: RuntimeWarning: invalid value encountered in true_divide\n",
      "  f = msb / msw\n",
      "/Users/coraames/git/BimanualModeling/py_36_env/lib/python3.6/site-packages/sklearn/feature_selection/univariate_selection.py:114: UserWarning: Features [0] are constant.\n",
      "  UserWarning)\n",
      "/Users/coraames/git/BimanualModeling/py_36_env/lib/python3.6/site-packages/sklearn/feature_selection/univariate_selection.py:115: RuntimeWarning: invalid value encountered in true_divide\n",
      "  f = msb / msw\n",
      "/Users/coraames/git/BimanualModeling/py_36_env/lib/python3.6/site-packages/sklearn/feature_selection/univariate_selection.py:114: UserWarning: Features [ 0 11] are constant.\n",
      "  UserWarning)\n",
      "/Users/coraames/git/BimanualModeling/py_36_env/lib/python3.6/site-packages/sklearn/feature_selection/univariate_selection.py:115: RuntimeWarning: invalid value encountered in true_divide\n",
      "  f = msb / msw\n"
     ]
    },
    {
     "name": "stderr",
     "output_type": "stream",
     "text": [
      "/Users/coraames/git/BimanualModeling/py_36_env/lib/python3.6/site-packages/sklearn/feature_selection/univariate_selection.py:114: UserWarning: Features [ 0 13] are constant.\n",
      "  UserWarning)\n",
      "/Users/coraames/git/BimanualModeling/py_36_env/lib/python3.6/site-packages/sklearn/feature_selection/univariate_selection.py:115: RuntimeWarning: invalid value encountered in true_divide\n",
      "  f = msb / msw\n",
      "/Users/coraames/git/BimanualModeling/py_36_env/lib/python3.6/site-packages/sklearn/feature_selection/univariate_selection.py:114: UserWarning: Features [0] are constant.\n",
      "  UserWarning)\n",
      "/Users/coraames/git/BimanualModeling/py_36_env/lib/python3.6/site-packages/sklearn/feature_selection/univariate_selection.py:115: RuntimeWarning: invalid value encountered in true_divide\n",
      "  f = msb / msw\n",
      "/Users/coraames/git/BimanualModeling/py_36_env/lib/python3.6/site-packages/sklearn/feature_selection/univariate_selection.py:114: UserWarning: Features [ 0 11] are constant.\n",
      "  UserWarning)\n",
      "/Users/coraames/git/BimanualModeling/py_36_env/lib/python3.6/site-packages/sklearn/feature_selection/univariate_selection.py:115: RuntimeWarning: invalid value encountered in true_divide\n",
      "  f = msb / msw\n",
      "/Users/coraames/git/BimanualModeling/py_36_env/lib/python3.6/site-packages/sklearn/feature_selection/univariate_selection.py:114: UserWarning: Features [ 0 13] are constant.\n",
      "  UserWarning)\n",
      "/Users/coraames/git/BimanualModeling/py_36_env/lib/python3.6/site-packages/sklearn/feature_selection/univariate_selection.py:115: RuntimeWarning: invalid value encountered in true_divide\n",
      "  f = msb / msw\n",
      "/Users/coraames/git/BimanualModeling/py_36_env/lib/python3.6/site-packages/sklearn/feature_selection/univariate_selection.py:114: UserWarning: Features [0] are constant.\n",
      "  UserWarning)\n",
      "/Users/coraames/git/BimanualModeling/py_36_env/lib/python3.6/site-packages/sklearn/feature_selection/univariate_selection.py:115: RuntimeWarning: invalid value encountered in true_divide\n",
      "  f = msb / msw\n",
      "/Users/coraames/git/BimanualModeling/py_36_env/lib/python3.6/site-packages/sklearn/feature_selection/univariate_selection.py:114: UserWarning: Features [ 0 11] are constant.\n",
      "  UserWarning)\n",
      "/Users/coraames/git/BimanualModeling/py_36_env/lib/python3.6/site-packages/sklearn/feature_selection/univariate_selection.py:115: RuntimeWarning: invalid value encountered in true_divide\n",
      "  f = msb / msw\n",
      "/Users/coraames/git/BimanualModeling/py_36_env/lib/python3.6/site-packages/sklearn/feature_selection/univariate_selection.py:114: UserWarning: Features [ 0 13] are constant.\n",
      "  UserWarning)\n",
      "/Users/coraames/git/BimanualModeling/py_36_env/lib/python3.6/site-packages/sklearn/feature_selection/univariate_selection.py:115: RuntimeWarning: invalid value encountered in true_divide\n",
      "  f = msb / msw\n",
      "/Users/coraames/git/BimanualModeling/py_36_env/lib/python3.6/site-packages/sklearn/feature_selection/univariate_selection.py:114: UserWarning: Features [0] are constant.\n",
      "  UserWarning)\n",
      "/Users/coraames/git/BimanualModeling/py_36_env/lib/python3.6/site-packages/sklearn/feature_selection/univariate_selection.py:115: RuntimeWarning: invalid value encountered in true_divide\n",
      "  f = msb / msw\n",
      "/Users/coraames/git/BimanualModeling/py_36_env/lib/python3.6/site-packages/sklearn/feature_selection/univariate_selection.py:114: UserWarning: Features [ 0 11] are constant.\n",
      "  UserWarning)\n",
      "/Users/coraames/git/BimanualModeling/py_36_env/lib/python3.6/site-packages/sklearn/feature_selection/univariate_selection.py:115: RuntimeWarning: invalid value encountered in true_divide\n",
      "  f = msb / msw\n",
      "/Users/coraames/git/BimanualModeling/py_36_env/lib/python3.6/site-packages/sklearn/feature_selection/univariate_selection.py:114: UserWarning: Features [ 0 13] are constant.\n",
      "  UserWarning)\n",
      "/Users/coraames/git/BimanualModeling/py_36_env/lib/python3.6/site-packages/sklearn/feature_selection/univariate_selection.py:115: RuntimeWarning: invalid value encountered in true_divide\n",
      "  f = msb / msw\n",
      "/Users/coraames/git/BimanualModeling/py_36_env/lib/python3.6/site-packages/sklearn/feature_selection/univariate_selection.py:114: UserWarning: Features [0] are constant.\n",
      "  UserWarning)\n",
      "/Users/coraames/git/BimanualModeling/py_36_env/lib/python3.6/site-packages/sklearn/feature_selection/univariate_selection.py:115: RuntimeWarning: invalid value encountered in true_divide\n",
      "  f = msb / msw\n",
      "/Users/coraames/git/BimanualModeling/py_36_env/lib/python3.6/site-packages/sklearn/feature_selection/univariate_selection.py:114: UserWarning: Features [ 0 11] are constant.\n",
      "  UserWarning)\n",
      "/Users/coraames/git/BimanualModeling/py_36_env/lib/python3.6/site-packages/sklearn/feature_selection/univariate_selection.py:115: RuntimeWarning: invalid value encountered in true_divide\n",
      "  f = msb / msw\n",
      "/Users/coraames/git/BimanualModeling/py_36_env/lib/python3.6/site-packages/sklearn/feature_selection/univariate_selection.py:114: UserWarning: Features [ 0 13] are constant.\n",
      "  UserWarning)\n",
      "/Users/coraames/git/BimanualModeling/py_36_env/lib/python3.6/site-packages/sklearn/feature_selection/univariate_selection.py:115: RuntimeWarning: invalid value encountered in true_divide\n",
      "  f = msb / msw\n",
      "/Users/coraames/git/BimanualModeling/py_36_env/lib/python3.6/site-packages/sklearn/feature_selection/univariate_selection.py:114: UserWarning: Features [0] are constant.\n",
      "  UserWarning)\n",
      "/Users/coraames/git/BimanualModeling/py_36_env/lib/python3.6/site-packages/sklearn/feature_selection/univariate_selection.py:115: RuntimeWarning: invalid value encountered in true_divide\n",
      "  f = msb / msw\n",
      "/Users/coraames/git/BimanualModeling/py_36_env/lib/python3.6/site-packages/sklearn/feature_selection/univariate_selection.py:114: UserWarning: Features [ 0 11] are constant.\n",
      "  UserWarning)\n",
      "/Users/coraames/git/BimanualModeling/py_36_env/lib/python3.6/site-packages/sklearn/feature_selection/univariate_selection.py:115: RuntimeWarning: invalid value encountered in true_divide\n",
      "  f = msb / msw\n",
      "/Users/coraames/git/BimanualModeling/py_36_env/lib/python3.6/site-packages/sklearn/feature_selection/univariate_selection.py:114: UserWarning: Features [ 0 13] are constant.\n",
      "  UserWarning)\n",
      "/Users/coraames/git/BimanualModeling/py_36_env/lib/python3.6/site-packages/sklearn/feature_selection/univariate_selection.py:115: RuntimeWarning: invalid value encountered in true_divide\n",
      "  f = msb / msw\n",
      "/Users/coraames/git/BimanualModeling/py_36_env/lib/python3.6/site-packages/sklearn/feature_selection/univariate_selection.py:114: UserWarning: Features [0] are constant.\n",
      "  UserWarning)\n",
      "/Users/coraames/git/BimanualModeling/py_36_env/lib/python3.6/site-packages/sklearn/feature_selection/univariate_selection.py:115: RuntimeWarning: invalid value encountered in true_divide\n",
      "  f = msb / msw\n",
      "/Users/coraames/git/BimanualModeling/py_36_env/lib/python3.6/site-packages/sklearn/feature_selection/univariate_selection.py:114: UserWarning: Features [ 0 11] are constant.\n",
      "  UserWarning)\n",
      "/Users/coraames/git/BimanualModeling/py_36_env/lib/python3.6/site-packages/sklearn/feature_selection/univariate_selection.py:115: RuntimeWarning: invalid value encountered in true_divide\n",
      "  f = msb / msw\n",
      "/Users/coraames/git/BimanualModeling/py_36_env/lib/python3.6/site-packages/sklearn/feature_selection/univariate_selection.py:114: UserWarning: Features [ 0 13] are constant.\n",
      "  UserWarning)\n",
      "/Users/coraames/git/BimanualModeling/py_36_env/lib/python3.6/site-packages/sklearn/feature_selection/univariate_selection.py:115: RuntimeWarning: invalid value encountered in true_divide\n",
      "  f = msb / msw\n",
      "/Users/coraames/git/BimanualModeling/py_36_env/lib/python3.6/site-packages/sklearn/feature_selection/univariate_selection.py:114: UserWarning: Features [0] are constant.\n",
      "  UserWarning)\n",
      "/Users/coraames/git/BimanualModeling/py_36_env/lib/python3.6/site-packages/sklearn/feature_selection/univariate_selection.py:115: RuntimeWarning: invalid value encountered in true_divide\n",
      "  f = msb / msw\n",
      "/Users/coraames/git/BimanualModeling/py_36_env/lib/python3.6/site-packages/sklearn/feature_selection/univariate_selection.py:114: UserWarning: Features [ 0 11] are constant.\n",
      "  UserWarning)\n",
      "/Users/coraames/git/BimanualModeling/py_36_env/lib/python3.6/site-packages/sklearn/feature_selection/univariate_selection.py:115: RuntimeWarning: invalid value encountered in true_divide\n",
      "  f = msb / msw\n"
     ]
    },
    {
     "name": "stderr",
     "output_type": "stream",
     "text": [
      "/Users/coraames/git/BimanualModeling/py_36_env/lib/python3.6/site-packages/sklearn/feature_selection/univariate_selection.py:114: UserWarning: Features [ 0 13] are constant.\n",
      "  UserWarning)\n",
      "/Users/coraames/git/BimanualModeling/py_36_env/lib/python3.6/site-packages/sklearn/feature_selection/univariate_selection.py:115: RuntimeWarning: invalid value encountered in true_divide\n",
      "  f = msb / msw\n",
      "/Users/coraames/git/BimanualModeling/py_36_env/lib/python3.6/site-packages/sklearn/feature_selection/univariate_selection.py:114: UserWarning: Features [0] are constant.\n",
      "  UserWarning)\n",
      "/Users/coraames/git/BimanualModeling/py_36_env/lib/python3.6/site-packages/sklearn/feature_selection/univariate_selection.py:115: RuntimeWarning: invalid value encountered in true_divide\n",
      "  f = msb / msw\n",
      "/Users/coraames/git/BimanualModeling/py_36_env/lib/python3.6/site-packages/sklearn/feature_selection/univariate_selection.py:114: UserWarning: Features [ 0 11] are constant.\n",
      "  UserWarning)\n",
      "/Users/coraames/git/BimanualModeling/py_36_env/lib/python3.6/site-packages/sklearn/feature_selection/univariate_selection.py:115: RuntimeWarning: invalid value encountered in true_divide\n",
      "  f = msb / msw\n",
      "/Users/coraames/git/BimanualModeling/py_36_env/lib/python3.6/site-packages/sklearn/feature_selection/univariate_selection.py:114: UserWarning: Features [ 0 13] are constant.\n",
      "  UserWarning)\n",
      "/Users/coraames/git/BimanualModeling/py_36_env/lib/python3.6/site-packages/sklearn/feature_selection/univariate_selection.py:115: RuntimeWarning: invalid value encountered in true_divide\n",
      "  f = msb / msw\n",
      "/Users/coraames/git/BimanualModeling/py_36_env/lib/python3.6/site-packages/sklearn/feature_selection/univariate_selection.py:114: UserWarning: Features [0] are constant.\n",
      "  UserWarning)\n",
      "/Users/coraames/git/BimanualModeling/py_36_env/lib/python3.6/site-packages/sklearn/feature_selection/univariate_selection.py:115: RuntimeWarning: invalid value encountered in true_divide\n",
      "  f = msb / msw\n",
      "/Users/coraames/git/BimanualModeling/py_36_env/lib/python3.6/site-packages/sklearn/feature_selection/univariate_selection.py:114: UserWarning: Features [ 0 11] are constant.\n",
      "  UserWarning)\n",
      "/Users/coraames/git/BimanualModeling/py_36_env/lib/python3.6/site-packages/sklearn/feature_selection/univariate_selection.py:115: RuntimeWarning: invalid value encountered in true_divide\n",
      "  f = msb / msw\n",
      "/Users/coraames/git/BimanualModeling/py_36_env/lib/python3.6/site-packages/sklearn/feature_selection/univariate_selection.py:114: UserWarning: Features [ 0 13] are constant.\n",
      "  UserWarning)\n",
      "/Users/coraames/git/BimanualModeling/py_36_env/lib/python3.6/site-packages/sklearn/feature_selection/univariate_selection.py:115: RuntimeWarning: invalid value encountered in true_divide\n",
      "  f = msb / msw\n",
      "/Users/coraames/git/BimanualModeling/py_36_env/lib/python3.6/site-packages/sklearn/feature_selection/univariate_selection.py:114: UserWarning: Features [0] are constant.\n",
      "  UserWarning)\n",
      "/Users/coraames/git/BimanualModeling/py_36_env/lib/python3.6/site-packages/sklearn/feature_selection/univariate_selection.py:115: RuntimeWarning: invalid value encountered in true_divide\n",
      "  f = msb / msw\n",
      "/Users/coraames/git/BimanualModeling/py_36_env/lib/python3.6/site-packages/sklearn/feature_selection/univariate_selection.py:114: UserWarning: Features [ 0 11] are constant.\n",
      "  UserWarning)\n",
      "/Users/coraames/git/BimanualModeling/py_36_env/lib/python3.6/site-packages/sklearn/feature_selection/univariate_selection.py:115: RuntimeWarning: invalid value encountered in true_divide\n",
      "  f = msb / msw\n",
      "/Users/coraames/git/BimanualModeling/py_36_env/lib/python3.6/site-packages/sklearn/feature_selection/univariate_selection.py:114: UserWarning: Features [ 0 13] are constant.\n",
      "  UserWarning)\n",
      "/Users/coraames/git/BimanualModeling/py_36_env/lib/python3.6/site-packages/sklearn/feature_selection/univariate_selection.py:115: RuntimeWarning: invalid value encountered in true_divide\n",
      "  f = msb / msw\n",
      "/Users/coraames/git/BimanualModeling/py_36_env/lib/python3.6/site-packages/sklearn/feature_selection/univariate_selection.py:114: UserWarning: Features [0] are constant.\n",
      "  UserWarning)\n",
      "/Users/coraames/git/BimanualModeling/py_36_env/lib/python3.6/site-packages/sklearn/feature_selection/univariate_selection.py:115: RuntimeWarning: invalid value encountered in true_divide\n",
      "  f = msb / msw\n",
      "/Users/coraames/git/BimanualModeling/py_36_env/lib/python3.6/site-packages/sklearn/feature_selection/univariate_selection.py:114: UserWarning: Features [ 0 11] are constant.\n",
      "  UserWarning)\n",
      "/Users/coraames/git/BimanualModeling/py_36_env/lib/python3.6/site-packages/sklearn/feature_selection/univariate_selection.py:115: RuntimeWarning: invalid value encountered in true_divide\n",
      "  f = msb / msw\n",
      "/Users/coraames/git/BimanualModeling/py_36_env/lib/python3.6/site-packages/sklearn/feature_selection/univariate_selection.py:114: UserWarning: Features [ 0 13] are constant.\n",
      "  UserWarning)\n",
      "/Users/coraames/git/BimanualModeling/py_36_env/lib/python3.6/site-packages/sklearn/feature_selection/univariate_selection.py:115: RuntimeWarning: invalid value encountered in true_divide\n",
      "  f = msb / msw\n",
      "/Users/coraames/git/BimanualModeling/py_36_env/lib/python3.6/site-packages/sklearn/feature_selection/univariate_selection.py:114: UserWarning: Features [0] are constant.\n",
      "  UserWarning)\n",
      "/Users/coraames/git/BimanualModeling/py_36_env/lib/python3.6/site-packages/sklearn/feature_selection/univariate_selection.py:115: RuntimeWarning: invalid value encountered in true_divide\n",
      "  f = msb / msw\n",
      "/Users/coraames/git/BimanualModeling/py_36_env/lib/python3.6/site-packages/sklearn/feature_selection/univariate_selection.py:114: UserWarning: Features [ 0 11] are constant.\n",
      "  UserWarning)\n",
      "/Users/coraames/git/BimanualModeling/py_36_env/lib/python3.6/site-packages/sklearn/feature_selection/univariate_selection.py:115: RuntimeWarning: invalid value encountered in true_divide\n",
      "  f = msb / msw\n",
      "/Users/coraames/git/BimanualModeling/py_36_env/lib/python3.6/site-packages/sklearn/feature_selection/univariate_selection.py:114: UserWarning: Features [ 0 13] are constant.\n",
      "  UserWarning)\n",
      "/Users/coraames/git/BimanualModeling/py_36_env/lib/python3.6/site-packages/sklearn/feature_selection/univariate_selection.py:115: RuntimeWarning: invalid value encountered in true_divide\n",
      "  f = msb / msw\n",
      "/Users/coraames/git/BimanualModeling/py_36_env/lib/python3.6/site-packages/sklearn/feature_selection/univariate_selection.py:114: UserWarning: Features [0] are constant.\n",
      "  UserWarning)\n",
      "/Users/coraames/git/BimanualModeling/py_36_env/lib/python3.6/site-packages/sklearn/feature_selection/univariate_selection.py:115: RuntimeWarning: invalid value encountered in true_divide\n",
      "  f = msb / msw\n",
      "/Users/coraames/git/BimanualModeling/py_36_env/lib/python3.6/site-packages/sklearn/feature_selection/univariate_selection.py:114: UserWarning: Features [ 0 11] are constant.\n",
      "  UserWarning)\n",
      "/Users/coraames/git/BimanualModeling/py_36_env/lib/python3.6/site-packages/sklearn/feature_selection/univariate_selection.py:115: RuntimeWarning: invalid value encountered in true_divide\n",
      "  f = msb / msw\n",
      "/Users/coraames/git/BimanualModeling/py_36_env/lib/python3.6/site-packages/sklearn/feature_selection/univariate_selection.py:114: UserWarning: Features [ 0 13] are constant.\n",
      "  UserWarning)\n",
      "/Users/coraames/git/BimanualModeling/py_36_env/lib/python3.6/site-packages/sklearn/feature_selection/univariate_selection.py:115: RuntimeWarning: invalid value encountered in true_divide\n",
      "  f = msb / msw\n",
      "/Users/coraames/git/BimanualModeling/py_36_env/lib/python3.6/site-packages/sklearn/feature_selection/univariate_selection.py:114: UserWarning: Features [0] are constant.\n",
      "  UserWarning)\n",
      "/Users/coraames/git/BimanualModeling/py_36_env/lib/python3.6/site-packages/sklearn/feature_selection/univariate_selection.py:115: RuntimeWarning: invalid value encountered in true_divide\n",
      "  f = msb / msw\n",
      "/Users/coraames/git/BimanualModeling/py_36_env/lib/python3.6/site-packages/sklearn/feature_selection/univariate_selection.py:114: UserWarning: Features [ 0 11] are constant.\n",
      "  UserWarning)\n",
      "/Users/coraames/git/BimanualModeling/py_36_env/lib/python3.6/site-packages/sklearn/feature_selection/univariate_selection.py:115: RuntimeWarning: invalid value encountered in true_divide\n",
      "  f = msb / msw\n"
     ]
    },
    {
     "name": "stderr",
     "output_type": "stream",
     "text": [
      "/Users/coraames/git/BimanualModeling/py_36_env/lib/python3.6/site-packages/sklearn/feature_selection/univariate_selection.py:114: UserWarning: Features [ 0 13] are constant.\n",
      "  UserWarning)\n",
      "/Users/coraames/git/BimanualModeling/py_36_env/lib/python3.6/site-packages/sklearn/feature_selection/univariate_selection.py:115: RuntimeWarning: invalid value encountered in true_divide\n",
      "  f = msb / msw\n",
      "/Users/coraames/git/BimanualModeling/py_36_env/lib/python3.6/site-packages/sklearn/feature_selection/univariate_selection.py:114: UserWarning: Features [0] are constant.\n",
      "  UserWarning)\n",
      "/Users/coraames/git/BimanualModeling/py_36_env/lib/python3.6/site-packages/sklearn/feature_selection/univariate_selection.py:115: RuntimeWarning: invalid value encountered in true_divide\n",
      "  f = msb / msw\n",
      "/Users/coraames/git/BimanualModeling/py_36_env/lib/python3.6/site-packages/sklearn/feature_selection/univariate_selection.py:114: UserWarning: Features [ 0 11] are constant.\n",
      "  UserWarning)\n",
      "/Users/coraames/git/BimanualModeling/py_36_env/lib/python3.6/site-packages/sklearn/feature_selection/univariate_selection.py:115: RuntimeWarning: invalid value encountered in true_divide\n",
      "  f = msb / msw\n",
      "/Users/coraames/git/BimanualModeling/py_36_env/lib/python3.6/site-packages/sklearn/feature_selection/univariate_selection.py:114: UserWarning: Features [ 0 13] are constant.\n",
      "  UserWarning)\n",
      "/Users/coraames/git/BimanualModeling/py_36_env/lib/python3.6/site-packages/sklearn/feature_selection/univariate_selection.py:115: RuntimeWarning: invalid value encountered in true_divide\n",
      "  f = msb / msw\n",
      "/Users/coraames/git/BimanualModeling/py_36_env/lib/python3.6/site-packages/sklearn/feature_selection/univariate_selection.py:114: UserWarning: Features [0] are constant.\n",
      "  UserWarning)\n",
      "/Users/coraames/git/BimanualModeling/py_36_env/lib/python3.6/site-packages/sklearn/feature_selection/univariate_selection.py:115: RuntimeWarning: invalid value encountered in true_divide\n",
      "  f = msb / msw\n",
      "/Users/coraames/git/BimanualModeling/py_36_env/lib/python3.6/site-packages/sklearn/feature_selection/univariate_selection.py:114: UserWarning: Features [ 0 11] are constant.\n",
      "  UserWarning)\n",
      "/Users/coraames/git/BimanualModeling/py_36_env/lib/python3.6/site-packages/sklearn/feature_selection/univariate_selection.py:115: RuntimeWarning: invalid value encountered in true_divide\n",
      "  f = msb / msw\n",
      "/Users/coraames/git/BimanualModeling/py_36_env/lib/python3.6/site-packages/sklearn/feature_selection/univariate_selection.py:114: UserWarning: Features [ 0 13] are constant.\n",
      "  UserWarning)\n",
      "/Users/coraames/git/BimanualModeling/py_36_env/lib/python3.6/site-packages/sklearn/feature_selection/univariate_selection.py:115: RuntimeWarning: invalid value encountered in true_divide\n",
      "  f = msb / msw\n",
      "/Users/coraames/git/BimanualModeling/py_36_env/lib/python3.6/site-packages/sklearn/feature_selection/univariate_selection.py:114: UserWarning: Features [0] are constant.\n",
      "  UserWarning)\n",
      "/Users/coraames/git/BimanualModeling/py_36_env/lib/python3.6/site-packages/sklearn/feature_selection/univariate_selection.py:115: RuntimeWarning: invalid value encountered in true_divide\n",
      "  f = msb / msw\n",
      "/Users/coraames/git/BimanualModeling/py_36_env/lib/python3.6/site-packages/sklearn/feature_selection/univariate_selection.py:114: UserWarning: Features [ 0 11] are constant.\n",
      "  UserWarning)\n",
      "/Users/coraames/git/BimanualModeling/py_36_env/lib/python3.6/site-packages/sklearn/feature_selection/univariate_selection.py:115: RuntimeWarning: invalid value encountered in true_divide\n",
      "  f = msb / msw\n",
      "/Users/coraames/git/BimanualModeling/py_36_env/lib/python3.6/site-packages/sklearn/feature_selection/univariate_selection.py:114: UserWarning: Features [ 0 13] are constant.\n",
      "  UserWarning)\n",
      "/Users/coraames/git/BimanualModeling/py_36_env/lib/python3.6/site-packages/sklearn/feature_selection/univariate_selection.py:115: RuntimeWarning: invalid value encountered in true_divide\n",
      "  f = msb / msw\n",
      "/Users/coraames/git/BimanualModeling/py_36_env/lib/python3.6/site-packages/sklearn/feature_selection/univariate_selection.py:114: UserWarning: Features [0] are constant.\n",
      "  UserWarning)\n",
      "/Users/coraames/git/BimanualModeling/py_36_env/lib/python3.6/site-packages/sklearn/feature_selection/univariate_selection.py:115: RuntimeWarning: invalid value encountered in true_divide\n",
      "  f = msb / msw\n",
      "/Users/coraames/git/BimanualModeling/py_36_env/lib/python3.6/site-packages/sklearn/feature_selection/univariate_selection.py:114: UserWarning: Features [ 0 11] are constant.\n",
      "  UserWarning)\n",
      "/Users/coraames/git/BimanualModeling/py_36_env/lib/python3.6/site-packages/sklearn/feature_selection/univariate_selection.py:115: RuntimeWarning: invalid value encountered in true_divide\n",
      "  f = msb / msw\n",
      "/Users/coraames/git/BimanualModeling/py_36_env/lib/python3.6/site-packages/sklearn/feature_selection/univariate_selection.py:114: UserWarning: Features [ 0 13] are constant.\n",
      "  UserWarning)\n",
      "/Users/coraames/git/BimanualModeling/py_36_env/lib/python3.6/site-packages/sklearn/feature_selection/univariate_selection.py:115: RuntimeWarning: invalid value encountered in true_divide\n",
      "  f = msb / msw\n",
      "/Users/coraames/git/BimanualModeling/py_36_env/lib/python3.6/site-packages/sklearn/feature_selection/univariate_selection.py:114: UserWarning: Features [0] are constant.\n",
      "  UserWarning)\n",
      "/Users/coraames/git/BimanualModeling/py_36_env/lib/python3.6/site-packages/sklearn/feature_selection/univariate_selection.py:115: RuntimeWarning: invalid value encountered in true_divide\n",
      "  f = msb / msw\n",
      "/Users/coraames/git/BimanualModeling/py_36_env/lib/python3.6/site-packages/sklearn/feature_selection/univariate_selection.py:114: UserWarning: Features [ 0 11] are constant.\n",
      "  UserWarning)\n",
      "/Users/coraames/git/BimanualModeling/py_36_env/lib/python3.6/site-packages/sklearn/feature_selection/univariate_selection.py:115: RuntimeWarning: invalid value encountered in true_divide\n",
      "  f = msb / msw\n",
      "/Users/coraames/git/BimanualModeling/py_36_env/lib/python3.6/site-packages/sklearn/feature_selection/univariate_selection.py:114: UserWarning: Features [ 0 13] are constant.\n",
      "  UserWarning)\n",
      "/Users/coraames/git/BimanualModeling/py_36_env/lib/python3.6/site-packages/sklearn/feature_selection/univariate_selection.py:115: RuntimeWarning: invalid value encountered in true_divide\n",
      "  f = msb / msw\n",
      "/Users/coraames/git/BimanualModeling/py_36_env/lib/python3.6/site-packages/sklearn/feature_selection/univariate_selection.py:114: UserWarning: Features [0] are constant.\n",
      "  UserWarning)\n",
      "/Users/coraames/git/BimanualModeling/py_36_env/lib/python3.6/site-packages/sklearn/feature_selection/univariate_selection.py:115: RuntimeWarning: invalid value encountered in true_divide\n",
      "  f = msb / msw\n",
      "/Users/coraames/git/BimanualModeling/py_36_env/lib/python3.6/site-packages/sklearn/feature_selection/univariate_selection.py:114: UserWarning: Features [ 0 11] are constant.\n",
      "  UserWarning)\n",
      "/Users/coraames/git/BimanualModeling/py_36_env/lib/python3.6/site-packages/sklearn/feature_selection/univariate_selection.py:115: RuntimeWarning: invalid value encountered in true_divide\n",
      "  f = msb / msw\n",
      "/Users/coraames/git/BimanualModeling/py_36_env/lib/python3.6/site-packages/sklearn/feature_selection/univariate_selection.py:114: UserWarning: Features [ 0 13] are constant.\n",
      "  UserWarning)\n",
      "/Users/coraames/git/BimanualModeling/py_36_env/lib/python3.6/site-packages/sklearn/feature_selection/univariate_selection.py:115: RuntimeWarning: invalid value encountered in true_divide\n",
      "  f = msb / msw\n",
      "/Users/coraames/git/BimanualModeling/py_36_env/lib/python3.6/site-packages/sklearn/feature_selection/univariate_selection.py:114: UserWarning: Features [0] are constant.\n",
      "  UserWarning)\n",
      "/Users/coraames/git/BimanualModeling/py_36_env/lib/python3.6/site-packages/sklearn/feature_selection/univariate_selection.py:115: RuntimeWarning: invalid value encountered in true_divide\n",
      "  f = msb / msw\n",
      "/Users/coraames/git/BimanualModeling/py_36_env/lib/python3.6/site-packages/sklearn/feature_selection/univariate_selection.py:114: UserWarning: Features [ 0 11] are constant.\n",
      "  UserWarning)\n",
      "/Users/coraames/git/BimanualModeling/py_36_env/lib/python3.6/site-packages/sklearn/feature_selection/univariate_selection.py:115: RuntimeWarning: invalid value encountered in true_divide\n",
      "  f = msb / msw\n"
     ]
    },
    {
     "name": "stderr",
     "output_type": "stream",
     "text": [
      "/Users/coraames/git/BimanualModeling/py_36_env/lib/python3.6/site-packages/sklearn/feature_selection/univariate_selection.py:114: UserWarning: Features [ 0 13] are constant.\n",
      "  UserWarning)\n",
      "/Users/coraames/git/BimanualModeling/py_36_env/lib/python3.6/site-packages/sklearn/feature_selection/univariate_selection.py:115: RuntimeWarning: invalid value encountered in true_divide\n",
      "  f = msb / msw\n",
      "/Users/coraames/git/BimanualModeling/py_36_env/lib/python3.6/site-packages/sklearn/feature_selection/univariate_selection.py:114: UserWarning: Features [0] are constant.\n",
      "  UserWarning)\n",
      "/Users/coraames/git/BimanualModeling/py_36_env/lib/python3.6/site-packages/sklearn/feature_selection/univariate_selection.py:115: RuntimeWarning: invalid value encountered in true_divide\n",
      "  f = msb / msw\n",
      "/Users/coraames/git/BimanualModeling/py_36_env/lib/python3.6/site-packages/sklearn/feature_selection/univariate_selection.py:114: UserWarning: Features [ 0 11] are constant.\n",
      "  UserWarning)\n",
      "/Users/coraames/git/BimanualModeling/py_36_env/lib/python3.6/site-packages/sklearn/feature_selection/univariate_selection.py:115: RuntimeWarning: invalid value encountered in true_divide\n",
      "  f = msb / msw\n",
      "/Users/coraames/git/BimanualModeling/py_36_env/lib/python3.6/site-packages/sklearn/feature_selection/univariate_selection.py:114: UserWarning: Features [ 0 13] are constant.\n",
      "  UserWarning)\n",
      "/Users/coraames/git/BimanualModeling/py_36_env/lib/python3.6/site-packages/sklearn/feature_selection/univariate_selection.py:115: RuntimeWarning: invalid value encountered in true_divide\n",
      "  f = msb / msw\n",
      "/Users/coraames/git/BimanualModeling/py_36_env/lib/python3.6/site-packages/sklearn/feature_selection/univariate_selection.py:114: UserWarning: Features [0] are constant.\n",
      "  UserWarning)\n",
      "/Users/coraames/git/BimanualModeling/py_36_env/lib/python3.6/site-packages/sklearn/feature_selection/univariate_selection.py:115: RuntimeWarning: invalid value encountered in true_divide\n",
      "  f = msb / msw\n"
     ]
    },
    {
     "name": "stdout",
     "output_type": "stream",
     "text": [
      "Best performance was 0.5342955482956562\n",
      "Best model value for kbest__k = 28\n",
      "Best model value for lr__max_iter = 107\n"
     ]
    },
    {
     "data": {
      "image/png": "[encoded data removed]",
      "text/plain": [
       "<Figure size 720x720 with 4 Axes>"
      ]
     },
     "metadata": {
      "needs_background": "light"
     },
     "output_type": "display_data"
    }
   ],
   "source": [
    "# logistic regression\n",
    "\n",
    "# Build the pipeline\n",
    "lr_pipeline = Pipeline([\n",
    "    ('kbest', SelectKBest(k=20,score_func=f_classif)),    # subselect the best k predictors (based on )\n",
    "    ('lr',LogisticRegression(solver='lbfgs',max_iter=200)),\n",
    "    ])\n",
    "\n",
    "# select parameters to tune\n",
    "lr_params = {\n",
    "    'kbest__k': randint(1,30),\n",
    "    'lr__max_iter':randint(100,300),\n",
    "}\n",
    "\n",
    "# Iteratively check parameters (randomized)  \n",
    "n_iter = 30\n",
    "random_search = RandomizedSearchCV(lr_pipeline,\n",
    "                                   param_distributions=lr_params,\n",
    "                                   n_iter=n_iter, \n",
    "                                   cv=3, \n",
    "                                   iid=False,\n",
    "                                   scoring=make_scorer(log_loss,needs_proba=True,greater_is_better=False),\n",
    "                                   verbose=0,\n",
    "                                   refit=0,\n",
    "                                   return_train_score=True\n",
    "                                  )\n",
    "random_search.fit(line_stats.astype('float64'),target)\n",
    "Plot_results(random_search)"
   ]
  },
  {
   "cell_type": "markdown",
   "metadata": {},
   "source": [
    "### 1.3.3 Optimizing Naive Bayes"
   ]
  },
  {
   "cell_type": "code",
   "execution_count": 37,
   "metadata": {},
   "outputs": [
    {
     "name": "stdout",
     "output_type": "stream",
     "text": [
      "Best performance was 0.5549909307867035\n",
      "Best model value for nb__alpha = 10.0\n",
      "Best model value for nb__fit_prior = True\n"
     ]
    },
    {
     "data": {
      "image/png": "[encoded data removed]",
      "text/plain": [
       "<Figure size 720x720 with 4 Axes>"
      ]
     },
     "metadata": {
      "needs_background": "light"
     },
     "output_type": "display_data"
    }
   ],
   "source": [
    "# naive bayes\n",
    "\n",
    "# Build the pipeline\n",
    "nb_pipeline = Pipeline([\n",
    "    ('nb',MultinomialNB()),\n",
    "    ])\n",
    "\n",
    "# select parameters to tune\n",
    "nb_params = {\n",
    "    'nb__fit_prior': [True,False],\n",
    "    'nb__alpha':[0.1,1.0,10.0,100.0]\n",
    "}\n",
    "\n",
    "# Iteratively check parameters (randomized)  \n",
    "random_search = GridSearchCV(nb_pipeline,\n",
    "                                   param_grid=nb_params,\n",
    "                                   cv=3, \n",
    "                                   iid=False,\n",
    "                                   scoring=make_scorer(log_loss,needs_proba=True,greater_is_better=False),\n",
    "                                   verbose=0,\n",
    "                                   refit=0,\n",
    "                                   n_jobs=-1,\n",
    "                                   return_train_score=True\n",
    "                                  )\n",
    "random_search.fit(line_stats,target)\n",
    "Plot_results(random_search)"
   ]
  },
  {
   "cell_type": "markdown",
   "metadata": {},
   "source": [
    "### 1.3.4 Optimizing Random Forest"
   ]
  },
  {
   "cell_type": "code",
   "execution_count": 38,
   "metadata": {},
   "outputs": [
    {
     "name": "stdout",
     "output_type": "stream",
     "text": [
      "Fitting 3 folds for each of 30 candidates, totalling 90 fits\n"
     ]
    },
    {
     "name": "stderr",
     "output_type": "stream",
     "text": [
      "[Parallel(n_jobs=-1)]: Using backend LokyBackend with 8 concurrent workers.\n",
      "[Parallel(n_jobs=-1)]: Done  34 tasks      | elapsed:   34.5s\n",
      "[Parallel(n_jobs=-1)]: Done  90 out of  90 | elapsed:  1.4min finished\n"
     ]
    },
    {
     "name": "stdout",
     "output_type": "stream",
     "text": [
      "Best performance was 0.5006179522082107\n",
      "Best model value for rf__max_depth = 25\n",
      "Best model value for rf__min_samples_leaf = 1\n",
      "Best model value for rf__min_samples_split = 120\n"
     ]
    },
    {
     "data": {
      "image/png": "[encoded data removed]",
      "text/plain": [
       "<Figure size 1080x720 with 6 Axes>"
      ]
     },
     "metadata": {
      "needs_background": "light"
     },
     "output_type": "display_data"
    }
   ],
   "source": [
    "# Extra Trees\n",
    "\n",
    "# Build the pipeline\n",
    "rf_pipeline = Pipeline([\n",
    "    ('rf',ExtraTreesClassifier(n_estimators=50)),\n",
    "    ])\n",
    "\n",
    "# select parameters to tune\n",
    "rf_params = {\n",
    "    'rf__max_depth': randint(20,31),\n",
    "    'rf__min_samples_split' : randint(75,125),\n",
    "    'rf__min_samples_leaf' : randint(1,8),\n",
    "#     'rf__n_estimators' : randint(50,150)\n",
    "}\n",
    "\n",
    "# Iteratively check parameters (randomized)  \n",
    "n_iter = 30\n",
    "random_search = RandomizedSearchCV(rf_pipeline,\n",
    "                                   param_distributions=rf_params,\n",
    "                                   n_iter=n_iter, \n",
    "                                   cv=3, \n",
    "                                   iid=False,\n",
    "                                   scoring=make_scorer(log_loss,needs_proba=True,greater_is_better=False),\n",
    "                                   verbose=1,\n",
    "                                   refit=0,\n",
    "                                   n_jobs=-1,\n",
    "                                   return_train_score=True\n",
    "                                  )\n",
    "random_search.fit(line_stats,target)\n",
    "\n",
    "# Report performance\n",
    "Plot_results(random_search)\n"
   ]
  },
  {
   "cell_type": "markdown",
   "metadata": {},
   "source": [
    "### 1.3.5 Optimizing Gradient Boosted Trees"
   ]
  },
  {
   "cell_type": "code",
   "execution_count": 39,
   "metadata": {
    "scrolled": false
   },
   "outputs": [
    {
     "name": "stdout",
     "output_type": "stream",
     "text": [
      "Fitting 3 folds for each of 20 candidates, totalling 60 fits\n"
     ]
    },
    {
     "name": "stderr",
     "output_type": "stream",
     "text": [
      "[Parallel(n_jobs=-1)]: Using backend LokyBackend with 8 concurrent workers.\n",
      "[Parallel(n_jobs=-1)]: Done  34 tasks      | elapsed:  2.3min\n",
      "[Parallel(n_jobs=-1)]: Done  60 out of  60 | elapsed:  3.6min finished\n"
     ]
    },
    {
     "name": "stdout",
     "output_type": "stream",
     "text": [
      "Best performance was 0.5033868705048196\n",
      "Best model value for rf__min_samples_leaf = 5\n",
      "Best model value for rf__n_estimators = 90\n",
      "Best model value for rf__subsample = 0.75\n"
     ]
    },
    {
     "data": {
      "image/png": "[encoded data removed]",
      "text/plain": [
       "<Figure size 1080x720 with 6 Axes>"
      ]
     },
     "metadata": {
      "needs_background": "light"
     },
     "output_type": "display_data"
    }
   ],
   "source": [
    "# Gradient Boosted Trees\n",
    "\n",
    "# Build the pipeline\n",
    "xgb_pipeline = Pipeline([\n",
    "    ('rf',GradientBoostingClassifier(max_depth=6)),\n",
    "    ])\n",
    "\n",
    "# select parameters to tune\n",
    "xgb_params = {\n",
    "    'rf__min_samples_leaf' : randint(1,6),\n",
    "    'rf__n_estimators' : randint(50,100),\n",
    "    'rf__subsample' : [.5,.75,1]\n",
    "}\n",
    "\n",
    "# Iteratively check parameters (randomized)  \n",
    "n_iter = 20\n",
    "random_search = RandomizedSearchCV(xgb_pipeline,\n",
    "                                   param_distributions=xgb_params,\n",
    "                                   n_iter=n_iter, \n",
    "                                   cv=3, \n",
    "                                   iid=False,\n",
    "                                   scoring=make_scorer(log_loss,needs_proba=True,greater_is_better=False),\n",
    "                                   verbose=1,\n",
    "                                   refit=0,\n",
    "                                   n_jobs=-1,\n",
    "                                   return_train_score=True\n",
    "                                  )\n",
    "random_search.fit(line_stats,target)\n",
    "\n",
    "# Report performance\n",
    "Plot_results(random_search)"
   ]
  },
  {
   "cell_type": "markdown",
   "metadata": {},
   "source": [
    "### 1.3.6 Optimization Summary\n",
    "\n",
    "I found that optimizing the simpler regressors (Naive Bayes, Logistic Regression) does not significantly improve their performance. This tends to be the case, that the simpler the model, the less hyperparameter selection tends to matter. Indeed, there are often many fewer hyper-parameters to optimize in the first place.\n",
    "\n",
    "The Random Forest improves a great deal with parameter optimization. This indicates that this model is actually able to generate accurate predictions, but the \"default\" parameters are not good choices for this particular dataset.\n",
    "\n",
    "The Gradient Boosted trees improve slightly with optimizaiton, but less dramatically so. The default parameters for this function already generated good performance (relative to the other predictors), so there was less room for improvement.\n",
    "\n",
    "#### The **final performance** of each of my classifiers, predicting humor based on line statistics, is:\n",
    "1. **Random Forest**: 0.50\n",
    "2. **Gradient Boosted Trees**: 0.50\n",
    "3. **Logistic Regression**: 0.53\n",
    "4. **Naive Bayes**: 0.55"
   ]
  },
  {
   "cell_type": "markdown",
   "metadata": {},
   "source": [
    "## 1.4 Predicting humor based on words <a name=\"words\"></a>"
   ]
  },
  {
   "cell_type": "markdown",
   "metadata": {},
   "source": [
    "My next goal is to predict whether a line is funny by actually looking at the words of the line, rather than just statistics about the speaker, line length, and segment.\n",
    "\n",
    "This can be quite a complicated process, as sentences need a decent amount of processing before a classifier can examine them. I'm going to use a **Bag of words** strategy (which builds a single vector that is the \"average\" of the words in each line), which performs the following steps:\n",
    "1. Construct a vector of dimension num_words, where the value is the number of times each word appears in the sentence.\n",
    "2. Transform this vector based on word frequency, where words that are uncommon across all of the lines are weighted as more important than common words. So the word \"Rutabega\", for example, would be weighted more strongly than the word \"The.\"\n",
    "3. Perform unsupervised dimensionality reduction to project the vectors into a smaller space that captures most of the variance.\n",
    "4. Feed the resulting vectors into the classifier.\n",
    "\n",
    "For this section, I will only be examining the \"forest\" style classifiers. This is largely because simple, largely linear classifiers are unlikely to be able to capture the relationship between words and humor - it's a much more complicated space than those classifiers are designed to capture. "
   ]
  },
  {
   "cell_type": "code",
   "execution_count": 40,
   "metadata": {},
   "outputs": [
    {
     "name": "stdout",
     "output_type": "stream",
     "text": [
      "Loss for mean guessing is 0.575285541754947\n",
      "Dumb guessing yields accuracy of 0.7378579397545556\n"
     ]
    }
   ],
   "source": [
    "print(f'Loss for mean guessing is {naive_loss}')\n",
    "print(f'Dumb guessing yields accuracy of {1-target.mean()}')"
   ]
  },
  {
   "cell_type": "markdown",
   "metadata": {},
   "source": [
    "### 1.4.1 Random Forest \n"
   ]
  },
  {
   "cell_type": "code",
   "execution_count": 41,
   "metadata": {
    "scrolled": false
   },
   "outputs": [
    {
     "name": "stdout",
     "output_type": "stream",
     "text": [
      "Fitting 3 folds for each of 20 candidates, totalling 60 fits\n"
     ]
    },
    {
     "name": "stderr",
     "output_type": "stream",
     "text": [
      "[Parallel(n_jobs=-1)]: Using backend LokyBackend with 8 concurrent workers.\n",
      "[Parallel(n_jobs=-1)]: Done  25 tasks      | elapsed:  2.5min\n",
      "[Parallel(n_jobs=-1)]: Done  60 out of  60 | elapsed:  5.3min finished\n"
     ]
    },
    {
     "name": "stdout",
     "output_type": "stream",
     "text": [
      "Best performance was 0.5100794492079416\n",
      "Best model value for clf__max_depth = 40\n",
      "Best model value for clf__min_samples_leaf = 1\n",
      "Best model value for clf__min_samples_split = 23\n",
      "Best model value for tsvd__n_components = 90\n"
     ]
    },
    {
     "data": {
      "image/png": "[encoded data removed]",
      "text/plain": [
       "<Figure size 1440x720 with 8 Axes>"
      ]
     },
     "metadata": {
      "needs_background": "light"
     },
     "output_type": "display_data"
    }
   ],
   "source": [
    "tree_text_pipeline = Pipeline([\n",
    "     ('vect', CountVectorizer(max_df=.9,min_df=100,ngram_range=(1,3))),\n",
    "     ('tfidf', TfidfTransformer()),\n",
    "     ('tsvd',TruncatedSVD(n_components=50)),\n",
    "     ('clf', ExtraTreesClassifier(n_estimators=50))\n",
    "  ])\n",
    "\n",
    "param_dict = {\n",
    "#     'vect__ngram_range': [ (1, 2), (1, 3),(1,4)],\n",
    "    'tsvd__n_components':randint(50,100),\n",
    "    'clf__max_depth': randint(20,60),\n",
    "    'clf__min_samples_split' : randint(20,40),\n",
    "    'clf__min_samples_leaf' : randint(1,3),\n",
    "}\n",
    "\n",
    "n_iter = 20\n",
    "\n",
    "random_search = RandomizedSearchCV(tree_text_pipeline,\n",
    "                                   param_distributions=param_dict,\n",
    "                                   n_iter=n_iter, \n",
    "                                   cv=3, \n",
    "                                   iid=False,\n",
    "                                   scoring=make_scorer(log_loss,\n",
    "                                                       needs_proba=True,\n",
    "                                                       greater_is_better=False),\n",
    "                                   verbose=2,\n",
    "                                   return_train_score=False,\n",
    "                                   n_jobs=-1,\n",
    "                                   refit=0,\n",
    "                                  )\n",
    "\n",
    "# random_search.fit(lines_df.loc[lines_df.train,'lines'],\n",
    "#                   lines_df.loc[lines_df.train,'funny'].astype(int));\n",
    "\n",
    "\n",
    "entries = (lines_df.train )\n",
    "# entries = (lines_df.train )& (lines_df.num_words>20)\n",
    "x = lines_df.loc[entries,'lines'].apply(lambda x: ' '.join(x.split()[-10:])) # last 10 words in each line\n",
    "# x = lines_df.loc[entries,'lines']\n",
    "y = lines_df.loc[entries,'funny'].astype(int)\n",
    "random_search.fit(x,y);\n",
    "\n",
    "Plot_results(random_search)"
   ]
  },
  {
   "cell_type": "markdown",
   "metadata": {},
   "source": [
    "### 1.4.2 Gradient Boosted Trees\n",
    "Note: the scikit-learn implementation of gradient boosted trees is quite slow, especially as the number of inputs to consider increases. A more-optimized method like LightGBM might do better here."
   ]
  },
  {
   "cell_type": "code",
   "execution_count": 42,
   "metadata": {
    "scrolled": false
   },
   "outputs": [
    {
     "name": "stdout",
     "output_type": "stream",
     "text": [
      "Fitting 3 folds for each of 10 candidates, totalling 30 fits\n"
     ]
    },
    {
     "name": "stderr",
     "output_type": "stream",
     "text": [
      "[Parallel(n_jobs=-1)]: Using backend LokyBackend with 8 concurrent workers.\n",
      "[Parallel(n_jobs=-1)]: Done  30 out of  30 | elapsed: 59.3min finished\n"
     ]
    },
    {
     "name": "stdout",
     "output_type": "stream",
     "text": [
      "Best performance was 0.5129964686340617\n",
      "Best model value for clf__max_depth = 4\n",
      "Best model value for clf__n_estimators = 357\n",
      "Best model value for clf__subsample = 0.75\n",
      "Best model value for tsvd__n_components = 102\n"
     ]
    },
    {
     "data": {
      "image/png": "[encoded data removed]",
      "text/plain": [
       "<Figure size 1440x720 with 8 Axes>"
      ]
     },
     "metadata": {
      "needs_background": "light"
     },
     "output_type": "display_data"
    }
   ],
   "source": [
    "tree_text_pipeline = Pipeline([\n",
    "     ('vect', CountVectorizer(max_df=.9,min_df=100,ngram_range=(1,2))),\n",
    "     ('tfidf', TfidfTransformer()),\n",
    "     ('tsvd',TruncatedSVD(n_components=50)),\n",
    "     ('clf', GradientBoostingClassifier(n_estimators=10,max_depth=4))\n",
    "  ])\n",
    "\n",
    "param_dict = {\n",
    "    'tsvd__n_components':randint(50,150),\n",
    "    'clf__n_estimators': randint(100,400),\n",
    "    'clf__max_depth':randint(2,6),\n",
    "    'clf__subsample' : [.5,.75,.9]\n",
    "}\n",
    "\n",
    "n_iter = 10\n",
    "\n",
    "random_search = RandomizedSearchCV(tree_text_pipeline,\n",
    "                                   param_distributions=param_dict,\n",
    "                                   n_iter=n_iter, \n",
    "                                   cv=3, \n",
    "                                   iid=False,\n",
    "                                   scoring=make_scorer(log_loss,needs_proba=True,greater_is_better=False),\n",
    "                                   verbose=2,\n",
    "                                   return_train_score=False,\n",
    "                                   n_jobs=-1,\n",
    "                                   refit=1,\n",
    "                                  )\n",
    "\n",
    "\n",
    "entries = (lines_df.train )\n",
    "x = lines_df.loc[entries,'lines'].apply(lambda x: ' '.join(x.split()[-10:])) # last 10 words in each line\n",
    "y = lines_df.loc[entries,'funny'].astype(int)\n",
    "random_search.fit(x,y);\n",
    "\n",
    "Plot_results(random_search)"
   ]
  },
  {
   "cell_type": "markdown",
   "metadata": {},
   "source": [
    "### 1.4.3 Text Prediction Conclusions\n",
    "\n",
    "Both methods were able to perform well at predicting humor based on the text of the lines. This is still a relatively \"rough\" way of looking at line content, since it doesn't know anything about word order, so it would likely be possible to take that information into account as well, in order to improve performance.\n",
    "\n",
    "At this stage, the classifiers perform at:\n",
    "\n",
    "1. **Random Forest: loss = 0.51**\n",
    "2. **Gradient Boosted Trees: loss = 0.51**"
   ]
  },
  {
   "cell_type": "markdown",
   "metadata": {},
   "source": [
    "## 1.3 Combining stats and text for prediction <a name=\"combo\"></a>\n",
    "Often, models can do best when they can take into account as much information about the data as possible. In fact, my previous models performed similarly well using two (largely but not entirely independent) sources of information: the text of the line, and statistics about the line. This indicates that we are **likely to perform better if we combine both sources of information.** So my next step is to incorporate what I have learned from the previous sections, and build a \"mega predictor\" that takes in both the line text and the line statistics in order to make the best combined prediction.\n",
    "\n",
    "This requires a slightly more complicated pipeline. Essentially, I'll first build a pipeline to transform the text - this will have the same parameters as I selected for the \"optimal\" text transformer above. I will then build a second transformer which selects some columns of the input dataframe to pass directly to the classifier, and passes the \"lines\" column to the text-processing pipeline first. Finally, I bring the full transformer together with the classifier to build the final, complete pipeline. Then, pulling in the data, transforming it, and classifying it will all be performed automatically by the final pipeline."
   ]
  },
  {
   "cell_type": "code",
   "execution_count": 43,
   "metadata": {},
   "outputs": [],
   "source": [
    "from sklearn.compose import ColumnTransformer\n",
    "\n",
    "# I will build a transformer to treat columns in different ways:\n",
    "text_col = 'lines' # encode and process the words\n",
    "passthrough_col = ['num_words', 'uniform_words', 'prev_line_funny', 'BABYLON', 'BLOUNT',\n",
    "       'BODDEN', 'BODETT', 'BURBANK', 'BURKE', 'CONNOR', 'DICKINSON', 'FARSAD',\n",
    "       'FELBER', 'FERO', 'GOLDTHWAIT', 'GROSZ', 'HONG', 'JOBRANI', 'KLEIN',\n",
    "       'PIERCE', 'POUNDSTONE', 'ROBERTS', 'ROCCA', 'ROURKE', 'SALIE', 'SAGAL',\n",
    "       'KURTIS', 'KASELL', 'who', 'panel', 'bluff', 'job', 'predictions',\n",
    "       'limerick', 'lightning'] # pass through stats/speakers/segment\n",
    "\n",
    "# Transformation specifically for the line text\n",
    "text_transformer = Pipeline([\n",
    "     ('vect', CountVectorizer(min_df=100,max_df=.9,ngram_range=(1, 3))),\n",
    "     ('tfidf', TfidfTransformer()),\n",
    "     ('tsvd',TruncatedSVD(n_components=100)),\n",
    "  ])\n",
    "\n",
    "# Transform the text and pass the statistics\n",
    "full_transformer= ColumnTransformer([\n",
    "    (\"text\",text_transformer,text_col),\n",
    "    (\"pass\",\"passthrough\",passthrough_col)\n",
    "])\n",
    "\n",
    "# Pipeline first uses the full_transformer, then the classifier\n",
    "full_pipeline = Pipeline([\n",
    "     ('transform',full_transformer),\n",
    "     ('clf', ExtraTreesClassifier(max_depth=90,n_estimators=200,min_samples_leaf=2))\n",
    "  ])"
   ]
  },
  {
   "cell_type": "code",
   "execution_count": 44,
   "metadata": {},
   "outputs": [
    {
     "name": "stdout",
     "output_type": "stream",
     "text": [
      "Fitting 3 folds for each of 20 candidates, totalling 60 fits\n"
     ]
    },
    {
     "name": "stderr",
     "output_type": "stream",
     "text": [
      "[Parallel(n_jobs=-1)]: Using backend LokyBackend with 8 concurrent workers.\n",
      "[Parallel(n_jobs=-1)]: Done  25 tasks      | elapsed:  9.4min\n",
      "[Parallel(n_jobs=-1)]: Done  60 out of  60 | elapsed: 17.9min finished\n"
     ]
    },
    {
     "name": "stdout",
     "output_type": "stream",
     "text": [
      "Best performance was 0.4468755616280024\n",
      "Best model value for clf__max_depth = 79\n",
      "Best model value for clf__min_samples_leaf = 2\n",
      "Best model value for clf__n_estimators = 194\n"
     ]
    },
    {
     "data": {
      "image/png": "[encoded data removed]",
      "text/plain": [
       "<Figure size 1080x720 with 6 Axes>"
      ]
     },
     "metadata": {
      "needs_background": "light"
     },
     "output_type": "display_data"
    }
   ],
   "source": [
    "param_dict = {\n",
    "          'clf__max_depth': randint(30,100),\n",
    "          'clf__n_estimators': randint(120,200),\n",
    "          'clf__min_samples_leaf':[1,2,3,4],\n",
    "}\n",
    "n_iter = 20\n",
    "\n",
    "search = RandomizedSearchCV(full_pipeline,\n",
    "                           param_distributions=param_dict,\n",
    "                           cv=3,\n",
    "                           n_jobs=-1,\n",
    "                           n_iter = n_iter,\n",
    "                           iid=False,\n",
    "                           scoring=make_scorer(log_loss,needs_proba=True,greater_is_better=False),\n",
    "                           verbose=2,\n",
    "                           return_train_score=False,\n",
    "                           refit=False,\n",
    "                          )\n",
    "search.fit(lines_df.loc[lines_df.train,:],target[lines_df.train]);\n",
    "Plot_results(search)"
   ]
  },
  {
   "cell_type": "code",
   "execution_count": 45,
   "metadata": {},
   "outputs": [
    {
     "name": "stdout",
     "output_type": "stream",
     "text": [
      "Cross-validated loss for full pipeline is 0.4261526177965579\n"
     ]
    }
   ],
   "source": [
    "scores = cross_validate(full_pipeline,\n",
    "                       X=lines_df.loc[lines_df.train,:],\n",
    "                       y=lines_df.loc[lines_df.train,'funny'].astype('int'),\n",
    "                       scoring=make_scorer(log_loss,needs_proba=True,greater_is_better=False),\n",
    "                       cv=10,\n",
    "                       n_jobs=-1,\n",
    "                       return_train_score=False,\n",
    "                   )\n",
    "\n",
    "print(f\"Cross-validated loss for full pipeline is {-scores['test_score'].mean()}\")"
   ]
  },
  {
   "cell_type": "markdown",
   "metadata": {},
   "source": [
    "## 1.4 Predict the test set\n",
    "\n",
    "Finally, let's combine everything we learned in the above sections. I'll attempt to build the best model that I can. In this case, that will be a random forest, which receives both line statistics and the text of the lines themselves. I will train it on the full training set, and then evaluate it on the testing set."
   ]
  },
  {
   "cell_type": "code",
   "execution_count": 46,
   "metadata": {},
   "outputs": [
    {
     "name": "stdout",
     "output_type": "stream",
     "text": [
      "Test set predicted with 84.96195029968348% accuracy.\n",
      "Test score (log loss) is 0.3572433495939772.\n"
     ]
    }
   ],
   "source": [
    "final_pipeline = full_pipeline.fit(X=lines_df.loc[lines_df.train,:],\n",
    "                       y=lines_df.loc[lines_df.train,'funny'].astype('int'))\n",
    "\n",
    "y_test = lines_df.loc[~lines_df.train,'funny'].astype('int')\n",
    "X_test = lines_df.loc[~lines_df.train,:]\n",
    "y_prob = final_pipeline.predict_proba(X_test)\n",
    "y_pred = final_pipeline.predict(X_test)\n",
    "\n",
    "# Report performance\n",
    "print(f'Test set predicted with {(y_pred==y_test).mean()*100}% accuracy.')\n",
    "print(f'Test score (log loss) is {log_loss(y_test,y_prob)}.')"
   ]
  },
  {
   "cell_type": "markdown",
   "metadata": {},
   "source": [
    "Our final predictor improves a great deal compared with our \"just guess the mean\" approach. We get just under 85% accuracy on the test set (compared with a simple guessing accuracy of 74%), and our cross-validated log-loss is much better, at only 0.42 (compared with 0.57 by guessing the average value). This means that not only is the predictor doing a pretty good job of understanding whether or not a line will be funny, but it also has a good estimate of certainty. "
   ]
  },
  {
   "cell_type": "markdown",
   "metadata": {},
   "source": [
    "# 2 Predicting Humor with Neural Networks <a name=\"GRU\"></a>"
   ]
  },
  {
   "cell_type": "markdown",
   "metadata": {},
   "source": [
    "One major challenge with our previous approach is that the text analysis we were capable of doing was relatively course. Because we did not consider word ordering at all, we are potentially missing a great deal of important information contained in the text. While statistical analyses like the ones used above can be quite useful, neural network architectures can be beneficial to learn time-dependent functions and thus gather more detailed information from a block of text. I will therefore move now to training neural networks to predict whether or not a line was funny, and see how well I can do with this approach.\n",
    "\n",
    "The type of neural network I will be using is called a Recurrent Neural Network (RNN). Instead of being ordered in feed-forward layers, recurrent neural network layers connect with themselves over time, and thus can take time-varying inputs into account. The specific type of RNN I will be using is called a GRU (Gated Recurrent Units). These units have a hidden state which can be either held onto or updated at each time step, depending on the state of the network and the inputs. This architecture helps the network to take longer-scale time information into account (traditionally a major challenge with \"basic\" recurrent neural networks.) \n",
    "\n",
    "This section was closely based on [this tutorial](https://keras.io/examples/pretrained_word_embeddings/), although I have made a number of small changes as I have been playing with the data."
   ]
  },
  {
   "cell_type": "markdown",
   "metadata": {},
   "source": [
    "## 2.1 Preparing the inputs<a name=#rnn-prep></a>\n",
    "\n",
    "In order to feed the lines into the neural networks, I must perform a number of preprocessing steps. \n",
    "1. **[GloVe Embeddings](https://nlp.stanford.edu/projects/glove/)** (Global Vectors for Word Representation) are pre-trained vectors that embed words in a high-dimensional space, such that \"similar\" words will be close together. These embeddings were trained on Wikipedia articles, and therefore have a sense of typical english language structure. Using a pre-trained embedding can help to get text input data into a useful structure for subsequent learning.\n",
    "2. **Data augmentation**: It can often be useful to try to train neural networks on as many training examples as possible. A good way to add additional data to text is to take the training data and replace some of the words with synonyms. This (usually) doesn't change the nature of the sentence, but adds some nice variation and helps reduce over-fitting. I'll generate two extra versions of each training example via random synonym replacement.\n",
    "3. **Sentence padding**: Recurrent neural networks typically need to be trained with inputs that have the same number of words (at the very least, each batch must contain the same dimensions of input). But my lines can vary from a single word to several hundred words in length. So, I will for the moment cut every sentence to a maximum of 50 words long. For those sentences that are shorter than 50 words, I will add a \"filler word\" to grow them to 50 words long. Because the end of the sentence is likely to be more informative about funniness than the beginning, I will keep the last 50 words of each sentence, rather than the first 50 words of each sentence."
   ]
  },
  {
   "cell_type": "code",
   "execution_count": 117,
   "metadata": {},
   "outputs": [],
   "source": [
    "# First, load all of the libraries I'll be using in this section\n",
    "from __future__ import print_function\n",
    "\n",
    "import os\n",
    "import sys\n",
    "import numpy as np\n",
    "from tensorflow.keras.preprocessing.text import Tokenizer\n",
    "from tensorflow.keras.preprocessing.sequence import pad_sequences\n",
    "from tensorflow.keras.utils import to_categorical\n",
    "from tensorflow.keras.layers import Dense, Input, GlobalMaxPooling1D\n",
    "from tensorflow.keras.layers import Conv1D, MaxPooling1D, Embedding,Flatten,SpatialDropout1D\n",
    "from tensorflow.keras.layers import GRU,Bidirectional,Lambda,Add\n",
    "from tensorflow.keras.layers import Dropout,Concatenate,BatchNormalization,Add,GaussianNoise,Activation\n",
    "from tensorflow.keras.models import Model\n",
    "from tensorflow.keras.activations import relu\n",
    "from tensorflow.keras.initializers import Constant\n",
    "from tensorflow.keras.callbacks import EarlyStopping\n",
    "from tensorflow.keras.optimizers import Adadelta, Adam, Nadam\n",
    "import tensorflow.keras.backend as K\n",
    "from tensorflow.keras.regularizers import L1L2"
   ]
  },
  {
   "cell_type": "code",
   "execution_count": 118,
   "metadata": {},
   "outputs": [],
   "source": [
    "#### establish some constants/meta parameters\n",
    "BASE_DIR = './'\n",
    "GLOVE_DIR = os.path.join(BASE_DIR, 'glove.6B')\n",
    "MAX_SEQUENCE_LENGTH = 50\n",
    "MAX_VOCABULARY = 20000\n",
    "EMBEDDING_DIM = 200\n",
    "VALIDATION_SPLIT = 0.2"
   ]
  },
  {
   "cell_type": "markdown",
   "metadata": {},
   "source": [
    "### Process input for model\n",
    "- Tokenize words\n",
    "- Separate x (word tokens) from y (funniness boolean)\n",
    "- Get training and validation sets\n",
    "- Extract an embedding matrix from GLOVE embeddings to be used by the model"
   ]
  },
  {
   "cell_type": "code",
   "execution_count": 119,
   "metadata": {},
   "outputs": [],
   "source": [
    "# Function to take the training data and divide it into x (lines) and y (funniness)\n",
    "def Segment_input(lines_df, min_words=0,max_words = float('inf')):\n",
    "    \n",
    "    # subselect to lines whose length is at least min_words and at most max_words\n",
    "    lines_to_use = (lines_df.num_words>=min_words) & (lines_df.num_words<=max_words)\n",
    "    \n",
    "    # list of text samples\n",
    "    x = lines_df[lines_to_use].lines.values  \n",
    "    \n",
    "    # Whether or not each trial is funny\n",
    "    y = lines_df[lines_to_use].funny.values \n",
    "    \n",
    "    # predict other information about the lines, for cross-training\n",
    "    y_segment = lines_df.loc[lines_to_use,segment_list].values \n",
    "    y_speaker = lines_df.loc[lines_to_use,speaker_list].values \n",
    "\n",
    "    return x,y,y_segment,y_speaker\n"
   ]
  },
  {
   "cell_type": "code",
   "execution_count": 120,
   "metadata": {},
   "outputs": [],
   "source": [
    "# take in the lines in the training and validation sets, and encode it as a series of integers\n",
    "def Encode_lines(x_list,max_num_words = MAX_VOCABULARY,sequence_length = MAX_SEQUENCE_LENGTH):\n",
    "    tokenizer = Tokenizer(num_words=MAX_VOCABULARY,lower=True,oov_token=0)\n",
    "    tokenizer.fit_on_texts(np.concatenate(x_list))\n",
    "    word_index = tokenizer.word_index\n",
    "\n",
    "    # Encode each of the inputs\n",
    "    x_encoded = []\n",
    "    for x in x_list:\n",
    "        x_encoded.append(Encode_and_pad(x,tokenizer,MAX_SEQUENCE_LENGTH))\n",
    "        \n",
    "    return x_encoded,word_index\n",
    "\n",
    "# support function for Encode_lines (apply encoder to lines, crop all lines to the same length)\n",
    "def Encode_and_pad(x,tokenizer,sequence_length):\n",
    "    sequences = tokenizer.texts_to_sequences(x)\n",
    "    x_encoded = pad_sequences(sequences,truncating='post', maxlen=sequence_length) # keep the end of the lines\n",
    "    return x_encoded"
   ]
  },
  {
   "cell_type": "code",
   "execution_count": 121,
   "metadata": {},
   "outputs": [],
   "source": [
    "# Make the embedding matrix\n",
    "def Make_embedding_matrix(word_index):\n",
    "    # Create a dictionary mapping words to GLOVE embeddings\n",
    "    print('Indexing word vectors.')\n",
    "    embeddings_index = {}\n",
    "    with open(os.path.join(GLOVE_DIR, f'glove.6B.{EMBEDDING_DIM}d.txt')) as f:\n",
    "        for line in f:\n",
    "            values = line.split()\n",
    "            word = values[0]\n",
    "            coefs = np.asarray(values[1:], dtype='float32')\n",
    "            embeddings_index[word] = coefs\n",
    "    print(f'Found {len(embeddings_index)} word vectors.')\n",
    "    \n",
    "    # Prepare embedding matrix\n",
    "    num_words = min(MAX_VOCABULARY, len(word_index)) + 1\n",
    "    embedding_matrix = np.zeros((num_words, EMBEDDING_DIM))\n",
    "    for word, i in word_index.items():\n",
    "        if i > MAX_VOCABULARY:\n",
    "            continue\n",
    "        embedding_vector = embeddings_index.get(word)\n",
    "        if embedding_vector is not None:\n",
    "            # words not found in embedding index will be all-zeros.\n",
    "            embedding_matrix[i] = embedding_vector\n",
    "    \n",
    "    return embedding_matrix"
   ]
  },
  {
   "cell_type": "code",
   "execution_count": 122,
   "metadata": {},
   "outputs": [],
   "source": [
    "# Wrapper function to take in a lines data structure, and \n",
    "# output training and validation sets and the GLOVE embedding matrix\n",
    "    # Inputs:\n",
    "    # lines_df: data structure of lines, as generated above.\n",
    "    # min_words: the minimum length of a line to be included\n",
    "    # max_length: the maximum length of a line to be included\n",
    "    # max_num_words:\n",
    "def Process_data(lines_df, min_words=20,max_length = MAX_SEQUENCE_LENGTH,\n",
    "                 max_num_words = MAX_VOCABULARY):\n",
    "    \n",
    "    # Get the x/y data for training and validation sets\n",
    "    x_train,y_train,y_segment,y_speaker = Segment_input(lines_df.loc[lines_df.train,:],min_words=min_words)\n",
    "    x_val,y_val,y_segment_val,y_speaker_val = Segment_input(lines_df.loc[lines_df.val,:],min_words=min_words)\n",
    "    x_test,y_test,_,_ = Segment_input(lines_df.loc[~lines_df.train & ~lines_df.val,:],\n",
    "                                  min_words=min_words)\n",
    "\n",
    "    y_crosstrain = [[y_segment,y_segment_val],[y_speaker,y_speaker_val]]\n",
    "    \n",
    "    # Encode words as integers\n",
    "    [x_train_encoded,x_val_encoded,x_test_encoded],word_index = \\\n",
    "        Encode_lines([x_train,x_val,x_test])\n",
    "    \n",
    "    # Make an embedding matrix\n",
    "    embedding_matrix = Make_embedding_matrix(word_index)\n",
    "    \n",
    "    return x_train,x_train_encoded,y_train,x_val,x_val_encoded,y_val,x_test,x_test_encoded,y_test,embedding_matrix,y_crosstrain\n",
    "\n"
   ]
  },
  {
   "cell_type": "code",
   "execution_count": 132,
   "metadata": {},
   "outputs": [
    {
     "name": "stdout",
     "output_type": "stream",
     "text": [
      "Indexing word vectors.\n",
      "Found 400000 word vectors.\n",
      "Created 107560 training samples.\n",
      "Average value of training set: 0.2621420602454444\n"
     ]
    }
   ],
   "source": [
    "x_train,x_train_encoded,y_train,x_val,x_val_encoded,y_val,x_test,x_test_encoded,y_test,embedding_matrix,y_crosstrain = Process_data(lines_df,min_words=1,max_length=30)\n",
    "\n",
    "print(f'Created {y_train.size} training samples.')\n",
    "print(f'Average value of training set: {y_train.mean()}')"
   ]
  },
  {
   "cell_type": "markdown",
   "metadata": {},
   "source": [
    "### 1-d convolutional model"
   ]
  },
  {
   "cell_type": "code",
   "execution_count": 124,
   "metadata": {},
   "outputs": [],
   "source": [
    "from keras_multi_head import MultiHead\n",
    "from tensorflow.keras.layers import Reshape, SpatialDropout1D"
   ]
  },
  {
   "cell_type": "code",
   "execution_count": 24,
   "metadata": {},
   "outputs": [],
   "source": [
    "def plot_training(history):\n",
    "    history = history.history\n",
    "    plt.figure(figsize=(10,5))\n",
    "    plt.subplot(1,2,1)\n",
    "    plt.plot(history['loss'])\n",
    "    plt.plot(history['val_loss'])\n",
    "    plt.xlabel('epoch')\n",
    "    plt.ylabel('loss')\n",
    "    \n",
    "    plt.subplot(1,2,2)\n",
    "    plt.plot(history['categorical_accuracy'])\n",
    "    plt.plot(history['val_categorical_accuracy'])\n",
    "    plt.xlabel('epoch')\n",
    "    plt.ylabel('accuracy')"
   ]
  },
  {
   "cell_type": "code",
   "execution_count": null,
   "metadata": {},
   "outputs": [],
   "source": [
    "# define a model building function, with some hyper-parameters to optimize\n",
    "def Segment_CNN(dropout_rate=0,num_hidden=32,num_layers=2,optimizer='adam',learn_embedding=False):\n",
    "    \n",
    "    # load pre-trained word embeddings into an Embedding layer\n",
    "    embedding_layer = keras.layers.Embedding(embedding_matrix.shape[0],\n",
    "                            embedding_matrix.shape[1],\n",
    "                            embeddings_initializer=Constant(embedding_matrix),\n",
    "                            input_length=MAX_SEQUENCE_LENGTH,\n",
    "                            trainable=learn_embedding)\n",
    "    \n",
    "    # embedding \n",
    "    model = keras.models.Sequential()\n",
    "    model.add(embedding_layer)\n",
    "    model.add(keras.layers.SpatialDropout1D(rate=dropout_rate))\n",
    "\n",
    "    # first convolutional layer\n",
    "    for layer in range(num_layers):\n",
    "        model.add(MultiHead([keras.layers.Conv1D(num_hidden,kernel_size=1,padding='same'),\n",
    "                         keras.layers.Conv1D(num_hidden,kernel_size=3,padding='same'),\n",
    "                         keras.layers.Conv1D(num_hidden,kernel_size=5,padding='same'),\n",
    "                        ]))\n",
    "        model.add(keras.layers.Activation('relu'))\n",
    "        model.add(keras.layers.Reshape([MAX_SEQUENCE_LENGTH,num_hidden*3]))\n",
    "        model.add(keras.layers.SpatialDropout1D(rate=dropout_rate))\n",
    "        model.add(keras.layers.MaxPooling1D(2))\n",
    "        model.add(keras.layers.BatchNormalization())\n",
    "\n",
    "\n",
    "    model.add(keras.layers.GlobalMaxPool1D())\n",
    "\n",
    "    # Readout layer\n",
    "    model.add(keras.layers.Dense(num_hidden,activation='relu'))\n",
    "    model.add(keras.layers.Dense(1,activation='sigmoid'))\n",
    "    model.compile(loss='binary_crossentropy',optimizer=optimizer,metrics=['accuracy'])\n",
    "                  \n",
    "    return model\n"
   ]
  },
  {
   "cell_type": "code",
   "execution_count": 38,
   "metadata": {
    "scrolled": false
   },
   "outputs": [
    {
     "name": "stdout",
     "output_type": "stream",
     "text": [
      "Fitting 3 folds for each of 10 candidates, totalling 30 fits\n"
     ]
    },
    {
     "name": "stderr",
     "output_type": "stream",
     "text": [
      "[Parallel(n_jobs=-1)]: Using backend LokyBackend with 8 concurrent workers.\n",
      "/Users/coraames/git/BimanualModeling/py_36_env/lib/python3.6/site-packages/joblib/externals/loky/process_executor.py:706: UserWarning: A worker stopped while some jobs were given to the executor. This can be caused by a too short worker timeout or by a memory leak.\n",
      "  \"timeout or by a memory leak.\", UserWarning\n",
      "[Parallel(n_jobs=-1)]: Done  30 out of  30 | elapsed: 96.9min finished\n"
     ]
    }
   ],
   "source": [
    "# Build a wrapper for the network, so that we can optimize its hyperparameters using sklearn\n",
    "sklearn_CNN = keras.wrappers.scikit_learn.KerasClassifier(build_fn=Segment_CNN)\n",
    "\n",
    "# Specify hyperparameters - typically a range, \n",
    "# although can also set single values for hyperparameters we don't want to modify\n",
    "param_dict = {'dropout_rate': uniform(0,.5),\n",
    "              'num_hidden': randint(32,128),\n",
    "              'batch_size':randint(32,128),\n",
    "              'epochs':randint(3,7),\n",
    "              'optimizer':['adam','nadam','rmsprop'],\n",
    "              'verbose':[0],\n",
    "              'learn_embedding':[True,False]\n",
    "}\n",
    "\n",
    "# Perform several iterations over the hyperparameter space\n",
    "n_iter = 10\n",
    "search = RandomizedSearchCV(estimator=sklearn_CNN,\n",
    "                           param_distributions=param_dict,\n",
    "                           cv=3,\n",
    "                           n_jobs=-1,\n",
    "                           n_iter = n_iter,\n",
    "                           iid=False,\n",
    "                           scoring=make_scorer(log_loss,needs_proba=True,greater_is_better=False),\n",
    "                           verbose=2,\n",
    "                           return_train_score=False,\n",
    "                           refit=False,\n",
    "                          )\n",
    "search.fit(x_train_encoded,y_train.astype('int'));\n",
    "# Plot_results(search)"
   ]
  },
  {
   "cell_type": "code",
   "execution_count": 149,
   "metadata": {},
   "outputs": [
    {
     "name": "stdout",
     "output_type": "stream",
     "text": [
      "Best performance was 0.4750798927611\n",
      "Best model value for batch_size = 98\n",
      "Best model value for dropout_rate = 0.30259903646835906\n",
      "Best model value for epochs = 4\n",
      "Best model value for learn_embedding = True\n",
      "Best model value for num_hidden = 102\n",
      "Best model value for optimizer = rmsprop\n",
      "Best model value for verbose = 0\n"
     ]
    },
    {
     "data": {
      "image/png": "[encoded data removed]",
      "text/plain": [
       "<Figure size 2520x720 with 13 Axes>"
      ]
     },
     "metadata": {
      "needs_background": "light"
     },
     "output_type": "display_data"
    }
   ],
   "source": [
    "Plot_results(search)"
   ]
  },
  {
   "cell_type": "markdown",
   "metadata": {},
   "source": [
    "## 2.1 Non-optimized model <a name='rnn-model'></a>\n",
    "The next step is to take these processed inputs, and generate a model. \n",
    "This model has a few properties that I have found useful through trial-and-error testing with my training and validation sets.\n",
    "1. **Dropout**: Because neural networks tend to have many, many parameters, they are prone to \"overfit\" - memorizing the training data instead of learning properties that generalize to new data points. One way of preventing overfitting is to use dropout during training - randomly removing some units or connections, to ensure that the output is not overly reliant on the exact values of any one of its internal parameters.\n",
    "2. **Bidirectional Layers**: This means that I have one network that runs forward on the data, and one network that runs backward on the data. This gives a better sense of each word in context - informed not only by the words that come before, but also by those that come after.\n",
    "3. **Two GRU layers**: More than that seems not to be helpful. In theory, multiple layers ought not to be necessary, but in practice I find that it helps. Perhaps it can help the system to capture more nonlinearities in the relationship between words, locations, and humor. "
   ]
  },
  {
   "cell_type": "code",
   "execution_count": 24,
   "metadata": {},
   "outputs": [],
   "source": [
    "from keras_self_attention import SeqSelfAttention\n",
    "from keras_multi_head import MultiHeadAttention,MultiHead"
   ]
  },
  {
   "cell_type": "code",
   "execution_count": 133,
   "metadata": {},
   "outputs": [],
   "source": [
    "# define a model building function, with some hyper-parameters to optimize\n",
    "def Generate_RNN(dropout_rate=0.5,num_hidden=32,optimizer='adam',num_heads=1,num_layers=3,learn_embedding=True,noise=0.1):\n",
    "    \n",
    "    # load pre-trained word embeddings into an Embedding layer\n",
    "    embedding_layer = keras.layers.Embedding(embedding_matrix.shape[0],\n",
    "                            64,\n",
    "#                             embeddings_initializer=Constant(embedding_matrix),\n",
    "                            input_length=MAX_SEQUENCE_LENGTH,\n",
    "                            trainable=learn_embedding)\n",
    "    \n",
    "    # embedding \n",
    "    model = keras.models.Sequential()\n",
    "    model.add(embedding_layer)\n",
    "    model.add(keras.layers.GaussianNoise(noise))\n",
    "\n",
    "    # first RNN layer\n",
    "    for layer in range(num_layers):\n",
    "        model.add(keras.layers.SpatialDropout1D(rate=dropout_rate))\n",
    "        model.add(keras.layers.BatchNormalization())\n",
    "        model.add(MultiHead(keras.layers.Bidirectional(keras.layers.GRU(num_hidden,\n",
    "                                                                        return_sequences=True)\n",
    "                                                      ),num_heads))\n",
    "        model.add(keras.layers.Reshape([MAX_SEQUENCE_LENGTH,num_hidden*num_heads*2]))\n",
    "        model.add(SeqSelfAttention(attention_activation='softmax'))\n",
    "\n",
    "    # After RNNs, pool and normalize\n",
    "    model.add(keras.layers.GlobalAveragePooling1D())\n",
    "    model.add(keras.layers.BatchNormalization())\n",
    "\n",
    "    # Readout layer\n",
    "    model.add(keras.layers.Dense(num_hidden,activation='relu'))\n",
    "    model.add(keras.layers.Dropout(dropout_rate))\n",
    "    model.add(keras.layers.Dense(1,activation='sigmoid'))\n",
    "    model.compile(loss='binary_crossentropy',optimizer=optimizer,metrics=['accuracy'])\n",
    "                  \n",
    "    return model"
   ]
  },
  {
   "cell_type": "code",
   "execution_count": 134,
   "metadata": {},
   "outputs": [],
   "source": [
    "model = Generate_RNN()"
   ]
  },
  {
   "cell_type": "code",
   "execution_count": 31,
   "metadata": {},
   "outputs": [
    {
     "name": "stdout",
     "output_type": "stream",
     "text": [
      "Train on 107560 samples, validate on 25326 samples\n",
      "Epoch 1/10\n",
      "107560/107560 [==============================] - 916s 9ms/sample - loss: 0.5021 - acc: 0.7453 - val_loss: 0.4781 - val_acc: 0.7659\n",
      "Epoch 2/10\n",
      "107560/107560 [==============================] - 916s 9ms/sample - loss: 0.4721 - acc: 0.7681 - val_loss: 0.4924 - val_acc: 0.7754\n"
     ]
    },
    {
     "data": {
      "text/plain": [
       "<tensorflow.python.keras.callbacks.History at 0x145916080>"
      ]
     },
     "execution_count": 31,
     "metadata": {},
     "output_type": "execute_result"
    }
   ],
   "source": [
    "model.fit(x_train_encoded,\n",
    "          y_train,\n",
    "          validation_data=[x_val_encoded,y_val],\n",
    "          epochs=10,\n",
    "          callbacks=[EarlyStopping(monitor='val_loss')])"
   ]
  },
  {
   "cell_type": "markdown",
   "metadata": {},
   "source": [
    "### Train a baseline model <a name='rnn-train'></a>"
   ]
  },
  {
   "cell_type": "code",
   "execution_count": 46,
   "metadata": {},
   "outputs": [
    {
     "name": "stdout",
     "output_type": "stream",
     "text": [
      "baseline performance = 0.7378579397545556\n",
      "Fitting 3 folds for each of 10 candidates, totalling 30 fits\n"
     ]
    },
    {
     "name": "stderr",
     "output_type": "stream",
     "text": [
      "[Parallel(n_jobs=-1)]: Using backend LokyBackend with 8 concurrent workers.\n",
      "/Users/coraames/git/BimanualModeling/py_36_env/lib/python3.6/site-packages/joblib/externals/loky/process_executor.py:706: UserWarning: A worker stopped while some jobs were given to the executor. This can be caused by a too short worker timeout or by a memory leak.\n",
      "  \"timeout or by a memory leak.\", UserWarning\n"
     ]
    },
    {
     "ename": "KeyboardInterrupt",
     "evalue": "",
     "output_type": "error",
     "traceback": [
      "\u001b[0;31m---------------------------------------------------------------------------\u001b[0m",
      "\u001b[0;31mKeyboardInterrupt\u001b[0m                         Traceback (most recent call last)",
      "\u001b[0;32m<ipython-input-46-a73a3db00d78>\u001b[0m in \u001b[0;36m<module>\u001b[0;34m()\u001b[0m\n\u001b[1;32m     31\u001b[0m                            \u001b[0mrefit\u001b[0m\u001b[0;34m=\u001b[0m\u001b[0;32mFalse\u001b[0m\u001b[0;34m,\u001b[0m\u001b[0;34m\u001b[0m\u001b[0m\n\u001b[1;32m     32\u001b[0m                           )\n\u001b[0;32m---> 33\u001b[0;31m \u001b[0msearch\u001b[0m\u001b[0;34m.\u001b[0m\u001b[0mfit\u001b[0m\u001b[0;34m(\u001b[0m\u001b[0mx_train_encoded\u001b[0m\u001b[0;34m,\u001b[0m\u001b[0my_train\u001b[0m\u001b[0;34m.\u001b[0m\u001b[0mastype\u001b[0m\u001b[0;34m(\u001b[0m\u001b[0;34m'int'\u001b[0m\u001b[0;34m)\u001b[0m\u001b[0;34m)\u001b[0m\u001b[0;34m;\u001b[0m\u001b[0;34m\u001b[0m\u001b[0m\n\u001b[0m",
      "\u001b[0;32m~/git/BimanualModeling/py_36_env/lib/python3.6/site-packages/sklearn/model_selection/_search.py\u001b[0m in \u001b[0;36mfit\u001b[0;34m(self, X, y, groups, **fit_params)\u001b[0m\n\u001b[1;32m    685\u001b[0m                 \u001b[0;32mreturn\u001b[0m \u001b[0mresults\u001b[0m\u001b[0;34m\u001b[0m\u001b[0m\n\u001b[1;32m    686\u001b[0m \u001b[0;34m\u001b[0m\u001b[0m\n\u001b[0;32m--> 687\u001b[0;31m             \u001b[0mself\u001b[0m\u001b[0;34m.\u001b[0m\u001b[0m_run_search\u001b[0m\u001b[0;34m(\u001b[0m\u001b[0mevaluate_candidates\u001b[0m\u001b[0;34m)\u001b[0m\u001b[0;34m\u001b[0m\u001b[0m\n\u001b[0m\u001b[1;32m    688\u001b[0m \u001b[0;34m\u001b[0m\u001b[0m\n\u001b[1;32m    689\u001b[0m         \u001b[0;31m# For multi-metric evaluation, store the best_index_, best_params_ and\u001b[0m\u001b[0;34m\u001b[0m\u001b[0;34m\u001b[0m\u001b[0m\n",
      "\u001b[0;32m~/git/BimanualModeling/py_36_env/lib/python3.6/site-packages/sklearn/model_selection/_search.py\u001b[0m in \u001b[0;36m_run_search\u001b[0;34m(self, evaluate_candidates)\u001b[0m\n\u001b[1;32m   1466\u001b[0m         evaluate_candidates(ParameterSampler(\n\u001b[1;32m   1467\u001b[0m             \u001b[0mself\u001b[0m\u001b[0;34m.\u001b[0m\u001b[0mparam_distributions\u001b[0m\u001b[0;34m,\u001b[0m \u001b[0mself\u001b[0m\u001b[0;34m.\u001b[0m\u001b[0mn_iter\u001b[0m\u001b[0;34m,\u001b[0m\u001b[0;34m\u001b[0m\u001b[0m\n\u001b[0;32m-> 1468\u001b[0;31m             random_state=self.random_state))\n\u001b[0m",
      "\u001b[0;32m~/git/BimanualModeling/py_36_env/lib/python3.6/site-packages/sklearn/model_selection/_search.py\u001b[0m in \u001b[0;36mevaluate_candidates\u001b[0;34m(candidate_params)\u001b[0m\n\u001b[1;32m    664\u001b[0m                                \u001b[0;32mfor\u001b[0m \u001b[0mparameters\u001b[0m\u001b[0;34m,\u001b[0m \u001b[0;34m(\u001b[0m\u001b[0mtrain\u001b[0m\u001b[0;34m,\u001b[0m \u001b[0mtest\u001b[0m\u001b[0;34m)\u001b[0m\u001b[0;34m\u001b[0m\u001b[0m\n\u001b[1;32m    665\u001b[0m                                in product(candidate_params,\n\u001b[0;32m--> 666\u001b[0;31m                                           cv.split(X, y, groups)))\n\u001b[0m\u001b[1;32m    667\u001b[0m \u001b[0;34m\u001b[0m\u001b[0m\n\u001b[1;32m    668\u001b[0m                 \u001b[0;32mif\u001b[0m \u001b[0mlen\u001b[0m\u001b[0;34m(\u001b[0m\u001b[0mout\u001b[0m\u001b[0;34m)\u001b[0m \u001b[0;34m<\u001b[0m \u001b[0;36m1\u001b[0m\u001b[0;34m:\u001b[0m\u001b[0;34m\u001b[0m\u001b[0m\n",
      "\u001b[0;32m~/git/BimanualModeling/py_36_env/lib/python3.6/site-packages/joblib/parallel.py\u001b[0m in \u001b[0;36m__call__\u001b[0;34m(self, iterable)\u001b[0m\n\u001b[1;32m    932\u001b[0m \u001b[0;34m\u001b[0m\u001b[0m\n\u001b[1;32m    933\u001b[0m             \u001b[0;32mwith\u001b[0m \u001b[0mself\u001b[0m\u001b[0;34m.\u001b[0m\u001b[0m_backend\u001b[0m\u001b[0;34m.\u001b[0m\u001b[0mretrieval_context\u001b[0m\u001b[0;34m(\u001b[0m\u001b[0;34m)\u001b[0m\u001b[0;34m:\u001b[0m\u001b[0;34m\u001b[0m\u001b[0m\n\u001b[0;32m--> 934\u001b[0;31m                 \u001b[0mself\u001b[0m\u001b[0;34m.\u001b[0m\u001b[0mretrieve\u001b[0m\u001b[0;34m(\u001b[0m\u001b[0;34m)\u001b[0m\u001b[0;34m\u001b[0m\u001b[0m\n\u001b[0m\u001b[1;32m    935\u001b[0m             \u001b[0;31m# Make sure that we get a last message telling us we are done\u001b[0m\u001b[0;34m\u001b[0m\u001b[0;34m\u001b[0m\u001b[0m\n\u001b[1;32m    936\u001b[0m             \u001b[0melapsed_time\u001b[0m \u001b[0;34m=\u001b[0m \u001b[0mtime\u001b[0m\u001b[0;34m.\u001b[0m\u001b[0mtime\u001b[0m\u001b[0;34m(\u001b[0m\u001b[0;34m)\u001b[0m \u001b[0;34m-\u001b[0m \u001b[0mself\u001b[0m\u001b[0;34m.\u001b[0m\u001b[0m_start_time\u001b[0m\u001b[0;34m\u001b[0m\u001b[0m\n",
      "\u001b[0;32m~/git/BimanualModeling/py_36_env/lib/python3.6/site-packages/joblib/parallel.py\u001b[0m in \u001b[0;36mretrieve\u001b[0;34m(self)\u001b[0m\n\u001b[1;32m    831\u001b[0m             \u001b[0;32mtry\u001b[0m\u001b[0;34m:\u001b[0m\u001b[0;34m\u001b[0m\u001b[0m\n\u001b[1;32m    832\u001b[0m                 \u001b[0;32mif\u001b[0m \u001b[0mgetattr\u001b[0m\u001b[0;34m(\u001b[0m\u001b[0mself\u001b[0m\u001b[0;34m.\u001b[0m\u001b[0m_backend\u001b[0m\u001b[0;34m,\u001b[0m \u001b[0;34m'supports_timeout'\u001b[0m\u001b[0;34m,\u001b[0m \u001b[0;32mFalse\u001b[0m\u001b[0;34m)\u001b[0m\u001b[0;34m:\u001b[0m\u001b[0;34m\u001b[0m\u001b[0m\n\u001b[0;32m--> 833\u001b[0;31m                     \u001b[0mself\u001b[0m\u001b[0;34m.\u001b[0m\u001b[0m_output\u001b[0m\u001b[0;34m.\u001b[0m\u001b[0mextend\u001b[0m\u001b[0;34m(\u001b[0m\u001b[0mjob\u001b[0m\u001b[0;34m.\u001b[0m\u001b[0mget\u001b[0m\u001b[0;34m(\u001b[0m\u001b[0mtimeout\u001b[0m\u001b[0;34m=\u001b[0m\u001b[0mself\u001b[0m\u001b[0;34m.\u001b[0m\u001b[0mtimeout\u001b[0m\u001b[0;34m)\u001b[0m\u001b[0;34m)\u001b[0m\u001b[0;34m\u001b[0m\u001b[0m\n\u001b[0m\u001b[1;32m    834\u001b[0m                 \u001b[0;32melse\u001b[0m\u001b[0;34m:\u001b[0m\u001b[0;34m\u001b[0m\u001b[0m\n\u001b[1;32m    835\u001b[0m                     \u001b[0mself\u001b[0m\u001b[0;34m.\u001b[0m\u001b[0m_output\u001b[0m\u001b[0;34m.\u001b[0m\u001b[0mextend\u001b[0m\u001b[0;34m(\u001b[0m\u001b[0mjob\u001b[0m\u001b[0;34m.\u001b[0m\u001b[0mget\u001b[0m\u001b[0;34m(\u001b[0m\u001b[0;34m)\u001b[0m\u001b[0;34m)\u001b[0m\u001b[0;34m\u001b[0m\u001b[0m\n",
      "\u001b[0;32m~/git/BimanualModeling/py_36_env/lib/python3.6/site-packages/joblib/_parallel_backends.py\u001b[0m in \u001b[0;36mwrap_future_result\u001b[0;34m(future, timeout)\u001b[0m\n\u001b[1;32m    519\u001b[0m         AsyncResults.get from multiprocessing.\"\"\"\n\u001b[1;32m    520\u001b[0m         \u001b[0;32mtry\u001b[0m\u001b[0;34m:\u001b[0m\u001b[0;34m\u001b[0m\u001b[0m\n\u001b[0;32m--> 521\u001b[0;31m             \u001b[0;32mreturn\u001b[0m \u001b[0mfuture\u001b[0m\u001b[0;34m.\u001b[0m\u001b[0mresult\u001b[0m\u001b[0;34m(\u001b[0m\u001b[0mtimeout\u001b[0m\u001b[0;34m=\u001b[0m\u001b[0mtimeout\u001b[0m\u001b[0;34m)\u001b[0m\u001b[0;34m\u001b[0m\u001b[0m\n\u001b[0m\u001b[1;32m    522\u001b[0m         \u001b[0;32mexcept\u001b[0m \u001b[0mLokyTimeoutError\u001b[0m\u001b[0;34m:\u001b[0m\u001b[0;34m\u001b[0m\u001b[0m\n\u001b[1;32m    523\u001b[0m             \u001b[0;32mraise\u001b[0m \u001b[0mTimeoutError\u001b[0m\u001b[0;34m(\u001b[0m\u001b[0;34m)\u001b[0m\u001b[0;34m\u001b[0m\u001b[0m\n",
      "\u001b[0;32m~/anaconda3/lib/python3.6/concurrent/futures/_base.py\u001b[0m in \u001b[0;36mresult\u001b[0;34m(self, timeout)\u001b[0m\n\u001b[1;32m    425\u001b[0m                 \u001b[0;32mreturn\u001b[0m \u001b[0mself\u001b[0m\u001b[0;34m.\u001b[0m\u001b[0m__get_result\u001b[0m\u001b[0;34m(\u001b[0m\u001b[0;34m)\u001b[0m\u001b[0;34m\u001b[0m\u001b[0m\n\u001b[1;32m    426\u001b[0m \u001b[0;34m\u001b[0m\u001b[0m\n\u001b[0;32m--> 427\u001b[0;31m             \u001b[0mself\u001b[0m\u001b[0;34m.\u001b[0m\u001b[0m_condition\u001b[0m\u001b[0;34m.\u001b[0m\u001b[0mwait\u001b[0m\u001b[0;34m(\u001b[0m\u001b[0mtimeout\u001b[0m\u001b[0;34m)\u001b[0m\u001b[0;34m\u001b[0m\u001b[0m\n\u001b[0m\u001b[1;32m    428\u001b[0m \u001b[0;34m\u001b[0m\u001b[0m\n\u001b[1;32m    429\u001b[0m             \u001b[0;32mif\u001b[0m \u001b[0mself\u001b[0m\u001b[0;34m.\u001b[0m\u001b[0m_state\u001b[0m \u001b[0;32min\u001b[0m \u001b[0;34m[\u001b[0m\u001b[0mCANCELLED\u001b[0m\u001b[0;34m,\u001b[0m \u001b[0mCANCELLED_AND_NOTIFIED\u001b[0m\u001b[0;34m]\u001b[0m\u001b[0;34m:\u001b[0m\u001b[0;34m\u001b[0m\u001b[0m\n",
      "\u001b[0;32m~/anaconda3/lib/python3.6/threading.py\u001b[0m in \u001b[0;36mwait\u001b[0;34m(self, timeout)\u001b[0m\n\u001b[1;32m    293\u001b[0m         \u001b[0;32mtry\u001b[0m\u001b[0;34m:\u001b[0m    \u001b[0;31m# restore state no matter what (e.g., KeyboardInterrupt)\u001b[0m\u001b[0;34m\u001b[0m\u001b[0m\n\u001b[1;32m    294\u001b[0m             \u001b[0;32mif\u001b[0m \u001b[0mtimeout\u001b[0m \u001b[0;32mis\u001b[0m \u001b[0;32mNone\u001b[0m\u001b[0;34m:\u001b[0m\u001b[0;34m\u001b[0m\u001b[0m\n\u001b[0;32m--> 295\u001b[0;31m                 \u001b[0mwaiter\u001b[0m\u001b[0;34m.\u001b[0m\u001b[0macquire\u001b[0m\u001b[0;34m(\u001b[0m\u001b[0;34m)\u001b[0m\u001b[0;34m\u001b[0m\u001b[0m\n\u001b[0m\u001b[1;32m    296\u001b[0m                 \u001b[0mgotit\u001b[0m \u001b[0;34m=\u001b[0m \u001b[0;32mTrue\u001b[0m\u001b[0;34m\u001b[0m\u001b[0m\n\u001b[1;32m    297\u001b[0m             \u001b[0;32melse\u001b[0m\u001b[0;34m:\u001b[0m\u001b[0;34m\u001b[0m\u001b[0m\n",
      "\u001b[0;31mKeyboardInterrupt\u001b[0m: "
     ]
    }
   ],
   "source": [
    "# Build a wrapper for the network, so that we can optimize its hyperparameters using sklearn\n",
    "sklearn_RNN = keras.wrappers.scikit_learn.KerasClassifier(build_fn=Generate_RNN)\n",
    "print(f'baseline performance = {1-y_train.mean()}')\n",
    "\n",
    "# Specify hyperparameters - typically a range, \n",
    "# although can also set single values for hyperparameters we don't want to modify\n",
    "param_dict = {'dropout_rate': uniform(.2,.5),\n",
    "              'num_hidden': randint(16,64),\n",
    "              'batch_size':randint(32,128),\n",
    "              'num_layers':[1,2,3],\n",
    "              'num_heads':randint(1,4),\n",
    "              'epochs':[100],\n",
    "              'noise':uniform(0,.15),\n",
    "              'callbacks':[[EarlyStopping(monitor='val_loss',restore_best_weights=True)]],\n",
    "              'validation_data':[[x_val_encoded,y_val]],\n",
    "              'optimizer':['adam','nadam','rmsprop'],\n",
    "              'verbose':[0],\n",
    "}\n",
    "\n",
    "# Perform several iterations over the hyperparameter space\n",
    "n_iter = 10\n",
    "search = RandomizedSearchCV(estimator=sklearn_RNN,\n",
    "                           param_distributions=param_dict,\n",
    "                           cv=3,\n",
    "                           n_jobs=-1,\n",
    "                           n_iter = n_iter,\n",
    "                           iid=False,\n",
    "                           scoring=make_scorer(log_loss,needs_proba=True,greater_is_better=False),\n",
    "                           verbose=2,\n",
    "                           return_train_score=False,\n",
    "                           refit=False,\n",
    "                          )\n",
    "search.fit(x_train_encoded,y_train.astype('int'));"
   ]
  },
  {
   "cell_type": "code",
   "execution_count": 31,
   "metadata": {},
   "outputs": [
    {
     "name": "stdout",
     "output_type": "stream",
     "text": [
      "Best performance was 0.48945917457729227\n",
      "Best model value for batch_size = 215\n",
      "Best model value for callbacks = [<tensorflow.python.keras.callbacks.EarlyStopping object at 0x15ecf3e48>]\n",
      "Best model value for dropout_rate = 0.1707591073842913\n",
      "Best model value for epochs = 100\n",
      "Best model value for noise = 0.06553899576573659\n",
      "Best model value for num_heads = 3\n",
      "Best model value for num_hidden = 35\n",
      "Best model value for optimizer = adam\n",
      "Best model value for validation_data = [array([[   0,    0,    0, ...,  160,  125,  255],\n",
      "       [   9,   36,    4, ...,    2,  367,  128],\n",
      "       [   0,    0,    0, ...,   13, 2649, 4126],\n",
      "       ...,\n",
      "       [   0,    0,    0, ...,   14,  594,  100],\n",
      "       [   0,    0,    0, ..., 4775, 1346,    1],\n",
      "       [   0,    0,    0, ...,   15,    2,  317]], dtype=int32), array([False, False, False, ..., False, False, False], dtype=object)]\n",
      "Best model value for verbose = 0\n"
     ]
    },
    {
     "data": {
      "image/png": "[encoded data removed]",
      "text/plain": [
       "<Figure size 3600x720 with 17 Axes>"
      ]
     },
     "metadata": {
      "needs_background": "light"
     },
     "output_type": "display_data"
    }
   ],
   "source": [
    "Plot_results(search)"
   ]
  },
  {
   "cell_type": "code",
   "execution_count": 143,
   "metadata": {},
   "outputs": [],
   "source": [
    "# define a model building function, with some hyper-parameters to optimize\n",
    "def Generate_RNN(num_hidden=32,optimizer='adam',num_layers=2):\n",
    "    \n",
    "    # load pre-trained word embeddings into an Embedding layer\n",
    "    embedding_layer = keras.layers.Embedding(embedding_matrix.shape[0],\n",
    "                            embedding_matrix.shape[1],\n",
    "                            embeddings_initializer=Constant(embedding_matrix),\n",
    "                            input_length=MAX_SEQUENCE_LENGTH,\n",
    "                            trainable=False)\n",
    "    \n",
    "    # embedding model\n",
    "    sequence_in = Input(shape=(MAX_SEQUENCE_LENGTH,))\n",
    "    embedded_out = embedding_layer(sequence_in)\n",
    "    embedding_model = keras.Model(inputs=[sequence_in], outputs=embedded_out)\n",
    "    embedding_model.compile(loss='mse',optimizer=optimizer,metrics=['accuracy'])\n",
    "\n",
    "    x_in = Input(shape=(MAX_SEQUENCE_LENGTH,embedding_matrix.shape[1]))\n",
    "    x = keras.layers.SpatialDropout1D(rate=0.5)(x_in)\n",
    "    \n",
    "    # first RNN layer\n",
    "    RNN_outs = []\n",
    "    for layer in range(num_layers):\n",
    "        x = keras.layers.BatchNormalization()(x)\n",
    "        RNN_outs.append(keras.layers.Bidirectional(keras.layers.GRU(num_hidden,return_sequences=True))(x))\n",
    "        x = RNN_outs[-1]\n",
    "        x = SeqSelfAttention(attention_activation='softmax')(x)        \n",
    "\n",
    "    # After RNNs, pool and normalize\n",
    "    x = keras.layers.Add()(RNN_outs)\n",
    "    x = SeqSelfAttention(attention_activation='softmax')(x) \n",
    "    x = keras.layers.GlobalAveragePooling1D()(x)\n",
    "    x = keras.layers.BatchNormalization()(x)\n",
    "\n",
    "    # Readout layer\n",
    "    x = keras.layers.Dense(num_hidden,activation='relu')(x)\n",
    "    x = keras.layers.Dropout(rate=0.5)(x)\n",
    "    \n",
    "    x_out = keras.layers.Dense(1,activation='sigmoid')(x)\n",
    "    \n",
    "    model = keras.Model(inputs=[x_in], outputs=[x_out])\n",
    "    model.compile(loss='binary_crossentropy',optimizer=optimizer,metrics=['accuracy'])\n",
    "    \n",
    "    return model,embedding_model"
   ]
  },
  {
   "cell_type": "code",
   "execution_count": 145,
   "metadata": {},
   "outputs": [],
   "source": [
    "model,embedding_model = Generate_RNN(num_layers=2,num_hidden=128)"
   ]
  },
  {
   "cell_type": "code",
   "execution_count": 146,
   "metadata": {},
   "outputs": [],
   "source": [
    "x_val_embedded = embedding_model.predict(x_val_encoded)\n",
    "x_test_embedded = embedding_model.predict(x_test_encoded)\n",
    "x_train_embedded = embedding_model.predict(x_train_encoded)"
   ]
  },
  {
   "cell_type": "code",
   "execution_count": 147,
   "metadata": {},
   "outputs": [],
   "source": [
    "# define a generator function to make \"mixes\" of two batches, \n",
    "# with the correct label being the weighted sum of the labels\n",
    "# Inspired by: https://arxiv.org/abs/1710.09412\n",
    "def mixed_generator(x_train = x_train_embedded,y_train=y_train, batch_size = 64):\n",
    "    \n",
    "    while True:\n",
    "        # shuffle the data points\n",
    "        index_shuffle = np.random.permutation(x_train_embedded.shape[0])\n",
    "        x_train = x_train[index_shuffle,:,:]\n",
    "        y_train = y_train[index_shuffle]\n",
    "        \n",
    "        for i in range(0,x_train.shape[0]-batch_size*2,batch_size*2):\n",
    "            x1 = x_train[i:i+batch_size,:,:]\n",
    "            x2 = x_train[i+batch_size:i+batch_size*2,:,:]\n",
    "            y1 = y_train[i:i+batch_size]\n",
    "            y2 = y_train[i+batch_size:i+batch_size*2]\n",
    "            \n",
    "            lda = np.max([0,np.random.normal(loc=0.15,scale=0.05)])\n",
    "            x = x1*lda + x2*(1-lda)\n",
    "            y = y1*lda + y2*(1-lda)\n",
    "            yield x,y"
   ]
  },
  {
   "cell_type": "code",
   "execution_count": 149,
   "metadata": {},
   "outputs": [],
   "source": [
    "train_gen = mixed_generator(x_train = x_train_embedded,y_train=y_train, batch_size = 32)"
   ]
  },
  {
   "cell_type": "code",
   "execution_count": 150,
   "metadata": {},
   "outputs": [
    {
     "name": "stdout",
     "output_type": "stream",
     "text": [
      "Train on 107560 samples, validate on 25326 samples\n",
      "107560/107560 [==============================] - 867s 8ms/sample - loss: 0.5326 - acc: 0.7403 - val_loss: 0.4772 - val_acc: 0.7652\n",
      "840/840 [==============================] - 277s 330ms/step - loss: 0.5228 - acc: 0.5379\n",
      "25326/25326 [==============================] - 113s 4ms/sample - loss: 0.4857 - acc: 0.7640\n",
      "840/840 [==============================] - 280s 333ms/step - loss: 0.5236 - acc: 0.5374\n",
      "25326/25326 [==============================] - 105s 4ms/sample - loss: 0.4722 - acc: 0.7683\n",
      "840/840 [==============================] - 258s 307ms/step - loss: 0.5151 - acc: 0.5358\n",
      "25326/25326 [==============================] - 101s 4ms/sample - loss: 0.4728 - acc: 0.7645\n",
      "840/840 [==============================] - 259s 308ms/step - loss: 0.5199 - acc: 0.5349\n",
      "25326/25326 [==============================] - 95s 4ms/sample - loss: 0.4827 - acc: 0.7706\n",
      "127/840 [===>..........................] - ETA: 3:17 - loss: 0.5116 - acc: 0.5374"
     ]
    },
    {
     "ename": "KeyboardInterrupt",
     "evalue": "",
     "output_type": "error",
     "traceback": [
      "\u001b[0;31m---------------------------------------------------------------------------\u001b[0m",
      "\u001b[0;31mKeyboardInterrupt\u001b[0m                         Traceback (most recent call last)",
      "\u001b[0;32m<ipython-input-150-cc01882c5f39>\u001b[0m in \u001b[0;36m<module>\u001b[0;34m()\u001b[0m\n\u001b[1;32m      8\u001b[0m     history = model.fit_generator(train_gen,\n\u001b[1;32m      9\u001b[0m                         \u001b[0msteps_per_epoch\u001b[0m\u001b[0;34m=\u001b[0m\u001b[0my_train\u001b[0m\u001b[0;34m.\u001b[0m\u001b[0msize\u001b[0m\u001b[0;34m//\u001b[0m\u001b[0;36m64\u001b[0m\u001b[0;34m//\u001b[0m\u001b[0;36m2\u001b[0m\u001b[0;34m,\u001b[0m\u001b[0;34m\u001b[0m\u001b[0m\n\u001b[0;32m---> 10\u001b[0;31m                         verbose=1)\n\u001b[0m\u001b[1;32m     11\u001b[0m     \u001b[0mval_loss\u001b[0m\u001b[0;34m[\u001b[0m\u001b[0mi\u001b[0m\u001b[0;34m]\u001b[0m\u001b[0;34m,\u001b[0m\u001b[0mval_acc\u001b[0m\u001b[0;34m[\u001b[0m\u001b[0mi\u001b[0m\u001b[0;34m]\u001b[0m \u001b[0;34m=\u001b[0m \u001b[0mmodel\u001b[0m\u001b[0;34m.\u001b[0m\u001b[0mevaluate\u001b[0m\u001b[0;34m(\u001b[0m\u001b[0mx\u001b[0m\u001b[0;34m=\u001b[0m\u001b[0mx_val_embedded\u001b[0m\u001b[0;34m,\u001b[0m\u001b[0my\u001b[0m\u001b[0;34m=\u001b[0m\u001b[0my_val\u001b[0m\u001b[0;34m)\u001b[0m\u001b[0;34m\u001b[0m\u001b[0m\n\u001b[1;32m     12\u001b[0m     \u001b[0;32mif\u001b[0m \u001b[0mhistory\u001b[0m\u001b[0;34m.\u001b[0m\u001b[0mhistory\u001b[0m\u001b[0;34m[\u001b[0m\u001b[0;34m'loss'\u001b[0m\u001b[0;34m]\u001b[0m \u001b[0;34m<\u001b[0m \u001b[0mval_loss\u001b[0m\u001b[0;34m[\u001b[0m\u001b[0mi\u001b[0m\u001b[0;34m]\u001b[0m\u001b[0;34m:\u001b[0m\u001b[0;34m\u001b[0m\u001b[0m\n",
      "\u001b[0;32m~/git/BimanualModeling/py_36_env/lib/python3.6/site-packages/tensorflow/python/keras/engine/training.py\u001b[0m in \u001b[0;36mfit_generator\u001b[0;34m(self, generator, steps_per_epoch, epochs, verbose, callbacks, validation_data, validation_steps, validation_freq, class_weight, max_queue_size, workers, use_multiprocessing, shuffle, initial_epoch)\u001b[0m\n\u001b[1;32m   1431\u001b[0m         \u001b[0mshuffle\u001b[0m\u001b[0;34m=\u001b[0m\u001b[0mshuffle\u001b[0m\u001b[0;34m,\u001b[0m\u001b[0;34m\u001b[0m\u001b[0m\n\u001b[1;32m   1432\u001b[0m         \u001b[0minitial_epoch\u001b[0m\u001b[0;34m=\u001b[0m\u001b[0minitial_epoch\u001b[0m\u001b[0;34m,\u001b[0m\u001b[0;34m\u001b[0m\u001b[0m\n\u001b[0;32m-> 1433\u001b[0;31m         steps_name='steps_per_epoch')\n\u001b[0m\u001b[1;32m   1434\u001b[0m \u001b[0;34m\u001b[0m\u001b[0m\n\u001b[1;32m   1435\u001b[0m   def evaluate_generator(self,\n",
      "\u001b[0;32m~/git/BimanualModeling/py_36_env/lib/python3.6/site-packages/tensorflow/python/keras/engine/training_generator.py\u001b[0m in \u001b[0;36mmodel_iteration\u001b[0;34m(model, data, steps_per_epoch, epochs, verbose, callbacks, validation_data, validation_steps, validation_freq, class_weight, max_queue_size, workers, use_multiprocessing, shuffle, initial_epoch, mode, batch_size, steps_name, **kwargs)\u001b[0m\n\u001b[1;32m    262\u001b[0m \u001b[0;34m\u001b[0m\u001b[0m\n\u001b[1;32m    263\u001b[0m       \u001b[0mis_deferred\u001b[0m \u001b[0;34m=\u001b[0m \u001b[0;32mnot\u001b[0m \u001b[0mmodel\u001b[0m\u001b[0;34m.\u001b[0m\u001b[0m_is_compiled\u001b[0m\u001b[0;34m\u001b[0m\u001b[0m\n\u001b[0;32m--> 264\u001b[0;31m       \u001b[0mbatch_outs\u001b[0m \u001b[0;34m=\u001b[0m \u001b[0mbatch_function\u001b[0m\u001b[0;34m(\u001b[0m\u001b[0;34m*\u001b[0m\u001b[0mbatch_data\u001b[0m\u001b[0;34m)\u001b[0m\u001b[0;34m\u001b[0m\u001b[0m\n\u001b[0m\u001b[1;32m    265\u001b[0m       \u001b[0;32mif\u001b[0m \u001b[0;32mnot\u001b[0m \u001b[0misinstance\u001b[0m\u001b[0;34m(\u001b[0m\u001b[0mbatch_outs\u001b[0m\u001b[0;34m,\u001b[0m \u001b[0mlist\u001b[0m\u001b[0;34m)\u001b[0m\u001b[0;34m:\u001b[0m\u001b[0;34m\u001b[0m\u001b[0m\n\u001b[1;32m    266\u001b[0m         \u001b[0mbatch_outs\u001b[0m \u001b[0;34m=\u001b[0m \u001b[0;34m[\u001b[0m\u001b[0mbatch_outs\u001b[0m\u001b[0;34m]\u001b[0m\u001b[0;34m\u001b[0m\u001b[0m\n",
      "\u001b[0;32m~/git/BimanualModeling/py_36_env/lib/python3.6/site-packages/tensorflow/python/keras/engine/training.py\u001b[0m in \u001b[0;36mtrain_on_batch\u001b[0;34m(self, x, y, sample_weight, class_weight, reset_metrics)\u001b[0m\n\u001b[1;32m   1173\u001b[0m       \u001b[0mself\u001b[0m\u001b[0;34m.\u001b[0m\u001b[0m_update_sample_weight_modes\u001b[0m\u001b[0;34m(\u001b[0m\u001b[0msample_weights\u001b[0m\u001b[0;34m=\u001b[0m\u001b[0msample_weights\u001b[0m\u001b[0;34m)\u001b[0m\u001b[0;34m\u001b[0m\u001b[0m\n\u001b[1;32m   1174\u001b[0m       \u001b[0mself\u001b[0m\u001b[0;34m.\u001b[0m\u001b[0m_make_train_function\u001b[0m\u001b[0;34m(\u001b[0m\u001b[0;34m)\u001b[0m\u001b[0;34m\u001b[0m\u001b[0m\n\u001b[0;32m-> 1175\u001b[0;31m       \u001b[0moutputs\u001b[0m \u001b[0;34m=\u001b[0m \u001b[0mself\u001b[0m\u001b[0;34m.\u001b[0m\u001b[0mtrain_function\u001b[0m\u001b[0;34m(\u001b[0m\u001b[0mins\u001b[0m\u001b[0;34m)\u001b[0m  \u001b[0;31m# pylint: disable=not-callable\u001b[0m\u001b[0;34m\u001b[0m\u001b[0m\n\u001b[0m\u001b[1;32m   1176\u001b[0m \u001b[0;34m\u001b[0m\u001b[0m\n\u001b[1;32m   1177\u001b[0m     \u001b[0;32mif\u001b[0m \u001b[0mreset_metrics\u001b[0m\u001b[0;34m:\u001b[0m\u001b[0;34m\u001b[0m\u001b[0m\n",
      "\u001b[0;32m~/git/BimanualModeling/py_36_env/lib/python3.6/site-packages/tensorflow/python/keras/backend.py\u001b[0m in \u001b[0;36m__call__\u001b[0;34m(self, inputs)\u001b[0m\n\u001b[1;32m   3441\u001b[0m         \u001b[0mvalue\u001b[0m \u001b[0;34m=\u001b[0m \u001b[0mmath_ops\u001b[0m\u001b[0;34m.\u001b[0m\u001b[0mcast\u001b[0m\u001b[0;34m(\u001b[0m\u001b[0mvalue\u001b[0m\u001b[0;34m,\u001b[0m \u001b[0mtensor\u001b[0m\u001b[0;34m.\u001b[0m\u001b[0mdtype\u001b[0m\u001b[0;34m)\u001b[0m\u001b[0;34m\u001b[0m\u001b[0m\n\u001b[1;32m   3442\u001b[0m       \u001b[0mconverted_inputs\u001b[0m\u001b[0;34m.\u001b[0m\u001b[0mappend\u001b[0m\u001b[0;34m(\u001b[0m\u001b[0mvalue\u001b[0m\u001b[0;34m)\u001b[0m\u001b[0;34m\u001b[0m\u001b[0m\n\u001b[0;32m-> 3443\u001b[0;31m     \u001b[0moutputs\u001b[0m \u001b[0;34m=\u001b[0m \u001b[0mself\u001b[0m\u001b[0;34m.\u001b[0m\u001b[0m_graph_fn\u001b[0m\u001b[0;34m(\u001b[0m\u001b[0;34m*\u001b[0m\u001b[0mconverted_inputs\u001b[0m\u001b[0;34m)\u001b[0m\u001b[0;34m\u001b[0m\u001b[0m\n\u001b[0m\u001b[1;32m   3444\u001b[0m     return nest.pack_sequence_as(\n\u001b[1;32m   3445\u001b[0m         \u001b[0mself\u001b[0m\u001b[0;34m.\u001b[0m\u001b[0m_outputs_structure\u001b[0m\u001b[0;34m,\u001b[0m \u001b[0;34m[\u001b[0m\u001b[0mx\u001b[0m\u001b[0;34m.\u001b[0m\u001b[0mnumpy\u001b[0m\u001b[0;34m(\u001b[0m\u001b[0;34m)\u001b[0m \u001b[0;32mfor\u001b[0m \u001b[0mx\u001b[0m \u001b[0;32min\u001b[0m \u001b[0moutputs\u001b[0m\u001b[0;34m]\u001b[0m\u001b[0;34m,\u001b[0m\u001b[0;34m\u001b[0m\u001b[0m\n",
      "\u001b[0;32m~/git/BimanualModeling/py_36_env/lib/python3.6/site-packages/tensorflow/python/eager/function.py\u001b[0m in \u001b[0;36m__call__\u001b[0;34m(self, *args, **kwargs)\u001b[0m\n\u001b[1;32m    559\u001b[0m       raise TypeError(\"Keyword arguments {} unknown. Expected {}.\".format(\n\u001b[1;32m    560\u001b[0m           list(kwargs.keys()), list(self._arg_keywords)))\n\u001b[0;32m--> 561\u001b[0;31m     \u001b[0;32mreturn\u001b[0m \u001b[0mself\u001b[0m\u001b[0;34m.\u001b[0m\u001b[0m_call_flat\u001b[0m\u001b[0;34m(\u001b[0m\u001b[0margs\u001b[0m\u001b[0;34m)\u001b[0m\u001b[0;34m\u001b[0m\u001b[0m\n\u001b[0m\u001b[1;32m    562\u001b[0m \u001b[0;34m\u001b[0m\u001b[0m\n\u001b[1;32m    563\u001b[0m   \u001b[0;32mdef\u001b[0m \u001b[0m_filtered_call\u001b[0m\u001b[0;34m(\u001b[0m\u001b[0mself\u001b[0m\u001b[0;34m,\u001b[0m \u001b[0margs\u001b[0m\u001b[0;34m,\u001b[0m \u001b[0mkwargs\u001b[0m\u001b[0;34m)\u001b[0m\u001b[0;34m:\u001b[0m\u001b[0;34m\u001b[0m\u001b[0m\n",
      "\u001b[0;32m~/git/BimanualModeling/py_36_env/lib/python3.6/site-packages/tensorflow/python/eager/function.py\u001b[0m in \u001b[0;36m_call_flat\u001b[0;34m(self, args)\u001b[0m\n\u001b[1;32m    658\u001b[0m     \u001b[0;31m# Only need to override the gradient in graph mode and when we have outputs.\u001b[0m\u001b[0;34m\u001b[0m\u001b[0;34m\u001b[0m\u001b[0m\n\u001b[1;32m    659\u001b[0m     \u001b[0;32mif\u001b[0m \u001b[0mcontext\u001b[0m\u001b[0;34m.\u001b[0m\u001b[0mexecuting_eagerly\u001b[0m\u001b[0;34m(\u001b[0m\u001b[0;34m)\u001b[0m \u001b[0;32mor\u001b[0m \u001b[0;32mnot\u001b[0m \u001b[0mself\u001b[0m\u001b[0;34m.\u001b[0m\u001b[0moutputs\u001b[0m\u001b[0;34m:\u001b[0m\u001b[0;34m\u001b[0m\u001b[0m\n\u001b[0;32m--> 660\u001b[0;31m       \u001b[0moutputs\u001b[0m \u001b[0;34m=\u001b[0m \u001b[0mself\u001b[0m\u001b[0;34m.\u001b[0m\u001b[0m_inference_function\u001b[0m\u001b[0;34m.\u001b[0m\u001b[0mcall\u001b[0m\u001b[0;34m(\u001b[0m\u001b[0mctx\u001b[0m\u001b[0;34m,\u001b[0m \u001b[0margs\u001b[0m\u001b[0;34m)\u001b[0m\u001b[0;34m\u001b[0m\u001b[0m\n\u001b[0m\u001b[1;32m    661\u001b[0m     \u001b[0;32melse\u001b[0m\u001b[0;34m:\u001b[0m\u001b[0;34m\u001b[0m\u001b[0m\n\u001b[1;32m    662\u001b[0m       \u001b[0mself\u001b[0m\u001b[0;34m.\u001b[0m\u001b[0m_register_gradient\u001b[0m\u001b[0;34m(\u001b[0m\u001b[0;34m)\u001b[0m\u001b[0;34m\u001b[0m\u001b[0m\n",
      "\u001b[0;32m~/git/BimanualModeling/py_36_env/lib/python3.6/site-packages/tensorflow/python/eager/function.py\u001b[0m in \u001b[0;36mcall\u001b[0;34m(self, ctx, args)\u001b[0m\n\u001b[1;32m    432\u001b[0m             attrs=(\"executor_type\", executor_type,\n\u001b[1;32m    433\u001b[0m                    \"config_proto\", config),\n\u001b[0;32m--> 434\u001b[0;31m             ctx=ctx)\n\u001b[0m\u001b[1;32m    435\u001b[0m       \u001b[0;31m# Replace empty list with None\u001b[0m\u001b[0;34m\u001b[0m\u001b[0;34m\u001b[0m\u001b[0m\n\u001b[1;32m    436\u001b[0m       \u001b[0moutputs\u001b[0m \u001b[0;34m=\u001b[0m \u001b[0moutputs\u001b[0m \u001b[0;32mor\u001b[0m \u001b[0;32mNone\u001b[0m\u001b[0;34m\u001b[0m\u001b[0m\n",
      "\u001b[0;32m~/git/BimanualModeling/py_36_env/lib/python3.6/site-packages/tensorflow/python/eager/execute.py\u001b[0m in \u001b[0;36mquick_execute\u001b[0;34m(op_name, num_outputs, inputs, attrs, ctx, name)\u001b[0m\n\u001b[1;32m     59\u001b[0m     tensors = pywrap_tensorflow.TFE_Py_Execute(ctx._handle, device_name,\n\u001b[1;32m     60\u001b[0m                                                \u001b[0mop_name\u001b[0m\u001b[0;34m,\u001b[0m \u001b[0minputs\u001b[0m\u001b[0;34m,\u001b[0m \u001b[0mattrs\u001b[0m\u001b[0;34m,\u001b[0m\u001b[0;34m\u001b[0m\u001b[0m\n\u001b[0;32m---> 61\u001b[0;31m                                                num_outputs)\n\u001b[0m\u001b[1;32m     62\u001b[0m   \u001b[0;32mexcept\u001b[0m \u001b[0mcore\u001b[0m\u001b[0;34m.\u001b[0m\u001b[0m_NotOkStatusException\u001b[0m \u001b[0;32mas\u001b[0m \u001b[0me\u001b[0m\u001b[0;34m:\u001b[0m\u001b[0;34m\u001b[0m\u001b[0m\n\u001b[1;32m     63\u001b[0m     \u001b[0;32mif\u001b[0m \u001b[0mname\u001b[0m \u001b[0;32mis\u001b[0m \u001b[0;32mnot\u001b[0m \u001b[0;32mNone\u001b[0m\u001b[0;34m:\u001b[0m\u001b[0;34m\u001b[0m\u001b[0m\n",
      "\u001b[0;31mKeyboardInterrupt\u001b[0m: "
     ]
    }
   ],
   "source": [
    "# do an initial epoch with the non-mixed training data\n",
    "model.fit(x_train_embedded,y_train,verbose=1,validation_data = [x_val_embedded,y_val],batch_size = 64)\n",
    "\n",
    "# mix together the training data for another several epochs\n",
    "val_loss = np.zeros(10)\n",
    "val_acc = np.zeros(10)\n",
    "for i in range(10):\n",
    "    history = model.fit_generator(train_gen,\n",
    "                        steps_per_epoch=y_train.size//64//2,\n",
    "                        verbose=1)\n",
    "    val_loss[i],val_acc[i] = model.evaluate(x=x_val_embedded,y=y_val)\n",
    "    if history.history['loss'] < val_loss[i]:\n",
    "        break"
   ]
  },
  {
   "cell_type": "code",
   "execution_count": null,
   "metadata": {},
   "outputs": [],
   "source": [
    "plt.plot(val_loss)"
   ]
  },
  {
   "cell_type": "markdown",
   "metadata": {},
   "source": [
    "\n",
    "### 2.1.1 Evaluating model performance\n",
    "Let's take a look at where the model succeeds and fails, to help gain inutition into the performance. A list of performance metrics I'm interested in:\n",
    "1. Precision (how many lines that the model thinks are \"funny\" are actually funny.\n",
    "2. Recall (how many lines that are actually funny does the model find).\n",
    "3. Example false positives and negatives."
   ]
  },
  {
   "cell_type": "code",
   "execution_count": 231,
   "metadata": {},
   "outputs": [],
   "source": [
    "y_pred = model.predict(x_val_encoded).squeeze()\n",
    "\n",
    "def Precision(y,y_pred):\n",
    "    precision = np.sum(y_pred==1 & y==0)/np.sum(y_pred)\n",
    "    return precision\n",
    "\n",
    "def Recall(y,y_pred):\n",
    "    recall = np.sum(y_pred==1 & y==0)/np.sum(y_pred)\n",
    "    recall = np.sum(y_pred==1)/np.sum(y==1)\n",
    "    \n",
    "def Pull_examples(y,y_pred,x,num_examples=3):\n",
    "    # find the entries where the prediction was maximally off(either positive or negative)\n",
    "    idx = np.argsort(y_pred-y)\n",
    "    print('\\n\\n\\nFALSE POSTITIVE:')\n",
    "    for ex in range(num_examples):\n",
    "        print(x[idx[0+ex]])\n",
    "        print()\n",
    "    print('\\n\\n\\nFALSE NEGATIVE:')\n",
    "    for ex in range(num_examples):\n",
    "        print(x[idx[-1-ex]])\n",
    "        print()"
   ]
  },
  {
   "cell_type": "code",
   "execution_count": 232,
   "metadata": {},
   "outputs": [
    {
     "name": "stdout",
     "output_type": "stream",
     "text": [
      "\n",
      "\n",
      "\n",
      "FALSE POSTITIVE:\n",
      " Finally, it's a contributor to CBS Sunday Morning, and the only member of our panel named after a George Michael song, it's Faith Salie.\n",
      "\n",
      " Well, now in a production of \"Music Man,\" the adorable Winthrop takes the stage and sings (singing) Erie, Pa., Erie, Pa., Erie, Pa.\n",
      "\n",
      " ...Announced a new special offering - free blanks on February 14.\n",
      "\n",
      "\n",
      "\n",
      "\n",
      "FALSE NEGATIVE:\n",
      " It was a time - he documented the 2,267 times he had sneezed. He even documented the time he sneezed while he was documenting a sneeze. Carl, how did Steve Martin do on our game?\n",
      "\n",
      " The Red Rover Group, the so-called only public relations firm for animals, managed to get the game Duck, Duck, Goose banned from playgrounds, daycares and schools. The game comes from the days when pioneers would sit in a circle, someone would get hit in the head with a goose and then be in charge of hunting and cooking for the night.\n",
      "\n",
      " ...B, the musician Rob Zombie, who says he plays Phish music to, quote, \"go to my happy place,\" or C, actor Abe Vigoda, who played Detective Fish in the old \"Barney Miller\" TV show, who once joined the band onstage dressed as a wombat when he was 92 years old?\n",
      "\n"
     ]
    }
   ],
   "source": [
    "Pull_examples(y_val,y_pred,x_val,num_examples=3)"
   ]
  },
  {
   "cell_type": "markdown",
   "metadata": {},
   "source": [
    "## 2.2 Optimize model <a name='rnn-optimize'></a>\n",
    "This time I will use a random search to optimize over several possible parameters:\n",
    "1. Number of recurrent units\n",
    "2. Dropout percentage\n",
    "3. Batch Size\n",
    "\n",
    "If I were to change the model architecture more dramatically, there would certainly be other choices of parameters, but this will give me an initial sense. There is an sklearn wrapper for keras which could probably be useful here. However, at the moment I don't have internet access so I can't read the documentation for it :(. So I'll just hard-code something, and perhaps come back later and change things up."
   ]
  },
  {
   "cell_type": "code",
   "execution_count": 36,
   "metadata": {
    "scrolled": true
   },
   "outputs": [],
   "source": [
    "# support function for random_search: Select a random value for each parameter being tested\n",
    "def Select_Parameters(drops_to_test,num_units_to_test,batch_size_to_test,num_dense_to_test,sequence_length_to_test):\n",
    "    # randomly select parameters in the specified ranges\n",
    "    drop = np.random.uniform(low = drops_to_test[0],high=drops_to_test[1])\n",
    "    num_units = np.random.randint(low = num_units_to_test[0],high  = num_units_to_test[1])\n",
    "    batch_size = np.random.randint(low = batch_size_to_test[0],high = batch_size_to_test[1])\n",
    "    num_dense = np.random.randint(low = num_dense_to_test[0],high = num_dense_to_test[1])\n",
    "    sequence_length = np.random.randint(low = sequence_length_to_test[0],high = sequence_length_to_test[1])\n",
    "    \n",
    "    \n",
    "    # Report the conditions so we can track performance as we go\n",
    "    print(f'Training model with {num_units}  units in the recurrent layer')\n",
    "    print(f'Training model with dropout at {drop*100}%')\n",
    "    print(f'Training model with batch size {batch_size}')\n",
    "    print(f'Training model with sequence length {sequence_length}')\n",
    "    print(f'Training model with {num_dense} units in the fully-connected layer')\n",
    "    \n",
    "    return drop,num_units,batch_size,num_dense,sequence_length\n",
    "\n",
    "def random_search(model_fun = generate_model,\n",
    "                  num_runs = 1, \n",
    "                  drops_to_test=[.1,.5],\n",
    "                  num_units_to_test=[50,200],\n",
    "                  batch_size_to_test = [32,240],\n",
    "                  num_dense_to_test = [32,240],\n",
    "                  sequence_length_to_test = [10,50],\n",
    "                  patience=1,\n",
    "                 ):\n",
    "    \n",
    "    # Callback to stop learning when the network stops improving\n",
    "    early_stopping = EarlyStopping(monitor='val_loss',patience = patience, restore_best_weights=True)\n",
    "    \n",
    "    # Report expected baseline accuracy\n",
    "    print(f'baseline accuracy is: {1-np.mean(y_train)}')\n",
    "    print(f'baseline loss is: {log_loss(y_val.astype(\"int\"),y_train.mean()*np.ones(y_val.size))}')\n",
    "\n",
    "    \n",
    "    # intialize results vector\n",
    "    random_search_results = pd.DataFrame({'dropout': [],\n",
    "                                    'num_units': [],\n",
    "                                    'num_dense': [],\n",
    "                                    'batch_size':[],\n",
    "                                    'run_time_m':[],\n",
    "                                    'min_val_loss':[],\n",
    "                                    'val_loss':[],\n",
    "                                    'val_acc':[],\n",
    "                                    'train_loss':[],\n",
    "                                    'train_acc':[],\n",
    "                                   })\n",
    "    \n",
    "    # Randomly generate models with parameters in the specified ranges, and report their performance\n",
    "    for run in range(num_runs):\n",
    "        print(f'Run number {run}:')\n",
    "        \n",
    "        drop,num_units,batch_size,num_dense,sequence_length = Select_Parameters(drops_to_test,\n",
    "                                                            num_units_to_test,\n",
    "                                                            batch_size_to_test,\n",
    "                                                            num_dense_to_test,\n",
    "                                                            sequence_length_to_test)\n",
    "\n",
    "        # Time the computation\n",
    "        start = time.time()\n",
    "\n",
    "        # Generate a model with the specified parameters\n",
    "        model = model_fun(num_recurrent = num_units,drop_prob=drop,num_dense=num_dense)\n",
    "\n",
    "        history = model.fit(x=[x_train_augmented_encoded],\n",
    "                  y=y_augmented,\n",
    "                  batch_size=batch_size,\n",
    "                  epochs=epochs_per_lr,\n",
    "                  shuffle=True,\n",
    "                  validation_data = ([x_val_encoded],y_val),\n",
    "                  callbacks=[early_stopping],\n",
    "                  verbose=1,\n",
    "             )\n",
    "\n",
    "        # Calculate the run time\n",
    "        end = time.time()\n",
    "\n",
    "        # Save the results\n",
    "        random_search_results = random_search_results.append(  \n",
    "                                        {'dropout': drop,\n",
    "                                        'num_units': num_units,\n",
    "                                        'batch_size':batch_size,\n",
    "                                        'run_time_m':(end - start)/60,\n",
    "                                        'min_val_loss':min(history.history[\"val_loss\"]),\n",
    "                                        'val_loss':history.history[\"val_loss\"],\n",
    "                                        'val_acc':history.history[\"val_acc\"],\n",
    "                                        'train_loss':history.history[\"loss\"],\n",
    "                                        'train_acc':history.history[\"acc\"],\n",
    "                                         'num_dense':num_dense,\n",
    "                                       },ignore_index=True)\n",
    "\n",
    "        # Report the results\n",
    "        print(f'minimum val loss is {min(history.history[\"val_loss\"])}')\n",
    "        print(f'maximum val accuracy is {max(history.history[\"val_acc\"])}')\n",
    "        print(f'Run time = {(end - start)/60} mins')\n",
    "        print('')\n",
    "        print('')\n",
    "\n",
    "        # Plot the performance\n",
    "        plt.plot(history.history['loss'],'b')\n",
    "        plt.plot(history.history['val_loss'],'r')\n",
    "        min_loss = min(history.history[\"val_loss\"])\n",
    "        \n",
    "        # If this is the first run, or if this is the best model so far, save the model\n",
    "        if run==0 or min_loss<best_val:\n",
    "            best_model = model\n",
    "            best_val = min_loss\n",
    "        \n",
    "    # When we have finished testing, return the results\n",
    "    return random_search_results,best_model"
   ]
  },
  {
   "cell_type": "code",
   "execution_count": 37,
   "metadata": {
    "scrolled": true
   },
   "outputs": [
    {
     "name": "stdout",
     "output_type": "stream",
     "text": [
      "baseline accuracy is: 0.7378579397545556\n",
      "baseline loss is: 0.5720979238970163\n",
      "Run number 0:\n",
      "Training model with 214  units in the recurrent layer\n",
      "Training model with dropout at 26.602559396271015%\n",
      "Training model with batch size 192\n",
      "Training model with sequence length 74\n",
      "Training model with 165 units in the fully-connected layer\n",
      "Train on 430240 samples, validate on 25326 samples\n",
      "Epoch 1/10\n",
      " 73728/430240 [====>.........................] - ETA: 14:23 - loss: 0.5672 - acc: 0.7341"
     ]
    },
    {
     "ename": "KeyboardInterrupt",
     "evalue": "",
     "output_type": "error",
     "traceback": [
      "\u001b[0;31m---------------------------------------------------------------------------\u001b[0m",
      "\u001b[0;31mKeyboardInterrupt\u001b[0m                         Traceback (most recent call last)",
      "\u001b[0;32m<ipython-input-37-31f57a6e9d8c>\u001b[0m in \u001b[0;36m<module>\u001b[0;34m()\u001b[0m\n\u001b[1;32m      5\u001b[0m                                                   \u001b[0mnum_units_to_test\u001b[0m\u001b[0;34m=\u001b[0m\u001b[0;34m[\u001b[0m\u001b[0;36m32\u001b[0m\u001b[0;34m,\u001b[0m\u001b[0;36m256\u001b[0m\u001b[0;34m]\u001b[0m\u001b[0;34m,\u001b[0m\u001b[0;34m\u001b[0m\u001b[0m\n\u001b[1;32m      6\u001b[0m                                                   \u001b[0mbatch_size_to_test\u001b[0m \u001b[0;34m=\u001b[0m \u001b[0;34m[\u001b[0m\u001b[0;36m32\u001b[0m\u001b[0;34m,\u001b[0m\u001b[0;36m256\u001b[0m\u001b[0;34m]\u001b[0m\u001b[0;34m,\u001b[0m\u001b[0;34m\u001b[0m\u001b[0m\n\u001b[0;32m----> 7\u001b[0;31m                                                   \u001b[0msequence_length_to_test\u001b[0m \u001b[0;34m=\u001b[0m \u001b[0;34m[\u001b[0m\u001b[0;36m10\u001b[0m\u001b[0;34m,\u001b[0m\u001b[0;36m100\u001b[0m\u001b[0;34m]\u001b[0m\u001b[0;34m,\u001b[0m\u001b[0;34m\u001b[0m\u001b[0m\n\u001b[0m\u001b[1;32m      8\u001b[0m                                                  )\n",
      "\u001b[0;32m<ipython-input-36-00d210127379>\u001b[0m in \u001b[0;36mrandom_search\u001b[0;34m(model_fun, num_runs, drops_to_test, num_units_to_test, batch_size_to_test, num_dense_to_test, sequence_length_to_test, patience)\u001b[0m\n\u001b[1;32m     72\u001b[0m                   \u001b[0mvalidation_data\u001b[0m \u001b[0;34m=\u001b[0m \u001b[0;34m(\u001b[0m\u001b[0;34m[\u001b[0m\u001b[0mx_val_encoded\u001b[0m\u001b[0;34m]\u001b[0m\u001b[0;34m,\u001b[0m\u001b[0my_val\u001b[0m\u001b[0;34m)\u001b[0m\u001b[0;34m,\u001b[0m\u001b[0;34m\u001b[0m\u001b[0m\n\u001b[1;32m     73\u001b[0m                   \u001b[0mcallbacks\u001b[0m\u001b[0;34m=\u001b[0m\u001b[0;34m[\u001b[0m\u001b[0mearly_stopping\u001b[0m\u001b[0;34m]\u001b[0m\u001b[0;34m,\u001b[0m\u001b[0;34m\u001b[0m\u001b[0m\n\u001b[0;32m---> 74\u001b[0;31m                   \u001b[0mverbose\u001b[0m\u001b[0;34m=\u001b[0m\u001b[0;36m1\u001b[0m\u001b[0;34m,\u001b[0m\u001b[0;34m\u001b[0m\u001b[0m\n\u001b[0m\u001b[1;32m     75\u001b[0m              )\n\u001b[1;32m     76\u001b[0m \u001b[0;34m\u001b[0m\u001b[0m\n",
      "\u001b[0;32m~/git/BimanualModeling/py_36_env/lib/python3.6/site-packages/keras/engine/training.py\u001b[0m in \u001b[0;36mfit\u001b[0;34m(self, x, y, batch_size, epochs, verbose, callbacks, validation_split, validation_data, shuffle, class_weight, sample_weight, initial_epoch, steps_per_epoch, validation_steps, validation_freq, max_queue_size, workers, use_multiprocessing, **kwargs)\u001b[0m\n\u001b[1;32m   1176\u001b[0m                                         \u001b[0msteps_per_epoch\u001b[0m\u001b[0;34m=\u001b[0m\u001b[0msteps_per_epoch\u001b[0m\u001b[0;34m,\u001b[0m\u001b[0;34m\u001b[0m\u001b[0m\n\u001b[1;32m   1177\u001b[0m                                         \u001b[0mvalidation_steps\u001b[0m\u001b[0;34m=\u001b[0m\u001b[0mvalidation_steps\u001b[0m\u001b[0;34m,\u001b[0m\u001b[0;34m\u001b[0m\u001b[0m\n\u001b[0;32m-> 1178\u001b[0;31m                                         validation_freq=validation_freq)\n\u001b[0m\u001b[1;32m   1179\u001b[0m \u001b[0;34m\u001b[0m\u001b[0m\n\u001b[1;32m   1180\u001b[0m     def evaluate(self,\n",
      "\u001b[0;32m~/git/BimanualModeling/py_36_env/lib/python3.6/site-packages/keras/engine/training_arrays.py\u001b[0m in \u001b[0;36mfit_loop\u001b[0;34m(model, fit_function, fit_inputs, out_labels, batch_size, epochs, verbose, callbacks, val_function, val_inputs, shuffle, callback_metrics, initial_epoch, steps_per_epoch, validation_steps, validation_freq)\u001b[0m\n\u001b[1;32m    202\u001b[0m                     \u001b[0mins_batch\u001b[0m\u001b[0;34m[\u001b[0m\u001b[0mi\u001b[0m\u001b[0;34m]\u001b[0m \u001b[0;34m=\u001b[0m \u001b[0mins_batch\u001b[0m\u001b[0;34m[\u001b[0m\u001b[0mi\u001b[0m\u001b[0;34m]\u001b[0m\u001b[0;34m.\u001b[0m\u001b[0mtoarray\u001b[0m\u001b[0;34m(\u001b[0m\u001b[0;34m)\u001b[0m\u001b[0;34m\u001b[0m\u001b[0m\n\u001b[1;32m    203\u001b[0m \u001b[0;34m\u001b[0m\u001b[0m\n\u001b[0;32m--> 204\u001b[0;31m                 \u001b[0mouts\u001b[0m \u001b[0;34m=\u001b[0m \u001b[0mfit_function\u001b[0m\u001b[0;34m(\u001b[0m\u001b[0mins_batch\u001b[0m\u001b[0;34m)\u001b[0m\u001b[0;34m\u001b[0m\u001b[0m\n\u001b[0m\u001b[1;32m    205\u001b[0m                 \u001b[0mouts\u001b[0m \u001b[0;34m=\u001b[0m \u001b[0mto_list\u001b[0m\u001b[0;34m(\u001b[0m\u001b[0mouts\u001b[0m\u001b[0;34m)\u001b[0m\u001b[0;34m\u001b[0m\u001b[0m\n\u001b[1;32m    206\u001b[0m                 \u001b[0;32mfor\u001b[0m \u001b[0ml\u001b[0m\u001b[0;34m,\u001b[0m \u001b[0mo\u001b[0m \u001b[0;32min\u001b[0m \u001b[0mzip\u001b[0m\u001b[0;34m(\u001b[0m\u001b[0mout_labels\u001b[0m\u001b[0;34m,\u001b[0m \u001b[0mouts\u001b[0m\u001b[0;34m)\u001b[0m\u001b[0;34m:\u001b[0m\u001b[0;34m\u001b[0m\u001b[0m\n",
      "\u001b[0;32m~/git/BimanualModeling/py_36_env/lib/python3.6/site-packages/keras/backend/tensorflow_backend.py\u001b[0m in \u001b[0;36m__call__\u001b[0;34m(self, inputs)\u001b[0m\n\u001b[1;32m   2977\u001b[0m                     \u001b[0;32mreturn\u001b[0m \u001b[0mself\u001b[0m\u001b[0;34m.\u001b[0m\u001b[0m_legacy_call\u001b[0m\u001b[0;34m(\u001b[0m\u001b[0minputs\u001b[0m\u001b[0;34m)\u001b[0m\u001b[0;34m\u001b[0m\u001b[0m\n\u001b[1;32m   2978\u001b[0m \u001b[0;34m\u001b[0m\u001b[0m\n\u001b[0;32m-> 2979\u001b[0;31m             \u001b[0;32mreturn\u001b[0m \u001b[0mself\u001b[0m\u001b[0;34m.\u001b[0m\u001b[0m_call\u001b[0m\u001b[0;34m(\u001b[0m\u001b[0minputs\u001b[0m\u001b[0;34m)\u001b[0m\u001b[0;34m\u001b[0m\u001b[0m\n\u001b[0m\u001b[1;32m   2980\u001b[0m         \u001b[0;32melse\u001b[0m\u001b[0;34m:\u001b[0m\u001b[0;34m\u001b[0m\u001b[0m\n\u001b[1;32m   2981\u001b[0m             \u001b[0;32mif\u001b[0m \u001b[0mpy_any\u001b[0m\u001b[0;34m(\u001b[0m\u001b[0mis_tensor\u001b[0m\u001b[0;34m(\u001b[0m\u001b[0mx\u001b[0m\u001b[0;34m)\u001b[0m \u001b[0;32mfor\u001b[0m \u001b[0mx\u001b[0m \u001b[0;32min\u001b[0m \u001b[0minputs\u001b[0m\u001b[0;34m)\u001b[0m\u001b[0;34m:\u001b[0m\u001b[0;34m\u001b[0m\u001b[0m\n",
      "\u001b[0;32m~/git/BimanualModeling/py_36_env/lib/python3.6/site-packages/keras/backend/tensorflow_backend.py\u001b[0m in \u001b[0;36m_call\u001b[0;34m(self, inputs)\u001b[0m\n\u001b[1;32m   2935\u001b[0m             \u001b[0mfetched\u001b[0m \u001b[0;34m=\u001b[0m \u001b[0mself\u001b[0m\u001b[0;34m.\u001b[0m\u001b[0m_callable_fn\u001b[0m\u001b[0;34m(\u001b[0m\u001b[0;34m*\u001b[0m\u001b[0marray_vals\u001b[0m\u001b[0;34m,\u001b[0m \u001b[0mrun_metadata\u001b[0m\u001b[0;34m=\u001b[0m\u001b[0mself\u001b[0m\u001b[0;34m.\u001b[0m\u001b[0mrun_metadata\u001b[0m\u001b[0;34m)\u001b[0m\u001b[0;34m\u001b[0m\u001b[0m\n\u001b[1;32m   2936\u001b[0m         \u001b[0;32melse\u001b[0m\u001b[0;34m:\u001b[0m\u001b[0;34m\u001b[0m\u001b[0m\n\u001b[0;32m-> 2937\u001b[0;31m             \u001b[0mfetched\u001b[0m \u001b[0;34m=\u001b[0m \u001b[0mself\u001b[0m\u001b[0;34m.\u001b[0m\u001b[0m_callable_fn\u001b[0m\u001b[0;34m(\u001b[0m\u001b[0;34m*\u001b[0m\u001b[0marray_vals\u001b[0m\u001b[0;34m)\u001b[0m\u001b[0;34m\u001b[0m\u001b[0m\n\u001b[0m\u001b[1;32m   2938\u001b[0m         \u001b[0;32mreturn\u001b[0m \u001b[0mfetched\u001b[0m\u001b[0;34m[\u001b[0m\u001b[0;34m:\u001b[0m\u001b[0mlen\u001b[0m\u001b[0;34m(\u001b[0m\u001b[0mself\u001b[0m\u001b[0;34m.\u001b[0m\u001b[0moutputs\u001b[0m\u001b[0;34m)\u001b[0m\u001b[0;34m]\u001b[0m\u001b[0;34m\u001b[0m\u001b[0m\n\u001b[1;32m   2939\u001b[0m \u001b[0;34m\u001b[0m\u001b[0m\n",
      "\u001b[0;32m~/git/BimanualModeling/py_36_env/lib/python3.6/site-packages/tensorflow/python/client/session.py\u001b[0m in \u001b[0;36m__call__\u001b[0;34m(self, *args, **kwargs)\u001b[0m\n\u001b[1;32m   1456\u001b[0m         ret = tf_session.TF_SessionRunCallable(self._session._session,\n\u001b[1;32m   1457\u001b[0m                                                \u001b[0mself\u001b[0m\u001b[0;34m.\u001b[0m\u001b[0m_handle\u001b[0m\u001b[0;34m,\u001b[0m \u001b[0margs\u001b[0m\u001b[0;34m,\u001b[0m\u001b[0;34m\u001b[0m\u001b[0m\n\u001b[0;32m-> 1458\u001b[0;31m                                                run_metadata_ptr)\n\u001b[0m\u001b[1;32m   1459\u001b[0m         \u001b[0;32mif\u001b[0m \u001b[0mrun_metadata\u001b[0m\u001b[0;34m:\u001b[0m\u001b[0;34m\u001b[0m\u001b[0m\n\u001b[1;32m   1460\u001b[0m           \u001b[0mproto_data\u001b[0m \u001b[0;34m=\u001b[0m \u001b[0mtf_session\u001b[0m\u001b[0;34m.\u001b[0m\u001b[0mTF_GetBuffer\u001b[0m\u001b[0;34m(\u001b[0m\u001b[0mrun_metadata_ptr\u001b[0m\u001b[0;34m)\u001b[0m\u001b[0;34m\u001b[0m\u001b[0m\n",
      "\u001b[0;31mKeyboardInterrupt\u001b[0m: "
     ]
    }
   ],
   "source": [
    "# set parameter ranges to test via grid parameter search\n",
    "random_search_results,best_model = random_search(model_fun = generate_model,\n",
    "                                                  num_runs = 20, \n",
    "                                                  drops_to_test=[0.1,0.5],\n",
    "                                                  num_units_to_test=[32,256],\n",
    "                                                  batch_size_to_test = [32,256],\n",
    "                                                  sequence_length_to_test = [10,100],\n",
    "                                                 )"
   ]
  },
  {
   "cell_type": "code",
   "execution_count": 76,
   "metadata": {},
   "outputs": [
    {
     "data": {
      "text/html": [
       "<div>\n",
       "<style scoped>\n",
       "    .dataframe tbody tr th:only-of-type {\n",
       "        vertical-align: middle;\n",
       "    }\n",
       "\n",
       "    .dataframe tbody tr th {\n",
       "        vertical-align: top;\n",
       "    }\n",
       "\n",
       "    .dataframe thead th {\n",
       "        text-align: right;\n",
       "    }\n",
       "</style>\n",
       "<table border=\"1\" class=\"dataframe\">\n",
       "  <thead>\n",
       "    <tr style=\"text-align: right;\">\n",
       "      <th></th>\n",
       "      <th>dropout</th>\n",
       "      <th>num_units</th>\n",
       "      <th>num_dense</th>\n",
       "      <th>batch_size</th>\n",
       "      <th>run_time_m</th>\n",
       "      <th>min_val_loss</th>\n",
       "      <th>val_loss</th>\n",
       "      <th>val_acc</th>\n",
       "      <th>train_loss</th>\n",
       "      <th>train_acc</th>\n",
       "    </tr>\n",
       "  </thead>\n",
       "  <tbody>\n",
       "    <tr>\n",
       "      <th>5</th>\n",
       "      <td>0.480034</td>\n",
       "      <td>143.0</td>\n",
       "      <td>152.0</td>\n",
       "      <td>208.0</td>\n",
       "      <td>2.768798</td>\n",
       "      <td>0.470940</td>\n",
       "      <td>[0.5040455156358666, 0.4821566498072781, 0.483...</td>\n",
       "      <td>[0.778684635918402, 0.7886184962310848, 0.7887...</td>\n",
       "      <td>[0.4884637821966057, 0.40403453878561274, 0.39...</td>\n",
       "      <td>[0.7976054843470916, 0.848266873615663, 0.8487...</td>\n",
       "    </tr>\n",
       "    <tr>\n",
       "      <th>2</th>\n",
       "      <td>0.232940</td>\n",
       "      <td>188.0</td>\n",
       "      <td>91.0</td>\n",
       "      <td>94.0</td>\n",
       "      <td>3.435988</td>\n",
       "      <td>0.473437</td>\n",
       "      <td>[0.5571371803188255, 0.4734366087398472, 0.477...</td>\n",
       "      <td>[0.7875951650094171, 0.7855484901199951, 0.787...</td>\n",
       "      <td>[0.432898991039974, 0.3930109423480117, 0.3848...</td>\n",
       "      <td>[0.8290142095887755, 0.8480641288026207, 0.849...</td>\n",
       "    </tr>\n",
       "    <tr>\n",
       "      <th>9</th>\n",
       "      <td>0.257270</td>\n",
       "      <td>209.0</td>\n",
       "      <td>65.0</td>\n",
       "      <td>241.0</td>\n",
       "      <td>2.646213</td>\n",
       "      <td>0.474413</td>\n",
       "      <td>[0.4909754705283283, 0.47441258670297975, 0.48...</td>\n",
       "      <td>[0.7682266454906124, 0.7862723202394751, 0.788...</td>\n",
       "      <td>[0.46761122765838725, 0.3976020356964119, 0.38...</td>\n",
       "      <td>[0.8055035355172931, 0.8481703285885741, 0.848...</td>\n",
       "    </tr>\n",
       "    <tr>\n",
       "      <th>0</th>\n",
       "      <td>0.305292</td>\n",
       "      <td>187.0</td>\n",
       "      <td>75.0</td>\n",
       "      <td>110.0</td>\n",
       "      <td>6.192417</td>\n",
       "      <td>0.474544</td>\n",
       "      <td>[0.5070246809429404, 0.5059612217979546, 0.475...</td>\n",
       "      <td>[0.7887183347177404, 0.7885935369776264, 0.788...</td>\n",
       "      <td>[0.44984201756731773, 0.3987695455257642, 0.38...</td>\n",
       "      <td>[0.8220720301525489, 0.8478806641233742, 0.848...</td>\n",
       "    </tr>\n",
       "    <tr>\n",
       "      <th>7</th>\n",
       "      <td>0.198362</td>\n",
       "      <td>191.0</td>\n",
       "      <td>127.0</td>\n",
       "      <td>121.0</td>\n",
       "      <td>3.059532</td>\n",
       "      <td>0.474975</td>\n",
       "      <td>[0.4779636247854591, 0.4749747405579723, 0.482...</td>\n",
       "      <td>[0.7879945078905373, 0.7853238481655856, 0.787...</td>\n",
       "      <td>[0.4321609545246945, 0.3929390821139405, 0.383...</td>\n",
       "      <td>[0.8291976400070051, 0.8485082527868787, 0.849...</td>\n",
       "    </tr>\n",
       "    <tr>\n",
       "      <th>1</th>\n",
       "      <td>0.170825</td>\n",
       "      <td>252.0</td>\n",
       "      <td>203.0</td>\n",
       "      <td>237.0</td>\n",
       "      <td>3.750361</td>\n",
       "      <td>0.477735</td>\n",
       "      <td>[0.5100076123731764, 0.4822756840713191, 0.477...</td>\n",
       "      <td>[0.788618494142356, 0.7881692262991945, 0.7835...</td>\n",
       "      <td>[0.44598406123851125, 0.3960894197688849, 0.38...</td>\n",
       "      <td>[0.8195519906846992, 0.847108233746753, 0.8489...</td>\n",
       "    </tr>\n",
       "    <tr>\n",
       "      <th>6</th>\n",
       "      <td>0.411715</td>\n",
       "      <td>65.0</td>\n",
       "      <td>134.0</td>\n",
       "      <td>155.0</td>\n",
       "      <td>2.268429</td>\n",
       "      <td>0.477853</td>\n",
       "      <td>[0.4818878290817024, 0.47856985823456216, 0.47...</td>\n",
       "      <td>[0.7878447521436561, 0.7884936969883951, 0.787...</td>\n",
       "      <td>[0.4775980539627836, 0.4036482155302886, 0.395...</td>\n",
       "      <td>[0.806362846349558, 0.8482475634637321, 0.8484...</td>\n",
       "    </tr>\n",
       "    <tr>\n",
       "      <th>8</th>\n",
       "      <td>0.223256</td>\n",
       "      <td>152.0</td>\n",
       "      <td>187.0</td>\n",
       "      <td>93.0</td>\n",
       "      <td>3.648805</td>\n",
       "      <td>0.478958</td>\n",
       "      <td>[0.4858787860976583, 0.502092149223294, 0.4789...</td>\n",
       "      <td>[0.7847497832235082, 0.7879196304410908, 0.780...</td>\n",
       "      <td>[0.4308064011565746, 0.3931407399266236, 0.384...</td>\n",
       "      <td>[0.8312735345069651, 0.8481316977823933, 0.849...</td>\n",
       "    </tr>\n",
       "    <tr>\n",
       "      <th>4</th>\n",
       "      <td>0.118791</td>\n",
       "      <td>143.0</td>\n",
       "      <td>84.0</td>\n",
       "      <td>151.0</td>\n",
       "      <td>1.696210</td>\n",
       "      <td>0.482490</td>\n",
       "      <td>[0.4824901472030025, 0.5342482152613572, 0.487...</td>\n",
       "      <td>[0.7857731168002028, 0.7885685746847996, 0.788...</td>\n",
       "      <td>[0.4373601455003688, 0.39381394311591467, 0.38...</td>\n",
       "      <td>[0.8258569072670512, 0.8483344586519151, 0.848...</td>\n",
       "    </tr>\n",
       "    <tr>\n",
       "      <th>3</th>\n",
       "      <td>0.274953</td>\n",
       "      <td>255.0</td>\n",
       "      <td>224.0</td>\n",
       "      <td>180.0</td>\n",
       "      <td>120.823574</td>\n",
       "      <td>0.488063</td>\n",
       "      <td>[0.5157119187800816, 0.5105283856726639, 0.498...</td>\n",
       "      <td>[0.7469362272434313, 0.788893049462196, 0.7890...</td>\n",
       "      <td>[0.4466066704853467, 0.39749745058198455, 0.39...</td>\n",
       "      <td>[0.8226610036548689, 0.8482572191917402, 0.848...</td>\n",
       "    </tr>\n",
       "  </tbody>\n",
       "</table>\n",
       "</div>"
      ],
      "text/plain": [
       "    dropout  num_units  num_dense  batch_size  run_time_m  min_val_loss  \\\n",
       "5  0.480034      143.0      152.0       208.0    2.768798      0.470940   \n",
       "2  0.232940      188.0       91.0        94.0    3.435988      0.473437   \n",
       "9  0.257270      209.0       65.0       241.0    2.646213      0.474413   \n",
       "0  0.305292      187.0       75.0       110.0    6.192417      0.474544   \n",
       "7  0.198362      191.0      127.0       121.0    3.059532      0.474975   \n",
       "1  0.170825      252.0      203.0       237.0    3.750361      0.477735   \n",
       "6  0.411715       65.0      134.0       155.0    2.268429      0.477853   \n",
       "8  0.223256      152.0      187.0        93.0    3.648805      0.478958   \n",
       "4  0.118791      143.0       84.0       151.0    1.696210      0.482490   \n",
       "3  0.274953      255.0      224.0       180.0  120.823574      0.488063   \n",
       "\n",
       "                                            val_loss  \\\n",
       "5  [0.5040455156358666, 0.4821566498072781, 0.483...   \n",
       "2  [0.5571371803188255, 0.4734366087398472, 0.477...   \n",
       "9  [0.4909754705283283, 0.47441258670297975, 0.48...   \n",
       "0  [0.5070246809429404, 0.5059612217979546, 0.475...   \n",
       "7  [0.4779636247854591, 0.4749747405579723, 0.482...   \n",
       "1  [0.5100076123731764, 0.4822756840713191, 0.477...   \n",
       "6  [0.4818878290817024, 0.47856985823456216, 0.47...   \n",
       "8  [0.4858787860976583, 0.502092149223294, 0.4789...   \n",
       "4  [0.4824901472030025, 0.5342482152613572, 0.487...   \n",
       "3  [0.5157119187800816, 0.5105283856726639, 0.498...   \n",
       "\n",
       "                                             val_acc  \\\n",
       "5  [0.778684635918402, 0.7886184962310848, 0.7887...   \n",
       "2  [0.7875951650094171, 0.7855484901199951, 0.787...   \n",
       "9  [0.7682266454906124, 0.7862723202394751, 0.788...   \n",
       "0  [0.7887183347177404, 0.7885935369776264, 0.788...   \n",
       "7  [0.7879945078905373, 0.7853238481655856, 0.787...   \n",
       "1  [0.788618494142356, 0.7881692262991945, 0.7835...   \n",
       "6  [0.7878447521436561, 0.7884936969883951, 0.787...   \n",
       "8  [0.7847497832235082, 0.7879196304410908, 0.780...   \n",
       "4  [0.7857731168002028, 0.7885685746847996, 0.788...   \n",
       "3  [0.7469362272434313, 0.788893049462196, 0.7890...   \n",
       "\n",
       "                                          train_loss  \\\n",
       "5  [0.4884637821966057, 0.40403453878561274, 0.39...   \n",
       "2  [0.432898991039974, 0.3930109423480117, 0.3848...   \n",
       "9  [0.46761122765838725, 0.3976020356964119, 0.38...   \n",
       "0  [0.44984201756731773, 0.3987695455257642, 0.38...   \n",
       "7  [0.4321609545246945, 0.3929390821139405, 0.383...   \n",
       "1  [0.44598406123851125, 0.3960894197688849, 0.38...   \n",
       "6  [0.4775980539627836, 0.4036482155302886, 0.395...   \n",
       "8  [0.4308064011565746, 0.3931407399266236, 0.384...   \n",
       "4  [0.4373601455003688, 0.39381394311591467, 0.38...   \n",
       "3  [0.4466066704853467, 0.39749745058198455, 0.39...   \n",
       "\n",
       "                                           train_acc  \n",
       "5  [0.7976054843470916, 0.848266873615663, 0.8487...  \n",
       "2  [0.8290142095887755, 0.8480641288026207, 0.849...  \n",
       "9  [0.8055035355172931, 0.8481703285885741, 0.848...  \n",
       "0  [0.8220720301525489, 0.8478806641233742, 0.848...  \n",
       "7  [0.8291976400070051, 0.8485082527868787, 0.849...  \n",
       "1  [0.8195519906846992, 0.847108233746753, 0.8489...  \n",
       "6  [0.806362846349558, 0.8482475634637321, 0.8484...  \n",
       "8  [0.8312735345069651, 0.8481316977823933, 0.849...  \n",
       "4  [0.8258569072670512, 0.8483344586519151, 0.848...  \n",
       "3  [0.8226610036548689, 0.8482572191917402, 0.848...  "
      ]
     },
     "execution_count": 76,
     "metadata": {},
     "output_type": "execute_result"
    }
   ],
   "source": [
    "random_search_results.sort_values(['min_val_loss']).head(10)"
   ]
  },
  {
   "cell_type": "code",
   "execution_count": 77,
   "metadata": {},
   "outputs": [
    {
     "data": {
      "text/plain": [
       "dropout        -0.380925\n",
       "num_units       0.242803\n",
       "num_dense       0.497649\n",
       "batch_size      0.013149\n",
       "run_time_m      0.750302\n",
       "min_val_loss    1.000000\n",
       "Name: min_val_loss, dtype: float64"
      ]
     },
     "execution_count": 77,
     "metadata": {},
     "output_type": "execute_result"
    }
   ],
   "source": [
    "random_search_results.corr()['min_val_loss']"
   ]
  },
  {
   "cell_type": "code",
   "execution_count": 81,
   "metadata": {},
   "outputs": [
    {
     "data": {
      "text/plain": [
       "[<matplotlib.lines.Line2D at 0x143488898>]"
      ]
     },
     "execution_count": 81,
     "metadata": {},
     "output_type": "execute_result"
    },
    {
     "data": {
      "image/png": "[encoded data removed]",
      "text/plain": [
       "<Figure size 432x288 with 1 Axes>"
      ]
     },
     "metadata": {
      "needs_background": "light"
     },
     "output_type": "display_data"
    }
   ],
   "source": [
    "plt.plot(random_search_results.num_units,random_search_results.min_val_loss,'.')"
   ]
  },
  {
   "cell_type": "markdown",
   "metadata": {},
   "source": [
    "# Augmenting the data: synonyms <a name=#rnn-syn></a>\n",
    "In training my models so far, I'm definitely struggling with the problem of over-fitting: the model starts to \"memorize\" the training data, and thus performs poorly on the validation data. I can try to combat this in a few ways: regularizing the model, via dropout or imposed loss functions on the weights. Another powerful method is to generate more training data. Since my training data currently includes 10 years' worth of transcripts (and the years prior to this don't have transcripts), I'm unlikely to be able to get \"new\" transcripts to help train on.\n",
    "\n",
    "Instead, I will be trying a form of text regularization: I will replace some of the words in each sentence with synonyms. This will ahve the effect of slightly changing the phrasing of many sentences, without dramatically altering the meaning. I can then learn on both the original sentences and the \"altered\" sentences, essentially doubling (or more) my training set. Code for replacing words with synonyms is based on this tutorial: http://rwet.decontextualize.com/book/textblob/"
   ]
  },
  {
   "cell_type": "code",
   "execution_count": 21,
   "metadata": {},
   "outputs": [],
   "source": [
    "from textblob import TextBlob\n",
    "\n",
    "# Use a dictionary of positions, to specify what part of speech a word is being used as and select better synonyms\n",
    "pos_dict = {'NN':'n','NNS':'n','NNP':'n','NNPS':'n' ,\n",
    "           'VB':'v', 'VBD':'v','VBG':'v','VBN':'v','VBP':'v','VBZ':'v',\n",
    "           'JJ':'a','JJR':'a','JJS':'a','RB':'r','RBR':'r','RBS':'r'} # part of speech dictionary\n",
    "part_of_speech_list = pos_dict.keys()\n",
    "    \n",
    "# Function to replace a dataset with synonyms. \n",
    "# This function will be performed num_samples times, so if I want to make 3 new sentences for every 1 input sentence,\n",
    "# then num_samples should be 3\n",
    "def Augment_training_set(x_train,y_train,num_samples=1,p=0.5):\n",
    "    \n",
    "    # initialize the augmented outputs\n",
    "    y_augmented = y_train\n",
    "    x_augmented = x_train\n",
    "    \n",
    "    # For each line, with some probability, switch up nouns, verbs, adjectives, and adverbs with synonyms\n",
    "    for sample in range(num_samples):\n",
    "        x_syn = Replace_synonyms(x_train,p)\n",
    "        \n",
    "        # combine the initial dataset and the new datasets together\n",
    "        x_augmented = np.concatenate((x_augmented,x_syn))\n",
    "        y_augmented = np.concatenate((y_augmented,y_train))\n",
    "        \n",
    "    # Finally, re-calculate the encoding so that we can feed the new sentences into our models\n",
    "    [x_train_augmented_encoded,x_val_encoded],word_index = Encode_lines([x_augmented,x_val])\n",
    "    embedding_matrix = Make_embedding_matrix(word_index)\n",
    "    \n",
    "    return x_augmented,x_train_augmented_encoded,y_augmented,x_val_encoded,embedding_matrix\n",
    "\n",
    "# Helper function for Augment training set: replace words in x_train with synonyms with specified probability\n",
    "def Replace_synonyms(x,p=0.5):\n",
    "    # Use a dictionary of positions, to specify what part of speech a word is being used as and select better synonyms\n",
    "    pos_dict = {'NN':'n','NNS':'n','NNP':'n','NNPS':'n' ,\n",
    "               'VB':'v', 'VBD':'v','VBG':'v','VBN':'v','VBP':'v','VBZ':'v',\n",
    "               'JJ':'a','JJR':'a','JJS':'a','RB':'r','RBR':'r','RBS':'r'} # part of speech dictionary\n",
    "    part_of_speech_list = pos_dict.keys()\n",
    "    \n",
    "    x_syn = x\n",
    "    for idx,line in enumerate(x):\n",
    "\n",
    "        # Use TextBlob to identify words + part of speech\n",
    "        blob = TextBlob(line)\n",
    "        output = []\n",
    "\n",
    "        # Replace nouns, verbs, adjectives, and adverbs with synonyms (with specified probability)\n",
    "        for word,tag in blob.tags:\n",
    "            if (len(word) > 4) and (tag in part_of_speech_list) and len(word.get_synsets(pos=pos_dict[tag])) > 0 and (np.random.rand() > p):\n",
    "                random_synset = np.random.choice(word.get_synsets(pos=pos_dict[tag]))\n",
    "                random_lemma = np.random.choice(random_synset.lemma_names())\n",
    "                output.append(random_lemma.replace('_', ' '))\n",
    "            else:\n",
    "                output.append(word)\n",
    "        x[idx] = ' '.join(output)\n",
    "        \n",
    "        if idx%10000 == 0:\n",
    "            print(f'Completed synonyms of line {idx}/{len(x)}.')\n",
    "    return x_syn"
   ]
  },
  {
   "cell_type": "code",
   "execution_count": 22,
   "metadata": {
    "scrolled": true
   },
   "outputs": [
    {
     "name": "stdout",
     "output_type": "stream",
     "text": [
      "Completed synonyms of line 0/107560.\n",
      "Completed synonyms of line 10000/107560.\n",
      "Completed synonyms of line 20000/107560.\n",
      "Completed synonyms of line 30000/107560.\n",
      "Completed synonyms of line 40000/107560.\n",
      "Completed synonyms of line 50000/107560.\n",
      "Completed synonyms of line 60000/107560.\n",
      "Completed synonyms of line 70000/107560.\n",
      "Completed synonyms of line 80000/107560.\n",
      "Completed synonyms of line 90000/107560.\n",
      "Completed synonyms of line 100000/107560.\n",
      "Completed synonyms of line 0/107560.\n",
      "Completed synonyms of line 10000/107560.\n",
      "Completed synonyms of line 20000/107560.\n",
      "Completed synonyms of line 30000/107560.\n",
      "Completed synonyms of line 40000/107560.\n",
      "Completed synonyms of line 50000/107560.\n",
      "Completed synonyms of line 60000/107560.\n",
      "Completed synonyms of line 70000/107560.\n",
      "Completed synonyms of line 80000/107560.\n",
      "Completed synonyms of line 90000/107560.\n",
      "Completed synonyms of line 100000/107560.\n",
      "Completed synonyms of line 0/107560.\n",
      "Completed synonyms of line 10000/107560.\n",
      "Completed synonyms of line 20000/107560.\n",
      "Completed synonyms of line 30000/107560.\n",
      "Completed synonyms of line 40000/107560.\n",
      "Completed synonyms of line 50000/107560.\n",
      "Completed synonyms of line 60000/107560.\n",
      "Completed synonyms of line 70000/107560.\n",
      "Completed synonyms of line 80000/107560.\n",
      "Completed synonyms of line 90000/107560.\n",
      "Completed synonyms of line 100000/107560.\n",
      "Indexing word vectors.\n",
      "Found 400000 word vectors.\n"
     ]
    }
   ],
   "source": [
    "x_augmented,x_train_augmented_encoded,y_augmented,x_val_encoded,embedding_matrix = Augment_training_set(x_train,y_train,num_samples=3)\n"
   ]
  }
 ],
 "metadata": {
  "kernelspec": {
   "display_name": "py_36_env",
   "language": "python",
   "name": "py_36_env"
  },
  "language_info": {
   "codemirror_mode": {
    "name": "ipython",
    "version": 3
   },
   "file_extension": ".py",
   "mimetype": "text/x-python",
   "name": "python",
   "nbconvert_exporter": "python",
   "pygments_lexer": "ipython3",
   "version": "3.6.5"
  }
 },
 "nbformat": 4,
 "nbformat_minor": 2
}
