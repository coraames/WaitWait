{
 "cells": [
  {
   "cell_type": "markdown",
   "metadata": {},
   "source": [
    "# Wait Wait, Don't Analyze Me!"
   ]
  },
  {
   "cell_type": "markdown",
   "metadata": {},
   "source": [
    "![NPR logo](https://media.npr.org/branding/programs/wait-wait-dont-tell-me/branding_main-c5920a167d6a5d445ce86fac30b90454223b6b57.png \"One nerd's attempt to learn everything there is to know about NPR's greatest quiz show.\")\n"
   ]
  },
  {
   "cell_type": "markdown",
   "metadata": {},
   "source": [
    "# Introduction\n",
    "[Wait Wait, Don't Tell Me!](https://www.npr.org/programs/wait-wait-dont-tell-me/) is NPR's longest-running news quiz show. Contestents call in to answer questions about the week's news, and a rotating cast of three panelists make jokes and parody newsworthy (and not-so-newsworthy) current events. Listening to \"Wait wait\" has been a highlight of my week since I was a kid, and it remains one of NPR's most popular segments. So what better way to show my appreciation than to take it apart and see what makes it tick?\n",
    "\n",
    "For this project, I have pulled text transcripts of each episode of \"Wait, Wait\", storing them as a MySQL library. I have two goals:\n",
    "1. Understand and predict jokes in the program.\n",
    "2. Create a \"Wait wait\" transcript generator, so that I don't have to wait a whole week between episodes!"
   ]
  },
  {
   "cell_type": "markdown",
   "metadata": {},
   "source": [
    "# Table of contents\n",
    "\n",
    "1. [Loading the data](#data-loading)\n",
    "2. [Line Statistics Predictions](#line-stats)\n",
    "3. [Word Content Predictions](#words)\n",
    "4. [Combined Predictions](#combo)\n",
    "5. [Recurrent Neural Network Predictions](#GRU)\n",
    "    1. [Data preparation](#rnn-prep)\n",
    "    2. [Synonyms data augmentation](#rnn-syn)\n",
    "    3. [Model Generation](#rnn-model)\n",
    "    4. [Model Training](#rnn-train)\n",
    "    5. [Model Optimization](#rnn-optimize)\n",
    "    6. [Attention](#rnn-attention)\n",
    "    "
   ]
  },
  {
   "cell_type": "markdown",
   "metadata": {},
   "source": [
    "# Section 0: Loading the data <a name=\"data-loading\"></a>"
   ]
  },
  {
   "cell_type": "markdown",
   "metadata": {},
   "source": [
    "Before I can analyze the data, I must first load it and process it. To accomplish this, I wrote a simple set of  functions to load in text files containing the transcripts, figure out who the speakers are, and separate the text blocks into a list of words.\n",
    "\n",
    "For full discussion of these functions, take a look at my previous Jupyter notebook, \"WWDA Analyzing text.ipynb\"."
   ]
  },
  {
   "cell_type": "code",
   "execution_count": 1,
   "metadata": {},
   "outputs": [
    {
     "name": "stderr",
     "output_type": "stream",
     "text": [
      "Using TensorFlow backend.\n"
     ]
    }
   ],
   "source": [
    "import pandas as pd\n",
    "import numpy as np\n",
    "import os\n",
    "import matplotlib.pyplot as plt\n",
    "import keras\n",
    "import mysql.connector\n",
    "import re\n",
    "from sklearn.preprocessing import QuantileTransformer\n",
    "import time\n",
    "import matplotlib.cm as cm\n",
    "\n",
    "%matplotlib inline\n",
    "\n",
    "# change the default font size in figures to be larger\n",
    "font = {'size'   : 15}\n",
    "\n",
    "plt.rc('font', **font)"
   ]
  },
  {
   "cell_type": "code",
   "execution_count": 2,
   "metadata": {},
   "outputs": [],
   "source": [
    "# connect to the database of wait wait don't tell me transcripts\n",
    "cnx = mysql.connector.connect(database='wait_wait',\n",
    "                              user='root')"
   ]
  },
  {
   "cell_type": "code",
   "execution_count": 3,
   "metadata": {},
   "outputs": [],
   "source": [
    "# function to pull some transcripts from the database\n",
    "def pull_transcript(n=5):\n",
    "    # instantiate a cursor to select data from the database\n",
    "    curs = cnx.cursor()\n",
    "    curs.execute(f'select * from transcripts limit {n}')\n",
    "    \n",
    "    # pull the data and convert to a pandas dataframe\n",
    "    df = pd.DataFrame(data = np.array(curs.fetchmany(n)),columns=curs.column_names)\n",
    "    df = df.set_index('id')\n",
    "    \n",
    "    # close the cursor\n",
    "    curs.close()\n",
    "    return df"
   ]
  },
  {
   "cell_type": "code",
   "execution_count": 4,
   "metadata": {},
   "outputs": [],
   "source": [
    "num_transcripts = 4131\n",
    "transcript_df = pull_transcript(n=num_transcripts)"
   ]
  },
  {
   "cell_type": "code",
   "execution_count": 5,
   "metadata": {},
   "outputs": [],
   "source": [
    "# We want to go ahead and split the entries into testing, training, and validation sets,\n",
    "# so that we don't over-fit.\n",
    "np.random.seed(42)\n",
    "transcript_df['train'] = np.random.rand(num_transcripts)>.2\n",
    "transcript_df['val'] = (transcript_df['train']*np.random.rand(num_transcripts))>.8\n",
    "transcript_df['train'] = transcript_df['train'] & ~transcript_df['val']"
   ]
  },
  {
   "cell_type": "code",
   "execution_count": 6,
   "metadata": {},
   "outputs": [],
   "source": [
    "# Support function that pulls lines from the transcript and labels them by segment and air date\n",
    "# Note: I feel I should be able to eliminate the for loop, as this can be somewhat\n",
    "# time-consuming, but it gets the job done for now.\n",
    "def extract_lines(transcript_numbers):\n",
    "    \n",
    "    # initialize list\n",
    "    df_list = []\n",
    "    \n",
    "    # separate the lines\n",
    "    lines = transcript_df['transcript'].str.split('\\n    ')\n",
    "    \n",
    "    # make each line into a row in a dataframe, labeled by transcript number\n",
    "    for df_idx,line_idx in enumerate(transcript_numbers):\n",
    "        df_list.append(pd.DataFrame(lines[line_idx],columns=['lines']))\n",
    "        df_list[df_idx].loc[:,'line_num'] = df_list[df_idx].index\n",
    "        df_list[df_idx].loc[:,'transcript_id'] = line_idx\n",
    "    \n",
    "    # join the lines from all transcripts, and add info from the transcript dataframe\n",
    "    lines_df = pd.concat(df_list)\n",
    "    lines_df = lines_df.merge(transcript_df.loc[:,['aired_at','segment','train','val']],\n",
    "                              left_on='transcript_id',right_on='id',copy=False)\n",
    "    lines_df.set_index(['transcript_id','line_num'],inplace=True)\n",
    "    \n",
    "    return lines_df"
   ]
  },
  {
   "cell_type": "code",
   "execution_count": 7,
   "metadata": {},
   "outputs": [],
   "source": [
    "def line_info(transcript_numbers):\n",
    "    \n",
    "    # extract the transcript, and divide it by lines\n",
    "    df = extract_lines(transcript_numbers) # turn the lines into a dataframe\n",
    "    \n",
    "    # if the line contains \"LAUGHTER\", mark the previous line as \"funny\"\n",
    "    df['funny'] = df['lines'].str.contains('LAUGHTER')\n",
    "    df['funny'] = df.funny.shift(-1) # need funny to modify the previous line\n",
    "    \n",
    "    # if the line contains \"APPLAUSE\", mark the previous line as \"clapping\"\n",
    "    df['clapping'] = df['lines'].str.contains('APPLAUSE')\n",
    "    df['clapping'] = df['lines'].str.contains('CLAPPING')\n",
    "    df['clapping'] = df['lines'].str.contains('CHEERING')\n",
    "    df['clapping'] = df.clapping.shift(-1)\n",
    "\n",
    "    # for the remaining lines, identify the speaker using regular expressions\n",
    "    df['speaker'] = df['lines'].str.extract(r'([A-Z]+:)',expand=False).str.replace(r':','')\n",
    "    df['lines'] = df['lines'].str.replace(r'.+?(?=:)','').str.replace(r':','')\n",
    "    df['speaker'] = df['speaker'].str.replace('JR','BLOUNT') # disambiguating Roy Blount Jr\n",
    "    df['speaker'] = df['speaker'].str.replace('HOST','SAGAL') # sometimes refers to Sagal as host\n",
    "    \n",
    "    # drop the lines with no speaker (Applause markers, empty lines, etc.)\n",
    "    df = df.dropna()\n",
    "    \n",
    "    # Create a column with the number of separated words\n",
    "    df['num_words'] = df.lines.str.split().str.len()\n",
    "    \n",
    "    # Normalize the number of words with a quantile transformer\n",
    "    QT = QuantileTransformer(n_quantiles=1000,output_distribution='uniform')\n",
    "    QT.fit(df.num_words.values.reshape(-1,1)) \n",
    "    df['uniform_words'] = QT.transform(df.num_words.values.reshape(-1,1))\n",
    "    \n",
    "    # Create a column with whether the previous line was funny (for predictions)\n",
    "    df['prev_line_funny'] = df.funny.shift(1)\n",
    "\n",
    "    return df"
   ]
  },
  {
   "cell_type": "code",
   "execution_count": 8,
   "metadata": {},
   "outputs": [
    {
     "data": {
      "text/html": [
       "<div>\n",
       "<style scoped>\n",
       "    .dataframe tbody tr th:only-of-type {\n",
       "        vertical-align: middle;\n",
       "    }\n",
       "\n",
       "    .dataframe tbody tr th {\n",
       "        vertical-align: top;\n",
       "    }\n",
       "\n",
       "    .dataframe thead th {\n",
       "        text-align: right;\n",
       "    }\n",
       "</style>\n",
       "<table border=\"1\" class=\"dataframe\">\n",
       "  <thead>\n",
       "    <tr style=\"text-align: right;\">\n",
       "      <th></th>\n",
       "      <th></th>\n",
       "      <th>lines</th>\n",
       "      <th>aired_at</th>\n",
       "      <th>segment</th>\n",
       "      <th>train</th>\n",
       "      <th>val</th>\n",
       "      <th>funny</th>\n",
       "      <th>clapping</th>\n",
       "      <th>speaker</th>\n",
       "      <th>num_words</th>\n",
       "      <th>uniform_words</th>\n",
       "      <th>prev_line_funny</th>\n",
       "    </tr>\n",
       "    <tr>\n",
       "      <th>transcript_id</th>\n",
       "      <th>line_num</th>\n",
       "      <th></th>\n",
       "      <th></th>\n",
       "      <th></th>\n",
       "      <th></th>\n",
       "      <th></th>\n",
       "      <th></th>\n",
       "      <th></th>\n",
       "      <th></th>\n",
       "      <th></th>\n",
       "      <th></th>\n",
       "      <th></th>\n",
       "    </tr>\n",
       "  </thead>\n",
       "  <tbody>\n",
       "    <tr>\n",
       "      <th rowspan=\"5\" valign=\"top\">1</th>\n",
       "      <th>4</th>\n",
       "      <td>From NPR and WBEZ Chicago, this is WAIT WAIT....</td>\n",
       "      <td>2019-05-04</td>\n",
       "      <td>who</td>\n",
       "      <td>True</td>\n",
       "      <td>False</td>\n",
       "      <td>True</td>\n",
       "      <td>False</td>\n",
       "      <td>KURTIS</td>\n",
       "      <td>25</td>\n",
       "      <td>0.837337</td>\n",
       "      <td>NaN</td>\n",
       "    </tr>\n",
       "    <tr>\n",
       "      <th>6</th>\n",
       "      <td>I'm Bill Kurtis. And here's your host at the ...</td>\n",
       "      <td>2019-05-04</td>\n",
       "      <td>who</td>\n",
       "      <td>True</td>\n",
       "      <td>False</td>\n",
       "      <td>False</td>\n",
       "      <td>False</td>\n",
       "      <td>KURTIS</td>\n",
       "      <td>17</td>\n",
       "      <td>0.737237</td>\n",
       "      <td>True</td>\n",
       "    </tr>\n",
       "    <tr>\n",
       "      <th>7</th>\n",
       "      <td></td>\n",
       "      <td>2019-05-04</td>\n",
       "      <td>who</td>\n",
       "      <td>True</td>\n",
       "      <td>False</td>\n",
       "      <td>False</td>\n",
       "      <td>False</td>\n",
       "      <td>SAGAL</td>\n",
       "      <td>0</td>\n",
       "      <td>0.000000</td>\n",
       "      <td>False</td>\n",
       "    </tr>\n",
       "    <tr>\n",
       "      <th>10</th>\n",
       "      <td>Thank you so much. We have a very interesting...</td>\n",
       "      <td>2019-05-04</td>\n",
       "      <td>who</td>\n",
       "      <td>True</td>\n",
       "      <td>False</td>\n",
       "      <td>True</td>\n",
       "      <td>False</td>\n",
       "      <td>SAGAL</td>\n",
       "      <td>56</td>\n",
       "      <td>0.964464</td>\n",
       "      <td>False</td>\n",
       "    </tr>\n",
       "    <tr>\n",
       "      <th>12</th>\n",
       "      <td>But first, as many of you know, the NPR podca...</td>\n",
       "      <td>2019-05-04</td>\n",
       "      <td>who</td>\n",
       "      <td>True</td>\n",
       "      <td>False</td>\n",
       "      <td>True</td>\n",
       "      <td>False</td>\n",
       "      <td>SAGAL</td>\n",
       "      <td>53</td>\n",
       "      <td>0.958959</td>\n",
       "      <td>True</td>\n",
       "    </tr>\n",
       "  </tbody>\n",
       "</table>\n",
       "</div>"
      ],
      "text/plain": [
       "                                                                    lines  \\\n",
       "transcript_id line_num                                                      \n",
       "1             4          From NPR and WBEZ Chicago, this is WAIT WAIT....   \n",
       "              6          I'm Bill Kurtis. And here's your host at the ...   \n",
       "              7                                                             \n",
       "              10         Thank you so much. We have a very interesting...   \n",
       "              12         But first, as many of you know, the NPR podca...   \n",
       "\n",
       "                          aired_at segment  train    val  funny clapping  \\\n",
       "transcript_id line_num                                                     \n",
       "1             4         2019-05-04     who   True  False   True    False   \n",
       "              6         2019-05-04     who   True  False  False    False   \n",
       "              7         2019-05-04     who   True  False  False    False   \n",
       "              10        2019-05-04     who   True  False   True    False   \n",
       "              12        2019-05-04     who   True  False   True    False   \n",
       "\n",
       "                       speaker  num_words  uniform_words prev_line_funny  \n",
       "transcript_id line_num                                                    \n",
       "1             4         KURTIS         25       0.837337             NaN  \n",
       "              6         KURTIS         17       0.737237            True  \n",
       "              7          SAGAL          0       0.000000           False  \n",
       "              10         SAGAL         56       0.964464           False  \n",
       "              12         SAGAL         53       0.958959            True  "
      ]
     },
     "execution_count": 8,
     "metadata": {},
     "output_type": "execute_result"
    }
   ],
   "source": [
    "# Process the training set and show the top of the dataframe\n",
    "lines_df = line_info(transcript_df.index)\n",
    "lines_df.head()"
   ]
  },
  {
   "cell_type": "markdown",
   "metadata": {},
   "source": [
    "## 1.1 Setting up the data\n",
    "Let's get everything into a really nice format for our classifiers."
   ]
  },
  {
   "cell_type": "code",
   "execution_count": 9,
   "metadata": {},
   "outputs": [],
   "source": [
    "# Add in the one-hot encoding for speakers\n",
    "# Convert speaker to categorical\n",
    "speaker_list = ['BABYLON','BLOUNT','BODDEN','BODETT','BURBANK','BURKE','CONNOR','DICKINSON','FARSAD',\n",
    "               'FELBER','FERO','GOLDTHWAIT','GROSZ','HONG','JOBRANI','KLEIN','PIERCE','POUNDSTONE','ROBERTS',\n",
    "               'ROCCA','ROURKE','SALIE','SAGAL','KURTIS','KASELL'] # As found in my previous notebook WWDA Analyzing text\n",
    "\n",
    "lines_df = pd.concat([lines_df,pd.get_dummies(lines_df.speaker).loc[:,speaker_list]],axis=1)"
   ]
  },
  {
   "cell_type": "code",
   "execution_count": 10,
   "metadata": {},
   "outputs": [],
   "source": [
    "# Add in the one-hot encoding for speakers\n",
    "segment_list = lines_df.segment.unique()\n",
    "lines_df = pd.concat([lines_df,pd.get_dummies(lines_df.segment).loc[:,segment_list]],axis=1)"
   ]
  },
  {
   "cell_type": "code",
   "execution_count": 22,
   "metadata": {},
   "outputs": [],
   "source": [
    "# Remove lines with no previous line value\n",
    "lines_df = lines_df.dropna(subset=['prev_line_funny'])\n",
    "\n",
    "# remove lines with less than five words\n",
    "lines_df = lines_df[lines_df.num_words>=5]"
   ]
  },
  {
   "cell_type": "code",
   "execution_count": 23,
   "metadata": {},
   "outputs": [
    {
     "data": {
      "text/html": [
       "<div>\n",
       "<style scoped>\n",
       "    .dataframe tbody tr th:only-of-type {\n",
       "        vertical-align: middle;\n",
       "    }\n",
       "\n",
       "    .dataframe tbody tr th {\n",
       "        vertical-align: top;\n",
       "    }\n",
       "\n",
       "    .dataframe thead th {\n",
       "        text-align: right;\n",
       "    }\n",
       "</style>\n",
       "<table border=\"1\" class=\"dataframe\">\n",
       "  <thead>\n",
       "    <tr style=\"text-align: right;\">\n",
       "      <th></th>\n",
       "      <th></th>\n",
       "      <th>val</th>\n",
       "      <th>uniform_words</th>\n",
       "      <th>prev_line_funny</th>\n",
       "      <th>BABYLON</th>\n",
       "      <th>BLOUNT</th>\n",
       "      <th>BODDEN</th>\n",
       "      <th>BODETT</th>\n",
       "      <th>BURBANK</th>\n",
       "      <th>BURKE</th>\n",
       "      <th>CONNOR</th>\n",
       "      <th>...</th>\n",
       "      <th>SAGAL</th>\n",
       "      <th>KURTIS</th>\n",
       "      <th>KASELL</th>\n",
       "      <th>who</th>\n",
       "      <th>panel</th>\n",
       "      <th>bluff</th>\n",
       "      <th>job</th>\n",
       "      <th>limerick</th>\n",
       "      <th>lightning</th>\n",
       "      <th>predictions</th>\n",
       "    </tr>\n",
       "    <tr>\n",
       "      <th>transcript_id</th>\n",
       "      <th>line_num</th>\n",
       "      <th></th>\n",
       "      <th></th>\n",
       "      <th></th>\n",
       "      <th></th>\n",
       "      <th></th>\n",
       "      <th></th>\n",
       "      <th></th>\n",
       "      <th></th>\n",
       "      <th></th>\n",
       "      <th></th>\n",
       "      <th></th>\n",
       "      <th></th>\n",
       "      <th></th>\n",
       "      <th></th>\n",
       "      <th></th>\n",
       "      <th></th>\n",
       "      <th></th>\n",
       "      <th></th>\n",
       "      <th></th>\n",
       "      <th></th>\n",
       "      <th></th>\n",
       "    </tr>\n",
       "  </thead>\n",
       "  <tbody>\n",
       "    <tr>\n",
       "      <th rowspan=\"3\" valign=\"top\">4129</th>\n",
       "      <th>79</th>\n",
       "      <td>False</td>\n",
       "      <td>0.845345</td>\n",
       "      <td>False</td>\n",
       "      <td>0</td>\n",
       "      <td>0</td>\n",
       "      <td>0</td>\n",
       "      <td>0</td>\n",
       "      <td>0</td>\n",
       "      <td>0</td>\n",
       "      <td>0</td>\n",
       "      <td>...</td>\n",
       "      <td>1</td>\n",
       "      <td>0</td>\n",
       "      <td>0</td>\n",
       "      <td>0</td>\n",
       "      <td>0</td>\n",
       "      <td>0</td>\n",
       "      <td>0</td>\n",
       "      <td>1</td>\n",
       "      <td>0</td>\n",
       "      <td>0</td>\n",
       "    </tr>\n",
       "    <tr>\n",
       "      <th>82</th>\n",
       "      <td>False</td>\n",
       "      <td>0.663163</td>\n",
       "      <td>False</td>\n",
       "      <td>0</td>\n",
       "      <td>0</td>\n",
       "      <td>0</td>\n",
       "      <td>0</td>\n",
       "      <td>0</td>\n",
       "      <td>0</td>\n",
       "      <td>0</td>\n",
       "      <td>...</td>\n",
       "      <td>0</td>\n",
       "      <td>0</td>\n",
       "      <td>1</td>\n",
       "      <td>0</td>\n",
       "      <td>0</td>\n",
       "      <td>0</td>\n",
       "      <td>0</td>\n",
       "      <td>1</td>\n",
       "      <td>0</td>\n",
       "      <td>0</td>\n",
       "    </tr>\n",
       "    <tr>\n",
       "      <th>83</th>\n",
       "      <td>False</td>\n",
       "      <td>0.492492</td>\n",
       "      <td>False</td>\n",
       "      <td>0</td>\n",
       "      <td>0</td>\n",
       "      <td>0</td>\n",
       "      <td>0</td>\n",
       "      <td>0</td>\n",
       "      <td>0</td>\n",
       "      <td>0</td>\n",
       "      <td>...</td>\n",
       "      <td>1</td>\n",
       "      <td>0</td>\n",
       "      <td>0</td>\n",
       "      <td>0</td>\n",
       "      <td>0</td>\n",
       "      <td>0</td>\n",
       "      <td>0</td>\n",
       "      <td>1</td>\n",
       "      <td>0</td>\n",
       "      <td>0</td>\n",
       "    </tr>\n",
       "    <tr>\n",
       "      <th rowspan=\"2\" valign=\"top\">4131</th>\n",
       "      <th>15</th>\n",
       "      <td>False</td>\n",
       "      <td>0.783283</td>\n",
       "      <td>False</td>\n",
       "      <td>0</td>\n",
       "      <td>0</td>\n",
       "      <td>0</td>\n",
       "      <td>0</td>\n",
       "      <td>0</td>\n",
       "      <td>0</td>\n",
       "      <td>0</td>\n",
       "      <td>...</td>\n",
       "      <td>0</td>\n",
       "      <td>0</td>\n",
       "      <td>0</td>\n",
       "      <td>0</td>\n",
       "      <td>0</td>\n",
       "      <td>0</td>\n",
       "      <td>0</td>\n",
       "      <td>0</td>\n",
       "      <td>0</td>\n",
       "      <td>1</td>\n",
       "    </tr>\n",
       "    <tr>\n",
       "      <th>20</th>\n",
       "      <td>False</td>\n",
       "      <td>0.875876</td>\n",
       "      <td>False</td>\n",
       "      <td>0</td>\n",
       "      <td>0</td>\n",
       "      <td>0</td>\n",
       "      <td>0</td>\n",
       "      <td>0</td>\n",
       "      <td>0</td>\n",
       "      <td>0</td>\n",
       "      <td>...</td>\n",
       "      <td>1</td>\n",
       "      <td>0</td>\n",
       "      <td>0</td>\n",
       "      <td>0</td>\n",
       "      <td>0</td>\n",
       "      <td>0</td>\n",
       "      <td>0</td>\n",
       "      <td>0</td>\n",
       "      <td>0</td>\n",
       "      <td>1</td>\n",
       "    </tr>\n",
       "  </tbody>\n",
       "</table>\n",
       "<p>5 rows × 35 columns</p>\n",
       "</div>"
      ],
      "text/plain": [
       "                          val  uniform_words prev_line_funny  BABYLON  BLOUNT  \\\n",
       "transcript_id line_num                                                          \n",
       "4129          79        False       0.845345           False        0       0   \n",
       "              82        False       0.663163           False        0       0   \n",
       "              83        False       0.492492           False        0       0   \n",
       "4131          15        False       0.783283           False        0       0   \n",
       "              20        False       0.875876           False        0       0   \n",
       "\n",
       "                        BODDEN  BODETT  BURBANK  BURKE  CONNOR     ...       \\\n",
       "transcript_id line_num                                             ...        \n",
       "4129          79             0       0        0      0       0     ...        \n",
       "              82             0       0        0      0       0     ...        \n",
       "              83             0       0        0      0       0     ...        \n",
       "4131          15             0       0        0      0       0     ...        \n",
       "              20             0       0        0      0       0     ...        \n",
       "\n",
       "                        SAGAL  KURTIS  KASELL  who  panel  bluff  job  \\\n",
       "transcript_id line_num                                                  \n",
       "4129          79            1       0       0    0      0      0    0   \n",
       "              82            0       0       1    0      0      0    0   \n",
       "              83            1       0       0    0      0      0    0   \n",
       "4131          15            0       0       0    0      0      0    0   \n",
       "              20            1       0       0    0      0      0    0   \n",
       "\n",
       "                        limerick  lightning  predictions  \n",
       "transcript_id line_num                                    \n",
       "4129          79               1          0            0  \n",
       "              82               1          0            0  \n",
       "              83               1          0            0  \n",
       "4131          15               0          0            1  \n",
       "              20               0          0            1  \n",
       "\n",
       "[5 rows x 35 columns]"
      ]
     },
     "execution_count": 23,
     "metadata": {},
     "output_type": "execute_result"
    }
   ],
   "source": [
    "target = lines_df.loc[lines_df.train,'funny'].astype(int)\n",
    "line_stats = lines_df.loc[lines_df.train,:].drop(['lines','segment', 'funny', 'clapping', 'speaker', 'num_words','aired_at','train'],axis=1)\n",
    "line_stats.tail()"
   ]
  },
  {
   "cell_type": "markdown",
   "metadata": {},
   "source": [
    "# 1.0 Predicting humor based on line statistics  <a name=\"line-stats\"></a>"
   ]
  },
  {
   "cell_type": "markdown",
   "metadata": {},
   "source": [
    "For a simple attempt at predicting humor, I can assess whether we can predict the funniness of a line based only on line statistics. For the statistics, I'm using the following:\n",
    "1. Length of line (shifted to have a uniform distribution)\n",
    "2. Speaker identity (As a one-hot encoding)\n",
    "3. Was the previous line funny? (funny lines may \"cluter\")"
   ]
  },
  {
   "cell_type": "markdown",
   "metadata": {},
   "source": [
    "## 1.2 Non-optimized classifier performance"
   ]
  },
  {
   "cell_type": "markdown",
   "metadata": {},
   "source": [
    "I'll compare the performance of three types of classifiers: \n",
    "1. Logistic regression\n",
    "2. Naive bayes\n",
    "3. Decision trees\n",
    "\n",
    "To determine model performance, I will classify the **log loss**. Measuring model performance based on accuracy can be non-optimal. For example, if the model had the right output but was close to guessing the wrong output, then we would want that outcome to perform worse than if the model had the correct output and was very confident in that guess. Log loss takes into account model certainty as well as accuracy (it operates on the model's predicted probability, and can therefore provide a more nuanced view of model performance.\n",
    "\n",
    "A support vector machine is also likely to be a good model. However, it doesn't calculate probabilities natively, so I will exclude it for now, and perhaps later compare it to my other models."
   ]
  },
  {
   "cell_type": "code",
   "execution_count": 24,
   "metadata": {},
   "outputs": [],
   "source": [
    "# Importing model-generating functions\n",
    "from sklearn.linear_model import LogisticRegression\n",
    "from sklearn.naive_bayes import MultinomialNB,GaussianNB,ComplementNB,BernoulliNB\n",
    "from sklearn.ensemble import RandomForestClassifier,ExtraTreesClassifier,GradientBoostingClassifier\n",
    "from sklearn.svm import SVC\n",
    "\n",
    "# Importing model evaluation functions\n",
    "from sklearn.feature_selection import SelectKBest,f_classif\n",
    "from sklearn.decomposition import PCA,TruncatedSVD\n",
    "from sklearn.feature_extraction.text import CountVectorizer,TfidfTransformer\n",
    "from sklearn.model_selection import cross_val_score, RandomizedSearchCV,GridSearchCV,cross_validate\n",
    "from sklearn.preprocessing import StandardScaler,OneHotEncoder\n",
    "from sklearn.metrics import log_loss, make_scorer\n",
    "from sklearn.pipeline import Pipeline\n",
    "from scipy.stats import randint,uniform"
   ]
  },
  {
   "cell_type": "markdown",
   "metadata": {},
   "source": [
    "First, it is helpful to determine the performance based on a \"just guess the mean\" strategy. This will tell us whether we are actually getting anything useful out of our models."
   ]
  },
  {
   "cell_type": "code",
   "execution_count": 25,
   "metadata": {},
   "outputs": [
    {
     "name": "stdout",
     "output_type": "stream",
     "text": [
      "Loss for mean guessing is 0.575285541754947\n",
      "Accuracy for mean guessing is 0.7378579397545556\n"
     ]
    }
   ],
   "source": [
    "# Naive mean-guessing performance\n",
    "naive_loss = log_loss(target,target.mean()*np.ones(target.size))\n",
    "print(f'Loss for mean guessing is {naive_loss}')\n",
    "print(f'Accuracy for mean guessing is {1-target.mean()}')"
   ]
  },
  {
   "cell_type": "markdown",
   "metadata": {},
   "source": [
    "For my first \"simple\" classifier, I am using logistic regression. This is a very simple model, which assigns weights and biases to each input variable, and then adds the results together. The final number is then fed through a sigmoid function, to constrain the results between zero and one. It is a classifier generalization of linear regression, and can find simple (linear) relationships between the input variables and the output."
   ]
  },
  {
   "cell_type": "code",
   "execution_count": 26,
   "metadata": {},
   "outputs": [
    {
     "name": "stdout",
     "output_type": "stream",
     "text": [
      "Cross-validated loss for logistic regression is 0.5340796472525876\n"
     ]
    }
   ],
   "source": [
    "### logistic regression\n",
    "lr = LogisticRegression(solver='lbfgs',max_iter=200)\n",
    "scores_lr=cross_validate(lr,\n",
    "                       line_stats,\n",
    "                       target,\n",
    "                       scoring=make_scorer(log_loss,needs_proba=True,greater_is_better=False),\n",
    "                       cv=10)\n",
    "print(f'Cross-validated loss for logistic regression is {-scores_lr[\"test_score\"].mean()}')"
   ]
  },
  {
   "cell_type": "markdown",
   "metadata": {},
   "source": [
    "For my next classifier, I will examine a Naive Bayes classifier. Bayesian inference is a technique which attempts to calculate the probability of each possible category (e.g. the **posterior** probability), given the inputs and its estimate of the typical probability for each category (e.g. the **prior** probability). So, for example, in this case we have approximately four times as many \"not funny\" lines as \"funny\" lines, so the model would need more evidence in order to make a judgement that a line is funny than it would need to make a judgement that a line is not funny. \n",
    "\n",
    "A Naive bayes classifier makes the further assumption that all of the input variables are **independent** of each other. This is not strictly true in this dataset. For example, the speakers are all negatively correlated - if one speaker has said a line, then another speaker cannot have said it. Regardless, we can examine how well the classifier works on our dataset before we move to more complicated models."
   ]
  },
  {
   "cell_type": "code",
   "execution_count": 27,
   "metadata": {},
   "outputs": [
    {
     "name": "stdout",
     "output_type": "stream",
     "text": [
      "Cross-validated loss for naive bayes is 0.5547678068822735\n"
     ]
    }
   ],
   "source": [
    "# naive bayes\n",
    "nb = MultinomialNB()\n",
    "scores_nb=cross_validate(nb,\n",
    "                       line_stats,\n",
    "                       target,\n",
    "                       scoring=make_scorer(log_loss,needs_proba=True,greater_is_better=False),\n",
    "                       cv=10)\n",
    "print(f'Cross-validated loss for naive bayes is {-scores_nb[\"test_score\"].mean()}')"
   ]
  },
  {
   "cell_type": "markdown",
   "metadata": {},
   "source": [
    "I will now examine two quite complex classifiers, based on **decision trees**. Decision trees take in the data, and then attempt to split it based on the input into two leaves. Each leaf is then split again (and again), until the data can be classified as well as possible. These models are good at capturing complex nonlinearities, but can also be prone to over-fitting, as they are highly complex with many parameters. \n",
    "\n",
    "One way of getting around these weaknesses is by using a **Random Forest**. A forest, as the name might suggest, is a combination of many trees. Each tree only sees a subset of the input data and a subset of the input parameters, and so will make a sub-optimal decision. But by averaging these biased decisions of all of the trees together, we can usually wind up with a more-accurate answer in the end, as the biases will cancel out on average. "
   ]
  },
  {
   "cell_type": "code",
   "execution_count": 28,
   "metadata": {},
   "outputs": [
    {
     "name": "stderr",
     "output_type": "stream",
     "text": [
      "/Users/coraames/git/BimanualModeling/py_36_env/lib/python3.6/site-packages/sklearn/ensemble/forest.py:245: FutureWarning: The default value of n_estimators will change from 10 in version 0.20 to 100 in 0.22.\n",
      "  \"10 in version 0.20 to 100 in 0.22.\", FutureWarning)\n",
      "/Users/coraames/git/BimanualModeling/py_36_env/lib/python3.6/site-packages/sklearn/ensemble/forest.py:245: FutureWarning: The default value of n_estimators will change from 10 in version 0.20 to 100 in 0.22.\n",
      "  \"10 in version 0.20 to 100 in 0.22.\", FutureWarning)\n",
      "/Users/coraames/git/BimanualModeling/py_36_env/lib/python3.6/site-packages/sklearn/ensemble/forest.py:245: FutureWarning: The default value of n_estimators will change from 10 in version 0.20 to 100 in 0.22.\n",
      "  \"10 in version 0.20 to 100 in 0.22.\", FutureWarning)\n"
     ]
    },
    {
     "name": "stdout",
     "output_type": "stream",
     "text": [
      "Cross-validated loss for random forest is 1.653541920549183\n"
     ]
    }
   ],
   "source": [
    "# Random forest\n",
    "rf = ExtraTreesClassifier()\n",
    "scores_rf=cross_validate(rf,\n",
    "                       line_stats,\n",
    "                       target,\n",
    "                       scoring=make_scorer(log_loss,needs_proba=True,greater_is_better=False),\n",
    "                       cv=3)\n",
    "print(f'Cross-validated loss for random forest is {-scores_rf[\"test_score\"].mean()}')"
   ]
  },
  {
   "cell_type": "markdown",
   "metadata": {},
   "source": [
    "A second method for improving deicision trees is called **Gradient boosted trees.** This is also an ensemble method, which trains multiple classifiers to improve performance. Unlike the Random Forest, however, Gradient Boosted Trees calculates a sequence of classifiers. Each one is trained to improve the output of the previous one (by looking at the prediction residuals), so it is specifically formulated to improve performance with the addition of each tree. Whereas Random Forests tend to benefit from large, deep trees, Gradient boosted tree classifiers tend to put together many small, shallow trees (e.g. not many splits of the data performed by any given tree). "
   ]
  },
  {
   "cell_type": "code",
   "execution_count": 29,
   "metadata": {},
   "outputs": [
    {
     "name": "stdout",
     "output_type": "stream",
     "text": [
      "Cross-validated loss for gradient boosted trees is 0.5153023754563527\n"
     ]
    }
   ],
   "source": [
    "# Gradient boosted trees\n",
    "xgb = GradientBoostingClassifier()\n",
    "scores_xgb=cross_validate(xgb,\n",
    "                       line_stats,\n",
    "                       target,\n",
    "                       scoring=make_scorer(log_loss,needs_proba=True,greater_is_better=False),\n",
    "                       return_estimator=True,\n",
    "                       cv=3)\n",
    "print(f'Cross-validated loss for gradient boosted trees is {-scores_xgb[\"test_score\"].mean()}')\n"
   ]
  },
  {
   "cell_type": "markdown",
   "metadata": {},
   "source": [
    "So, out-of-the-box performance is best for Gradient boosted trees, followed by Logistic Regression (keep in mind that small loss = better). The Random Forest performs worse than a mean-guessing strategy, while the naive bayes model performs only ever so slightly better.\n",
    "\n",
    "What we would really want to do, of course, is to perform a **parameter sweep** to select the best parameters for each model. Fortunately, scikit-learn has ways of doing exactly that. So let's try a parameter sweep now, and see how our \"best\" model that we can find for each model type performs."
   ]
  },
  {
   "cell_type": "markdown",
   "metadata": {},
   "source": [
    "## 1.3 Parameter optimization via random search\n",
    "\n",
    "To optimize parameters for each function, we have a couple of options: Grid Search or Random Search. Both search methods build multiple models with different parameters. \n",
    "\n",
    "**Grid Search** exhaustively checks every combination of parameters you specify. For example, if you have three parameters, each of which could take three values, then there are 3^3, or 27 different possible combinations to check.\n",
    "\n",
    "**Random Search** instead builds many models, each time selecting a random value for the parameters. While this might initially seem less useful than grid search, it has a few advantages that I like. It can check more values for each parameter. Parameters that have more influence will wind up affecting the output more, and less time will be wasted exhaustively checking the parameters which wind up being unimportant. \n",
    "\n",
    "For a nice discussion of Random Search versus Grid Search, see this paper: [Bergstra & Bengio, 2012](http://jmlr.csail.mit.edu/papers/volume13/bergstra12a/bergstra12a.pdf)."
   ]
  },
  {
   "cell_type": "markdown",
   "metadata": {},
   "source": [
    "### 1.3.1 Preparing Summary Function\n",
    "\n",
    "First, I build a function that will show the results of my optimization, so that I can examine how important each parameter is, and compare model performance."
   ]
  },
  {
   "cell_type": "code",
   "execution_count": 30,
   "metadata": {},
   "outputs": [],
   "source": [
    "# This is a function which shows how model performance changes with each parameter individually.\n",
    "# Note: it will not capture interactions between parameters, but will give a decent \"high level\" sense\n",
    "# of how much each parameter seems to matter to model performance on its own\n",
    "\n",
    "def Plot_results(random_search):\n",
    "    \n",
    "    print(f'Best performance was {-random_search.best_score_}')\n",
    "    for key in random_search.best_params_.keys():\n",
    "        print(f'Best model value for {key} = {random_search.best_params_[key]}')\n",
    "    \n",
    "    # Plot the results\n",
    "    random_search_results = pd.DataFrame(random_search.cv_results_)\n",
    "    params = random_search_results.loc[0,'params'].keys()\n",
    "    plt.figure(figsize=(5*len(params),10))\n",
    "    \n",
    "    for i,param in enumerate(params):\n",
    "        plt.subplot(2,len(params),i+1)\n",
    "        plt.axis('tight')\n",
    "        plt.scatter(random_search_results['param_' + param].apply(np.max),-random_search_results['mean_test_score'])\n",
    "        plt.xlabel(param)\n",
    "        plt.ylabel('log loss')\n",
    "        plt.axis('tight') # This is a repeat - for some reason axis is too zoomed out without both.\n",
    "        \n",
    "        plt.subplot(2,len(params),i+1+len(params))\n",
    "        x = random_search_results['param_' + param].apply(np.max) # Max deals with n-gram parameter, which is a tuple\n",
    "        y = random_search_results['mean_fit_time']\n",
    "        plt.scatter(x,y)\n",
    "        plt.xlabel(param)\n",
    "        plt.ylabel('run time')\n"
   ]
  },
  {
   "cell_type": "markdown",
   "metadata": {},
   "source": [
    "### 1.3.2 Optimizing Logistic Regression"
   ]
  },
  {
   "cell_type": "code",
   "execution_count": 31,
   "metadata": {
    "scrolled": true
   },
   "outputs": [
    {
     "name": "stderr",
     "output_type": "stream",
     "text": [
      "/Users/coraames/git/BimanualModeling/py_36_env/lib/python3.6/site-packages/sklearn/feature_selection/univariate_selection.py:114: UserWarning: Features [ 0 11] are constant.\n",
      "  UserWarning)\n",
      "/Users/coraames/git/BimanualModeling/py_36_env/lib/python3.6/site-packages/sklearn/feature_selection/univariate_selection.py:115: RuntimeWarning: invalid value encountered in true_divide\n",
      "  f = msb / msw\n",
      "/Users/coraames/git/BimanualModeling/py_36_env/lib/python3.6/site-packages/sklearn/feature_selection/univariate_selection.py:114: UserWarning: Features [ 0 13] are constant.\n",
      "  UserWarning)\n",
      "/Users/coraames/git/BimanualModeling/py_36_env/lib/python3.6/site-packages/sklearn/feature_selection/univariate_selection.py:115: RuntimeWarning: invalid value encountered in true_divide\n",
      "  f = msb / msw\n",
      "/Users/coraames/git/BimanualModeling/py_36_env/lib/python3.6/site-packages/sklearn/feature_selection/univariate_selection.py:114: UserWarning: Features [0] are constant.\n",
      "  UserWarning)\n",
      "/Users/coraames/git/BimanualModeling/py_36_env/lib/python3.6/site-packages/sklearn/feature_selection/univariate_selection.py:115: RuntimeWarning: invalid value encountered in true_divide\n",
      "  f = msb / msw\n",
      "/Users/coraames/git/BimanualModeling/py_36_env/lib/python3.6/site-packages/sklearn/feature_selection/univariate_selection.py:114: UserWarning: Features [ 0 11] are constant.\n",
      "  UserWarning)\n",
      "/Users/coraames/git/BimanualModeling/py_36_env/lib/python3.6/site-packages/sklearn/feature_selection/univariate_selection.py:115: RuntimeWarning: invalid value encountered in true_divide\n",
      "  f = msb / msw\n",
      "/Users/coraames/git/BimanualModeling/py_36_env/lib/python3.6/site-packages/sklearn/feature_selection/univariate_selection.py:114: UserWarning: Features [ 0 13] are constant.\n",
      "  UserWarning)\n",
      "/Users/coraames/git/BimanualModeling/py_36_env/lib/python3.6/site-packages/sklearn/feature_selection/univariate_selection.py:115: RuntimeWarning: invalid value encountered in true_divide\n",
      "  f = msb / msw\n",
      "/Users/coraames/git/BimanualModeling/py_36_env/lib/python3.6/site-packages/sklearn/feature_selection/univariate_selection.py:114: UserWarning: Features [0] are constant.\n",
      "  UserWarning)\n",
      "/Users/coraames/git/BimanualModeling/py_36_env/lib/python3.6/site-packages/sklearn/feature_selection/univariate_selection.py:115: RuntimeWarning: invalid value encountered in true_divide\n",
      "  f = msb / msw\n",
      "/Users/coraames/git/BimanualModeling/py_36_env/lib/python3.6/site-packages/sklearn/feature_selection/univariate_selection.py:114: UserWarning: Features [ 0 11] are constant.\n",
      "  UserWarning)\n",
      "/Users/coraames/git/BimanualModeling/py_36_env/lib/python3.6/site-packages/sklearn/feature_selection/univariate_selection.py:115: RuntimeWarning: invalid value encountered in true_divide\n",
      "  f = msb / msw\n",
      "/Users/coraames/git/BimanualModeling/py_36_env/lib/python3.6/site-packages/sklearn/feature_selection/univariate_selection.py:114: UserWarning: Features [ 0 13] are constant.\n",
      "  UserWarning)\n",
      "/Users/coraames/git/BimanualModeling/py_36_env/lib/python3.6/site-packages/sklearn/feature_selection/univariate_selection.py:115: RuntimeWarning: invalid value encountered in true_divide\n",
      "  f = msb / msw\n",
      "/Users/coraames/git/BimanualModeling/py_36_env/lib/python3.6/site-packages/sklearn/feature_selection/univariate_selection.py:114: UserWarning: Features [0] are constant.\n",
      "  UserWarning)\n",
      "/Users/coraames/git/BimanualModeling/py_36_env/lib/python3.6/site-packages/sklearn/feature_selection/univariate_selection.py:115: RuntimeWarning: invalid value encountered in true_divide\n",
      "  f = msb / msw\n",
      "/Users/coraames/git/BimanualModeling/py_36_env/lib/python3.6/site-packages/sklearn/feature_selection/univariate_selection.py:114: UserWarning: Features [ 0 11] are constant.\n",
      "  UserWarning)\n",
      "/Users/coraames/git/BimanualModeling/py_36_env/lib/python3.6/site-packages/sklearn/feature_selection/univariate_selection.py:115: RuntimeWarning: invalid value encountered in true_divide\n",
      "  f = msb / msw\n",
      "/Users/coraames/git/BimanualModeling/py_36_env/lib/python3.6/site-packages/sklearn/feature_selection/univariate_selection.py:114: UserWarning: Features [ 0 13] are constant.\n",
      "  UserWarning)\n",
      "/Users/coraames/git/BimanualModeling/py_36_env/lib/python3.6/site-packages/sklearn/feature_selection/univariate_selection.py:115: RuntimeWarning: invalid value encountered in true_divide\n",
      "  f = msb / msw\n",
      "/Users/coraames/git/BimanualModeling/py_36_env/lib/python3.6/site-packages/sklearn/feature_selection/univariate_selection.py:114: UserWarning: Features [0] are constant.\n",
      "  UserWarning)\n",
      "/Users/coraames/git/BimanualModeling/py_36_env/lib/python3.6/site-packages/sklearn/feature_selection/univariate_selection.py:115: RuntimeWarning: invalid value encountered in true_divide\n",
      "  f = msb / msw\n",
      "/Users/coraames/git/BimanualModeling/py_36_env/lib/python3.6/site-packages/sklearn/feature_selection/univariate_selection.py:114: UserWarning: Features [ 0 11] are constant.\n",
      "  UserWarning)\n",
      "/Users/coraames/git/BimanualModeling/py_36_env/lib/python3.6/site-packages/sklearn/feature_selection/univariate_selection.py:115: RuntimeWarning: invalid value encountered in true_divide\n",
      "  f = msb / msw\n",
      "/Users/coraames/git/BimanualModeling/py_36_env/lib/python3.6/site-packages/sklearn/feature_selection/univariate_selection.py:114: UserWarning: Features [ 0 13] are constant.\n",
      "  UserWarning)\n",
      "/Users/coraames/git/BimanualModeling/py_36_env/lib/python3.6/site-packages/sklearn/feature_selection/univariate_selection.py:115: RuntimeWarning: invalid value encountered in true_divide\n",
      "  f = msb / msw\n",
      "/Users/coraames/git/BimanualModeling/py_36_env/lib/python3.6/site-packages/sklearn/feature_selection/univariate_selection.py:114: UserWarning: Features [0] are constant.\n",
      "  UserWarning)\n",
      "/Users/coraames/git/BimanualModeling/py_36_env/lib/python3.6/site-packages/sklearn/feature_selection/univariate_selection.py:115: RuntimeWarning: invalid value encountered in true_divide\n",
      "  f = msb / msw\n",
      "/Users/coraames/git/BimanualModeling/py_36_env/lib/python3.6/site-packages/sklearn/feature_selection/univariate_selection.py:114: UserWarning: Features [ 0 11] are constant.\n",
      "  UserWarning)\n",
      "/Users/coraames/git/BimanualModeling/py_36_env/lib/python3.6/site-packages/sklearn/feature_selection/univariate_selection.py:115: RuntimeWarning: invalid value encountered in true_divide\n",
      "  f = msb / msw\n",
      "/Users/coraames/git/BimanualModeling/py_36_env/lib/python3.6/site-packages/sklearn/feature_selection/univariate_selection.py:114: UserWarning: Features [ 0 13] are constant.\n",
      "  UserWarning)\n",
      "/Users/coraames/git/BimanualModeling/py_36_env/lib/python3.6/site-packages/sklearn/feature_selection/univariate_selection.py:115: RuntimeWarning: invalid value encountered in true_divide\n",
      "  f = msb / msw\n",
      "/Users/coraames/git/BimanualModeling/py_36_env/lib/python3.6/site-packages/sklearn/feature_selection/univariate_selection.py:114: UserWarning: Features [0] are constant.\n",
      "  UserWarning)\n",
      "/Users/coraames/git/BimanualModeling/py_36_env/lib/python3.6/site-packages/sklearn/feature_selection/univariate_selection.py:115: RuntimeWarning: invalid value encountered in true_divide\n",
      "  f = msb / msw\n",
      "/Users/coraames/git/BimanualModeling/py_36_env/lib/python3.6/site-packages/sklearn/feature_selection/univariate_selection.py:114: UserWarning: Features [ 0 11] are constant.\n",
      "  UserWarning)\n",
      "/Users/coraames/git/BimanualModeling/py_36_env/lib/python3.6/site-packages/sklearn/feature_selection/univariate_selection.py:115: RuntimeWarning: invalid value encountered in true_divide\n",
      "  f = msb / msw\n",
      "/Users/coraames/git/BimanualModeling/py_36_env/lib/python3.6/site-packages/sklearn/feature_selection/univariate_selection.py:114: UserWarning: Features [ 0 13] are constant.\n",
      "  UserWarning)\n",
      "/Users/coraames/git/BimanualModeling/py_36_env/lib/python3.6/site-packages/sklearn/feature_selection/univariate_selection.py:115: RuntimeWarning: invalid value encountered in true_divide\n",
      "  f = msb / msw\n",
      "/Users/coraames/git/BimanualModeling/py_36_env/lib/python3.6/site-packages/sklearn/feature_selection/univariate_selection.py:114: UserWarning: Features [0] are constant.\n",
      "  UserWarning)\n",
      "/Users/coraames/git/BimanualModeling/py_36_env/lib/python3.6/site-packages/sklearn/feature_selection/univariate_selection.py:115: RuntimeWarning: invalid value encountered in true_divide\n",
      "  f = msb / msw\n",
      "/Users/coraames/git/BimanualModeling/py_36_env/lib/python3.6/site-packages/sklearn/feature_selection/univariate_selection.py:114: UserWarning: Features [ 0 11] are constant.\n",
      "  UserWarning)\n",
      "/Users/coraames/git/BimanualModeling/py_36_env/lib/python3.6/site-packages/sklearn/feature_selection/univariate_selection.py:115: RuntimeWarning: invalid value encountered in true_divide\n",
      "  f = msb / msw\n"
     ]
    },
    {
     "name": "stderr",
     "output_type": "stream",
     "text": [
      "/Users/coraames/git/BimanualModeling/py_36_env/lib/python3.6/site-packages/sklearn/feature_selection/univariate_selection.py:114: UserWarning: Features [ 0 13] are constant.\n",
      "  UserWarning)\n",
      "/Users/coraames/git/BimanualModeling/py_36_env/lib/python3.6/site-packages/sklearn/feature_selection/univariate_selection.py:115: RuntimeWarning: invalid value encountered in true_divide\n",
      "  f = msb / msw\n",
      "/Users/coraames/git/BimanualModeling/py_36_env/lib/python3.6/site-packages/sklearn/feature_selection/univariate_selection.py:114: UserWarning: Features [0] are constant.\n",
      "  UserWarning)\n",
      "/Users/coraames/git/BimanualModeling/py_36_env/lib/python3.6/site-packages/sklearn/feature_selection/univariate_selection.py:115: RuntimeWarning: invalid value encountered in true_divide\n",
      "  f = msb / msw\n",
      "/Users/coraames/git/BimanualModeling/py_36_env/lib/python3.6/site-packages/sklearn/feature_selection/univariate_selection.py:114: UserWarning: Features [ 0 11] are constant.\n",
      "  UserWarning)\n",
      "/Users/coraames/git/BimanualModeling/py_36_env/lib/python3.6/site-packages/sklearn/feature_selection/univariate_selection.py:115: RuntimeWarning: invalid value encountered in true_divide\n",
      "  f = msb / msw\n",
      "/Users/coraames/git/BimanualModeling/py_36_env/lib/python3.6/site-packages/sklearn/feature_selection/univariate_selection.py:114: UserWarning: Features [ 0 13] are constant.\n",
      "  UserWarning)\n",
      "/Users/coraames/git/BimanualModeling/py_36_env/lib/python3.6/site-packages/sklearn/feature_selection/univariate_selection.py:115: RuntimeWarning: invalid value encountered in true_divide\n",
      "  f = msb / msw\n",
      "/Users/coraames/git/BimanualModeling/py_36_env/lib/python3.6/site-packages/sklearn/feature_selection/univariate_selection.py:114: UserWarning: Features [0] are constant.\n",
      "  UserWarning)\n",
      "/Users/coraames/git/BimanualModeling/py_36_env/lib/python3.6/site-packages/sklearn/feature_selection/univariate_selection.py:115: RuntimeWarning: invalid value encountered in true_divide\n",
      "  f = msb / msw\n",
      "/Users/coraames/git/BimanualModeling/py_36_env/lib/python3.6/site-packages/sklearn/feature_selection/univariate_selection.py:114: UserWarning: Features [ 0 11] are constant.\n",
      "  UserWarning)\n",
      "/Users/coraames/git/BimanualModeling/py_36_env/lib/python3.6/site-packages/sklearn/feature_selection/univariate_selection.py:115: RuntimeWarning: invalid value encountered in true_divide\n",
      "  f = msb / msw\n",
      "/Users/coraames/git/BimanualModeling/py_36_env/lib/python3.6/site-packages/sklearn/feature_selection/univariate_selection.py:114: UserWarning: Features [ 0 13] are constant.\n",
      "  UserWarning)\n",
      "/Users/coraames/git/BimanualModeling/py_36_env/lib/python3.6/site-packages/sklearn/feature_selection/univariate_selection.py:115: RuntimeWarning: invalid value encountered in true_divide\n",
      "  f = msb / msw\n",
      "/Users/coraames/git/BimanualModeling/py_36_env/lib/python3.6/site-packages/sklearn/feature_selection/univariate_selection.py:114: UserWarning: Features [0] are constant.\n",
      "  UserWarning)\n",
      "/Users/coraames/git/BimanualModeling/py_36_env/lib/python3.6/site-packages/sklearn/feature_selection/univariate_selection.py:115: RuntimeWarning: invalid value encountered in true_divide\n",
      "  f = msb / msw\n",
      "/Users/coraames/git/BimanualModeling/py_36_env/lib/python3.6/site-packages/sklearn/feature_selection/univariate_selection.py:114: UserWarning: Features [ 0 11] are constant.\n",
      "  UserWarning)\n",
      "/Users/coraames/git/BimanualModeling/py_36_env/lib/python3.6/site-packages/sklearn/feature_selection/univariate_selection.py:115: RuntimeWarning: invalid value encountered in true_divide\n",
      "  f = msb / msw\n",
      "/Users/coraames/git/BimanualModeling/py_36_env/lib/python3.6/site-packages/sklearn/feature_selection/univariate_selection.py:114: UserWarning: Features [ 0 13] are constant.\n",
      "  UserWarning)\n",
      "/Users/coraames/git/BimanualModeling/py_36_env/lib/python3.6/site-packages/sklearn/feature_selection/univariate_selection.py:115: RuntimeWarning: invalid value encountered in true_divide\n",
      "  f = msb / msw\n",
      "/Users/coraames/git/BimanualModeling/py_36_env/lib/python3.6/site-packages/sklearn/feature_selection/univariate_selection.py:114: UserWarning: Features [0] are constant.\n",
      "  UserWarning)\n",
      "/Users/coraames/git/BimanualModeling/py_36_env/lib/python3.6/site-packages/sklearn/feature_selection/univariate_selection.py:115: RuntimeWarning: invalid value encountered in true_divide\n",
      "  f = msb / msw\n",
      "/Users/coraames/git/BimanualModeling/py_36_env/lib/python3.6/site-packages/sklearn/feature_selection/univariate_selection.py:114: UserWarning: Features [ 0 11] are constant.\n",
      "  UserWarning)\n",
      "/Users/coraames/git/BimanualModeling/py_36_env/lib/python3.6/site-packages/sklearn/feature_selection/univariate_selection.py:115: RuntimeWarning: invalid value encountered in true_divide\n",
      "  f = msb / msw\n",
      "/Users/coraames/git/BimanualModeling/py_36_env/lib/python3.6/site-packages/sklearn/feature_selection/univariate_selection.py:114: UserWarning: Features [ 0 13] are constant.\n",
      "  UserWarning)\n",
      "/Users/coraames/git/BimanualModeling/py_36_env/lib/python3.6/site-packages/sklearn/feature_selection/univariate_selection.py:115: RuntimeWarning: invalid value encountered in true_divide\n",
      "  f = msb / msw\n",
      "/Users/coraames/git/BimanualModeling/py_36_env/lib/python3.6/site-packages/sklearn/feature_selection/univariate_selection.py:114: UserWarning: Features [0] are constant.\n",
      "  UserWarning)\n",
      "/Users/coraames/git/BimanualModeling/py_36_env/lib/python3.6/site-packages/sklearn/feature_selection/univariate_selection.py:115: RuntimeWarning: invalid value encountered in true_divide\n",
      "  f = msb / msw\n",
      "/Users/coraames/git/BimanualModeling/py_36_env/lib/python3.6/site-packages/sklearn/feature_selection/univariate_selection.py:114: UserWarning: Features [ 0 11] are constant.\n",
      "  UserWarning)\n",
      "/Users/coraames/git/BimanualModeling/py_36_env/lib/python3.6/site-packages/sklearn/feature_selection/univariate_selection.py:115: RuntimeWarning: invalid value encountered in true_divide\n",
      "  f = msb / msw\n",
      "/Users/coraames/git/BimanualModeling/py_36_env/lib/python3.6/site-packages/sklearn/feature_selection/univariate_selection.py:114: UserWarning: Features [ 0 13] are constant.\n",
      "  UserWarning)\n",
      "/Users/coraames/git/BimanualModeling/py_36_env/lib/python3.6/site-packages/sklearn/feature_selection/univariate_selection.py:115: RuntimeWarning: invalid value encountered in true_divide\n",
      "  f = msb / msw\n",
      "/Users/coraames/git/BimanualModeling/py_36_env/lib/python3.6/site-packages/sklearn/feature_selection/univariate_selection.py:114: UserWarning: Features [0] are constant.\n",
      "  UserWarning)\n",
      "/Users/coraames/git/BimanualModeling/py_36_env/lib/python3.6/site-packages/sklearn/feature_selection/univariate_selection.py:115: RuntimeWarning: invalid value encountered in true_divide\n",
      "  f = msb / msw\n",
      "/Users/coraames/git/BimanualModeling/py_36_env/lib/python3.6/site-packages/sklearn/feature_selection/univariate_selection.py:114: UserWarning: Features [ 0 11] are constant.\n",
      "  UserWarning)\n",
      "/Users/coraames/git/BimanualModeling/py_36_env/lib/python3.6/site-packages/sklearn/feature_selection/univariate_selection.py:115: RuntimeWarning: invalid value encountered in true_divide\n",
      "  f = msb / msw\n",
      "/Users/coraames/git/BimanualModeling/py_36_env/lib/python3.6/site-packages/sklearn/feature_selection/univariate_selection.py:114: UserWarning: Features [ 0 13] are constant.\n",
      "  UserWarning)\n",
      "/Users/coraames/git/BimanualModeling/py_36_env/lib/python3.6/site-packages/sklearn/feature_selection/univariate_selection.py:115: RuntimeWarning: invalid value encountered in true_divide\n",
      "  f = msb / msw\n",
      "/Users/coraames/git/BimanualModeling/py_36_env/lib/python3.6/site-packages/sklearn/feature_selection/univariate_selection.py:114: UserWarning: Features [0] are constant.\n",
      "  UserWarning)\n",
      "/Users/coraames/git/BimanualModeling/py_36_env/lib/python3.6/site-packages/sklearn/feature_selection/univariate_selection.py:115: RuntimeWarning: invalid value encountered in true_divide\n",
      "  f = msb / msw\n",
      "/Users/coraames/git/BimanualModeling/py_36_env/lib/python3.6/site-packages/sklearn/feature_selection/univariate_selection.py:114: UserWarning: Features [ 0 11] are constant.\n",
      "  UserWarning)\n",
      "/Users/coraames/git/BimanualModeling/py_36_env/lib/python3.6/site-packages/sklearn/feature_selection/univariate_selection.py:115: RuntimeWarning: invalid value encountered in true_divide\n",
      "  f = msb / msw\n"
     ]
    },
    {
     "name": "stderr",
     "output_type": "stream",
     "text": [
      "/Users/coraames/git/BimanualModeling/py_36_env/lib/python3.6/site-packages/sklearn/feature_selection/univariate_selection.py:114: UserWarning: Features [ 0 13] are constant.\n",
      "  UserWarning)\n",
      "/Users/coraames/git/BimanualModeling/py_36_env/lib/python3.6/site-packages/sklearn/feature_selection/univariate_selection.py:115: RuntimeWarning: invalid value encountered in true_divide\n",
      "  f = msb / msw\n",
      "/Users/coraames/git/BimanualModeling/py_36_env/lib/python3.6/site-packages/sklearn/feature_selection/univariate_selection.py:114: UserWarning: Features [0] are constant.\n",
      "  UserWarning)\n",
      "/Users/coraames/git/BimanualModeling/py_36_env/lib/python3.6/site-packages/sklearn/feature_selection/univariate_selection.py:115: RuntimeWarning: invalid value encountered in true_divide\n",
      "  f = msb / msw\n",
      "/Users/coraames/git/BimanualModeling/py_36_env/lib/python3.6/site-packages/sklearn/feature_selection/univariate_selection.py:114: UserWarning: Features [ 0 11] are constant.\n",
      "  UserWarning)\n",
      "/Users/coraames/git/BimanualModeling/py_36_env/lib/python3.6/site-packages/sklearn/feature_selection/univariate_selection.py:115: RuntimeWarning: invalid value encountered in true_divide\n",
      "  f = msb / msw\n",
      "/Users/coraames/git/BimanualModeling/py_36_env/lib/python3.6/site-packages/sklearn/feature_selection/univariate_selection.py:114: UserWarning: Features [ 0 13] are constant.\n",
      "  UserWarning)\n",
      "/Users/coraames/git/BimanualModeling/py_36_env/lib/python3.6/site-packages/sklearn/feature_selection/univariate_selection.py:115: RuntimeWarning: invalid value encountered in true_divide\n",
      "  f = msb / msw\n",
      "/Users/coraames/git/BimanualModeling/py_36_env/lib/python3.6/site-packages/sklearn/feature_selection/univariate_selection.py:114: UserWarning: Features [0] are constant.\n",
      "  UserWarning)\n",
      "/Users/coraames/git/BimanualModeling/py_36_env/lib/python3.6/site-packages/sklearn/feature_selection/univariate_selection.py:115: RuntimeWarning: invalid value encountered in true_divide\n",
      "  f = msb / msw\n",
      "/Users/coraames/git/BimanualModeling/py_36_env/lib/python3.6/site-packages/sklearn/feature_selection/univariate_selection.py:114: UserWarning: Features [ 0 11] are constant.\n",
      "  UserWarning)\n",
      "/Users/coraames/git/BimanualModeling/py_36_env/lib/python3.6/site-packages/sklearn/feature_selection/univariate_selection.py:115: RuntimeWarning: invalid value encountered in true_divide\n",
      "  f = msb / msw\n",
      "/Users/coraames/git/BimanualModeling/py_36_env/lib/python3.6/site-packages/sklearn/feature_selection/univariate_selection.py:114: UserWarning: Features [ 0 13] are constant.\n",
      "  UserWarning)\n",
      "/Users/coraames/git/BimanualModeling/py_36_env/lib/python3.6/site-packages/sklearn/feature_selection/univariate_selection.py:115: RuntimeWarning: invalid value encountered in true_divide\n",
      "  f = msb / msw\n",
      "/Users/coraames/git/BimanualModeling/py_36_env/lib/python3.6/site-packages/sklearn/feature_selection/univariate_selection.py:114: UserWarning: Features [0] are constant.\n",
      "  UserWarning)\n",
      "/Users/coraames/git/BimanualModeling/py_36_env/lib/python3.6/site-packages/sklearn/feature_selection/univariate_selection.py:115: RuntimeWarning: invalid value encountered in true_divide\n",
      "  f = msb / msw\n",
      "/Users/coraames/git/BimanualModeling/py_36_env/lib/python3.6/site-packages/sklearn/feature_selection/univariate_selection.py:114: UserWarning: Features [ 0 11] are constant.\n",
      "  UserWarning)\n",
      "/Users/coraames/git/BimanualModeling/py_36_env/lib/python3.6/site-packages/sklearn/feature_selection/univariate_selection.py:115: RuntimeWarning: invalid value encountered in true_divide\n",
      "  f = msb / msw\n",
      "/Users/coraames/git/BimanualModeling/py_36_env/lib/python3.6/site-packages/sklearn/feature_selection/univariate_selection.py:114: UserWarning: Features [ 0 13] are constant.\n",
      "  UserWarning)\n",
      "/Users/coraames/git/BimanualModeling/py_36_env/lib/python3.6/site-packages/sklearn/feature_selection/univariate_selection.py:115: RuntimeWarning: invalid value encountered in true_divide\n",
      "  f = msb / msw\n",
      "/Users/coraames/git/BimanualModeling/py_36_env/lib/python3.6/site-packages/sklearn/feature_selection/univariate_selection.py:114: UserWarning: Features [0] are constant.\n",
      "  UserWarning)\n",
      "/Users/coraames/git/BimanualModeling/py_36_env/lib/python3.6/site-packages/sklearn/feature_selection/univariate_selection.py:115: RuntimeWarning: invalid value encountered in true_divide\n",
      "  f = msb / msw\n",
      "/Users/coraames/git/BimanualModeling/py_36_env/lib/python3.6/site-packages/sklearn/feature_selection/univariate_selection.py:114: UserWarning: Features [ 0 11] are constant.\n",
      "  UserWarning)\n",
      "/Users/coraames/git/BimanualModeling/py_36_env/lib/python3.6/site-packages/sklearn/feature_selection/univariate_selection.py:115: RuntimeWarning: invalid value encountered in true_divide\n",
      "  f = msb / msw\n",
      "/Users/coraames/git/BimanualModeling/py_36_env/lib/python3.6/site-packages/sklearn/feature_selection/univariate_selection.py:114: UserWarning: Features [ 0 13] are constant.\n",
      "  UserWarning)\n",
      "/Users/coraames/git/BimanualModeling/py_36_env/lib/python3.6/site-packages/sklearn/feature_selection/univariate_selection.py:115: RuntimeWarning: invalid value encountered in true_divide\n",
      "  f = msb / msw\n",
      "/Users/coraames/git/BimanualModeling/py_36_env/lib/python3.6/site-packages/sklearn/feature_selection/univariate_selection.py:114: UserWarning: Features [0] are constant.\n",
      "  UserWarning)\n",
      "/Users/coraames/git/BimanualModeling/py_36_env/lib/python3.6/site-packages/sklearn/feature_selection/univariate_selection.py:115: RuntimeWarning: invalid value encountered in true_divide\n",
      "  f = msb / msw\n",
      "/Users/coraames/git/BimanualModeling/py_36_env/lib/python3.6/site-packages/sklearn/feature_selection/univariate_selection.py:114: UserWarning: Features [ 0 11] are constant.\n",
      "  UserWarning)\n",
      "/Users/coraames/git/BimanualModeling/py_36_env/lib/python3.6/site-packages/sklearn/feature_selection/univariate_selection.py:115: RuntimeWarning: invalid value encountered in true_divide\n",
      "  f = msb / msw\n",
      "/Users/coraames/git/BimanualModeling/py_36_env/lib/python3.6/site-packages/sklearn/feature_selection/univariate_selection.py:114: UserWarning: Features [ 0 13] are constant.\n",
      "  UserWarning)\n",
      "/Users/coraames/git/BimanualModeling/py_36_env/lib/python3.6/site-packages/sklearn/feature_selection/univariate_selection.py:115: RuntimeWarning: invalid value encountered in true_divide\n",
      "  f = msb / msw\n",
      "/Users/coraames/git/BimanualModeling/py_36_env/lib/python3.6/site-packages/sklearn/feature_selection/univariate_selection.py:114: UserWarning: Features [0] are constant.\n",
      "  UserWarning)\n",
      "/Users/coraames/git/BimanualModeling/py_36_env/lib/python3.6/site-packages/sklearn/feature_selection/univariate_selection.py:115: RuntimeWarning: invalid value encountered in true_divide\n",
      "  f = msb / msw\n",
      "/Users/coraames/git/BimanualModeling/py_36_env/lib/python3.6/site-packages/sklearn/feature_selection/univariate_selection.py:114: UserWarning: Features [ 0 11] are constant.\n",
      "  UserWarning)\n",
      "/Users/coraames/git/BimanualModeling/py_36_env/lib/python3.6/site-packages/sklearn/feature_selection/univariate_selection.py:115: RuntimeWarning: invalid value encountered in true_divide\n",
      "  f = msb / msw\n",
      "/Users/coraames/git/BimanualModeling/py_36_env/lib/python3.6/site-packages/sklearn/feature_selection/univariate_selection.py:114: UserWarning: Features [ 0 13] are constant.\n",
      "  UserWarning)\n",
      "/Users/coraames/git/BimanualModeling/py_36_env/lib/python3.6/site-packages/sklearn/feature_selection/univariate_selection.py:115: RuntimeWarning: invalid value encountered in true_divide\n",
      "  f = msb / msw\n",
      "/Users/coraames/git/BimanualModeling/py_36_env/lib/python3.6/site-packages/sklearn/feature_selection/univariate_selection.py:114: UserWarning: Features [0] are constant.\n",
      "  UserWarning)\n",
      "/Users/coraames/git/BimanualModeling/py_36_env/lib/python3.6/site-packages/sklearn/feature_selection/univariate_selection.py:115: RuntimeWarning: invalid value encountered in true_divide\n",
      "  f = msb / msw\n",
      "/Users/coraames/git/BimanualModeling/py_36_env/lib/python3.6/site-packages/sklearn/feature_selection/univariate_selection.py:114: UserWarning: Features [ 0 11] are constant.\n",
      "  UserWarning)\n",
      "/Users/coraames/git/BimanualModeling/py_36_env/lib/python3.6/site-packages/sklearn/feature_selection/univariate_selection.py:115: RuntimeWarning: invalid value encountered in true_divide\n",
      "  f = msb / msw\n"
     ]
    },
    {
     "name": "stderr",
     "output_type": "stream",
     "text": [
      "/Users/coraames/git/BimanualModeling/py_36_env/lib/python3.6/site-packages/sklearn/feature_selection/univariate_selection.py:114: UserWarning: Features [ 0 13] are constant.\n",
      "  UserWarning)\n",
      "/Users/coraames/git/BimanualModeling/py_36_env/lib/python3.6/site-packages/sklearn/feature_selection/univariate_selection.py:115: RuntimeWarning: invalid value encountered in true_divide\n",
      "  f = msb / msw\n",
      "/Users/coraames/git/BimanualModeling/py_36_env/lib/python3.6/site-packages/sklearn/feature_selection/univariate_selection.py:114: UserWarning: Features [0] are constant.\n",
      "  UserWarning)\n",
      "/Users/coraames/git/BimanualModeling/py_36_env/lib/python3.6/site-packages/sklearn/feature_selection/univariate_selection.py:115: RuntimeWarning: invalid value encountered in true_divide\n",
      "  f = msb / msw\n",
      "/Users/coraames/git/BimanualModeling/py_36_env/lib/python3.6/site-packages/sklearn/feature_selection/univariate_selection.py:114: UserWarning: Features [ 0 11] are constant.\n",
      "  UserWarning)\n",
      "/Users/coraames/git/BimanualModeling/py_36_env/lib/python3.6/site-packages/sklearn/feature_selection/univariate_selection.py:115: RuntimeWarning: invalid value encountered in true_divide\n",
      "  f = msb / msw\n",
      "/Users/coraames/git/BimanualModeling/py_36_env/lib/python3.6/site-packages/sklearn/feature_selection/univariate_selection.py:114: UserWarning: Features [ 0 13] are constant.\n",
      "  UserWarning)\n",
      "/Users/coraames/git/BimanualModeling/py_36_env/lib/python3.6/site-packages/sklearn/feature_selection/univariate_selection.py:115: RuntimeWarning: invalid value encountered in true_divide\n",
      "  f = msb / msw\n",
      "/Users/coraames/git/BimanualModeling/py_36_env/lib/python3.6/site-packages/sklearn/feature_selection/univariate_selection.py:114: UserWarning: Features [0] are constant.\n",
      "  UserWarning)\n",
      "/Users/coraames/git/BimanualModeling/py_36_env/lib/python3.6/site-packages/sklearn/feature_selection/univariate_selection.py:115: RuntimeWarning: invalid value encountered in true_divide\n",
      "  f = msb / msw\n",
      "/Users/coraames/git/BimanualModeling/py_36_env/lib/python3.6/site-packages/sklearn/feature_selection/univariate_selection.py:114: UserWarning: Features [ 0 11] are constant.\n",
      "  UserWarning)\n",
      "/Users/coraames/git/BimanualModeling/py_36_env/lib/python3.6/site-packages/sklearn/feature_selection/univariate_selection.py:115: RuntimeWarning: invalid value encountered in true_divide\n",
      "  f = msb / msw\n",
      "/Users/coraames/git/BimanualModeling/py_36_env/lib/python3.6/site-packages/sklearn/feature_selection/univariate_selection.py:114: UserWarning: Features [ 0 13] are constant.\n",
      "  UserWarning)\n",
      "/Users/coraames/git/BimanualModeling/py_36_env/lib/python3.6/site-packages/sklearn/feature_selection/univariate_selection.py:115: RuntimeWarning: invalid value encountered in true_divide\n",
      "  f = msb / msw\n",
      "/Users/coraames/git/BimanualModeling/py_36_env/lib/python3.6/site-packages/sklearn/feature_selection/univariate_selection.py:114: UserWarning: Features [0] are constant.\n",
      "  UserWarning)\n",
      "/Users/coraames/git/BimanualModeling/py_36_env/lib/python3.6/site-packages/sklearn/feature_selection/univariate_selection.py:115: RuntimeWarning: invalid value encountered in true_divide\n",
      "  f = msb / msw\n",
      "/Users/coraames/git/BimanualModeling/py_36_env/lib/python3.6/site-packages/sklearn/feature_selection/univariate_selection.py:114: UserWarning: Features [ 0 11] are constant.\n",
      "  UserWarning)\n",
      "/Users/coraames/git/BimanualModeling/py_36_env/lib/python3.6/site-packages/sklearn/feature_selection/univariate_selection.py:115: RuntimeWarning: invalid value encountered in true_divide\n",
      "  f = msb / msw\n",
      "/Users/coraames/git/BimanualModeling/py_36_env/lib/python3.6/site-packages/sklearn/feature_selection/univariate_selection.py:114: UserWarning: Features [ 0 13] are constant.\n",
      "  UserWarning)\n",
      "/Users/coraames/git/BimanualModeling/py_36_env/lib/python3.6/site-packages/sklearn/feature_selection/univariate_selection.py:115: RuntimeWarning: invalid value encountered in true_divide\n",
      "  f = msb / msw\n",
      "/Users/coraames/git/BimanualModeling/py_36_env/lib/python3.6/site-packages/sklearn/feature_selection/univariate_selection.py:114: UserWarning: Features [0] are constant.\n",
      "  UserWarning)\n",
      "/Users/coraames/git/BimanualModeling/py_36_env/lib/python3.6/site-packages/sklearn/feature_selection/univariate_selection.py:115: RuntimeWarning: invalid value encountered in true_divide\n",
      "  f = msb / msw\n",
      "/Users/coraames/git/BimanualModeling/py_36_env/lib/python3.6/site-packages/sklearn/feature_selection/univariate_selection.py:114: UserWarning: Features [ 0 11] are constant.\n",
      "  UserWarning)\n",
      "/Users/coraames/git/BimanualModeling/py_36_env/lib/python3.6/site-packages/sklearn/feature_selection/univariate_selection.py:115: RuntimeWarning: invalid value encountered in true_divide\n",
      "  f = msb / msw\n",
      "/Users/coraames/git/BimanualModeling/py_36_env/lib/python3.6/site-packages/sklearn/feature_selection/univariate_selection.py:114: UserWarning: Features [ 0 13] are constant.\n",
      "  UserWarning)\n",
      "/Users/coraames/git/BimanualModeling/py_36_env/lib/python3.6/site-packages/sklearn/feature_selection/univariate_selection.py:115: RuntimeWarning: invalid value encountered in true_divide\n",
      "  f = msb / msw\n",
      "/Users/coraames/git/BimanualModeling/py_36_env/lib/python3.6/site-packages/sklearn/feature_selection/univariate_selection.py:114: UserWarning: Features [0] are constant.\n",
      "  UserWarning)\n",
      "/Users/coraames/git/BimanualModeling/py_36_env/lib/python3.6/site-packages/sklearn/feature_selection/univariate_selection.py:115: RuntimeWarning: invalid value encountered in true_divide\n",
      "  f = msb / msw\n",
      "/Users/coraames/git/BimanualModeling/py_36_env/lib/python3.6/site-packages/sklearn/feature_selection/univariate_selection.py:114: UserWarning: Features [ 0 11] are constant.\n",
      "  UserWarning)\n",
      "/Users/coraames/git/BimanualModeling/py_36_env/lib/python3.6/site-packages/sklearn/feature_selection/univariate_selection.py:115: RuntimeWarning: invalid value encountered in true_divide\n",
      "  f = msb / msw\n",
      "/Users/coraames/git/BimanualModeling/py_36_env/lib/python3.6/site-packages/sklearn/feature_selection/univariate_selection.py:114: UserWarning: Features [ 0 13] are constant.\n",
      "  UserWarning)\n",
      "/Users/coraames/git/BimanualModeling/py_36_env/lib/python3.6/site-packages/sklearn/feature_selection/univariate_selection.py:115: RuntimeWarning: invalid value encountered in true_divide\n",
      "  f = msb / msw\n",
      "/Users/coraames/git/BimanualModeling/py_36_env/lib/python3.6/site-packages/sklearn/feature_selection/univariate_selection.py:114: UserWarning: Features [0] are constant.\n",
      "  UserWarning)\n",
      "/Users/coraames/git/BimanualModeling/py_36_env/lib/python3.6/site-packages/sklearn/feature_selection/univariate_selection.py:115: RuntimeWarning: invalid value encountered in true_divide\n",
      "  f = msb / msw\n",
      "/Users/coraames/git/BimanualModeling/py_36_env/lib/python3.6/site-packages/sklearn/feature_selection/univariate_selection.py:114: UserWarning: Features [ 0 11] are constant.\n",
      "  UserWarning)\n",
      "/Users/coraames/git/BimanualModeling/py_36_env/lib/python3.6/site-packages/sklearn/feature_selection/univariate_selection.py:115: RuntimeWarning: invalid value encountered in true_divide\n",
      "  f = msb / msw\n",
      "/Users/coraames/git/BimanualModeling/py_36_env/lib/python3.6/site-packages/sklearn/feature_selection/univariate_selection.py:114: UserWarning: Features [ 0 13] are constant.\n",
      "  UserWarning)\n",
      "/Users/coraames/git/BimanualModeling/py_36_env/lib/python3.6/site-packages/sklearn/feature_selection/univariate_selection.py:115: RuntimeWarning: invalid value encountered in true_divide\n",
      "  f = msb / msw\n",
      "/Users/coraames/git/BimanualModeling/py_36_env/lib/python3.6/site-packages/sklearn/feature_selection/univariate_selection.py:114: UserWarning: Features [0] are constant.\n",
      "  UserWarning)\n",
      "/Users/coraames/git/BimanualModeling/py_36_env/lib/python3.6/site-packages/sklearn/feature_selection/univariate_selection.py:115: RuntimeWarning: invalid value encountered in true_divide\n",
      "  f = msb / msw\n",
      "/Users/coraames/git/BimanualModeling/py_36_env/lib/python3.6/site-packages/sklearn/feature_selection/univariate_selection.py:114: UserWarning: Features [ 0 11] are constant.\n",
      "  UserWarning)\n",
      "/Users/coraames/git/BimanualModeling/py_36_env/lib/python3.6/site-packages/sklearn/feature_selection/univariate_selection.py:115: RuntimeWarning: invalid value encountered in true_divide\n",
      "  f = msb / msw\n"
     ]
    },
    {
     "name": "stderr",
     "output_type": "stream",
     "text": [
      "/Users/coraames/git/BimanualModeling/py_36_env/lib/python3.6/site-packages/sklearn/feature_selection/univariate_selection.py:114: UserWarning: Features [ 0 13] are constant.\n",
      "  UserWarning)\n",
      "/Users/coraames/git/BimanualModeling/py_36_env/lib/python3.6/site-packages/sklearn/feature_selection/univariate_selection.py:115: RuntimeWarning: invalid value encountered in true_divide\n",
      "  f = msb / msw\n",
      "/Users/coraames/git/BimanualModeling/py_36_env/lib/python3.6/site-packages/sklearn/feature_selection/univariate_selection.py:114: UserWarning: Features [0] are constant.\n",
      "  UserWarning)\n",
      "/Users/coraames/git/BimanualModeling/py_36_env/lib/python3.6/site-packages/sklearn/feature_selection/univariate_selection.py:115: RuntimeWarning: invalid value encountered in true_divide\n",
      "  f = msb / msw\n",
      "/Users/coraames/git/BimanualModeling/py_36_env/lib/python3.6/site-packages/sklearn/feature_selection/univariate_selection.py:114: UserWarning: Features [ 0 11] are constant.\n",
      "  UserWarning)\n",
      "/Users/coraames/git/BimanualModeling/py_36_env/lib/python3.6/site-packages/sklearn/feature_selection/univariate_selection.py:115: RuntimeWarning: invalid value encountered in true_divide\n",
      "  f = msb / msw\n",
      "/Users/coraames/git/BimanualModeling/py_36_env/lib/python3.6/site-packages/sklearn/feature_selection/univariate_selection.py:114: UserWarning: Features [ 0 13] are constant.\n",
      "  UserWarning)\n",
      "/Users/coraames/git/BimanualModeling/py_36_env/lib/python3.6/site-packages/sklearn/feature_selection/univariate_selection.py:115: RuntimeWarning: invalid value encountered in true_divide\n",
      "  f = msb / msw\n",
      "/Users/coraames/git/BimanualModeling/py_36_env/lib/python3.6/site-packages/sklearn/feature_selection/univariate_selection.py:114: UserWarning: Features [0] are constant.\n",
      "  UserWarning)\n",
      "/Users/coraames/git/BimanualModeling/py_36_env/lib/python3.6/site-packages/sklearn/feature_selection/univariate_selection.py:115: RuntimeWarning: invalid value encountered in true_divide\n",
      "  f = msb / msw\n"
     ]
    },
    {
     "name": "stdout",
     "output_type": "stream",
     "text": [
      "Best performance was 0.5342955482956562\n",
      "Best model value for kbest__k = 28\n",
      "Best model value for lr__max_iter = 107\n"
     ]
    },
    {
     "data": {
      "image/png": "[encoded data removed]",
      "text/plain": [
       "<Figure size 720x720 with 4 Axes>"
      ]
     },
     "metadata": {
      "needs_background": "light"
     },
     "output_type": "display_data"
    }
   ],
   "source": [
    "# logistic regression\n",
    "\n",
    "# Build the pipeline\n",
    "lr_pipeline = Pipeline([\n",
    "    ('kbest', SelectKBest(k=20,score_func=f_classif)),    # subselect the best k predictors (based on )\n",
    "    ('lr',LogisticRegression(solver='lbfgs',max_iter=200)),\n",
    "    ])\n",
    "\n",
    "# select parameters to tune\n",
    "lr_params = {\n",
    "    'kbest__k': randint(1,30),\n",
    "    'lr__max_iter':randint(100,300),\n",
    "}\n",
    "\n",
    "# Iteratively check parameters (randomized)  \n",
    "n_iter = 30\n",
    "random_search = RandomizedSearchCV(lr_pipeline,\n",
    "                                   param_distributions=lr_params,\n",
    "                                   n_iter=n_iter, \n",
    "                                   cv=3, \n",
    "                                   iid=False,\n",
    "                                   scoring=make_scorer(log_loss,needs_proba=True,greater_is_better=False),\n",
    "                                   verbose=0,\n",
    "                                   refit=0,\n",
    "                                   return_train_score=True\n",
    "                                  )\n",
    "random_search.fit(line_stats.astype('float64'),target)\n",
    "Plot_results(random_search)"
   ]
  },
  {
   "cell_type": "markdown",
   "metadata": {},
   "source": [
    "### 1.3.3 Optimizing Naive Bayes"
   ]
  },
  {
   "cell_type": "code",
   "execution_count": 32,
   "metadata": {},
   "outputs": [
    {
     "name": "stdout",
     "output_type": "stream",
     "text": [
      "Best performance was 0.5549909307867035\n",
      "Best model value for nb__alpha = 10.0\n",
      "Best model value for nb__fit_prior = True\n"
     ]
    },
    {
     "data": {
      "image/png": "[encoded data removed]",
      "text/plain": [
       "<Figure size 720x720 with 4 Axes>"
      ]
     },
     "metadata": {
      "needs_background": "light"
     },
     "output_type": "display_data"
    }
   ],
   "source": [
    "# naive bayes\n",
    "\n",
    "# Build the pipeline\n",
    "nb_pipeline = Pipeline([\n",
    "    ('nb',MultinomialNB()),\n",
    "    ])\n",
    "\n",
    "# select parameters to tune\n",
    "nb_params = {\n",
    "    'nb__fit_prior': [True,False],\n",
    "    'nb__alpha':[0.1,1.0,10.0,100.0]\n",
    "}\n",
    "\n",
    "# Iteratively check parameters (randomized)  \n",
    "random_search = GridSearchCV(nb_pipeline,\n",
    "                                   param_grid=nb_params,\n",
    "                                   cv=3, \n",
    "                                   iid=False,\n",
    "                                   scoring=make_scorer(log_loss,needs_proba=True,greater_is_better=False),\n",
    "                                   verbose=0,\n",
    "                                   refit=0,\n",
    "                                   n_jobs=-1,\n",
    "                                   return_train_score=True\n",
    "                                  )\n",
    "random_search.fit(line_stats,target)\n",
    "Plot_results(random_search)"
   ]
  },
  {
   "cell_type": "markdown",
   "metadata": {},
   "source": [
    "### 1.3.4 Optimizing Random Forest"
   ]
  },
  {
   "cell_type": "code",
   "execution_count": 33,
   "metadata": {},
   "outputs": [
    {
     "name": "stdout",
     "output_type": "stream",
     "text": [
      "Fitting 3 folds for each of 30 candidates, totalling 90 fits\n"
     ]
    },
    {
     "name": "stderr",
     "output_type": "stream",
     "text": [
      "[Parallel(n_jobs=-1)]: Using backend LokyBackend with 8 concurrent workers.\n",
      "[Parallel(n_jobs=-1)]: Done  34 tasks      | elapsed:   32.5s\n",
      "[Parallel(n_jobs=-1)]: Done  90 out of  90 | elapsed:  1.2min finished\n"
     ]
    },
    {
     "name": "stdout",
     "output_type": "stream",
     "text": [
      "Best performance was 0.5006910397480224\n",
      "Best model value for rf__max_depth = 24\n",
      "Best model value for rf__min_samples_leaf = 2\n",
      "Best model value for rf__min_samples_split = 118\n"
     ]
    },
    {
     "data": {
      "image/png": "[encoded data removed]",
      "text/plain": [
       "<Figure size 1080x720 with 6 Axes>"
      ]
     },
     "metadata": {
      "needs_background": "light"
     },
     "output_type": "display_data"
    }
   ],
   "source": [
    "# Extra Trees\n",
    "\n",
    "# Build the pipeline\n",
    "rf_pipeline = Pipeline([\n",
    "    ('rf',ExtraTreesClassifier(n_estimators=50)),\n",
    "    ])\n",
    "\n",
    "# select parameters to tune\n",
    "rf_params = {\n",
    "    'rf__max_depth': randint(20,31),\n",
    "    'rf__min_samples_split' : randint(75,125),\n",
    "    'rf__min_samples_leaf' : randint(1,8),\n",
    "#     'rf__n_estimators' : randint(50,150)\n",
    "}\n",
    "\n",
    "# Iteratively check parameters (randomized)  \n",
    "n_iter = 30\n",
    "random_search = RandomizedSearchCV(rf_pipeline,\n",
    "                                   param_distributions=rf_params,\n",
    "                                   n_iter=n_iter, \n",
    "                                   cv=3, \n",
    "                                   iid=False,\n",
    "                                   scoring=make_scorer(log_loss,needs_proba=True,greater_is_better=False),\n",
    "                                   verbose=1,\n",
    "                                   refit=0,\n",
    "                                   n_jobs=-1,\n",
    "                                   return_train_score=True\n",
    "                                  )\n",
    "random_search.fit(line_stats,target)\n",
    "\n",
    "# Report performance\n",
    "Plot_results(random_search)\n"
   ]
  },
  {
   "cell_type": "markdown",
   "metadata": {},
   "source": [
    "### 1.3.5 Optimizing Gradient Boosted Trees"
   ]
  },
  {
   "cell_type": "code",
   "execution_count": 34,
   "metadata": {
    "scrolled": false
   },
   "outputs": [
    {
     "name": "stdout",
     "output_type": "stream",
     "text": [
      "Fitting 3 folds for each of 20 candidates, totalling 60 fits\n"
     ]
    },
    {
     "name": "stderr",
     "output_type": "stream",
     "text": [
      "[Parallel(n_jobs=-1)]: Using backend LokyBackend with 8 concurrent workers.\n",
      "[Parallel(n_jobs=-1)]: Done  34 tasks      | elapsed:  2.0min\n",
      "[Parallel(n_jobs=-1)]: Done  60 out of  60 | elapsed:  3.3min finished\n"
     ]
    },
    {
     "name": "stdout",
     "output_type": "stream",
     "text": [
      "Best performance was 0.5034007245216988\n",
      "Best model value for rf__min_samples_leaf = 2\n",
      "Best model value for rf__n_estimators = 89\n",
      "Best model value for rf__subsample = 0.5\n"
     ]
    },
    {
     "data": {
      "image/png": "[encoded data removed]",
      "text/plain": [
       "<Figure size 1080x720 with 6 Axes>"
      ]
     },
     "metadata": {
      "needs_background": "light"
     },
     "output_type": "display_data"
    }
   ],
   "source": [
    "# Gradient Boosted Trees\n",
    "\n",
    "# Build the pipeline\n",
    "xgb_pipeline = Pipeline([\n",
    "    ('rf',GradientBoostingClassifier(max_depth=6)),\n",
    "    ])\n",
    "\n",
    "# select parameters to tune\n",
    "xgb_params = {\n",
    "    'rf__min_samples_leaf' : randint(1,6),\n",
    "    'rf__n_estimators' : randint(50,100),\n",
    "    'rf__subsample' : [.5,.75,1]\n",
    "}\n",
    "\n",
    "# Iteratively check parameters (randomized)  \n",
    "n_iter = 20\n",
    "random_search = RandomizedSearchCV(xgb_pipeline,\n",
    "                                   param_distributions=xgb_params,\n",
    "                                   n_iter=n_iter, \n",
    "                                   cv=3, \n",
    "                                   iid=False,\n",
    "                                   scoring=make_scorer(log_loss,needs_proba=True,greater_is_better=False),\n",
    "                                   verbose=1,\n",
    "                                   refit=0,\n",
    "                                   n_jobs=-1,\n",
    "                                   return_train_score=True\n",
    "                                  )\n",
    "random_search.fit(line_stats,target)\n",
    "\n",
    "# Report performance\n",
    "Plot_results(random_search)"
   ]
  },
  {
   "cell_type": "markdown",
   "metadata": {},
   "source": [
    "### 1.3.6 Optimization Summary\n",
    "\n",
    "I found that optimizing the simpler regressors (Naive Bayes, Logistic Regression) does not significantly improve their performance. This tends to be the case, that the simpler the model, the less hyperparameter selection tends to matter. Indeed, there are often many fewer hyper-parameters to optimize in the first place.\n",
    "\n",
    "The Random Forest improves a great deal with parameter optimization. This indicates that this model is actually able to generate accurate predictions, but the \"default\" parameters are not good choices for this particular dataset.\n",
    "\n",
    "The Gradient Boosted trees improve slightly with optimizaiton, but less dramatically so. The default parameters for this function already generated good performance (relative to the other predictors), so there was less room for improvement.\n",
    "\n",
    "#### The **final performance** of each of my classifiers, predicting humor based on line statistics, is:\n",
    "1. **Random Forest**: 0.449\n",
    "2. **Gradient Boosted Trees**: 0.450\n",
    "3. **Logistic Regression**: 0.482\n",
    "4. **Naive Bayes**: 0.501"
   ]
  },
  {
   "cell_type": "markdown",
   "metadata": {},
   "source": [
    "## 1.4 Predicting humor based on words <a name=\"words\"></a>"
   ]
  },
  {
   "cell_type": "markdown",
   "metadata": {},
   "source": [
    "My next goal is to predict whether a line is funny by actually looking at the words of the line, rather than just statistics about the speaker, line length, and segment.\n",
    "\n",
    "This can be quite a complicated process, as sentences need a decent amount of processing before a classifier can examine them. I'm going to use a **Bag of words** strategy (which builds a single vector that is the \"average\" of the words in each line), which performs the following steps:\n",
    "1. Construct a vector of dimension num_words, where the value is the number of times each word appears in the sentence.\n",
    "2. Transform this vector based on word frequency, where words that are uncommon across all of the lines are weighted as more important than common words. So the word \"Rutabega\", for example, would be weighted more strongly than the word \"The.\"\n",
    "3. Perform unsupervised dimensionality reduction to project the vectors into a smaller space that captures most of the variance.\n",
    "4. Feed the resulting vectors into the classifier.\n",
    "\n",
    "For this section, I will only be examining the \"forest\" style classifiers. This is largely because simple, largely linear classifiers are unlikely to be able to capture the relationship between words and humor - it's a much more complicated space than those classifiers are designed to capture. "
   ]
  },
  {
   "cell_type": "code",
   "execution_count": 35,
   "metadata": {},
   "outputs": [
    {
     "name": "stdout",
     "output_type": "stream",
     "text": [
      "Loss for mean guessing is 0.575285541754947\n",
      "Dumb guessing yields accuracy of 0.7378579397545556\n"
     ]
    }
   ],
   "source": [
    "print(f'Loss for mean guessing is {naive_loss}')\n",
    "print(f'Dumb guessing yields accuracy of {1-target.mean()}')"
   ]
  },
  {
   "cell_type": "markdown",
   "metadata": {},
   "source": [
    "### 1.4.1 Random Forest \n"
   ]
  },
  {
   "cell_type": "code",
   "execution_count": 36,
   "metadata": {
    "scrolled": false
   },
   "outputs": [
    {
     "name": "stdout",
     "output_type": "stream",
     "text": [
      "Fitting 3 folds for each of 20 candidates, totalling 60 fits\n"
     ]
    },
    {
     "name": "stderr",
     "output_type": "stream",
     "text": [
      "[Parallel(n_jobs=-1)]: Using backend LokyBackend with 8 concurrent workers.\n",
      "[Parallel(n_jobs=-1)]: Done  25 tasks      | elapsed:  2.5min\n",
      "[Parallel(n_jobs=-1)]: Done  60 out of  60 | elapsed:  5.0min finished\n"
     ]
    },
    {
     "name": "stdout",
     "output_type": "stream",
     "text": [
      "Best performance was 0.5102292127686763\n",
      "Best model value for clf__max_depth = 55\n",
      "Best model value for clf__min_samples_leaf = 1\n",
      "Best model value for clf__min_samples_split = 26\n",
      "Best model value for tsvd__n_components = 78\n"
     ]
    },
    {
     "data": {
      "image/png": "[encoded data removed]",
      "text/plain": [
       "<Figure size 1440x720 with 8 Axes>"
      ]
     },
     "metadata": {
      "needs_background": "light"
     },
     "output_type": "display_data"
    }
   ],
   "source": [
    "tree_text_pipeline = Pipeline([\n",
    "     ('vect', CountVectorizer(max_df=.9,min_df=100,ngram_range=(1,3))),\n",
    "     ('tfidf', TfidfTransformer()),\n",
    "     ('tsvd',TruncatedSVD(n_components=50)),\n",
    "     ('clf', ExtraTreesClassifier(n_estimators=50))\n",
    "  ])\n",
    "\n",
    "param_dict = {\n",
    "#     'vect__ngram_range': [ (1, 2), (1, 3),(1,4)],\n",
    "    'tsvd__n_components':randint(50,100),\n",
    "    'clf__max_depth': randint(20,60),\n",
    "    'clf__min_samples_split' : randint(20,40),\n",
    "    'clf__min_samples_leaf' : randint(1,3),\n",
    "}\n",
    "\n",
    "n_iter = 20\n",
    "\n",
    "random_search = RandomizedSearchCV(tree_text_pipeline,\n",
    "                                   param_distributions=param_dict,\n",
    "                                   n_iter=n_iter, \n",
    "                                   cv=3, \n",
    "                                   iid=False,\n",
    "                                   scoring=make_scorer(log_loss,\n",
    "                                                       needs_proba=True,\n",
    "                                                       greater_is_better=False),\n",
    "                                   verbose=2,\n",
    "                                   return_train_score=False,\n",
    "                                   n_jobs=-1,\n",
    "                                   refit=0,\n",
    "                                  )\n",
    "\n",
    "# random_search.fit(lines_df.loc[lines_df.train,'lines'],\n",
    "#                   lines_df.loc[lines_df.train,'funny'].astype(int));\n",
    "\n",
    "\n",
    "entries = (lines_df.train )\n",
    "# entries = (lines_df.train )& (lines_df.num_words>20)\n",
    "x = lines_df.loc[entries,'lines'].apply(lambda x: ' '.join(x.split()[-10:])) # last 10 words in each line\n",
    "# x = lines_df.loc[entries,'lines']\n",
    "y = lines_df.loc[entries,'funny'].astype(int)\n",
    "random_search.fit(x,y);\n",
    "\n",
    "Plot_results(random_search)"
   ]
  },
  {
   "cell_type": "markdown",
   "metadata": {},
   "source": [
    "### 1.4.2 Gradient Boosted Trees\n",
    "Note: the scikit-learn implementation of gradient boosted trees is quite slow, especially as the number of inputs to consider increases. A more-optimized method like LightGBM might do better here."
   ]
  },
  {
   "cell_type": "code",
   "execution_count": 37,
   "metadata": {
    "scrolled": false
   },
   "outputs": [
    {
     "name": "stdout",
     "output_type": "stream",
     "text": [
      "Fitting 3 folds for each of 10 candidates, totalling 30 fits\n"
     ]
    },
    {
     "name": "stderr",
     "output_type": "stream",
     "text": [
      "[Parallel(n_jobs=-1)]: Using backend LokyBackend with 8 concurrent workers.\n",
      "[Parallel(n_jobs=-1)]: Done  30 out of  30 | elapsed: 61.6min finished\n"
     ]
    },
    {
     "name": "stdout",
     "output_type": "stream",
     "text": [
      "Best performance was 0.5130257615201054\n",
      "Best model value for clf__max_depth = 3\n",
      "Best model value for clf__n_estimators = 262\n",
      "Best model value for clf__subsample = 0.9\n",
      "Best model value for tsvd__n_components = 136\n"
     ]
    },
    {
     "data": {
      "image/png": "[encoded data removed]",
      "text/plain": [
       "<Figure size 1440x720 with 8 Axes>"
      ]
     },
     "metadata": {
      "needs_background": "light"
     },
     "output_type": "display_data"
    }
   ],
   "source": [
    "tree_text_pipeline = Pipeline([\n",
    "     ('vect', CountVectorizer(max_df=.9,min_df=100,ngram_range=(1,2))),\n",
    "     ('tfidf', TfidfTransformer()),\n",
    "     ('tsvd',TruncatedSVD(n_components=50)),\n",
    "     ('clf', GradientBoostingClassifier(n_estimators=10,max_depth=4))\n",
    "  ])\n",
    "\n",
    "param_dict = {\n",
    "    'tsvd__n_components':randint(50,150),\n",
    "    'clf__n_estimators': randint(100,400),\n",
    "    'clf__max_depth':randint(2,6),\n",
    "    'clf__subsample' : [.5,.75,.9]\n",
    "}\n",
    "\n",
    "n_iter = 10\n",
    "\n",
    "random_search = RandomizedSearchCV(tree_text_pipeline,\n",
    "                                   param_distributions=param_dict,\n",
    "                                   n_iter=n_iter, \n",
    "                                   cv=3, \n",
    "                                   iid=False,\n",
    "                                   scoring=make_scorer(log_loss,needs_proba=True,greater_is_better=False),\n",
    "                                   verbose=2,\n",
    "                                   return_train_score=False,\n",
    "                                   n_jobs=-1,\n",
    "                                   refit=1,\n",
    "                                  )\n",
    "\n",
    "\n",
    "entries = (lines_df.train )\n",
    "x = lines_df.loc[entries,'lines'].apply(lambda x: ' '.join(x.split()[-10:])) # last 10 words in each line\n",
    "y = lines_df.loc[entries,'funny'].astype(int)\n",
    "random_search.fit(x,y);\n",
    "\n",
    "Plot_results(random_search)"
   ]
  },
  {
   "cell_type": "markdown",
   "metadata": {},
   "source": [
    "### 1.4.3 Text Prediction Conclusions\n",
    "\n",
    "Both methods were able to perform well at predicting humor based on the text of the lines. This is still a relatively \"rough\" way of looking at line content, since it doesn't know anything about word order, so it would likely be possible to take that information into account as well, in order to improve performance.\n",
    "\n",
    "At this stage, the classifiers perform at:\n",
    "\n",
    "1. **Random Forest: loss = 0.51**\n",
    "2. **Gradient Boosted Trees: loss = 0.51**"
   ]
  },
  {
   "cell_type": "markdown",
   "metadata": {},
   "source": [
    "## 1.3 Combining stats and text for prediction <a name=\"combo\"></a>\n",
    "Often, models can do best when they can take into account as much information about the data as possible. In fact, my previous models performed similarly well using two (largely but not entirely independent) sources of information: the text of the line, and statistics about the line. This indicates that we are **likely to perform better if we combine both sources of information.** So my next step is to incorporate what I have learned from the previous sections, and build a \"mega predictor\" that takes in both the line text and the line statistics in order to make the best combined prediction.\n",
    "\n",
    "This requires a slightly more complicated pipeline. Essentially, I'll first build a pipeline to transform the text - this will have the same parameters as I selected for the \"optimal\" text transformer above. I will then build a second transformer which selects some columns of the input dataframe to pass directly to the classifier, and passes the \"lines\" column to the text-processing pipeline first. Finally, I bring the full transformer together with the classifier to build the final, complete pipeline. Then, pulling in the data, transforming it, and classifying it will all be performed automatically by the final pipeline."
   ]
  },
  {
   "cell_type": "code",
   "execution_count": 44,
   "metadata": {},
   "outputs": [],
   "source": [
    "from sklearn.compose import ColumnTransformer\n",
    "\n",
    "# I will build a transformer to treat columns in different ways:\n",
    "text_col = 'lines' # encode and process the words\n",
    "passthrough_col = ['num_words', 'uniform_words', 'prev_line_funny', 'BABYLON', 'BLOUNT',\n",
    "       'BODDEN', 'BODETT', 'BURBANK', 'BURKE', 'CONNOR', 'DICKINSON', 'FARSAD',\n",
    "       'FELBER', 'FERO', 'GOLDTHWAIT', 'GROSZ', 'HONG', 'JOBRANI', 'KLEIN',\n",
    "       'PIERCE', 'POUNDSTONE', 'ROBERTS', 'ROCCA', 'ROURKE', 'SALIE', 'SAGAL',\n",
    "       'KURTIS', 'KASELL', 'who', 'panel', 'bluff', 'job', 'predictions',\n",
    "       'limerick', 'lightning'] # pass through stats/speakers/segment\n",
    "\n",
    "# Transformation specifically for the line text\n",
    "text_transformer = Pipeline([\n",
    "     ('vect', CountVectorizer(min_df=100,max_df=.9,ngram_range=(1, 3))),\n",
    "     ('tfidf', TfidfTransformer()),\n",
    "     ('tsvd',TruncatedSVD(n_components=100)),\n",
    "  ])\n",
    "\n",
    "# Transform the text and pass the statistics\n",
    "full_transformer= ColumnTransformer([\n",
    "    (\"text\",text_transformer,text_col),\n",
    "    (\"pass\",\"passthrough\",passthrough_col)\n",
    "])\n",
    "\n",
    "# Pipeline first uses the full_transformer, then the classifier\n",
    "full_pipeline = Pipeline([\n",
    "     ('transform',full_transformer),\n",
    "     ('clf', ExtraTreesClassifier(max_depth=60,n_estimators=200,min_samples_leaf=2))\n",
    "  ])"
   ]
  },
  {
   "cell_type": "code",
   "execution_count": 42,
   "metadata": {},
   "outputs": [
    {
     "name": "stdout",
     "output_type": "stream",
     "text": [
      "Fitting 3 folds for each of 20 candidates, totalling 60 fits\n"
     ]
    },
    {
     "name": "stderr",
     "output_type": "stream",
     "text": [
      "[Parallel(n_jobs=-1)]: Using backend LokyBackend with 8 concurrent workers.\n",
      "[Parallel(n_jobs=-1)]: Done  25 tasks      | elapsed:  9.5min\n",
      "[Parallel(n_jobs=-1)]: Done  60 out of  60 | elapsed: 19.8min finished\n"
     ]
    },
    {
     "name": "stdout",
     "output_type": "stream",
     "text": [
      "Best performance was 0.44684054758969965\n",
      "Best model value for clf__max_depth = 59\n",
      "Best model value for clf__min_samples_leaf = 2\n",
      "Best model value for clf__n_estimators = 187\n"
     ]
    },
    {
     "data": {
      "image/png": "[encoded data removed]",
      "text/plain": [
       "<Figure size 1080x720 with 6 Axes>"
      ]
     },
     "metadata": {
      "needs_background": "light"
     },
     "output_type": "display_data"
    }
   ],
   "source": [
    "param_dict = {\n",
    "          'clf__max_depth': randint(30,100),\n",
    "          'clf__n_estimators': randint(120,200),\n",
    "          'clf__min_samples_leaf':[1,2,3,4],\n",
    "}\n",
    "n_iter = 20\n",
    "\n",
    "search = RandomizedSearchCV(full_pipeline,\n",
    "                           param_distributions=param_dict,\n",
    "                           cv=3,\n",
    "                           n_jobs=-1,\n",
    "                           n_iter = n_iter,\n",
    "                           iid=False,\n",
    "                           scoring=make_scorer(log_loss,needs_proba=True,greater_is_better=False),\n",
    "                           verbose=2,\n",
    "                           return_train_score=False,\n",
    "                           refit=False,\n",
    "                          )\n",
    "search.fit(lines_df.loc[lines_df.train,:],target[lines_df.train]);\n",
    "Plot_results(search)"
   ]
  },
  {
   "cell_type": "code",
   "execution_count": 45,
   "metadata": {},
   "outputs": [
    {
     "name": "stdout",
     "output_type": "stream",
     "text": [
      "Cross-validated loss for full pipeline is 0.4265162680354934\n"
     ]
    }
   ],
   "source": [
    "scores = cross_validate(full_pipeline,\n",
    "                       X=lines_df.loc[lines_df.train,:],\n",
    "                       y=lines_df.loc[lines_df.train,'funny'].astype('int'),\n",
    "                       scoring=make_scorer(log_loss,needs_proba=True,greater_is_better=False),\n",
    "                       cv=10,\n",
    "                       n_jobs=-1,\n",
    "                       return_train_score=False,\n",
    "                   )\n",
    "\n",
    "print(f\"Cross-validated loss for full pipeline is {-scores['test_score'].mean()}\")"
   ]
  },
  {
   "cell_type": "markdown",
   "metadata": {},
   "source": [
    "## 1.4 Predict the test set\n",
    "\n",
    "Finally, let's combine everything we learned in the above sections. I'll attempt to build the best model that I can. In this case, that will be a random forest, which receives both line statistics and the text of the lines themselves. I will train it on the full training set, and then evaluate it on the testing set."
   ]
  },
  {
   "cell_type": "code",
   "execution_count": 46,
   "metadata": {},
   "outputs": [
    {
     "name": "stdout",
     "output_type": "stream",
     "text": [
      "Test set predicted with 84.99393898579028% accuracy.\n",
      "Test score (log loss) is 0.3550479821531019.\n"
     ]
    }
   ],
   "source": [
    "final_pipeline = full_pipeline.fit(X=lines_df.loc[lines_df.train,:],\n",
    "                       y=lines_df.loc[lines_df.train,'funny'].astype('int'))\n",
    "\n",
    "y_test = lines_df.loc[~lines_df.train,'funny'].astype('int')\n",
    "X_test = lines_df.loc[~lines_df.train,:]\n",
    "y_prob = final_pipeline.predict_proba(X_test)\n",
    "y_pred = final_pipeline.predict(X_test)\n",
    "\n",
    "# Report performance\n",
    "print(f'Test set predicted with {(y_pred==y_test).mean()*100}% accuracy.')\n",
    "print(f'Test score (log loss) is {log_loss(y_test,y_prob)}.')"
   ]
  },
  {
   "cell_type": "markdown",
   "metadata": {},
   "source": [
    "Our final predictor improves a great deal compared with our \"just guess the mean\" approach. We get just under 85% accuracy, and our log-loss is much better, at only 0.36. This means that not only is the predictor doing a pretty good job of understanding whether or not a line will be funny, but it also has a good estimate of certainty. "
   ]
  },
  {
   "cell_type": "markdown",
   "metadata": {},
   "source": [
    "# 2 Predicting Humor with Neural Networks <a name=\"GRU\"></a>"
   ]
  },
  {
   "cell_type": "markdown",
   "metadata": {},
   "source": [
    "One major challenge with our previous approach is that the text analysis we were capable of doing was relatively course. Because we did not consider word ordering at all, we are potentially missing a great deal of important information contained in the text. While statistical analyses like the ones used above can be quite useful, neural network architectures can be beneficial to learn time-dependent functions and thus gather more detailed information from a block of text. I will therefore move now to training neural networks to predict whether or not a line was funny, and see how well I can do with this approach.\n",
    "\n",
    "The type of neural network I will be using is called a Recurrent Neural Network (RNN). Instead of being ordered in feed-forward layers, recurrent neural network layers connect with themselves over time, and thus can take time-varying inputs into account. The specific type of RNN I will be using is called a GRU (Gated Recurrent Units). These units have a hidden state which can be either held onto or updated at each time step, depending on the state of the network and the inputs. This architecture helps the network to take longer-scale time information into account (traditionally a major challenge with \"basic\" recurrent neural networks.) \n",
    "\n",
    "This section was closely based on [this tutorial](https://keras.io/examples/pretrained_word_embeddings/), although I have made a number of small changes as I have been playing with the data."
   ]
  },
  {
   "cell_type": "markdown",
   "metadata": {},
   "source": [
    "## 2.1 Preparing the inputs<a name=#rnn-prep></a>\n",
    "\n",
    "In order to feed the lines into the neural networks, I must perform a number of preprocessing steps. \n",
    "1. **[GloVe Embeddings](https://nlp.stanford.edu/projects/glove/)** (Global Vectors for Word Representation) are pre-trained vectors that embed words in a high-dimensional space, such that \"similar\" words will be close together. These embeddings were trained on Wikipedia articles, and therefore have a sense of typical english language structure. Using a pre-trained embedding can help to get text input data into a useful structure for subsequent learning.\n",
    "2. **Data augmentation**: It can often be useful to try to train neural networks on as many training examples as possible. A good way to add additional data to text is to take the training data and replace some of the words with synonyms. This (usually) doesn't change the nature of the sentence, but adds some nice variation and helps reduce over-fitting. I'll generate two extra versions of each training example via random synonym replacement.\n",
    "3. **Sentence padding**: Recurrent neural networks typically need to be trained with inputs that have the same number of words (at the very least, each batch must contain the same dimensions of input). But my lines can vary from a single word to several hundred words in length. So, I will for the moment cut every sentence to a maximum of 50 words long. For those sentences that are shorter than 50 words, I will add a \"filler word\" to grow them to 50 words long. Because the end of the sentence is likely to be more informative about funniness than the beginning, I will keep the last 50 words of each sentence, rather than the first 50 words of each sentence."
   ]
  },
  {
   "cell_type": "code",
   "execution_count": 47,
   "metadata": {},
   "outputs": [],
   "source": [
    "# First, load all of the libraries I'll be using in this section\n",
    "from __future__ import print_function\n",
    "\n",
    "import os\n",
    "import sys\n",
    "import numpy as np\n",
    "from keras.preprocessing.text import Tokenizer\n",
    "from keras.preprocessing.sequence import pad_sequences\n",
    "from keras.utils import to_categorical\n",
    "from keras.layers import Dense, Input, GlobalMaxPooling1D\n",
    "from keras.layers import Conv1D, MaxPooling1D, Embedding,Flatten,SpatialDropout1D\n",
    "from keras.layers import GRU,Bidirectional,Lambda,Add\n",
    "from keras.layers import Dropout,Concatenate,BatchNormalization,Add,GaussianNoise,Activation\n",
    "from keras.models import Model\n",
    "from keras.activations import relu\n",
    "from keras.initializers import Constant\n",
    "from keras.callbacks import EarlyStopping\n",
    "from keras.optimizers import Adadelta, Adam, Nadam\n",
    "import keras.backend as K\n",
    "from keras.regularizers import L1L2"
   ]
  },
  {
   "cell_type": "code",
   "execution_count": 58,
   "metadata": {},
   "outputs": [],
   "source": [
    "#### establish some constants/meta parameters\n",
    "BASE_DIR = './'\n",
    "GLOVE_DIR = os.path.join(BASE_DIR, 'glove.6B')\n",
    "MAX_SEQUENCE_LENGTH = 50\n",
    "MAX_VOCABULARY = 20000\n",
    "EMBEDDING_DIM = 50\n",
    "VALIDATION_SPLIT = 0.2"
   ]
  },
  {
   "cell_type": "markdown",
   "metadata": {},
   "source": [
    "### Process input for model\n",
    "- Tokenize words\n",
    "- Separate x (word tokens) from y (funniness boolean)\n",
    "- Get training and validation sets\n",
    "- Extract an embedding matrix from GLOVE embeddings to be used by the model"
   ]
  },
  {
   "cell_type": "code",
   "execution_count": 59,
   "metadata": {},
   "outputs": [],
   "source": [
    "# Function to take the training data and divide it into x (lines) and y (funniness)\n",
    "def Segment_input(lines_df, min_words=0,max_words = float('inf')):\n",
    "    \n",
    "    # subselect to lines whose length is at least min_words and at most max_words\n",
    "    lines_to_use = (lines_df.num_words>=min_words) & (lines_df.num_words<=max_words)\n",
    "    \n",
    "    # list of text samples\n",
    "    x = lines_df[lines_to_use].lines.values  \n",
    "    \n",
    "    # Whether or not each trial is funny\n",
    "    y = lines_df[lines_to_use].funny.values \n",
    "    \n",
    "    return x,y\n"
   ]
  },
  {
   "cell_type": "code",
   "execution_count": 60,
   "metadata": {},
   "outputs": [],
   "source": [
    "# take in the lines in the training and validation sets, and encode it as a series of integers\n",
    "def Encode_lines(x_list,max_num_words = MAX_VOCABULARY,sequence_length = MAX_SEQUENCE_LENGTH):\n",
    "    \n",
    "    # Vectorize the text samples into a 2D integer tensor (using the training data only for the encoder)\n",
    "    tokenizer = Tokenizer(num_words=max_num_words)\n",
    "    tokenizer.fit_on_texts(np.concatenate(x_list))\n",
    "    word_index = tokenizer.word_index\n",
    "    \n",
    "    # Encode each of the inputs\n",
    "    x_encoded = []\n",
    "    for x in x_list:\n",
    "        x_encoded.append(Encode_and_pad(x,tokenizer,sequence_length))\n",
    "    \n",
    "    return x_encoded,word_index\n",
    "\n",
    "# support function for Encode_lines (apply encoder to lines, crop all lines to the same length)\n",
    "def Encode_and_pad(x,tokenizer,sequence_length):\n",
    "    sequences = tokenizer.texts_to_sequences(x)\n",
    "    x_encoded = pad_sequences(sequences,truncating='post', maxlen=sequence_length) # keep the end of the lines\n",
    "    return x_encoded"
   ]
  },
  {
   "cell_type": "code",
   "execution_count": 61,
   "metadata": {},
   "outputs": [],
   "source": [
    "# Make the embedding matrix\n",
    "def Make_embedding_matrix(word_index):\n",
    "    # Create a dictionary mapping words to GLOVE embeddings\n",
    "    print('Indexing word vectors.')\n",
    "    embeddings_index = {}\n",
    "    with open(os.path.join(GLOVE_DIR, f'glove.6B.{EMBEDDING_DIM}d.txt')) as f:\n",
    "        for line in f:\n",
    "            values = line.split()\n",
    "            word = values[0]\n",
    "            coefs = np.asarray(values[1:], dtype='float32')\n",
    "            embeddings_index[word] = coefs\n",
    "    print(f'Found {len(embeddings_index)} word vectors.')\n",
    "    \n",
    "    # Prepare embedding matrix\n",
    "    num_words = min(MAX_VOCABULARY, len(word_index)) + 1\n",
    "    embedding_matrix = np.zeros((num_words, EMBEDDING_DIM))\n",
    "    for word, i in word_index.items():\n",
    "        if i > MAX_VOCABULARY:\n",
    "            continue\n",
    "        embedding_vector = embeddings_index.get(word)\n",
    "        if embedding_vector is not None:\n",
    "            # words not found in embedding index will be all-zeros.\n",
    "            embedding_matrix[i] = embedding_vector\n",
    "    \n",
    "    return embedding_matrix"
   ]
  },
  {
   "cell_type": "code",
   "execution_count": 62,
   "metadata": {},
   "outputs": [],
   "source": [
    "# Wrapper function to take in a lines data structure, and \n",
    "# output training and validation sets and the GLOVE embedding matrix\n",
    "    # Inputs:\n",
    "    # lines_df: data structure of lines, as generated above.\n",
    "    # min_words: the minimum length of a line to be included\n",
    "    # max_length: the maximum length of a line to be included\n",
    "    # max_num_words:\n",
    "def Process_data(lines_df, min_words=20,max_length = MAX_SEQUENCE_LENGTH,\n",
    "                 max_num_words = MAX_VOCABULARY):\n",
    "    \n",
    "    # Get the x/y data for training and validation sets\n",
    "    x_train,y_train = Segment_input(lines_df.loc[lines_df.train,:],min_words=min_words)\n",
    "    x_val,y_val = Segment_input(lines_df.loc[lines_df.val,:],min_words=min_words)\n",
    "    x_test,y_test = Segment_input(lines_df.loc[~lines_df.train & ~lines_df.val,:],\n",
    "                                  min_words=min_words)\n",
    "\n",
    "    # Encode words as integers\n",
    "    [x_train_encoded,x_val_encoded,x_test_encoded],word_index = \\\n",
    "        Encode_lines([x_train,x_val,x_test])\n",
    "    \n",
    "    # Make an embedding matrix\n",
    "    embedding_matrix = Make_embedding_matrix(word_index)\n",
    "    return x_train,x_train_encoded,y_train,x_val,x_val_encoded,y_val,x_test,x_test_encoded,y_test,embedding_matrix\n",
    "\n"
   ]
  },
  {
   "cell_type": "code",
   "execution_count": 63,
   "metadata": {},
   "outputs": [
    {
     "name": "stdout",
     "output_type": "stream",
     "text": [
      "Indexing word vectors.\n",
      "Found 400000 word vectors.\n",
      "Created 107560 training samples.\n",
      "Average value of training set: 0.2621420602454444\n"
     ]
    }
   ],
   "source": [
    "x_train,x_train_encoded,y_train,x_val,x_val_encoded,y_val,x_test,x_test_encoded,y_test,embedding_matrix = Process_data(lines_df,min_words=1,max_length=30)\n",
    "\n",
    "print(f'Created {y_train.size} training samples.')\n",
    "print(f'Average value of training set: {y_train.mean()}')"
   ]
  },
  {
   "cell_type": "markdown",
   "metadata": {},
   "source": [
    "# Augmenting the data: synonyms <a name=#rnn-syn></a>\n",
    "In training my models so far, I'm definitely struggling with the problem of over-fitting: the model starts to \"memorize\" the training data, and thus performs poorly on the validation data. I can try to combat this in a few ways: regularizing the model, via dropout or imposed loss functions on the weights. Another powerful method is to generate more training data. Since my training data currently includes 10 years' worth of transcripts (and the years prior to this don't have transcripts), I'm unlikely to be able to get \"new\" transcripts to help train on.\n",
    "\n",
    "Instead, I will be trying a form of text regularization: I will replace some of the words in each sentence with synonyms. This will ahve the effect of slightly changing the phrasing of many sentences, without dramatically altering the meaning. I can then learn on both the original sentences and the \"altered\" sentences, essentially doubling (or more) my training set. Code for replacing words with synonyms is based on this tutorial: http://rwet.decontextualize.com/book/textblob/"
   ]
  },
  {
   "cell_type": "code",
   "execution_count": 64,
   "metadata": {},
   "outputs": [],
   "source": [
    "from textblob import TextBlob\n",
    "\n",
    "# Use a dictionary of positions, to specify what part of speech a word is being used as and select better synonyms\n",
    "pos_dict = {'NN':'n','NNS':'n','NNP':'n','NNPS':'n' ,\n",
    "           'VB':'v', 'VBD':'v','VBG':'v','VBN':'v','VBP':'v','VBZ':'v',\n",
    "           'JJ':'a','JJR':'a','JJS':'a','RB':'r','RBR':'r','RBS':'r'} # part of speech dictionary\n",
    "part_of_speech_list = pos_dict.keys()\n",
    "    \n",
    "# Function to replace a dataset with synonyms. \n",
    "# This function will be performed num_samples times, so if I want to make 3 new sentences for every 1 input sentence,\n",
    "# then num_samples should be 3\n",
    "def Augment_training_set(x_train,y_train,num_samples=1,p=0.5):\n",
    "    \n",
    "    # initialize the augmented outputs\n",
    "    y_augmented = y_train\n",
    "    x_augmented = x_train\n",
    "    \n",
    "    # For each line, with some probability, switch up nouns, verbs, adjectives, and adverbs with synonyms\n",
    "    for sample in range(num_samples):\n",
    "        x_syn = Replace_synonyms(x_train,p)\n",
    "        \n",
    "        # combine the initial dataset and the new datasets together\n",
    "        x_augmented = np.concatenate((x_augmented,x_syn))\n",
    "        y_augmented = np.concatenate((y_augmented,y_train))\n",
    "        \n",
    "    # Finally, re-calculate the encoding so that we can feed the new sentences into our models\n",
    "    [x_train_augmented_encoded,x_val_encoded],word_index = Encode_lines([x_augmented,x_val])\n",
    "    embedding_matrix = Make_embedding_matrix(word_index)\n",
    "    \n",
    "    return x_augmented,x_train_augmented_encoded,y_augmented,x_val_encoded,embedding_matrix\n",
    "\n",
    "# Helper function for Augment training set: replace words in x_train with synonyms with specified probability\n",
    "def Replace_synonyms(x,p=0.5):\n",
    "    # Use a dictionary of positions, to specify what part of speech a word is being used as and select better synonyms\n",
    "    pos_dict = {'NN':'n','NNS':'n','NNP':'n','NNPS':'n' ,\n",
    "               'VB':'v', 'VBD':'v','VBG':'v','VBN':'v','VBP':'v','VBZ':'v',\n",
    "               'JJ':'a','JJR':'a','JJS':'a','RB':'r','RBR':'r','RBS':'r'} # part of speech dictionary\n",
    "    part_of_speech_list = pos_dict.keys()\n",
    "    \n",
    "    x_syn = x\n",
    "    for idx,line in enumerate(x):\n",
    "\n",
    "        # Use TextBlob to identify words + part of speech\n",
    "        blob = TextBlob(line)\n",
    "        output = []\n",
    "\n",
    "        # Replace nouns, verbs, adjectives, and adverbs with synonyms (with specified probability)\n",
    "        for word,tag in blob.tags:\n",
    "            if (len(word) > 4) and (tag in part_of_speech_list) and len(word.get_synsets(pos=pos_dict[tag])) > 0 and (np.random.rand() > p):\n",
    "                random_synset = np.random.choice(word.get_synsets(pos=pos_dict[tag]))\n",
    "                random_lemma = np.random.choice(random_synset.lemma_names())\n",
    "                output.append(random_lemma.replace('_', ' '))\n",
    "            else:\n",
    "                output.append(word)\n",
    "        x[idx] = ' '.join(output)\n",
    "        \n",
    "        if idx%10000 == 0:\n",
    "            print(f'Completed synonyms of line {idx}/{len(x)}.')\n",
    "    return x_syn"
   ]
  },
  {
   "cell_type": "code",
   "execution_count": 65,
   "metadata": {
    "scrolled": true
   },
   "outputs": [
    {
     "name": "stdout",
     "output_type": "stream",
     "text": [
      "Completed synonyms of line 0/107560.\n",
      "Completed synonyms of line 10000/107560.\n",
      "Completed synonyms of line 20000/107560.\n",
      "Completed synonyms of line 30000/107560.\n",
      "Completed synonyms of line 40000/107560.\n",
      "Completed synonyms of line 50000/107560.\n",
      "Completed synonyms of line 60000/107560.\n",
      "Completed synonyms of line 70000/107560.\n",
      "Completed synonyms of line 80000/107560.\n",
      "Completed synonyms of line 90000/107560.\n",
      "Completed synonyms of line 100000/107560.\n",
      "Indexing word vectors.\n",
      "Found 400000 word vectors.\n"
     ]
    }
   ],
   "source": [
    "x_augmented,x_train_augmented_encoded,y_augmented,x_val_encoded,embedding_matrix = Augment_training_set(x_train,y_train,num_samples=1)\n"
   ]
  },
  {
   "cell_type": "markdown",
   "metadata": {},
   "source": [
    "## 2.1 Non-optimized model <a name='rnn-model'></a>\n",
    "The next step is to take these processed inputs, and generate a model. \n",
    "This model has a few properties that I have found useful through trial-and-error testing with my training and validation sets.\n",
    "1. **Dropout**: Because neural networks tend to have many, many parameters, they are prone to \"overfit\" - memorizing the training data instead of learning properties that generalize to new data points. One way of preventing overfitting is to use dropout during training - randomly removing some units or connections, to ensure that the output is not overly reliant on the exact values of any one of its internal parameters.\n",
    "2. **Bidirectional Layers**: This means that I have one network that runs forward on the data, and one network that runs backward on the data. This gives a better sense of each word in context - informed not only by the words that come before, but also by those that come after.\n",
    "3. **Two GRU layers**: More than that seems not to be helpful. In theory, multiple layers ought not to be necessary, but in practice I find that it helps. Perhaps it can help the system to capture more nonlinearities in the relationship between words, locations, and humor. "
   ]
  },
  {
   "cell_type": "code",
   "execution_count": 66,
   "metadata": {},
   "outputs": [],
   "source": [
    "from keras_self_attention import SeqSelfAttention # source: https://github.com/CyberZHG/keras-self-attention\n",
    "\n",
    "# Model architecture\n",
    "def generate_model(embedding_matrix=embedding_matrix,num_recurrent=64,drop_prob=.5, num_dense = 128):\n",
    "\n",
    "    # load pre-trained word embeddings into an Embedding layer\n",
    "    # note that we set trainable = False so as to keep the embeddings fixed\n",
    "    embedding_layer = Embedding(embedding_matrix.shape[0],\n",
    "                                embedding_matrix.shape[1],\n",
    "                                embeddings_initializer=Constant(embedding_matrix),\n",
    "                                input_length=None,\n",
    "                                trainable=False)\n",
    "\n",
    "    # This is where the model input is specified: encoded inputs of MAX_SEQUENCE_LENGTH timepoints\n",
    "    sequence_input = Input(shape=(None,),\n",
    "                           dtype='int32')\n",
    "\n",
    "    # Next, embed the input\n",
    "    x_in = embedding_layer(sequence_input)   \n",
    "\n",
    "    # establish a GRU layer outside of the depth loop, to initialize some final variables\n",
    "    x1 = Bidirectional(GRU(num_recurrent,\n",
    "             return_sequences=True,\n",
    "             dropout=drop_prob,# dropout random dimensions of the embedding\n",
    "            ))(x_in)\n",
    "    x1 = SeqSelfAttention(attention_activation='sigmoid')(x1)\n",
    "    \n",
    "    x2 = keras.layers.GlobalAveragePooling1D()(x1)\n",
    "    \n",
    "    # Add one dense layer, with relu activations and batch normalization\n",
    "    x = Dense(num_dense,activation='relu')(x2)\n",
    "    x = BatchNormalization()(x)\n",
    "    x = Dropout(drop_prob)(x)\n",
    "\n",
    "    # Finally, the output is a single unit whose output should be the estimated probability of the line being funny\n",
    "    preds = Dense(1, activation='sigmoid')(x)\n",
    "\n",
    "    # The Adam optimizer usually works well\n",
    "    optimizer = Adam(amsgrad=True)\n",
    "\n",
    "    # This line specifies and compiles the model\n",
    "    model = Model(inputs=[sequence_input], outputs=[preds])\n",
    "    model.compile(loss='binary_crossentropy',\n",
    "                  optimizer=optimizer,\n",
    "              metrics=['acc'])\n",
    "\n",
    "    return model"
   ]
  },
  {
   "cell_type": "markdown",
   "metadata": {},
   "source": [
    "### Train a baseline model <a name='rnn-train'></a>"
   ]
  },
  {
   "cell_type": "code",
   "execution_count": 67,
   "metadata": {},
   "outputs": [
    {
     "name": "stdout",
     "output_type": "stream",
     "text": [
      "Model: \"model_2\"\n",
      "_________________________________________________________________\n",
      "Layer (type)                 Output Shape              Param #   \n",
      "=================================================================\n",
      "input_2 (InputLayer)         (None, None)              0         \n",
      "_________________________________________________________________\n",
      "embedding_2 (Embedding)      (None, None, 50)          1000050   \n",
      "_________________________________________________________________\n",
      "bidirectional_2 (Bidirection (None, None, 128)         44160     \n",
      "_________________________________________________________________\n",
      "seq_self_attention_2 (SeqSel (None, None, 128)         8257      \n",
      "_________________________________________________________________\n",
      "global_average_pooling1d_2 ( (None, 128)               0         \n",
      "_________________________________________________________________\n",
      "dense_3 (Dense)              (None, 128)               16512     \n",
      "_________________________________________________________________\n",
      "batch_normalization_2 (Batch (None, 128)               512       \n",
      "_________________________________________________________________\n",
      "dropout_2 (Dropout)          (None, 128)               0         \n",
      "_________________________________________________________________\n",
      "dense_4 (Dense)              (None, 1)                 129       \n",
      "=================================================================\n",
      "Total params: 1,069,620\n",
      "Trainable params: 69,314\n",
      "Non-trainable params: 1,000,306\n",
      "_________________________________________________________________\n"
     ]
    }
   ],
   "source": [
    "model = generate_model()\n",
    "model.summary()"
   ]
  },
  {
   "cell_type": "code",
   "execution_count": 69,
   "metadata": {},
   "outputs": [
    {
     "name": "stdout",
     "output_type": "stream",
     "text": [
      "baseline accuracy is: 0.7409381663113006\n",
      "baseline loss is: 0.5720979238970163\n",
      "Train on 215120 samples, validate on 25326 samples\n",
      "Epoch 1/10\n",
      "215120/215120 [==============================] - 237s 1ms/step - loss: 0.5590 - val_loss: 0.8540\n",
      "Epoch 2/10\n",
      "215120/215120 [==============================] - 237s 1ms/step - loss: 0.5950 - val_loss: 0.9416\n",
      "Train on 215120 samples, validate on 25326 samples\n",
      "Epoch 1/10\n",
      "215120/215120 [==============================] - 236s 1ms/step - loss: 0.5794 - val_loss: 0.5943\n",
      "Epoch 2/10\n",
      "215120/215120 [==============================] - 232s 1ms/step - loss: 0.5738 - val_loss: 0.5491\n",
      "Epoch 3/10\n",
      "215120/215120 [==============================] - 230s 1ms/step - loss: 0.5697 - val_loss: 0.5418\n",
      "Epoch 4/10\n",
      "215120/215120 [==============================] - 231s 1ms/step - loss: 0.5682 - val_loss: 0.5626\n",
      "Train on 215120 samples, validate on 25326 samples\n",
      "Epoch 1/10\n",
      "215120/215120 [==============================] - 238s 1ms/step - loss: 0.5507 - val_loss: 0.5371\n",
      "Epoch 2/10\n",
      "215120/215120 [==============================] - 244s 1ms/step - loss: 0.5484 - val_loss: 0.5298\n",
      "Epoch 3/10\n",
      "215120/215120 [==============================] - 249s 1ms/step - loss: 0.5480 - val_loss: 0.5288\n",
      "Train on 215120 samples, validate on 25326 samples\n",
      "Epoch 1/10\n",
      "215120/215120 [==============================] - 243s 1ms/step - loss: 0.5448 - val_loss: 0.5296\n",
      "Epoch 2/10\n",
      "215120/215120 [==============================] - 245s 1ms/step - loss: 0.5437 - val_loss: 0.5303\n"
     ]
    },
    {
     "data": {
      "image/png": "[encoded data removed]",
      "text/plain": [
       "<Figure size 432x288 with 1 Axes>"
      ]
     },
     "metadata": {
      "needs_background": "light"
     },
     "output_type": "display_data"
    }
   ],
   "source": [
    "# Run a baseline model\n",
    "batch_size = 128\n",
    "print(f'baseline accuracy is: {1-np.mean(y_val)}')\n",
    "print(f'baseline loss is: {log_loss(y_val.astype(\"int\"),y_train.mean()*np.ones(y_val.size))}')\n",
    "\n",
    "# Time the computation\n",
    "start = time.time()\n",
    "\n",
    "# Training Parameters\n",
    "epochs_per_lr = 10\n",
    "early_stopping = EarlyStopping(monitor='val_loss',patience = 1,min_delta=0.005, restore_best_weights=False)\n",
    "decay_rate = 1/(len(y_train)*epochs_per_lr)\n",
    "\n",
    "# Fit the model\n",
    "optimizer=keras.optimizers.Nadam()\n",
    "model.compile(loss='binary_crossentropy',optimizer=optimizer)\n",
    "history = model.fit(x=[x_train_augmented_encoded],\n",
    "                  y=y_augmented,\n",
    "                  batch_size=batch_size,\n",
    "                  epochs=epochs_per_lr,\n",
    "                  shuffle=True,\n",
    "                  validation_data = ([x_val_encoded],y_val),\n",
    "                  callbacks=[early_stopping],\n",
    "                  verbose=1,\n",
    "             )\n",
    "\n",
    "# Calculate the run time\n",
    "end = time.time()\n",
    "\n",
    "# Plot the performance\n",
    "plt.plot(history.history['loss'],'b')\n",
    "plt.plot(history.history['val_loss'],'r')\n",
    "min_loss = min(history.history[\"val_loss\"])"
   ]
  },
  {
   "cell_type": "markdown",
   "metadata": {},
   "source": [
    "\n",
    "### 2.1.1 Evaluating model performance\n",
    "Let's take a look at where the model succeeds and fails, to help gain inutition into the performance. A list of performance metrics I'm interested in:\n",
    "1. Precision (how many lines that the model thinks are \"funny\" are actually funny.\n",
    "2. Recall (how many lines that are actually funny does the model find).\n",
    "3. Example false positives and negatives."
   ]
  },
  {
   "cell_type": "code",
   "execution_count": 70,
   "metadata": {},
   "outputs": [],
   "source": [
    "y_pred = model.predict(x_val_encoded).squeeze()\n",
    "\n",
    "def Precision(y,y_pred):\n",
    "    precision = np.sum(y_pred==1 & y==0)/np.sum(y_pred)\n",
    "    return precision\n",
    "\n",
    "def Recall(y,y_pred):\n",
    "    recall = np.sum(y_pred==1 & y==0)/np.sum(y_pred)\n",
    "    recall = np.sum(y_pred==1)/np.sum(y==1)\n",
    "    \n",
    "def Pull_examples(y,y_pred,x,num_examples=3):\n",
    "    # find the entries where the prediction was maximally off(either positive or negative)\n",
    "    idx = np.argsort(y_pred-y)\n",
    "    print('\\n\\n\\nFALSE POSTITIVE:')\n",
    "    for ex in range(num_examples):\n",
    "        print(x[idx[0+ex]])\n",
    "        print()\n",
    "    print('\\n\\n\\nFALSE NEGATIVE:')\n",
    "    for ex in range(num_examples):\n",
    "        print(x[idx[-1-ex]])\n",
    "        print()"
   ]
  },
  {
   "cell_type": "code",
   "execution_count": 71,
   "metadata": {},
   "outputs": [
    {
     "name": "stdout",
     "output_type": "stream",
     "text": [
      "\n",
      "\n",
      "\n",
      "FALSE POSTITIVE:\n",
      " From NPR and WBEZ Chicago, this is WAIT WAIT ...DON'T TELL ME, the NPR News quiz. I'm beloved anchorman, Bill Kurtis.\n",
      "\n",
      " And Jennifer Lopez, who fulfills the diva quotient for the show. And at the last minute, they announced a surprise fourth judge, J-Lo's butt.\n",
      "\n",
      " From NPR and WBEZ Chicago, this is WAIT WAIT ...DON'T TELL ME, the NPR News quiz. I'm legendary anchorman Bill Kurtis.\n",
      "\n",
      "\n",
      "\n",
      "\n",
      "FALSE NEGATIVE:\n",
      " ...Or C, he got out of truck to inspect the hydrant and locked himself out of the truck. Meanwhile, the flooding from the fire hydrant caused a sinkhole. He kicked in the back window of his truck, got in to drive away but he drove back into the sinkhole.\n",
      "\n",
      " Sausages of course play a large role in the civic life of many communities, such as which of these? A, the town of Chico, California which elects a Blood Sausage Queen every May 1st. B, the town of Elmore, Ohio which rings in the New Year with their famous Sausage Drop. Or C, the town of Basset, Nebraska which annually features the world's largest living sausage, people stuffed into a tube, at their 4th of July picnic.\n",
      "\n",
      " The email, which was sent out to 200 new students, congratulated Mr. Panda Tiger Test Test AAAAAHHHHH Kung-Fu on his admission to LSE and wish him luck on the coming school year. School officials assured students that the email was caused by a technical glitch, but those claims were undermined by a section letter informing Mr. Panda that Thursday was all-you-can-eat bamboo night at the cafeteria.\n",
      "\n"
     ]
    }
   ],
   "source": [
    "Pull_examples(y_val,y_pred,x_val,num_examples=3)"
   ]
  },
  {
   "cell_type": "markdown",
   "metadata": {},
   "source": [
    "## 2.2 Optimize model <a name='rnn-optimize'></a>\n",
    "This time I will use a random search to optimize over several possible parameters:\n",
    "1. Number of recurrent units\n",
    "2. Dropout percentage\n",
    "3. Batch Size\n",
    "\n",
    "If I were to change the model architecture more dramatically, there would certainly be other choices of parameters, but this will give me an initial sense. There is an sklearn wrapper for keras which could probably be useful here. However, at the moment I don't have internet access so I can't read the documentation for it :(. So I'll just hard-code something, and perhaps come back later and change things up."
   ]
  },
  {
   "cell_type": "code",
   "execution_count": 82,
   "metadata": {
    "scrolled": true
   },
   "outputs": [],
   "source": [
    "# support function for random_search: Select a random value for each parameter being tested\n",
    "def Select_Parameters(drops_to_test,num_units_to_test,batch_size_to_test,num_dense_to_test,sequence_length_to_test):\n",
    "    # randomly select parameters in the specified ranges\n",
    "    drop = np.random.uniform(low = drops_to_test[0],high=drops_to_test[1])\n",
    "    num_units = np.random.randint(low = num_units_to_test[0],high  = num_units_to_test[1])\n",
    "    batch_size = np.random.randint(low = batch_size_to_test[0],high = batch_size_to_test[1])\n",
    "    num_dense = np.random.randint(low = num_dense_to_test[0],high = num_dense_to_test[1])\n",
    "    sequence_length = np.random.randint(low = sequence_length_to_test[0],high = sequence_length_to_test[1])\n",
    "    \n",
    "    \n",
    "    # Report the conditions so we can track performance as we go\n",
    "    print(f'Training model with {num_units}  units in the recurrent layer')\n",
    "    print(f'Training model with dropout at {drop*100}%')\n",
    "    print(f'Training model with batch size {batch_size}')\n",
    "    print(f'Training model with sequence length {sequence_length}')\n",
    "    print(f'Training model with {num_dense} units in the fully-connected layer')\n",
    "    \n",
    "    return drop,num_units,batch_size,num_dense,sequence_length\n",
    "\n",
    "def random_search(model_fun = generate_model,\n",
    "                  num_runs = 1, \n",
    "                  drops_to_test=[.1,.5],\n",
    "                  num_units_to_test=[50,200],\n",
    "                  batch_size_to_test = [32,240],\n",
    "                  num_dense_to_test = [32,240],\n",
    "                  sequence_length_to_test = [10,50],\n",
    "                  patience=1,\n",
    "                 ):\n",
    "    \n",
    "    # Callback to stop learning when the network stops improving\n",
    "    early_stopping = EarlyStopping(monitor='val_loss',patience = patience, restore_best_weights=True)\n",
    "    \n",
    "    # Report expected baseline accuracy\n",
    "    print(f'baseline accuracy is: {1-np.mean(y_train)}')\n",
    "    \n",
    "    # intialize results vector\n",
    "    random_search_results = pd.DataFrame({'dropout': [],\n",
    "                                    'num_units': [],\n",
    "                                    'num_dense': [],\n",
    "                                    'batch_size':[],\n",
    "                                    'run_time_m':[],\n",
    "                                    'min_val_loss':[],\n",
    "                                    'val_loss':[],\n",
    "                                    'val_acc':[],\n",
    "                                    'train_loss':[],\n",
    "                                    'train_acc':[],\n",
    "                                   })\n",
    "    \n",
    "    # Randomly generate models with parameters in the specified ranges, and report their performance\n",
    "    for run in range(num_runs):\n",
    "        print(f'Run number {run}:')\n",
    "        \n",
    "        drop,num_units,batch_size,num_dense,sequence_length = Select_Parameters(drops_to_test,\n",
    "                                                            num_units_to_test,\n",
    "                                                            batch_size_to_test,\n",
    "                                                            num_dense_to_test,\n",
    "                                                            sequence_length_to_test)\n",
    "\n",
    "        # Time the computation\n",
    "        start = time.time()\n",
    "\n",
    "        # Generate a model with the specified parameters\n",
    "        model = model_fun(num_recurrent = num_units,drop_prob=drop,num_dense=num_dense)\n",
    "        \n",
    "        history = model.fit(x=[x_train_encoded[:,-sequence_length:]],\n",
    "                      y=y_train,\n",
    "                      batch_size=batch_size,\n",
    "                      epochs=30,\n",
    "                      shuffle=True,\n",
    "                      validation_data = ([x_val_encoded[:,-sequence_length:]],y_val),\n",
    "                      callbacks=[early_stopping],\n",
    "                      verbose=1,\n",
    "                     )\n",
    "\n",
    "        # Calculate the run time\n",
    "        end = time.time()\n",
    "\n",
    "        # Save the results\n",
    "        random_search_results = random_search_results.append(  \n",
    "                                        {'dropout': drop,\n",
    "                                        'num_units': num_units,\n",
    "                                        'batch_size':batch_size,\n",
    "                                        'run_time_m':(end - start)/60,\n",
    "                                        'min_val_loss':min(history.history[\"val_loss\"]),\n",
    "                                        'val_loss':history.history[\"val_loss\"],\n",
    "                                        'val_acc':history.history[\"val_acc\"],\n",
    "                                        'train_loss':history.history[\"loss\"],\n",
    "                                        'train_acc':history.history[\"acc\"],\n",
    "                                         'num_dense':num_dense,\n",
    "                                       },ignore_index=True)\n",
    "\n",
    "        # Report the results\n",
    "        print(f'minimum val loss is {min(history.history[\"val_loss\"])}')\n",
    "        print(f'maximum val accuracy is {max(history.history[\"val_acc\"])}')\n",
    "        print(f'Run time = {(end - start)/60} mins')\n",
    "        print('')\n",
    "        print('')\n",
    "\n",
    "        # Plot the performance\n",
    "        plt.plot(history.history['loss'],'b')\n",
    "        plt.plot(history.history['val_loss'],'r')\n",
    "        min_loss = min(history.history[\"val_loss\"])\n",
    "        \n",
    "        # If this is the first run, or if this is the best model so far, save the model\n",
    "        if run==0 or min_loss<best_val:\n",
    "            best_model = model\n",
    "            best_val = min_loss\n",
    "        \n",
    "    # When we have finished testing, return the results\n",
    "    return random_search_results,best_model"
   ]
  },
  {
   "cell_type": "code",
   "execution_count": null,
   "metadata": {
    "scrolled": true
   },
   "outputs": [],
   "source": [
    "# set parameter ranges to test via grid parameter search\n",
    "random_search_results,best_model = random_search(model_fun = generate_model,\n",
    "                                                  num_runs = 20, \n",
    "                                                  drops_to_test=[0.1,0.5],\n",
    "                                                  num_units_to_test=[32,256],\n",
    "                                                  batch_size_to_test = [32,256],\n",
    "                                                  sequence_length_to_test = [10,100],\n",
    "                                                 )"
   ]
  },
  {
   "cell_type": "code",
   "execution_count": 76,
   "metadata": {},
   "outputs": [
    {
     "data": {
      "text/html": [
       "<div>\n",
       "<style scoped>\n",
       "    .dataframe tbody tr th:only-of-type {\n",
       "        vertical-align: middle;\n",
       "    }\n",
       "\n",
       "    .dataframe tbody tr th {\n",
       "        vertical-align: top;\n",
       "    }\n",
       "\n",
       "    .dataframe thead th {\n",
       "        text-align: right;\n",
       "    }\n",
       "</style>\n",
       "<table border=\"1\" class=\"dataframe\">\n",
       "  <thead>\n",
       "    <tr style=\"text-align: right;\">\n",
       "      <th></th>\n",
       "      <th>dropout</th>\n",
       "      <th>num_units</th>\n",
       "      <th>num_dense</th>\n",
       "      <th>batch_size</th>\n",
       "      <th>run_time_m</th>\n",
       "      <th>min_val_loss</th>\n",
       "      <th>val_loss</th>\n",
       "      <th>val_acc</th>\n",
       "      <th>train_loss</th>\n",
       "      <th>train_acc</th>\n",
       "    </tr>\n",
       "  </thead>\n",
       "  <tbody>\n",
       "    <tr>\n",
       "      <th>5</th>\n",
       "      <td>0.480034</td>\n",
       "      <td>143.0</td>\n",
       "      <td>152.0</td>\n",
       "      <td>208.0</td>\n",
       "      <td>2.768798</td>\n",
       "      <td>0.470940</td>\n",
       "      <td>[0.5040455156358666, 0.4821566498072781, 0.483...</td>\n",
       "      <td>[0.778684635918402, 0.7886184962310848, 0.7887...</td>\n",
       "      <td>[0.4884637821966057, 0.40403453878561274, 0.39...</td>\n",
       "      <td>[0.7976054843470916, 0.848266873615663, 0.8487...</td>\n",
       "    </tr>\n",
       "    <tr>\n",
       "      <th>2</th>\n",
       "      <td>0.232940</td>\n",
       "      <td>188.0</td>\n",
       "      <td>91.0</td>\n",
       "      <td>94.0</td>\n",
       "      <td>3.435988</td>\n",
       "      <td>0.473437</td>\n",
       "      <td>[0.5571371803188255, 0.4734366087398472, 0.477...</td>\n",
       "      <td>[0.7875951650094171, 0.7855484901199951, 0.787...</td>\n",
       "      <td>[0.432898991039974, 0.3930109423480117, 0.3848...</td>\n",
       "      <td>[0.8290142095887755, 0.8480641288026207, 0.849...</td>\n",
       "    </tr>\n",
       "    <tr>\n",
       "      <th>9</th>\n",
       "      <td>0.257270</td>\n",
       "      <td>209.0</td>\n",
       "      <td>65.0</td>\n",
       "      <td>241.0</td>\n",
       "      <td>2.646213</td>\n",
       "      <td>0.474413</td>\n",
       "      <td>[0.4909754705283283, 0.47441258670297975, 0.48...</td>\n",
       "      <td>[0.7682266454906124, 0.7862723202394751, 0.788...</td>\n",
       "      <td>[0.46761122765838725, 0.3976020356964119, 0.38...</td>\n",
       "      <td>[0.8055035355172931, 0.8481703285885741, 0.848...</td>\n",
       "    </tr>\n",
       "    <tr>\n",
       "      <th>0</th>\n",
       "      <td>0.305292</td>\n",
       "      <td>187.0</td>\n",
       "      <td>75.0</td>\n",
       "      <td>110.0</td>\n",
       "      <td>6.192417</td>\n",
       "      <td>0.474544</td>\n",
       "      <td>[0.5070246809429404, 0.5059612217979546, 0.475...</td>\n",
       "      <td>[0.7887183347177404, 0.7885935369776264, 0.788...</td>\n",
       "      <td>[0.44984201756731773, 0.3987695455257642, 0.38...</td>\n",
       "      <td>[0.8220720301525489, 0.8478806641233742, 0.848...</td>\n",
       "    </tr>\n",
       "    <tr>\n",
       "      <th>7</th>\n",
       "      <td>0.198362</td>\n",
       "      <td>191.0</td>\n",
       "      <td>127.0</td>\n",
       "      <td>121.0</td>\n",
       "      <td>3.059532</td>\n",
       "      <td>0.474975</td>\n",
       "      <td>[0.4779636247854591, 0.4749747405579723, 0.482...</td>\n",
       "      <td>[0.7879945078905373, 0.7853238481655856, 0.787...</td>\n",
       "      <td>[0.4321609545246945, 0.3929390821139405, 0.383...</td>\n",
       "      <td>[0.8291976400070051, 0.8485082527868787, 0.849...</td>\n",
       "    </tr>\n",
       "    <tr>\n",
       "      <th>1</th>\n",
       "      <td>0.170825</td>\n",
       "      <td>252.0</td>\n",
       "      <td>203.0</td>\n",
       "      <td>237.0</td>\n",
       "      <td>3.750361</td>\n",
       "      <td>0.477735</td>\n",
       "      <td>[0.5100076123731764, 0.4822756840713191, 0.477...</td>\n",
       "      <td>[0.788618494142356, 0.7881692262991945, 0.7835...</td>\n",
       "      <td>[0.44598406123851125, 0.3960894197688849, 0.38...</td>\n",
       "      <td>[0.8195519906846992, 0.847108233746753, 0.8489...</td>\n",
       "    </tr>\n",
       "    <tr>\n",
       "      <th>6</th>\n",
       "      <td>0.411715</td>\n",
       "      <td>65.0</td>\n",
       "      <td>134.0</td>\n",
       "      <td>155.0</td>\n",
       "      <td>2.268429</td>\n",
       "      <td>0.477853</td>\n",
       "      <td>[0.4818878290817024, 0.47856985823456216, 0.47...</td>\n",
       "      <td>[0.7878447521436561, 0.7884936969883951, 0.787...</td>\n",
       "      <td>[0.4775980539627836, 0.4036482155302886, 0.395...</td>\n",
       "      <td>[0.806362846349558, 0.8482475634637321, 0.8484...</td>\n",
       "    </tr>\n",
       "    <tr>\n",
       "      <th>8</th>\n",
       "      <td>0.223256</td>\n",
       "      <td>152.0</td>\n",
       "      <td>187.0</td>\n",
       "      <td>93.0</td>\n",
       "      <td>3.648805</td>\n",
       "      <td>0.478958</td>\n",
       "      <td>[0.4858787860976583, 0.502092149223294, 0.4789...</td>\n",
       "      <td>[0.7847497832235082, 0.7879196304410908, 0.780...</td>\n",
       "      <td>[0.4308064011565746, 0.3931407399266236, 0.384...</td>\n",
       "      <td>[0.8312735345069651, 0.8481316977823933, 0.849...</td>\n",
       "    </tr>\n",
       "    <tr>\n",
       "      <th>4</th>\n",
       "      <td>0.118791</td>\n",
       "      <td>143.0</td>\n",
       "      <td>84.0</td>\n",
       "      <td>151.0</td>\n",
       "      <td>1.696210</td>\n",
       "      <td>0.482490</td>\n",
       "      <td>[0.4824901472030025, 0.5342482152613572, 0.487...</td>\n",
       "      <td>[0.7857731168002028, 0.7885685746847996, 0.788...</td>\n",
       "      <td>[0.4373601455003688, 0.39381394311591467, 0.38...</td>\n",
       "      <td>[0.8258569072670512, 0.8483344586519151, 0.848...</td>\n",
       "    </tr>\n",
       "    <tr>\n",
       "      <th>3</th>\n",
       "      <td>0.274953</td>\n",
       "      <td>255.0</td>\n",
       "      <td>224.0</td>\n",
       "      <td>180.0</td>\n",
       "      <td>120.823574</td>\n",
       "      <td>0.488063</td>\n",
       "      <td>[0.5157119187800816, 0.5105283856726639, 0.498...</td>\n",
       "      <td>[0.7469362272434313, 0.788893049462196, 0.7890...</td>\n",
       "      <td>[0.4466066704853467, 0.39749745058198455, 0.39...</td>\n",
       "      <td>[0.8226610036548689, 0.8482572191917402, 0.848...</td>\n",
       "    </tr>\n",
       "  </tbody>\n",
       "</table>\n",
       "</div>"
      ],
      "text/plain": [
       "    dropout  num_units  num_dense  batch_size  run_time_m  min_val_loss  \\\n",
       "5  0.480034      143.0      152.0       208.0    2.768798      0.470940   \n",
       "2  0.232940      188.0       91.0        94.0    3.435988      0.473437   \n",
       "9  0.257270      209.0       65.0       241.0    2.646213      0.474413   \n",
       "0  0.305292      187.0       75.0       110.0    6.192417      0.474544   \n",
       "7  0.198362      191.0      127.0       121.0    3.059532      0.474975   \n",
       "1  0.170825      252.0      203.0       237.0    3.750361      0.477735   \n",
       "6  0.411715       65.0      134.0       155.0    2.268429      0.477853   \n",
       "8  0.223256      152.0      187.0        93.0    3.648805      0.478958   \n",
       "4  0.118791      143.0       84.0       151.0    1.696210      0.482490   \n",
       "3  0.274953      255.0      224.0       180.0  120.823574      0.488063   \n",
       "\n",
       "                                            val_loss  \\\n",
       "5  [0.5040455156358666, 0.4821566498072781, 0.483...   \n",
       "2  [0.5571371803188255, 0.4734366087398472, 0.477...   \n",
       "9  [0.4909754705283283, 0.47441258670297975, 0.48...   \n",
       "0  [0.5070246809429404, 0.5059612217979546, 0.475...   \n",
       "7  [0.4779636247854591, 0.4749747405579723, 0.482...   \n",
       "1  [0.5100076123731764, 0.4822756840713191, 0.477...   \n",
       "6  [0.4818878290817024, 0.47856985823456216, 0.47...   \n",
       "8  [0.4858787860976583, 0.502092149223294, 0.4789...   \n",
       "4  [0.4824901472030025, 0.5342482152613572, 0.487...   \n",
       "3  [0.5157119187800816, 0.5105283856726639, 0.498...   \n",
       "\n",
       "                                             val_acc  \\\n",
       "5  [0.778684635918402, 0.7886184962310848, 0.7887...   \n",
       "2  [0.7875951650094171, 0.7855484901199951, 0.787...   \n",
       "9  [0.7682266454906124, 0.7862723202394751, 0.788...   \n",
       "0  [0.7887183347177404, 0.7885935369776264, 0.788...   \n",
       "7  [0.7879945078905373, 0.7853238481655856, 0.787...   \n",
       "1  [0.788618494142356, 0.7881692262991945, 0.7835...   \n",
       "6  [0.7878447521436561, 0.7884936969883951, 0.787...   \n",
       "8  [0.7847497832235082, 0.7879196304410908, 0.780...   \n",
       "4  [0.7857731168002028, 0.7885685746847996, 0.788...   \n",
       "3  [0.7469362272434313, 0.788893049462196, 0.7890...   \n",
       "\n",
       "                                          train_loss  \\\n",
       "5  [0.4884637821966057, 0.40403453878561274, 0.39...   \n",
       "2  [0.432898991039974, 0.3930109423480117, 0.3848...   \n",
       "9  [0.46761122765838725, 0.3976020356964119, 0.38...   \n",
       "0  [0.44984201756731773, 0.3987695455257642, 0.38...   \n",
       "7  [0.4321609545246945, 0.3929390821139405, 0.383...   \n",
       "1  [0.44598406123851125, 0.3960894197688849, 0.38...   \n",
       "6  [0.4775980539627836, 0.4036482155302886, 0.395...   \n",
       "8  [0.4308064011565746, 0.3931407399266236, 0.384...   \n",
       "4  [0.4373601455003688, 0.39381394311591467, 0.38...   \n",
       "3  [0.4466066704853467, 0.39749745058198455, 0.39...   \n",
       "\n",
       "                                           train_acc  \n",
       "5  [0.7976054843470916, 0.848266873615663, 0.8487...  \n",
       "2  [0.8290142095887755, 0.8480641288026207, 0.849...  \n",
       "9  [0.8055035355172931, 0.8481703285885741, 0.848...  \n",
       "0  [0.8220720301525489, 0.8478806641233742, 0.848...  \n",
       "7  [0.8291976400070051, 0.8485082527868787, 0.849...  \n",
       "1  [0.8195519906846992, 0.847108233746753, 0.8489...  \n",
       "6  [0.806362846349558, 0.8482475634637321, 0.8484...  \n",
       "8  [0.8312735345069651, 0.8481316977823933, 0.849...  \n",
       "4  [0.8258569072670512, 0.8483344586519151, 0.848...  \n",
       "3  [0.8226610036548689, 0.8482572191917402, 0.848...  "
      ]
     },
     "execution_count": 76,
     "metadata": {},
     "output_type": "execute_result"
    }
   ],
   "source": [
    "random_search_results.sort_values(['min_val_loss']).head(10)"
   ]
  },
  {
   "cell_type": "code",
   "execution_count": 77,
   "metadata": {},
   "outputs": [
    {
     "data": {
      "text/plain": [
       "dropout        -0.380925\n",
       "num_units       0.242803\n",
       "num_dense       0.497649\n",
       "batch_size      0.013149\n",
       "run_time_m      0.750302\n",
       "min_val_loss    1.000000\n",
       "Name: min_val_loss, dtype: float64"
      ]
     },
     "execution_count": 77,
     "metadata": {},
     "output_type": "execute_result"
    }
   ],
   "source": [
    "random_search_results.corr()['min_val_loss']"
   ]
  },
  {
   "cell_type": "code",
   "execution_count": 81,
   "metadata": {},
   "outputs": [
    {
     "data": {
      "text/plain": [
       "[<matplotlib.lines.Line2D at 0x143488898>]"
      ]
     },
     "execution_count": 81,
     "metadata": {},
     "output_type": "execute_result"
    },
    {
     "data": {
      "image/png": "[encoded data removed]",
      "text/plain": [
       "<Figure size 432x288 with 1 Axes>"
      ]
     },
     "metadata": {
      "needs_background": "light"
     },
     "output_type": "display_data"
    }
   ],
   "source": [
    "plt.plot(random_search_results.num_units,random_search_results.min_val_loss,'.')"
   ]
  }
 ],
 "metadata": {
  "kernelspec": {
   "display_name": "py_36_env",
   "language": "python",
   "name": "py_36_env"
  },
  "language_info": {
   "codemirror_mode": {
    "name": "ipython",
    "version": 3
   },
   "file_extension": ".py",
   "mimetype": "text/x-python",
   "name": "python",
   "nbconvert_exporter": "python",
   "pygments_lexer": "ipython3",
   "version": "3.6.5"
  }
 },
 "nbformat": 4,
 "nbformat_minor": 2
}
