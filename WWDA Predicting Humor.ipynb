{
 "cells": [
  {
   "cell_type": "markdown",
   "metadata": {},
   "source": [
    "# Wait Wait, Don't Analyze Me!"
   ]
  },
  {
   "cell_type": "markdown",
   "metadata": {},
   "source": [
    "![NPR logo](https://media.npr.org/branding/programs/wait-wait-dont-tell-me/branding_main-c5920a167d6a5d445ce86fac30b90454223b6b57.png \"One nerd's attempt to learn everything there is to know about NPR's greatest quiz show.\")\n"
   ]
  },
  {
   "cell_type": "markdown",
   "metadata": {},
   "source": [
    "# Introduction\n",
    "[Wait Wait, Don't Tell Me!](https://www.npr.org/programs/wait-wait-dont-tell-me/) is NPR's longest-running news quiz show. Contestents call in to answer questions about the week's news, and a rotating cast of three panelists make jokes and parody newsworthy (and not-so-newsworthy) current events. Listening to \"Wait wait\" has been a highlight of my week since I was a kid, and it remains one of NPR's most popular segments. So what better way to show my appreciation than to take it apart and see what makes it tick?\n",
    "\n",
    "For this project, I have pulled text transcripts of each episode of \"Wait, Wait\", storing them as a MySQL library. I have two goals:\n",
    "1. Understand and predict jokes in the program.\n",
    "2. Create a \"Wait wait\" transcript generator, so that I don't have to wait a whole week between episodes!"
   ]
  },
  {
   "cell_type": "markdown",
   "metadata": {},
   "source": [
    "# Section 0: Initial data exploration"
   ]
  },
  {
   "cell_type": "markdown",
   "metadata": {},
   "source": [
    "## 0.1 Loading the data\n",
    "Before I can analyze the data, I must first load it and process it. To accomplish this, I wrote a simple set of  functions to load in text files containing the transcripts, figure out who the speakers are, and separate the text blocks into a list of words.\n",
    "\n",
    "For full discussion of these functions, take a look at my previous Jupyter notebook, \"WWDA Analyzing text.ipynb\"."
   ]
  },
  {
   "cell_type": "code",
   "execution_count": 62,
   "metadata": {},
   "outputs": [],
   "source": [
    "import pandas as pd\n",
    "import numpy as np\n",
    "import os\n",
    "import matplotlib.pyplot as plt\n",
    "import keras\n",
    "import mysql.connector\n",
    "import re\n",
    "from sklearn.preprocessing import QuantileTransformer\n",
    "import time\n",
    "import matplotlib.cm as cm\n",
    "\n",
    "%matplotlib inline\n",
    "\n",
    "# change the default font size in figures to be larger\n",
    "font = {'size'   : 15}\n",
    "\n",
    "plt.rc('font', **font)"
   ]
  },
  {
   "cell_type": "code",
   "execution_count": 63,
   "metadata": {},
   "outputs": [],
   "source": [
    "# connect to the database of wait wait don't tell me transcripts\n",
    "cnx = mysql.connector.connect(database='wait_wait',\n",
    "                              user='root')"
   ]
  },
  {
   "cell_type": "code",
   "execution_count": 64,
   "metadata": {},
   "outputs": [],
   "source": [
    "# function to pull some transcripts from the database\n",
    "def pull_transcript(n=5):\n",
    "    # instantiate a cursor to select data from the database\n",
    "    curs = cnx.cursor()\n",
    "    curs.execute(f'select * from transcripts limit {n}')\n",
    "    \n",
    "    # pull the data and convert to a pandas dataframe\n",
    "    df = pd.DataFrame(data = np.array(curs.fetchmany(n)),columns=curs.column_names)\n",
    "    df = df.set_index('id')\n",
    "    \n",
    "    # close the cursor\n",
    "    curs.close()\n",
    "    return df"
   ]
  },
  {
   "cell_type": "code",
   "execution_count": 65,
   "metadata": {},
   "outputs": [],
   "source": [
    "num_transcripts = 4131\n",
    "transcript_df = pull_transcript(n=num_transcripts)"
   ]
  },
  {
   "cell_type": "code",
   "execution_count": 66,
   "metadata": {},
   "outputs": [],
   "source": [
    "# We want to go ahead and split the entries into testing, training, and validation sets,\n",
    "# so that we don't over-fit.\n",
    "np.random.seed(42)\n",
    "transcript_df['train'] = np.random.rand(num_transcripts)>.2\n",
    "transcript_df['val'] = (transcript_df['train']*np.random.rand(num_transcripts))>.8\n",
    "transcript_df['train'] = transcript_df['train'] & ~transcript_df['val']"
   ]
  },
  {
   "cell_type": "code",
   "execution_count": 6,
   "metadata": {},
   "outputs": [],
   "source": [
    "# Support function that pulls lines from the transcript and labels them by segment and air date\n",
    "# Note: I feel I should be able to eliminate the for loop, as this can be somewhat\n",
    "# time-consuming, but it gets the job done for now.\n",
    "def extract_lines(transcript_numbers):\n",
    "    \n",
    "    # initialize list\n",
    "    df_list = []\n",
    "    \n",
    "    # separate the lines\n",
    "    lines = transcript_df['transcript'].str.split('\\n    ')\n",
    "    \n",
    "    # make each line into a row in a dataframe, labeled by transcript number\n",
    "    for df_idx,line_idx in enumerate(transcript_numbers):\n",
    "        df_list.append(pd.DataFrame(lines[line_idx],columns=['lines']))\n",
    "        df_list[df_idx].loc[:,'line_num'] = df_list[df_idx].index\n",
    "        df_list[df_idx].loc[:,'transcript_id'] = line_idx\n",
    "    \n",
    "    # join the lines from all transcripts, and add info from the transcript dataframe\n",
    "    lines_df = pd.concat(df_list)\n",
    "    lines_df = lines_df.merge(transcript_df.loc[:,['aired_at','segment','train','val']],\n",
    "                              left_on='transcript_id',right_on='id',copy=False)\n",
    "    lines_df.set_index(['transcript_id','line_num'],inplace=True)\n",
    "    \n",
    "    return lines_df"
   ]
  },
  {
   "cell_type": "code",
   "execution_count": 7,
   "metadata": {},
   "outputs": [],
   "source": [
    "def line_info(transcript_numbers):\n",
    "    \n",
    "    # extract the transcript, and divide it by lines\n",
    "    df = extract_lines(transcript_numbers) # turn the lines into a dataframe\n",
    "    \n",
    "    # if the line contains \"LAUGHTER\", mark the previous line as \"funny\"\n",
    "    df['funny'] = df['lines'].str.contains('LAUGHTER')\n",
    "    df['funny'] = df.funny.shift(-1) # need funny to modify the previous line\n",
    "    \n",
    "    # if the line contains \"APPLAUSE\", mark the previous line as \"clapping\"\n",
    "    df['clapping'] = df['lines'].str.contains('APPLAUSE')\n",
    "    df['clapping'] = df['lines'].str.contains('CLAPPING')\n",
    "    df['clapping'] = df['lines'].str.contains('CHEERING')\n",
    "    df['clapping'] = df.clapping.shift(-1)\n",
    "\n",
    "    # for the remaining lines, identify the speaker using regular expressions\n",
    "    df['speaker'] = df['lines'].str.extract(r'([A-Z]+:)',expand=False).str.replace(r':','')\n",
    "    df['lines'] = df['lines'].str.replace(r'.+?(?=:)','').str.replace(r':','')\n",
    "    df['speaker'] = df['speaker'].str.replace('JR','BLOUNT') # disambiguating Roy Blount Jr\n",
    "    df['speaker'] = df['speaker'].str.replace('HOST','SAGAL') # sometimes refers to Sagal as host\n",
    "    \n",
    "    # drop the lines with no speaker (Applause markers, empty lines, etc.)\n",
    "    df = df.dropna()\n",
    "    \n",
    "    # Create a column with the number of separated words\n",
    "    df['num_words'] = df.lines.str.split().str.len()\n",
    "    \n",
    "    # Normalize the number of words with a quantile transformer\n",
    "    QT = QuantileTransformer(n_quantiles=1000,output_distribution='uniform')\n",
    "    QT.fit(df.num_words.values.reshape(-1,1)) \n",
    "    df['uniform_words'] = QT.transform(df.num_words.values.reshape(-1,1))\n",
    "    \n",
    "    # Create a column with whether the previous line was funny (for predictions)\n",
    "    df['prev_line_funny'] = df.funny.shift(1)\n",
    "\n",
    "    return df"
   ]
  },
  {
   "cell_type": "code",
   "execution_count": 8,
   "metadata": {},
   "outputs": [
    {
     "data": {
      "text/html": [
       "<div>\n",
       "<style scoped>\n",
       "    .dataframe tbody tr th:only-of-type {\n",
       "        vertical-align: middle;\n",
       "    }\n",
       "\n",
       "    .dataframe tbody tr th {\n",
       "        vertical-align: top;\n",
       "    }\n",
       "\n",
       "    .dataframe thead th {\n",
       "        text-align: right;\n",
       "    }\n",
       "</style>\n",
       "<table border=\"1\" class=\"dataframe\">\n",
       "  <thead>\n",
       "    <tr style=\"text-align: right;\">\n",
       "      <th></th>\n",
       "      <th></th>\n",
       "      <th>lines</th>\n",
       "      <th>aired_at</th>\n",
       "      <th>segment</th>\n",
       "      <th>train</th>\n",
       "      <th>val</th>\n",
       "      <th>funny</th>\n",
       "      <th>clapping</th>\n",
       "      <th>speaker</th>\n",
       "      <th>num_words</th>\n",
       "      <th>uniform_words</th>\n",
       "      <th>prev_line_funny</th>\n",
       "    </tr>\n",
       "    <tr>\n",
       "      <th>transcript_id</th>\n",
       "      <th>line_num</th>\n",
       "      <th></th>\n",
       "      <th></th>\n",
       "      <th></th>\n",
       "      <th></th>\n",
       "      <th></th>\n",
       "      <th></th>\n",
       "      <th></th>\n",
       "      <th></th>\n",
       "      <th></th>\n",
       "      <th></th>\n",
       "      <th></th>\n",
       "    </tr>\n",
       "  </thead>\n",
       "  <tbody>\n",
       "    <tr>\n",
       "      <th rowspan=\"5\" valign=\"top\">1</th>\n",
       "      <th>4</th>\n",
       "      <td>From NPR and WBEZ Chicago, this is WAIT WAIT....</td>\n",
       "      <td>2019-05-04</td>\n",
       "      <td>who</td>\n",
       "      <td>True</td>\n",
       "      <td>False</td>\n",
       "      <td>True</td>\n",
       "      <td>False</td>\n",
       "      <td>KURTIS</td>\n",
       "      <td>25</td>\n",
       "      <td>8.373373e-01</td>\n",
       "      <td>NaN</td>\n",
       "    </tr>\n",
       "    <tr>\n",
       "      <th>6</th>\n",
       "      <td>I'm Bill Kurtis. And here's your host at the ...</td>\n",
       "      <td>2019-05-04</td>\n",
       "      <td>who</td>\n",
       "      <td>True</td>\n",
       "      <td>False</td>\n",
       "      <td>False</td>\n",
       "      <td>False</td>\n",
       "      <td>KURTIS</td>\n",
       "      <td>17</td>\n",
       "      <td>7.372372e-01</td>\n",
       "      <td>True</td>\n",
       "    </tr>\n",
       "    <tr>\n",
       "      <th>7</th>\n",
       "      <td></td>\n",
       "      <td>2019-05-04</td>\n",
       "      <td>who</td>\n",
       "      <td>True</td>\n",
       "      <td>False</td>\n",
       "      <td>False</td>\n",
       "      <td>False</td>\n",
       "      <td>SAGAL</td>\n",
       "      <td>0</td>\n",
       "      <td>1.000000e-07</td>\n",
       "      <td>False</td>\n",
       "    </tr>\n",
       "    <tr>\n",
       "      <th>10</th>\n",
       "      <td>Thank you so much. We have a very interesting...</td>\n",
       "      <td>2019-05-04</td>\n",
       "      <td>who</td>\n",
       "      <td>True</td>\n",
       "      <td>False</td>\n",
       "      <td>True</td>\n",
       "      <td>False</td>\n",
       "      <td>SAGAL</td>\n",
       "      <td>56</td>\n",
       "      <td>9.644645e-01</td>\n",
       "      <td>False</td>\n",
       "    </tr>\n",
       "    <tr>\n",
       "      <th>12</th>\n",
       "      <td>But first, as many of you know, the NPR podca...</td>\n",
       "      <td>2019-05-04</td>\n",
       "      <td>who</td>\n",
       "      <td>True</td>\n",
       "      <td>False</td>\n",
       "      <td>True</td>\n",
       "      <td>False</td>\n",
       "      <td>SAGAL</td>\n",
       "      <td>53</td>\n",
       "      <td>9.589590e-01</td>\n",
       "      <td>True</td>\n",
       "    </tr>\n",
       "  </tbody>\n",
       "</table>\n",
       "</div>"
      ],
      "text/plain": [
       "                                                                    lines  \\\n",
       "transcript_id line_num                                                      \n",
       "1             4          From NPR and WBEZ Chicago, this is WAIT WAIT....   \n",
       "              6          I'm Bill Kurtis. And here's your host at the ...   \n",
       "              7                                                             \n",
       "              10         Thank you so much. We have a very interesting...   \n",
       "              12         But first, as many of you know, the NPR podca...   \n",
       "\n",
       "                          aired_at segment  train    val  funny clapping  \\\n",
       "transcript_id line_num                                                     \n",
       "1             4         2019-05-04     who   True  False   True    False   \n",
       "              6         2019-05-04     who   True  False  False    False   \n",
       "              7         2019-05-04     who   True  False  False    False   \n",
       "              10        2019-05-04     who   True  False   True    False   \n",
       "              12        2019-05-04     who   True  False   True    False   \n",
       "\n",
       "                       speaker  num_words  uniform_words prev_line_funny  \n",
       "transcript_id line_num                                                    \n",
       "1             4         KURTIS         25   8.373373e-01             NaN  \n",
       "              6         KURTIS         17   7.372372e-01            True  \n",
       "              7          SAGAL          0   1.000000e-07           False  \n",
       "              10         SAGAL         56   9.644645e-01           False  \n",
       "              12         SAGAL         53   9.589590e-01            True  "
      ]
     },
     "execution_count": 8,
     "metadata": {},
     "output_type": "execute_result"
    }
   ],
   "source": [
    "# Process the training set and show the top of the dataframe\n",
    "lines_df = line_info(transcript_df.index)\n",
    "lines_df.head()"
   ]
  },
  {
   "cell_type": "markdown",
   "metadata": {},
   "source": [
    "# 1.0 Predicting humor based on line statistics"
   ]
  },
  {
   "cell_type": "markdown",
   "metadata": {},
   "source": [
    "For a simple attempt at predicting humor, I can assess whether we can predict the funniness of a line based only on line statistics. For the statistics, I'm using the following:\n",
    "1. Length of line (shifted to have a uniform distribution)\n",
    "2. Speaker identity (As a one-hot encoding)\n",
    "3. Was the previous line funny? (funny lines may \"cluter\")"
   ]
  },
  {
   "cell_type": "markdown",
   "metadata": {},
   "source": [
    "## 1.1 Setting up the data\n",
    "Let's get everything into a really nice format for our classifiers."
   ]
  },
  {
   "cell_type": "code",
   "execution_count": 67,
   "metadata": {},
   "outputs": [],
   "source": [
    "# Add in the one-hot encoding for speakers\n",
    "# Convert speaker to categorical\n",
    "speaker_list = ['BABYLON','BLOUNT','BODDEN','BODETT','BURBANK','BURKE','CONNOR','DICKINSON','FARSAD',\n",
    "               'FELBER','FERO','GOLDTHWAIT','GROSZ','HONG','JOBRANI','KLEIN','PIERCE','POUNDSTONE','ROBERTS',\n",
    "               'ROCCA','ROURKE','SALIE','SAGAL','KURTIS','KASELL'] # As found in my previous notebook WWDA Analyzing text\n",
    "\n",
    "lines_df = pd.concat([lines_df,pd.get_dummies(lines_df.speaker).loc[:,speaker_list]],axis=1)"
   ]
  },
  {
   "cell_type": "code",
   "execution_count": 68,
   "metadata": {},
   "outputs": [],
   "source": [
    "# Add in the one-hot encoding for speakers\n",
    "segment_list = lines_df.segment.unique()\n",
    "lines_df = pd.concat([lines_df,pd.get_dummies(lines_df.segment).loc[:,segment_list]],axis=1)"
   ]
  },
  {
   "cell_type": "code",
   "execution_count": 69,
   "metadata": {},
   "outputs": [],
   "source": [
    "# Remove lines with no previous line value\n",
    "lines_df = lines_df.dropna(subset=['prev_line_funny'])"
   ]
  },
  {
   "cell_type": "code",
   "execution_count": 70,
   "metadata": {},
   "outputs": [
    {
     "data": {
      "text/html": [
       "<div>\n",
       "<style scoped>\n",
       "    .dataframe tbody tr th:only-of-type {\n",
       "        vertical-align: middle;\n",
       "    }\n",
       "\n",
       "    .dataframe tbody tr th {\n",
       "        vertical-align: top;\n",
       "    }\n",
       "\n",
       "    .dataframe thead th {\n",
       "        text-align: right;\n",
       "    }\n",
       "</style>\n",
       "<table border=\"1\" class=\"dataframe\">\n",
       "  <thead>\n",
       "    <tr style=\"text-align: right;\">\n",
       "      <th></th>\n",
       "      <th></th>\n",
       "      <th>val</th>\n",
       "      <th>uniform_words</th>\n",
       "      <th>prev_line_funny</th>\n",
       "      <th>BABYLON</th>\n",
       "      <th>BLOUNT</th>\n",
       "      <th>BODDEN</th>\n",
       "      <th>BODETT</th>\n",
       "      <th>BURBANK</th>\n",
       "      <th>BURKE</th>\n",
       "      <th>CONNOR</th>\n",
       "      <th>...</th>\n",
       "      <th>SAGAL</th>\n",
       "      <th>KURTIS</th>\n",
       "      <th>KASELL</th>\n",
       "      <th>who</th>\n",
       "      <th>panel</th>\n",
       "      <th>bluff</th>\n",
       "      <th>job</th>\n",
       "      <th>limerick</th>\n",
       "      <th>lightning</th>\n",
       "      <th>predictions</th>\n",
       "    </tr>\n",
       "    <tr>\n",
       "      <th>transcript_id</th>\n",
       "      <th>line_num</th>\n",
       "      <th></th>\n",
       "      <th></th>\n",
       "      <th></th>\n",
       "      <th></th>\n",
       "      <th></th>\n",
       "      <th></th>\n",
       "      <th></th>\n",
       "      <th></th>\n",
       "      <th></th>\n",
       "      <th></th>\n",
       "      <th></th>\n",
       "      <th></th>\n",
       "      <th></th>\n",
       "      <th></th>\n",
       "      <th></th>\n",
       "      <th></th>\n",
       "      <th></th>\n",
       "      <th></th>\n",
       "      <th></th>\n",
       "      <th></th>\n",
       "      <th></th>\n",
       "    </tr>\n",
       "  </thead>\n",
       "  <tbody>\n",
       "    <tr>\n",
       "      <th rowspan=\"5\" valign=\"top\">4131</th>\n",
       "      <th>10</th>\n",
       "      <td>False</td>\n",
       "      <td>0.209710</td>\n",
       "      <td>False</td>\n",
       "      <td>0</td>\n",
       "      <td>0</td>\n",
       "      <td>0</td>\n",
       "      <td>0</td>\n",
       "      <td>0</td>\n",
       "      <td>0</td>\n",
       "      <td>0</td>\n",
       "      <td>...</td>\n",
       "      <td>1</td>\n",
       "      <td>0</td>\n",
       "      <td>0</td>\n",
       "      <td>0</td>\n",
       "      <td>0</td>\n",
       "      <td>0</td>\n",
       "      <td>0</td>\n",
       "      <td>0</td>\n",
       "      <td>0</td>\n",
       "      <td>1</td>\n",
       "    </tr>\n",
       "    <tr>\n",
       "      <th>14</th>\n",
       "      <td>False</td>\n",
       "      <td>0.291792</td>\n",
       "      <td>False</td>\n",
       "      <td>0</td>\n",
       "      <td>0</td>\n",
       "      <td>0</td>\n",
       "      <td>0</td>\n",
       "      <td>0</td>\n",
       "      <td>0</td>\n",
       "      <td>0</td>\n",
       "      <td>...</td>\n",
       "      <td>0</td>\n",
       "      <td>0</td>\n",
       "      <td>0</td>\n",
       "      <td>0</td>\n",
       "      <td>0</td>\n",
       "      <td>0</td>\n",
       "      <td>0</td>\n",
       "      <td>0</td>\n",
       "      <td>0</td>\n",
       "      <td>1</td>\n",
       "    </tr>\n",
       "    <tr>\n",
       "      <th>15</th>\n",
       "      <td>False</td>\n",
       "      <td>0.783283</td>\n",
       "      <td>False</td>\n",
       "      <td>0</td>\n",
       "      <td>0</td>\n",
       "      <td>0</td>\n",
       "      <td>0</td>\n",
       "      <td>0</td>\n",
       "      <td>0</td>\n",
       "      <td>0</td>\n",
       "      <td>...</td>\n",
       "      <td>0</td>\n",
       "      <td>0</td>\n",
       "      <td>0</td>\n",
       "      <td>0</td>\n",
       "      <td>0</td>\n",
       "      <td>0</td>\n",
       "      <td>0</td>\n",
       "      <td>0</td>\n",
       "      <td>0</td>\n",
       "      <td>1</td>\n",
       "    </tr>\n",
       "    <tr>\n",
       "      <th>20</th>\n",
       "      <td>False</td>\n",
       "      <td>0.875876</td>\n",
       "      <td>False</td>\n",
       "      <td>0</td>\n",
       "      <td>0</td>\n",
       "      <td>0</td>\n",
       "      <td>0</td>\n",
       "      <td>0</td>\n",
       "      <td>0</td>\n",
       "      <td>0</td>\n",
       "      <td>...</td>\n",
       "      <td>1</td>\n",
       "      <td>0</td>\n",
       "      <td>0</td>\n",
       "      <td>0</td>\n",
       "      <td>0</td>\n",
       "      <td>0</td>\n",
       "      <td>0</td>\n",
       "      <td>0</td>\n",
       "      <td>0</td>\n",
       "      <td>1</td>\n",
       "    </tr>\n",
       "    <tr>\n",
       "      <th>23</th>\n",
       "      <td>False</td>\n",
       "      <td>0.291792</td>\n",
       "      <td>False</td>\n",
       "      <td>0</td>\n",
       "      <td>0</td>\n",
       "      <td>0</td>\n",
       "      <td>0</td>\n",
       "      <td>0</td>\n",
       "      <td>0</td>\n",
       "      <td>0</td>\n",
       "      <td>...</td>\n",
       "      <td>1</td>\n",
       "      <td>0</td>\n",
       "      <td>0</td>\n",
       "      <td>0</td>\n",
       "      <td>0</td>\n",
       "      <td>0</td>\n",
       "      <td>0</td>\n",
       "      <td>0</td>\n",
       "      <td>0</td>\n",
       "      <td>1</td>\n",
       "    </tr>\n",
       "  </tbody>\n",
       "</table>\n",
       "<p>5 rows × 67 columns</p>\n",
       "</div>"
      ],
      "text/plain": [
       "                          val  uniform_words prev_line_funny  BABYLON  BLOUNT  \\\n",
       "transcript_id line_num                                                          \n",
       "4131          10        False       0.209710           False        0       0   \n",
       "              14        False       0.291792           False        0       0   \n",
       "              15        False       0.783283           False        0       0   \n",
       "              20        False       0.875876           False        0       0   \n",
       "              23        False       0.291792           False        0       0   \n",
       "\n",
       "                        BODDEN  BODETT  BURBANK  BURKE  CONNOR     ...       \\\n",
       "transcript_id line_num                                             ...        \n",
       "4131          10             0       0        0      0       0     ...        \n",
       "              14             0       0        0      0       0     ...        \n",
       "              15             0       0        0      0       0     ...        \n",
       "              20             0       0        0      0       0     ...        \n",
       "              23             0       0        0      0       0     ...        \n",
       "\n",
       "                        SAGAL  KURTIS  KASELL  who  panel  bluff  job  \\\n",
       "transcript_id line_num                                                  \n",
       "4131          10            1       0       0    0      0      0    0   \n",
       "              14            0       0       0    0      0      0    0   \n",
       "              15            0       0       0    0      0      0    0   \n",
       "              20            1       0       0    0      0      0    0   \n",
       "              23            1       0       0    0      0      0    0   \n",
       "\n",
       "                        limerick  lightning  predictions  \n",
       "transcript_id line_num                                    \n",
       "4131          10               0          0            1  \n",
       "              14               0          0            1  \n",
       "              15               0          0            1  \n",
       "              20               0          0            1  \n",
       "              23               0          0            1  \n",
       "\n",
       "[5 rows x 67 columns]"
      ]
     },
     "execution_count": 70,
     "metadata": {},
     "output_type": "execute_result"
    }
   ],
   "source": [
    "target = lines_df.loc[lines_df.train,'funny'].astype(int)\n",
    "line_stats = lines_df.loc[lines_df.train,:].drop(['lines','segment', 'funny', 'clapping', 'speaker', 'num_words','aired_at','train'],axis=1)\n",
    "line_stats.tail()"
   ]
  },
  {
   "cell_type": "code",
   "execution_count": 73,
   "metadata": {},
   "outputs": [
    {
     "data": {
      "text/plain": [
       "0.2894756867818279"
      ]
     },
     "execution_count": 73,
     "metadata": {},
     "output_type": "execute_result"
    }
   ],
   "source": [
    "lines_df.loc[lines_df.uniform_words>.5,'funny'].mean()"
   ]
  },
  {
   "cell_type": "code",
   "execution_count": 79,
   "metadata": {},
   "outputs": [
    {
     "data": {
      "text/html": [
       "<div>\n",
       "<style scoped>\n",
       "    .dataframe tbody tr th:only-of-type {\n",
       "        vertical-align: middle;\n",
       "    }\n",
       "\n",
       "    .dataframe tbody tr th {\n",
       "        vertical-align: top;\n",
       "    }\n",
       "\n",
       "    .dataframe thead th {\n",
       "        text-align: right;\n",
       "    }\n",
       "</style>\n",
       "<table border=\"1\" class=\"dataframe\">\n",
       "  <thead>\n",
       "    <tr style=\"text-align: right;\">\n",
       "      <th></th>\n",
       "      <th></th>\n",
       "      <th>val</th>\n",
       "      <th>uniform_words</th>\n",
       "      <th>prev_line_funny</th>\n",
       "      <th>BABYLON</th>\n",
       "      <th>BLOUNT</th>\n",
       "      <th>BODDEN</th>\n",
       "      <th>BODETT</th>\n",
       "      <th>BURBANK</th>\n",
       "      <th>BURKE</th>\n",
       "      <th>CONNOR</th>\n",
       "      <th>...</th>\n",
       "      <th>SAGAL</th>\n",
       "      <th>KURTIS</th>\n",
       "      <th>KASELL</th>\n",
       "      <th>who</th>\n",
       "      <th>panel</th>\n",
       "      <th>bluff</th>\n",
       "      <th>job</th>\n",
       "      <th>limerick</th>\n",
       "      <th>lightning</th>\n",
       "      <th>predictions</th>\n",
       "    </tr>\n",
       "    <tr>\n",
       "      <th>transcript_id</th>\n",
       "      <th>line_num</th>\n",
       "      <th></th>\n",
       "      <th></th>\n",
       "      <th></th>\n",
       "      <th></th>\n",
       "      <th></th>\n",
       "      <th></th>\n",
       "      <th></th>\n",
       "      <th></th>\n",
       "      <th></th>\n",
       "      <th></th>\n",
       "      <th></th>\n",
       "      <th></th>\n",
       "      <th></th>\n",
       "      <th></th>\n",
       "      <th></th>\n",
       "      <th></th>\n",
       "      <th></th>\n",
       "      <th></th>\n",
       "      <th></th>\n",
       "      <th></th>\n",
       "      <th></th>\n",
       "    </tr>\n",
       "  </thead>\n",
       "  <tbody>\n",
       "    <tr>\n",
       "      <th rowspan=\"5\" valign=\"top\">4131</th>\n",
       "      <th>10</th>\n",
       "      <td>False</td>\n",
       "      <td>0.209710</td>\n",
       "      <td>False</td>\n",
       "      <td>0</td>\n",
       "      <td>0</td>\n",
       "      <td>0</td>\n",
       "      <td>0</td>\n",
       "      <td>0</td>\n",
       "      <td>0</td>\n",
       "      <td>0</td>\n",
       "      <td>...</td>\n",
       "      <td>1</td>\n",
       "      <td>0</td>\n",
       "      <td>0</td>\n",
       "      <td>0</td>\n",
       "      <td>0</td>\n",
       "      <td>0</td>\n",
       "      <td>0</td>\n",
       "      <td>0</td>\n",
       "      <td>0</td>\n",
       "      <td>1</td>\n",
       "    </tr>\n",
       "    <tr>\n",
       "      <th>14</th>\n",
       "      <td>False</td>\n",
       "      <td>0.291792</td>\n",
       "      <td>False</td>\n",
       "      <td>0</td>\n",
       "      <td>0</td>\n",
       "      <td>0</td>\n",
       "      <td>0</td>\n",
       "      <td>0</td>\n",
       "      <td>0</td>\n",
       "      <td>0</td>\n",
       "      <td>...</td>\n",
       "      <td>0</td>\n",
       "      <td>0</td>\n",
       "      <td>0</td>\n",
       "      <td>0</td>\n",
       "      <td>0</td>\n",
       "      <td>0</td>\n",
       "      <td>0</td>\n",
       "      <td>0</td>\n",
       "      <td>0</td>\n",
       "      <td>1</td>\n",
       "    </tr>\n",
       "    <tr>\n",
       "      <th>15</th>\n",
       "      <td>False</td>\n",
       "      <td>0.783283</td>\n",
       "      <td>False</td>\n",
       "      <td>0</td>\n",
       "      <td>0</td>\n",
       "      <td>0</td>\n",
       "      <td>0</td>\n",
       "      <td>0</td>\n",
       "      <td>0</td>\n",
       "      <td>0</td>\n",
       "      <td>...</td>\n",
       "      <td>0</td>\n",
       "      <td>0</td>\n",
       "      <td>0</td>\n",
       "      <td>0</td>\n",
       "      <td>0</td>\n",
       "      <td>0</td>\n",
       "      <td>0</td>\n",
       "      <td>0</td>\n",
       "      <td>0</td>\n",
       "      <td>1</td>\n",
       "    </tr>\n",
       "    <tr>\n",
       "      <th>20</th>\n",
       "      <td>False</td>\n",
       "      <td>0.875876</td>\n",
       "      <td>False</td>\n",
       "      <td>0</td>\n",
       "      <td>0</td>\n",
       "      <td>0</td>\n",
       "      <td>0</td>\n",
       "      <td>0</td>\n",
       "      <td>0</td>\n",
       "      <td>0</td>\n",
       "      <td>...</td>\n",
       "      <td>1</td>\n",
       "      <td>0</td>\n",
       "      <td>0</td>\n",
       "      <td>0</td>\n",
       "      <td>0</td>\n",
       "      <td>0</td>\n",
       "      <td>0</td>\n",
       "      <td>0</td>\n",
       "      <td>0</td>\n",
       "      <td>1</td>\n",
       "    </tr>\n",
       "    <tr>\n",
       "      <th>23</th>\n",
       "      <td>False</td>\n",
       "      <td>0.291792</td>\n",
       "      <td>False</td>\n",
       "      <td>0</td>\n",
       "      <td>0</td>\n",
       "      <td>0</td>\n",
       "      <td>0</td>\n",
       "      <td>0</td>\n",
       "      <td>0</td>\n",
       "      <td>0</td>\n",
       "      <td>...</td>\n",
       "      <td>1</td>\n",
       "      <td>0</td>\n",
       "      <td>0</td>\n",
       "      <td>0</td>\n",
       "      <td>0</td>\n",
       "      <td>0</td>\n",
       "      <td>0</td>\n",
       "      <td>0</td>\n",
       "      <td>0</td>\n",
       "      <td>1</td>\n",
       "    </tr>\n",
       "  </tbody>\n",
       "</table>\n",
       "<p>5 rows × 67 columns</p>\n",
       "</div>"
      ],
      "text/plain": [
       "                          val  uniform_words prev_line_funny  BABYLON  BLOUNT  \\\n",
       "transcript_id line_num                                                          \n",
       "4131          10        False       0.209710           False        0       0   \n",
       "              14        False       0.291792           False        0       0   \n",
       "              15        False       0.783283           False        0       0   \n",
       "              20        False       0.875876           False        0       0   \n",
       "              23        False       0.291792           False        0       0   \n",
       "\n",
       "                        BODDEN  BODETT  BURBANK  BURKE  CONNOR     ...       \\\n",
       "transcript_id line_num                                             ...        \n",
       "4131          10             0       0        0      0       0     ...        \n",
       "              14             0       0        0      0       0     ...        \n",
       "              15             0       0        0      0       0     ...        \n",
       "              20             0       0        0      0       0     ...        \n",
       "              23             0       0        0      0       0     ...        \n",
       "\n",
       "                        SAGAL  KURTIS  KASELL  who  panel  bluff  job  \\\n",
       "transcript_id line_num                                                  \n",
       "4131          10            1       0       0    0      0      0    0   \n",
       "              14            0       0       0    0      0      0    0   \n",
       "              15            0       0       0    0      0      0    0   \n",
       "              20            1       0       0    0      0      0    0   \n",
       "              23            1       0       0    0      0      0    0   \n",
       "\n",
       "                        limerick  lightning  predictions  \n",
       "transcript_id line_num                                    \n",
       "4131          10               0          0            1  \n",
       "              14               0          0            1  \n",
       "              15               0          0            1  \n",
       "              20               0          0            1  \n",
       "              23               0          0            1  \n",
       "\n",
       "[5 rows x 67 columns]"
      ]
     },
     "execution_count": 79,
     "metadata": {},
     "output_type": "execute_result"
    }
   ],
   "source": [
    "target = lines_df.loc[lines_df.train,'funny'].astype(int)\n",
    "line_stats = lines_df.loc[lines_df.train,:].drop(['lines','segment', 'funny', 'clapping', 'speaker', 'num_words','aired_at','train'],axis=1)\n",
    "line_stats.tail()"
   ]
  },
  {
   "cell_type": "markdown",
   "metadata": {},
   "source": [
    "## 1.2 Non-optimized classifier performance"
   ]
  },
  {
   "cell_type": "markdown",
   "metadata": {},
   "source": [
    "I'll compare the performance of three types of classifiers: \n",
    "1. Logistic regression\n",
    "2. Naive bayes\n",
    "3. Decision trees\n",
    "\n",
    "To determine model performance, I will classify the **log loss**. Measuring model performance based on accuracy can be non-optimal. For example, if the model had the right output but was close to guessing the wrong output, then we would want that outcome to perform worse than if the model had the correct output and was very confident in that guess. Log loss takes into account model certainty as well as accuracy (it operates on the model's predicted probability, and can therefore provide a more nuanced view of model performance.\n",
    "\n",
    "A support vector machine is also likely to be a good model. However, it doesn't calculate probabilities natively, so I will exclude it for now, and perhaps later compare it to my other models."
   ]
  },
  {
   "cell_type": "code",
   "execution_count": 88,
   "metadata": {},
   "outputs": [],
   "source": [
    "# Importing model-generating functions\n",
    "from sklearn.linear_model import LogisticRegression\n",
    "from sklearn.naive_bayes import MultinomialNB,GaussianNB,ComplementNB,BernoulliNB\n",
    "from sklearn.ensemble import RandomForestClassifier,ExtraTreesClassifier,GradientBoostingClassifier\n",
    "from sklearn.svm import SVC\n",
    "\n",
    "# Importing model evaluation functions\n",
    "from sklearn.feature_selection import SelectKBest,f_classif\n",
    "from sklearn.decomposition import PCA,TruncatedSVD\n",
    "from sklearn.feature_extraction.text import CountVectorizer,TfidfTransformer\n",
    "from sklearn.model_selection import cross_val_score, RandomizedSearchCV,GridSearchCV,cross_validate\n",
    "from sklearn.preprocessing import StandardScaler,OneHotEncoder\n",
    "from sklearn.metrics import log_loss, make_scorer\n",
    "from sklearn.pipeline import Pipeline\n",
    "from scipy.stats import randint,uniform"
   ]
  },
  {
   "cell_type": "markdown",
   "metadata": {},
   "source": [
    "First, it is helpful to determine the performance based on a \"just guess the mean\" strategy. This will tell us whether we are actually getting anything useful out of our models."
   ]
  },
  {
   "cell_type": "code",
   "execution_count": 81,
   "metadata": {},
   "outputs": [
    {
     "name": "stdout",
     "output_type": "stream",
     "text": [
      "Loss for mean guessing is 0.5173517993693959\n",
      "Accuracy for mean guessing is 0.7874224263986276\n"
     ]
    }
   ],
   "source": [
    "# Naive mean-guessing performance\n",
    "naive_loss = log_loss(target,target.mean()*np.ones(target.size))\n",
    "print(f'Loss for mean guessing is {naive_loss}')\n",
    "print(f'Accuracy for mean guessing is {1-target.mean()}')"
   ]
  },
  {
   "cell_type": "markdown",
   "metadata": {},
   "source": [
    "For my first \"simple\" classifier, I am using logistic regression. This is a very simple model, which assigns weights and biases to each input variable, and then adds the results together. The final number is then fed through a sigmoid function, to constrain the results between zero and one. It is a classifier generalization of linear regression, and can find simple (linear) relationships between the input variables and the output."
   ]
  },
  {
   "cell_type": "code",
   "execution_count": 82,
   "metadata": {},
   "outputs": [
    {
     "name": "stdout",
     "output_type": "stream",
     "text": [
      "Cross-validated loss for logistic regression is 0.482390601238399\n"
     ]
    }
   ],
   "source": [
    "### logistic regression\n",
    "lr = LogisticRegression(solver='lbfgs',max_iter=200)\n",
    "scores_lr=cross_validate(lr,\n",
    "                       line_stats,\n",
    "                       target,\n",
    "                       scoring=make_scorer(log_loss,needs_proba=True,greater_is_better=False),\n",
    "                       cv=10)\n",
    "print(f'Cross-validated loss for logistic regression is {-scores_lr[\"test_score\"].mean()}')"
   ]
  },
  {
   "cell_type": "markdown",
   "metadata": {},
   "source": [
    "For my next classifier, I will examine a Naive Bayes classifier. Bayesian inference is a technique which attempts to calculate the probability of each possible category (e.g. the **posterior** probability), given the inputs and its estimate of the typical probability for each category (e.g. the **prior** probability). So, for example, in this case we have approximately four times as many \"not funny\" lines as \"funny\" lines, so the model would need more evidence in order to make a judgement that a line is funny than it would need to make a judgement that a line is not funny. \n",
    "\n",
    "A Naive bayes classifier makes the further assumption that all of the input variables are **independent** of each other. This is not strictly true in this dataset. For example, the speakers are all negatively correlated - if one speaker has said a line, then another speaker cannot have said it. Regardless, we can examine how well the classifier works on our dataset before we move to more complicated models."
   ]
  },
  {
   "cell_type": "code",
   "execution_count": 90,
   "metadata": {},
   "outputs": [
    {
     "name": "stdout",
     "output_type": "stream",
     "text": [
      "Cross-validated loss for naive bayes is 0.5108782233295701\n"
     ]
    }
   ],
   "source": [
    "# naive bayes\n",
    "nb = MultinomialNB()\n",
    "scores_nb=cross_validate(nb,\n",
    "                       line_stats,\n",
    "                       target,\n",
    "                       scoring=make_scorer(log_loss,needs_proba=True,greater_is_better=False),\n",
    "                       cv=10)\n",
    "print(f'Cross-validated loss for naive bayes is {-scores_nb[\"test_score\"].mean()}')"
   ]
  },
  {
   "cell_type": "markdown",
   "metadata": {},
   "source": [
    "I will now examine two quite complex classifiers, based on **decision trees**. Decision trees take in the data, and then attempt to split it based on the input into two leaves. Each leaf is then split again (and again), until the data can be classified as well as possible. These models are good at capturing complex nonlinearities, but can also be prone to over-fitting, as they are highly complex with many parameters. \n",
    "\n",
    "One way of getting around these weaknesses is by using a **Random Forest**. A forest, as the name might suggest, is a combination of many trees. Each tree only sees a subset of the input data and a subset of the input parameters, and so will make a sub-optimal decision. But by averaging these biased decisions of all of the trees together, we can usually wind up with a more-accurate answer in the end, as the biases will cancel out on average. "
   ]
  },
  {
   "cell_type": "code",
   "execution_count": 91,
   "metadata": {},
   "outputs": [
    {
     "name": "stderr",
     "output_type": "stream",
     "text": [
      "/Users/coraames/git/BimanualModeling/py_36_env/lib/python3.6/site-packages/sklearn/ensemble/forest.py:246: FutureWarning: The default value of n_estimators will change from 10 in version 0.20 to 100 in 0.22.\n",
      "  \"10 in version 0.20 to 100 in 0.22.\", FutureWarning)\n",
      "/Users/coraames/git/BimanualModeling/py_36_env/lib/python3.6/site-packages/sklearn/ensemble/forest.py:246: FutureWarning: The default value of n_estimators will change from 10 in version 0.20 to 100 in 0.22.\n",
      "  \"10 in version 0.20 to 100 in 0.22.\", FutureWarning)\n",
      "/Users/coraames/git/BimanualModeling/py_36_env/lib/python3.6/site-packages/sklearn/ensemble/forest.py:246: FutureWarning: The default value of n_estimators will change from 10 in version 0.20 to 100 in 0.22.\n",
      "  \"10 in version 0.20 to 100 in 0.22.\", FutureWarning)\n"
     ]
    },
    {
     "name": "stdout",
     "output_type": "stream",
     "text": [
      "Cross-validated loss for random forest is 1.2788651203463122\n"
     ]
    }
   ],
   "source": [
    "# Random forest\n",
    "rf = ExtraTreesClassifier()\n",
    "scores_rf=cross_validate(rf,\n",
    "                       line_stats,\n",
    "                       target,\n",
    "                       scoring=make_scorer(log_loss,needs_proba=True,greater_is_better=False),\n",
    "                       cv=3)\n",
    "print(f'Cross-validated loss for random forest is {-scores_rf[\"test_score\"].mean()}')"
   ]
  },
  {
   "cell_type": "markdown",
   "metadata": {},
   "source": [
    "A second method for improving deicision trees is called **Gradient boosted trees.** This is also an ensemble method, which trains multiple classifiers to improve performance. Unlike the Random Forest, however, Gradient Boosted Trees calculates a sequence of classifiers. Each one is trained to improve the output of the previous one (by looking at the prediction residuals), so it is specifically formulated to improve performance with the addition of each tree. Whereas Random Forests tend to benefit from large, deep trees, Gradient boosted tree classifiers tend to put together many small, shallow trees (e.g. not many splits of the data performed by any given tree). "
   ]
  },
  {
   "cell_type": "code",
   "execution_count": 92,
   "metadata": {},
   "outputs": [
    {
     "name": "stdout",
     "output_type": "stream",
     "text": [
      "Cross-validated loss for gradient boosted trees is 0.4643797959003693\n"
     ]
    }
   ],
   "source": [
    "# Gradient boosted trees\n",
    "xgb = GradientBoostingClassifier()\n",
    "scores_xgb=cross_validate(xgb,\n",
    "                       line_stats,\n",
    "                       target,\n",
    "                       scoring=make_scorer(log_loss,needs_proba=True,greater_is_better=False),\n",
    "                       return_estimator=True,\n",
    "                       cv=3)\n",
    "print(f'Cross-validated loss for gradient boosted trees is {-scores_xgb[\"test_score\"].mean()}')\n"
   ]
  },
  {
   "cell_type": "markdown",
   "metadata": {},
   "source": [
    "So, out-of-the-box performance is best for Gradient boosted trees, followed by Logistic Regression (keep in mind that small loss = better). The Random Forest performs worse than a mean-guessing strategy, while the naive bayes model performs only ever so slightly better.\n",
    "\n",
    "What we would really want to do, of course, is to perform a **parameter sweep** to select the best parameters for each model. Fortunately, scikit-learn has ways of doing exactly that. So let's try a parameter sweep now, and see how our \"best\" model that we can find for each model type performs."
   ]
  },
  {
   "cell_type": "markdown",
   "metadata": {},
   "source": [
    "## 1.3 Parameter optimization via random search\n",
    "\n",
    "To optimize parameters for each function, we have a couple of options: Grid Search or Random Search. Both search methods build multiple models with different parameters. \n",
    "\n",
    "**Grid Search** exhaustively checks every combination of parameters you specify. For example, if you have three parameters, each of which could take three values, then there are 3^3, or 27 different possible combinations to check.\n",
    "\n",
    "**Random Search** instead builds many models, each time selecting a random value for the parameters. While this might initially seem less useful than grid search, it has a few advantages that I like. It can check more values for each parameter. Parameters that have more influence will wind up affecting the output more, and less time will be wasted exhaustively checking the parameters which wind up being unimportant. \n",
    "\n",
    "For a nice discussion of Random Search versus Grid Search, see this paper: [Bergstra & Bengio, 2012](http://jmlr.csail.mit.edu/papers/volume13/bergstra12a/bergstra12a.pdf)."
   ]
  },
  {
   "cell_type": "markdown",
   "metadata": {},
   "source": [
    "### 1.3.1 Preparing Summary Function\n",
    "\n",
    "First, I build a function that will show the results of my optimization, so that I can examine how important each parameter is, and compare model performance."
   ]
  },
  {
   "cell_type": "code",
   "execution_count": 93,
   "metadata": {},
   "outputs": [],
   "source": [
    "# This is a function which shows how model performance changes with each parameter individually.\n",
    "# Note: it will not capture interactions between parameters, but will give a decent \"high level\" sense\n",
    "# of how much each parameter seems to matter to model performance on its own\n",
    "\n",
    "def Plot_results(random_search):\n",
    "    \n",
    "    print(f'Best performance was {-random_search.best_score_}')\n",
    "    for key in random_search.best_params_.keys():\n",
    "        print(f'Best model value for {key} = {random_search.best_params_[key]}')\n",
    "    \n",
    "    # Plot the results\n",
    "    random_search_results = pd.DataFrame(random_search.cv_results_)\n",
    "    params = random_search_results.loc[0,'params'].keys()\n",
    "    plt.figure(figsize=(5*len(params),10))\n",
    "    \n",
    "    for i,param in enumerate(params):\n",
    "        plt.subplot(2,len(params),i+1)\n",
    "        plt.axis('tight')\n",
    "        plt.scatter(random_search_results['param_' + param].apply(np.max),-random_search_results['mean_test_score'])\n",
    "        plt.xlabel(param)\n",
    "        plt.ylabel('log loss')\n",
    "        plt.axis('tight') # This is a repeat - for some reason axis is too zoomed out without both.\n",
    "        \n",
    "        plt.subplot(2,len(params),i+1+len(params))\n",
    "        x = random_search_results['param_' + param].apply(np.max) # Max deals with n-gram parameter, which is a tuple\n",
    "        y = random_search_results['mean_fit_time']\n",
    "        plt.scatter(x,y)\n",
    "        plt.xlabel(param)\n",
    "        plt.ylabel('run time')\n"
   ]
  },
  {
   "cell_type": "markdown",
   "metadata": {},
   "source": [
    "### 1.3.2 Optimizing Logistic Regression"
   ]
  },
  {
   "cell_type": "code",
   "execution_count": 94,
   "metadata": {
    "scrolled": true
   },
   "outputs": [
    {
     "name": "stderr",
     "output_type": "stream",
     "text": [
      "/Users/coraames/git/BimanualModeling/py_36_env/lib/python3.6/site-packages/sklearn/feature_selection/univariate_selection.py:114: UserWarning: Features [ 0 11 43] are constant.\n",
      "  UserWarning)\n",
      "/Users/coraames/git/BimanualModeling/py_36_env/lib/python3.6/site-packages/sklearn/feature_selection/univariate_selection.py:115: RuntimeWarning: invalid value encountered in true_divide\n",
      "  f = msb / msw\n",
      "/Users/coraames/git/BimanualModeling/py_36_env/lib/python3.6/site-packages/sklearn/feature_selection/univariate_selection.py:114: UserWarning: Features [0] are constant.\n",
      "  UserWarning)\n",
      "/Users/coraames/git/BimanualModeling/py_36_env/lib/python3.6/site-packages/sklearn/feature_selection/univariate_selection.py:115: RuntimeWarning: invalid value encountered in true_divide\n",
      "  f = msb / msw\n",
      "/Users/coraames/git/BimanualModeling/py_36_env/lib/python3.6/site-packages/sklearn/feature_selection/univariate_selection.py:114: UserWarning: Features [0] are constant.\n",
      "  UserWarning)\n",
      "/Users/coraames/git/BimanualModeling/py_36_env/lib/python3.6/site-packages/sklearn/feature_selection/univariate_selection.py:115: RuntimeWarning: invalid value encountered in true_divide\n",
      "  f = msb / msw\n",
      "/Users/coraames/git/BimanualModeling/py_36_env/lib/python3.6/site-packages/sklearn/feature_selection/univariate_selection.py:114: UserWarning: Features [ 0 11 43] are constant.\n",
      "  UserWarning)\n",
      "/Users/coraames/git/BimanualModeling/py_36_env/lib/python3.6/site-packages/sklearn/feature_selection/univariate_selection.py:115: RuntimeWarning: invalid value encountered in true_divide\n",
      "  f = msb / msw\n",
      "/Users/coraames/git/BimanualModeling/py_36_env/lib/python3.6/site-packages/sklearn/feature_selection/univariate_selection.py:114: UserWarning: Features [0] are constant.\n",
      "  UserWarning)\n",
      "/Users/coraames/git/BimanualModeling/py_36_env/lib/python3.6/site-packages/sklearn/feature_selection/univariate_selection.py:115: RuntimeWarning: invalid value encountered in true_divide\n",
      "  f = msb / msw\n",
      "/Users/coraames/git/BimanualModeling/py_36_env/lib/python3.6/site-packages/sklearn/feature_selection/univariate_selection.py:114: UserWarning: Features [0] are constant.\n",
      "  UserWarning)\n",
      "/Users/coraames/git/BimanualModeling/py_36_env/lib/python3.6/site-packages/sklearn/feature_selection/univariate_selection.py:115: RuntimeWarning: invalid value encountered in true_divide\n",
      "  f = msb / msw\n",
      "/Users/coraames/git/BimanualModeling/py_36_env/lib/python3.6/site-packages/sklearn/feature_selection/univariate_selection.py:114: UserWarning: Features [ 0 11 43] are constant.\n",
      "  UserWarning)\n",
      "/Users/coraames/git/BimanualModeling/py_36_env/lib/python3.6/site-packages/sklearn/feature_selection/univariate_selection.py:115: RuntimeWarning: invalid value encountered in true_divide\n",
      "  f = msb / msw\n",
      "/Users/coraames/git/BimanualModeling/py_36_env/lib/python3.6/site-packages/sklearn/feature_selection/univariate_selection.py:114: UserWarning: Features [0] are constant.\n",
      "  UserWarning)\n",
      "/Users/coraames/git/BimanualModeling/py_36_env/lib/python3.6/site-packages/sklearn/feature_selection/univariate_selection.py:115: RuntimeWarning: invalid value encountered in true_divide\n",
      "  f = msb / msw\n",
      "/Users/coraames/git/BimanualModeling/py_36_env/lib/python3.6/site-packages/sklearn/feature_selection/univariate_selection.py:114: UserWarning: Features [0] are constant.\n",
      "  UserWarning)\n",
      "/Users/coraames/git/BimanualModeling/py_36_env/lib/python3.6/site-packages/sklearn/feature_selection/univariate_selection.py:115: RuntimeWarning: invalid value encountered in true_divide\n",
      "  f = msb / msw\n",
      "/Users/coraames/git/BimanualModeling/py_36_env/lib/python3.6/site-packages/sklearn/feature_selection/univariate_selection.py:114: UserWarning: Features [ 0 11 43] are constant.\n",
      "  UserWarning)\n",
      "/Users/coraames/git/BimanualModeling/py_36_env/lib/python3.6/site-packages/sklearn/feature_selection/univariate_selection.py:115: RuntimeWarning: invalid value encountered in true_divide\n",
      "  f = msb / msw\n",
      "/Users/coraames/git/BimanualModeling/py_36_env/lib/python3.6/site-packages/sklearn/feature_selection/univariate_selection.py:114: UserWarning: Features [0] are constant.\n",
      "  UserWarning)\n",
      "/Users/coraames/git/BimanualModeling/py_36_env/lib/python3.6/site-packages/sklearn/feature_selection/univariate_selection.py:115: RuntimeWarning: invalid value encountered in true_divide\n",
      "  f = msb / msw\n",
      "/Users/coraames/git/BimanualModeling/py_36_env/lib/python3.6/site-packages/sklearn/feature_selection/univariate_selection.py:114: UserWarning: Features [0] are constant.\n",
      "  UserWarning)\n",
      "/Users/coraames/git/BimanualModeling/py_36_env/lib/python3.6/site-packages/sklearn/feature_selection/univariate_selection.py:115: RuntimeWarning: invalid value encountered in true_divide\n",
      "  f = msb / msw\n",
      "/Users/coraames/git/BimanualModeling/py_36_env/lib/python3.6/site-packages/sklearn/feature_selection/univariate_selection.py:114: UserWarning: Features [ 0 11 43] are constant.\n",
      "  UserWarning)\n",
      "/Users/coraames/git/BimanualModeling/py_36_env/lib/python3.6/site-packages/sklearn/feature_selection/univariate_selection.py:115: RuntimeWarning: invalid value encountered in true_divide\n",
      "  f = msb / msw\n",
      "/Users/coraames/git/BimanualModeling/py_36_env/lib/python3.6/site-packages/sklearn/feature_selection/univariate_selection.py:114: UserWarning: Features [0] are constant.\n",
      "  UserWarning)\n",
      "/Users/coraames/git/BimanualModeling/py_36_env/lib/python3.6/site-packages/sklearn/feature_selection/univariate_selection.py:115: RuntimeWarning: invalid value encountered in true_divide\n",
      "  f = msb / msw\n",
      "/Users/coraames/git/BimanualModeling/py_36_env/lib/python3.6/site-packages/sklearn/feature_selection/univariate_selection.py:114: UserWarning: Features [0] are constant.\n",
      "  UserWarning)\n",
      "/Users/coraames/git/BimanualModeling/py_36_env/lib/python3.6/site-packages/sklearn/feature_selection/univariate_selection.py:115: RuntimeWarning: invalid value encountered in true_divide\n",
      "  f = msb / msw\n",
      "/Users/coraames/git/BimanualModeling/py_36_env/lib/python3.6/site-packages/sklearn/feature_selection/univariate_selection.py:114: UserWarning: Features [ 0 11 43] are constant.\n",
      "  UserWarning)\n",
      "/Users/coraames/git/BimanualModeling/py_36_env/lib/python3.6/site-packages/sklearn/feature_selection/univariate_selection.py:115: RuntimeWarning: invalid value encountered in true_divide\n",
      "  f = msb / msw\n",
      "/Users/coraames/git/BimanualModeling/py_36_env/lib/python3.6/site-packages/sklearn/feature_selection/univariate_selection.py:114: UserWarning: Features [0] are constant.\n",
      "  UserWarning)\n",
      "/Users/coraames/git/BimanualModeling/py_36_env/lib/python3.6/site-packages/sklearn/feature_selection/univariate_selection.py:115: RuntimeWarning: invalid value encountered in true_divide\n",
      "  f = msb / msw\n",
      "/Users/coraames/git/BimanualModeling/py_36_env/lib/python3.6/site-packages/sklearn/feature_selection/univariate_selection.py:114: UserWarning: Features [0] are constant.\n",
      "  UserWarning)\n",
      "/Users/coraames/git/BimanualModeling/py_36_env/lib/python3.6/site-packages/sklearn/feature_selection/univariate_selection.py:115: RuntimeWarning: invalid value encountered in true_divide\n",
      "  f = msb / msw\n",
      "/Users/coraames/git/BimanualModeling/py_36_env/lib/python3.6/site-packages/sklearn/feature_selection/univariate_selection.py:114: UserWarning: Features [ 0 11 43] are constant.\n",
      "  UserWarning)\n",
      "/Users/coraames/git/BimanualModeling/py_36_env/lib/python3.6/site-packages/sklearn/feature_selection/univariate_selection.py:115: RuntimeWarning: invalid value encountered in true_divide\n",
      "  f = msb / msw\n",
      "/Users/coraames/git/BimanualModeling/py_36_env/lib/python3.6/site-packages/sklearn/feature_selection/univariate_selection.py:114: UserWarning: Features [0] are constant.\n",
      "  UserWarning)\n",
      "/Users/coraames/git/BimanualModeling/py_36_env/lib/python3.6/site-packages/sklearn/feature_selection/univariate_selection.py:115: RuntimeWarning: invalid value encountered in true_divide\n",
      "  f = msb / msw\n",
      "/Users/coraames/git/BimanualModeling/py_36_env/lib/python3.6/site-packages/sklearn/feature_selection/univariate_selection.py:114: UserWarning: Features [0] are constant.\n",
      "  UserWarning)\n",
      "/Users/coraames/git/BimanualModeling/py_36_env/lib/python3.6/site-packages/sklearn/feature_selection/univariate_selection.py:115: RuntimeWarning: invalid value encountered in true_divide\n",
      "  f = msb / msw\n"
     ]
    },
    {
     "name": "stderr",
     "output_type": "stream",
     "text": [
      "/Users/coraames/git/BimanualModeling/py_36_env/lib/python3.6/site-packages/sklearn/feature_selection/univariate_selection.py:114: UserWarning: Features [ 0 11 43] are constant.\n",
      "  UserWarning)\n",
      "/Users/coraames/git/BimanualModeling/py_36_env/lib/python3.6/site-packages/sklearn/feature_selection/univariate_selection.py:115: RuntimeWarning: invalid value encountered in true_divide\n",
      "  f = msb / msw\n",
      "/Users/coraames/git/BimanualModeling/py_36_env/lib/python3.6/site-packages/sklearn/feature_selection/univariate_selection.py:114: UserWarning: Features [0] are constant.\n",
      "  UserWarning)\n",
      "/Users/coraames/git/BimanualModeling/py_36_env/lib/python3.6/site-packages/sklearn/feature_selection/univariate_selection.py:115: RuntimeWarning: invalid value encountered in true_divide\n",
      "  f = msb / msw\n",
      "/Users/coraames/git/BimanualModeling/py_36_env/lib/python3.6/site-packages/sklearn/feature_selection/univariate_selection.py:114: UserWarning: Features [0] are constant.\n",
      "  UserWarning)\n",
      "/Users/coraames/git/BimanualModeling/py_36_env/lib/python3.6/site-packages/sklearn/feature_selection/univariate_selection.py:115: RuntimeWarning: invalid value encountered in true_divide\n",
      "  f = msb / msw\n",
      "/Users/coraames/git/BimanualModeling/py_36_env/lib/python3.6/site-packages/sklearn/feature_selection/univariate_selection.py:114: UserWarning: Features [ 0 11 43] are constant.\n",
      "  UserWarning)\n",
      "/Users/coraames/git/BimanualModeling/py_36_env/lib/python3.6/site-packages/sklearn/feature_selection/univariate_selection.py:115: RuntimeWarning: invalid value encountered in true_divide\n",
      "  f = msb / msw\n",
      "/Users/coraames/git/BimanualModeling/py_36_env/lib/python3.6/site-packages/sklearn/feature_selection/univariate_selection.py:114: UserWarning: Features [0] are constant.\n",
      "  UserWarning)\n",
      "/Users/coraames/git/BimanualModeling/py_36_env/lib/python3.6/site-packages/sklearn/feature_selection/univariate_selection.py:115: RuntimeWarning: invalid value encountered in true_divide\n",
      "  f = msb / msw\n",
      "/Users/coraames/git/BimanualModeling/py_36_env/lib/python3.6/site-packages/sklearn/feature_selection/univariate_selection.py:114: UserWarning: Features [0] are constant.\n",
      "  UserWarning)\n",
      "/Users/coraames/git/BimanualModeling/py_36_env/lib/python3.6/site-packages/sklearn/feature_selection/univariate_selection.py:115: RuntimeWarning: invalid value encountered in true_divide\n",
      "  f = msb / msw\n",
      "/Users/coraames/git/BimanualModeling/py_36_env/lib/python3.6/site-packages/sklearn/feature_selection/univariate_selection.py:114: UserWarning: Features [ 0 11 43] are constant.\n",
      "  UserWarning)\n",
      "/Users/coraames/git/BimanualModeling/py_36_env/lib/python3.6/site-packages/sklearn/feature_selection/univariate_selection.py:115: RuntimeWarning: invalid value encountered in true_divide\n",
      "  f = msb / msw\n",
      "/Users/coraames/git/BimanualModeling/py_36_env/lib/python3.6/site-packages/sklearn/feature_selection/univariate_selection.py:114: UserWarning: Features [0] are constant.\n",
      "  UserWarning)\n",
      "/Users/coraames/git/BimanualModeling/py_36_env/lib/python3.6/site-packages/sklearn/feature_selection/univariate_selection.py:115: RuntimeWarning: invalid value encountered in true_divide\n",
      "  f = msb / msw\n",
      "/Users/coraames/git/BimanualModeling/py_36_env/lib/python3.6/site-packages/sklearn/feature_selection/univariate_selection.py:114: UserWarning: Features [0] are constant.\n",
      "  UserWarning)\n",
      "/Users/coraames/git/BimanualModeling/py_36_env/lib/python3.6/site-packages/sklearn/feature_selection/univariate_selection.py:115: RuntimeWarning: invalid value encountered in true_divide\n",
      "  f = msb / msw\n",
      "/Users/coraames/git/BimanualModeling/py_36_env/lib/python3.6/site-packages/sklearn/feature_selection/univariate_selection.py:114: UserWarning: Features [ 0 11 43] are constant.\n",
      "  UserWarning)\n",
      "/Users/coraames/git/BimanualModeling/py_36_env/lib/python3.6/site-packages/sklearn/feature_selection/univariate_selection.py:115: RuntimeWarning: invalid value encountered in true_divide\n",
      "  f = msb / msw\n",
      "/Users/coraames/git/BimanualModeling/py_36_env/lib/python3.6/site-packages/sklearn/feature_selection/univariate_selection.py:114: UserWarning: Features [0] are constant.\n",
      "  UserWarning)\n",
      "/Users/coraames/git/BimanualModeling/py_36_env/lib/python3.6/site-packages/sklearn/feature_selection/univariate_selection.py:115: RuntimeWarning: invalid value encountered in true_divide\n",
      "  f = msb / msw\n",
      "/Users/coraames/git/BimanualModeling/py_36_env/lib/python3.6/site-packages/sklearn/feature_selection/univariate_selection.py:114: UserWarning: Features [0] are constant.\n",
      "  UserWarning)\n",
      "/Users/coraames/git/BimanualModeling/py_36_env/lib/python3.6/site-packages/sklearn/feature_selection/univariate_selection.py:115: RuntimeWarning: invalid value encountered in true_divide\n",
      "  f = msb / msw\n",
      "/Users/coraames/git/BimanualModeling/py_36_env/lib/python3.6/site-packages/sklearn/feature_selection/univariate_selection.py:114: UserWarning: Features [ 0 11 43] are constant.\n",
      "  UserWarning)\n",
      "/Users/coraames/git/BimanualModeling/py_36_env/lib/python3.6/site-packages/sklearn/feature_selection/univariate_selection.py:115: RuntimeWarning: invalid value encountered in true_divide\n",
      "  f = msb / msw\n",
      "/Users/coraames/git/BimanualModeling/py_36_env/lib/python3.6/site-packages/sklearn/feature_selection/univariate_selection.py:114: UserWarning: Features [0] are constant.\n",
      "  UserWarning)\n",
      "/Users/coraames/git/BimanualModeling/py_36_env/lib/python3.6/site-packages/sklearn/feature_selection/univariate_selection.py:115: RuntimeWarning: invalid value encountered in true_divide\n",
      "  f = msb / msw\n",
      "/Users/coraames/git/BimanualModeling/py_36_env/lib/python3.6/site-packages/sklearn/feature_selection/univariate_selection.py:114: UserWarning: Features [0] are constant.\n",
      "  UserWarning)\n",
      "/Users/coraames/git/BimanualModeling/py_36_env/lib/python3.6/site-packages/sklearn/feature_selection/univariate_selection.py:115: RuntimeWarning: invalid value encountered in true_divide\n",
      "  f = msb / msw\n",
      "/Users/coraames/git/BimanualModeling/py_36_env/lib/python3.6/site-packages/sklearn/feature_selection/univariate_selection.py:114: UserWarning: Features [ 0 11 43] are constant.\n",
      "  UserWarning)\n",
      "/Users/coraames/git/BimanualModeling/py_36_env/lib/python3.6/site-packages/sklearn/feature_selection/univariate_selection.py:115: RuntimeWarning: invalid value encountered in true_divide\n",
      "  f = msb / msw\n",
      "/Users/coraames/git/BimanualModeling/py_36_env/lib/python3.6/site-packages/sklearn/feature_selection/univariate_selection.py:114: UserWarning: Features [0] are constant.\n",
      "  UserWarning)\n",
      "/Users/coraames/git/BimanualModeling/py_36_env/lib/python3.6/site-packages/sklearn/feature_selection/univariate_selection.py:115: RuntimeWarning: invalid value encountered in true_divide\n",
      "  f = msb / msw\n",
      "/Users/coraames/git/BimanualModeling/py_36_env/lib/python3.6/site-packages/sklearn/feature_selection/univariate_selection.py:114: UserWarning: Features [0] are constant.\n",
      "  UserWarning)\n",
      "/Users/coraames/git/BimanualModeling/py_36_env/lib/python3.6/site-packages/sklearn/feature_selection/univariate_selection.py:115: RuntimeWarning: invalid value encountered in true_divide\n",
      "  f = msb / msw\n",
      "/Users/coraames/git/BimanualModeling/py_36_env/lib/python3.6/site-packages/sklearn/feature_selection/univariate_selection.py:114: UserWarning: Features [ 0 11 43] are constant.\n",
      "  UserWarning)\n",
      "/Users/coraames/git/BimanualModeling/py_36_env/lib/python3.6/site-packages/sklearn/feature_selection/univariate_selection.py:115: RuntimeWarning: invalid value encountered in true_divide\n",
      "  f = msb / msw\n",
      "/Users/coraames/git/BimanualModeling/py_36_env/lib/python3.6/site-packages/sklearn/feature_selection/univariate_selection.py:114: UserWarning: Features [0] are constant.\n",
      "  UserWarning)\n",
      "/Users/coraames/git/BimanualModeling/py_36_env/lib/python3.6/site-packages/sklearn/feature_selection/univariate_selection.py:115: RuntimeWarning: invalid value encountered in true_divide\n",
      "  f = msb / msw\n",
      "/Users/coraames/git/BimanualModeling/py_36_env/lib/python3.6/site-packages/sklearn/feature_selection/univariate_selection.py:114: UserWarning: Features [0] are constant.\n",
      "  UserWarning)\n",
      "/Users/coraames/git/BimanualModeling/py_36_env/lib/python3.6/site-packages/sklearn/feature_selection/univariate_selection.py:115: RuntimeWarning: invalid value encountered in true_divide\n",
      "  f = msb / msw\n"
     ]
    },
    {
     "name": "stderr",
     "output_type": "stream",
     "text": [
      "/Users/coraames/git/BimanualModeling/py_36_env/lib/python3.6/site-packages/sklearn/feature_selection/univariate_selection.py:114: UserWarning: Features [ 0 11 43] are constant.\n",
      "  UserWarning)\n",
      "/Users/coraames/git/BimanualModeling/py_36_env/lib/python3.6/site-packages/sklearn/feature_selection/univariate_selection.py:115: RuntimeWarning: invalid value encountered in true_divide\n",
      "  f = msb / msw\n",
      "/Users/coraames/git/BimanualModeling/py_36_env/lib/python3.6/site-packages/sklearn/feature_selection/univariate_selection.py:114: UserWarning: Features [0] are constant.\n",
      "  UserWarning)\n",
      "/Users/coraames/git/BimanualModeling/py_36_env/lib/python3.6/site-packages/sklearn/feature_selection/univariate_selection.py:115: RuntimeWarning: invalid value encountered in true_divide\n",
      "  f = msb / msw\n",
      "/Users/coraames/git/BimanualModeling/py_36_env/lib/python3.6/site-packages/sklearn/feature_selection/univariate_selection.py:114: UserWarning: Features [0] are constant.\n",
      "  UserWarning)\n",
      "/Users/coraames/git/BimanualModeling/py_36_env/lib/python3.6/site-packages/sklearn/feature_selection/univariate_selection.py:115: RuntimeWarning: invalid value encountered in true_divide\n",
      "  f = msb / msw\n",
      "/Users/coraames/git/BimanualModeling/py_36_env/lib/python3.6/site-packages/sklearn/feature_selection/univariate_selection.py:114: UserWarning: Features [ 0 11 43] are constant.\n",
      "  UserWarning)\n",
      "/Users/coraames/git/BimanualModeling/py_36_env/lib/python3.6/site-packages/sklearn/feature_selection/univariate_selection.py:115: RuntimeWarning: invalid value encountered in true_divide\n",
      "  f = msb / msw\n",
      "/Users/coraames/git/BimanualModeling/py_36_env/lib/python3.6/site-packages/sklearn/feature_selection/univariate_selection.py:114: UserWarning: Features [0] are constant.\n",
      "  UserWarning)\n",
      "/Users/coraames/git/BimanualModeling/py_36_env/lib/python3.6/site-packages/sklearn/feature_selection/univariate_selection.py:115: RuntimeWarning: invalid value encountered in true_divide\n",
      "  f = msb / msw\n",
      "/Users/coraames/git/BimanualModeling/py_36_env/lib/python3.6/site-packages/sklearn/feature_selection/univariate_selection.py:114: UserWarning: Features [0] are constant.\n",
      "  UserWarning)\n",
      "/Users/coraames/git/BimanualModeling/py_36_env/lib/python3.6/site-packages/sklearn/feature_selection/univariate_selection.py:115: RuntimeWarning: invalid value encountered in true_divide\n",
      "  f = msb / msw\n",
      "/Users/coraames/git/BimanualModeling/py_36_env/lib/python3.6/site-packages/sklearn/feature_selection/univariate_selection.py:114: UserWarning: Features [ 0 11 43] are constant.\n",
      "  UserWarning)\n",
      "/Users/coraames/git/BimanualModeling/py_36_env/lib/python3.6/site-packages/sklearn/feature_selection/univariate_selection.py:115: RuntimeWarning: invalid value encountered in true_divide\n",
      "  f = msb / msw\n",
      "/Users/coraames/git/BimanualModeling/py_36_env/lib/python3.6/site-packages/sklearn/feature_selection/univariate_selection.py:114: UserWarning: Features [0] are constant.\n",
      "  UserWarning)\n",
      "/Users/coraames/git/BimanualModeling/py_36_env/lib/python3.6/site-packages/sklearn/feature_selection/univariate_selection.py:115: RuntimeWarning: invalid value encountered in true_divide\n",
      "  f = msb / msw\n",
      "/Users/coraames/git/BimanualModeling/py_36_env/lib/python3.6/site-packages/sklearn/feature_selection/univariate_selection.py:114: UserWarning: Features [0] are constant.\n",
      "  UserWarning)\n",
      "/Users/coraames/git/BimanualModeling/py_36_env/lib/python3.6/site-packages/sklearn/feature_selection/univariate_selection.py:115: RuntimeWarning: invalid value encountered in true_divide\n",
      "  f = msb / msw\n",
      "/Users/coraames/git/BimanualModeling/py_36_env/lib/python3.6/site-packages/sklearn/feature_selection/univariate_selection.py:114: UserWarning: Features [ 0 11 43] are constant.\n",
      "  UserWarning)\n",
      "/Users/coraames/git/BimanualModeling/py_36_env/lib/python3.6/site-packages/sklearn/feature_selection/univariate_selection.py:115: RuntimeWarning: invalid value encountered in true_divide\n",
      "  f = msb / msw\n",
      "/Users/coraames/git/BimanualModeling/py_36_env/lib/python3.6/site-packages/sklearn/feature_selection/univariate_selection.py:114: UserWarning: Features [0] are constant.\n",
      "  UserWarning)\n",
      "/Users/coraames/git/BimanualModeling/py_36_env/lib/python3.6/site-packages/sklearn/feature_selection/univariate_selection.py:115: RuntimeWarning: invalid value encountered in true_divide\n",
      "  f = msb / msw\n",
      "/Users/coraames/git/BimanualModeling/py_36_env/lib/python3.6/site-packages/sklearn/feature_selection/univariate_selection.py:114: UserWarning: Features [0] are constant.\n",
      "  UserWarning)\n",
      "/Users/coraames/git/BimanualModeling/py_36_env/lib/python3.6/site-packages/sklearn/feature_selection/univariate_selection.py:115: RuntimeWarning: invalid value encountered in true_divide\n",
      "  f = msb / msw\n",
      "/Users/coraames/git/BimanualModeling/py_36_env/lib/python3.6/site-packages/sklearn/feature_selection/univariate_selection.py:114: UserWarning: Features [ 0 11 43] are constant.\n",
      "  UserWarning)\n",
      "/Users/coraames/git/BimanualModeling/py_36_env/lib/python3.6/site-packages/sklearn/feature_selection/univariate_selection.py:115: RuntimeWarning: invalid value encountered in true_divide\n",
      "  f = msb / msw\n",
      "/Users/coraames/git/BimanualModeling/py_36_env/lib/python3.6/site-packages/sklearn/feature_selection/univariate_selection.py:114: UserWarning: Features [0] are constant.\n",
      "  UserWarning)\n",
      "/Users/coraames/git/BimanualModeling/py_36_env/lib/python3.6/site-packages/sklearn/feature_selection/univariate_selection.py:115: RuntimeWarning: invalid value encountered in true_divide\n",
      "  f = msb / msw\n",
      "/Users/coraames/git/BimanualModeling/py_36_env/lib/python3.6/site-packages/sklearn/feature_selection/univariate_selection.py:114: UserWarning: Features [0] are constant.\n",
      "  UserWarning)\n",
      "/Users/coraames/git/BimanualModeling/py_36_env/lib/python3.6/site-packages/sklearn/feature_selection/univariate_selection.py:115: RuntimeWarning: invalid value encountered in true_divide\n",
      "  f = msb / msw\n",
      "/Users/coraames/git/BimanualModeling/py_36_env/lib/python3.6/site-packages/sklearn/feature_selection/univariate_selection.py:114: UserWarning: Features [ 0 11 43] are constant.\n",
      "  UserWarning)\n",
      "/Users/coraames/git/BimanualModeling/py_36_env/lib/python3.6/site-packages/sklearn/feature_selection/univariate_selection.py:115: RuntimeWarning: invalid value encountered in true_divide\n",
      "  f = msb / msw\n",
      "/Users/coraames/git/BimanualModeling/py_36_env/lib/python3.6/site-packages/sklearn/feature_selection/univariate_selection.py:114: UserWarning: Features [0] are constant.\n",
      "  UserWarning)\n",
      "/Users/coraames/git/BimanualModeling/py_36_env/lib/python3.6/site-packages/sklearn/feature_selection/univariate_selection.py:115: RuntimeWarning: invalid value encountered in true_divide\n",
      "  f = msb / msw\n",
      "/Users/coraames/git/BimanualModeling/py_36_env/lib/python3.6/site-packages/sklearn/feature_selection/univariate_selection.py:114: UserWarning: Features [0] are constant.\n",
      "  UserWarning)\n",
      "/Users/coraames/git/BimanualModeling/py_36_env/lib/python3.6/site-packages/sklearn/feature_selection/univariate_selection.py:115: RuntimeWarning: invalid value encountered in true_divide\n",
      "  f = msb / msw\n",
      "/Users/coraames/git/BimanualModeling/py_36_env/lib/python3.6/site-packages/sklearn/feature_selection/univariate_selection.py:114: UserWarning: Features [ 0 11 43] are constant.\n",
      "  UserWarning)\n",
      "/Users/coraames/git/BimanualModeling/py_36_env/lib/python3.6/site-packages/sklearn/feature_selection/univariate_selection.py:115: RuntimeWarning: invalid value encountered in true_divide\n",
      "  f = msb / msw\n",
      "/Users/coraames/git/BimanualModeling/py_36_env/lib/python3.6/site-packages/sklearn/feature_selection/univariate_selection.py:114: UserWarning: Features [0] are constant.\n",
      "  UserWarning)\n",
      "/Users/coraames/git/BimanualModeling/py_36_env/lib/python3.6/site-packages/sklearn/feature_selection/univariate_selection.py:115: RuntimeWarning: invalid value encountered in true_divide\n",
      "  f = msb / msw\n",
      "/Users/coraames/git/BimanualModeling/py_36_env/lib/python3.6/site-packages/sklearn/feature_selection/univariate_selection.py:114: UserWarning: Features [0] are constant.\n",
      "  UserWarning)\n",
      "/Users/coraames/git/BimanualModeling/py_36_env/lib/python3.6/site-packages/sklearn/feature_selection/univariate_selection.py:115: RuntimeWarning: invalid value encountered in true_divide\n",
      "  f = msb / msw\n"
     ]
    },
    {
     "name": "stderr",
     "output_type": "stream",
     "text": [
      "/Users/coraames/git/BimanualModeling/py_36_env/lib/python3.6/site-packages/sklearn/feature_selection/univariate_selection.py:114: UserWarning: Features [ 0 11 43] are constant.\n",
      "  UserWarning)\n",
      "/Users/coraames/git/BimanualModeling/py_36_env/lib/python3.6/site-packages/sklearn/feature_selection/univariate_selection.py:115: RuntimeWarning: invalid value encountered in true_divide\n",
      "  f = msb / msw\n",
      "/Users/coraames/git/BimanualModeling/py_36_env/lib/python3.6/site-packages/sklearn/feature_selection/univariate_selection.py:114: UserWarning: Features [0] are constant.\n",
      "  UserWarning)\n",
      "/Users/coraames/git/BimanualModeling/py_36_env/lib/python3.6/site-packages/sklearn/feature_selection/univariate_selection.py:115: RuntimeWarning: invalid value encountered in true_divide\n",
      "  f = msb / msw\n",
      "/Users/coraames/git/BimanualModeling/py_36_env/lib/python3.6/site-packages/sklearn/feature_selection/univariate_selection.py:114: UserWarning: Features [0] are constant.\n",
      "  UserWarning)\n",
      "/Users/coraames/git/BimanualModeling/py_36_env/lib/python3.6/site-packages/sklearn/feature_selection/univariate_selection.py:115: RuntimeWarning: invalid value encountered in true_divide\n",
      "  f = msb / msw\n",
      "/Users/coraames/git/BimanualModeling/py_36_env/lib/python3.6/site-packages/sklearn/feature_selection/univariate_selection.py:114: UserWarning: Features [ 0 11 43] are constant.\n",
      "  UserWarning)\n",
      "/Users/coraames/git/BimanualModeling/py_36_env/lib/python3.6/site-packages/sklearn/feature_selection/univariate_selection.py:115: RuntimeWarning: invalid value encountered in true_divide\n",
      "  f = msb / msw\n",
      "/Users/coraames/git/BimanualModeling/py_36_env/lib/python3.6/site-packages/sklearn/feature_selection/univariate_selection.py:114: UserWarning: Features [0] are constant.\n",
      "  UserWarning)\n",
      "/Users/coraames/git/BimanualModeling/py_36_env/lib/python3.6/site-packages/sklearn/feature_selection/univariate_selection.py:115: RuntimeWarning: invalid value encountered in true_divide\n",
      "  f = msb / msw\n",
      "/Users/coraames/git/BimanualModeling/py_36_env/lib/python3.6/site-packages/sklearn/feature_selection/univariate_selection.py:114: UserWarning: Features [0] are constant.\n",
      "  UserWarning)\n",
      "/Users/coraames/git/BimanualModeling/py_36_env/lib/python3.6/site-packages/sklearn/feature_selection/univariate_selection.py:115: RuntimeWarning: invalid value encountered in true_divide\n",
      "  f = msb / msw\n",
      "/Users/coraames/git/BimanualModeling/py_36_env/lib/python3.6/site-packages/sklearn/feature_selection/univariate_selection.py:114: UserWarning: Features [ 0 11 43] are constant.\n",
      "  UserWarning)\n",
      "/Users/coraames/git/BimanualModeling/py_36_env/lib/python3.6/site-packages/sklearn/feature_selection/univariate_selection.py:115: RuntimeWarning: invalid value encountered in true_divide\n",
      "  f = msb / msw\n",
      "/Users/coraames/git/BimanualModeling/py_36_env/lib/python3.6/site-packages/sklearn/feature_selection/univariate_selection.py:114: UserWarning: Features [0] are constant.\n",
      "  UserWarning)\n",
      "/Users/coraames/git/BimanualModeling/py_36_env/lib/python3.6/site-packages/sklearn/feature_selection/univariate_selection.py:115: RuntimeWarning: invalid value encountered in true_divide\n",
      "  f = msb / msw\n",
      "/Users/coraames/git/BimanualModeling/py_36_env/lib/python3.6/site-packages/sklearn/feature_selection/univariate_selection.py:114: UserWarning: Features [0] are constant.\n",
      "  UserWarning)\n",
      "/Users/coraames/git/BimanualModeling/py_36_env/lib/python3.6/site-packages/sklearn/feature_selection/univariate_selection.py:115: RuntimeWarning: invalid value encountered in true_divide\n",
      "  f = msb / msw\n",
      "/Users/coraames/git/BimanualModeling/py_36_env/lib/python3.6/site-packages/sklearn/feature_selection/univariate_selection.py:114: UserWarning: Features [ 0 11 43] are constant.\n",
      "  UserWarning)\n",
      "/Users/coraames/git/BimanualModeling/py_36_env/lib/python3.6/site-packages/sklearn/feature_selection/univariate_selection.py:115: RuntimeWarning: invalid value encountered in true_divide\n",
      "  f = msb / msw\n",
      "/Users/coraames/git/BimanualModeling/py_36_env/lib/python3.6/site-packages/sklearn/feature_selection/univariate_selection.py:114: UserWarning: Features [0] are constant.\n",
      "  UserWarning)\n",
      "/Users/coraames/git/BimanualModeling/py_36_env/lib/python3.6/site-packages/sklearn/feature_selection/univariate_selection.py:115: RuntimeWarning: invalid value encountered in true_divide\n",
      "  f = msb / msw\n",
      "/Users/coraames/git/BimanualModeling/py_36_env/lib/python3.6/site-packages/sklearn/feature_selection/univariate_selection.py:114: UserWarning: Features [0] are constant.\n",
      "  UserWarning)\n",
      "/Users/coraames/git/BimanualModeling/py_36_env/lib/python3.6/site-packages/sklearn/feature_selection/univariate_selection.py:115: RuntimeWarning: invalid value encountered in true_divide\n",
      "  f = msb / msw\n",
      "/Users/coraames/git/BimanualModeling/py_36_env/lib/python3.6/site-packages/sklearn/feature_selection/univariate_selection.py:114: UserWarning: Features [ 0 11 43] are constant.\n",
      "  UserWarning)\n",
      "/Users/coraames/git/BimanualModeling/py_36_env/lib/python3.6/site-packages/sklearn/feature_selection/univariate_selection.py:115: RuntimeWarning: invalid value encountered in true_divide\n",
      "  f = msb / msw\n",
      "/Users/coraames/git/BimanualModeling/py_36_env/lib/python3.6/site-packages/sklearn/feature_selection/univariate_selection.py:114: UserWarning: Features [0] are constant.\n",
      "  UserWarning)\n",
      "/Users/coraames/git/BimanualModeling/py_36_env/lib/python3.6/site-packages/sklearn/feature_selection/univariate_selection.py:115: RuntimeWarning: invalid value encountered in true_divide\n",
      "  f = msb / msw\n",
      "/Users/coraames/git/BimanualModeling/py_36_env/lib/python3.6/site-packages/sklearn/feature_selection/univariate_selection.py:114: UserWarning: Features [0] are constant.\n",
      "  UserWarning)\n",
      "/Users/coraames/git/BimanualModeling/py_36_env/lib/python3.6/site-packages/sklearn/feature_selection/univariate_selection.py:115: RuntimeWarning: invalid value encountered in true_divide\n",
      "  f = msb / msw\n",
      "/Users/coraames/git/BimanualModeling/py_36_env/lib/python3.6/site-packages/sklearn/feature_selection/univariate_selection.py:114: UserWarning: Features [ 0 11 43] are constant.\n",
      "  UserWarning)\n",
      "/Users/coraames/git/BimanualModeling/py_36_env/lib/python3.6/site-packages/sklearn/feature_selection/univariate_selection.py:115: RuntimeWarning: invalid value encountered in true_divide\n",
      "  f = msb / msw\n",
      "/Users/coraames/git/BimanualModeling/py_36_env/lib/python3.6/site-packages/sklearn/feature_selection/univariate_selection.py:114: UserWarning: Features [0] are constant.\n",
      "  UserWarning)\n",
      "/Users/coraames/git/BimanualModeling/py_36_env/lib/python3.6/site-packages/sklearn/feature_selection/univariate_selection.py:115: RuntimeWarning: invalid value encountered in true_divide\n",
      "  f = msb / msw\n",
      "/Users/coraames/git/BimanualModeling/py_36_env/lib/python3.6/site-packages/sklearn/feature_selection/univariate_selection.py:114: UserWarning: Features [0] are constant.\n",
      "  UserWarning)\n",
      "/Users/coraames/git/BimanualModeling/py_36_env/lib/python3.6/site-packages/sklearn/feature_selection/univariate_selection.py:115: RuntimeWarning: invalid value encountered in true_divide\n",
      "  f = msb / msw\n",
      "/Users/coraames/git/BimanualModeling/py_36_env/lib/python3.6/site-packages/sklearn/feature_selection/univariate_selection.py:114: UserWarning: Features [ 0 11 43] are constant.\n",
      "  UserWarning)\n",
      "/Users/coraames/git/BimanualModeling/py_36_env/lib/python3.6/site-packages/sklearn/feature_selection/univariate_selection.py:115: RuntimeWarning: invalid value encountered in true_divide\n",
      "  f = msb / msw\n",
      "/Users/coraames/git/BimanualModeling/py_36_env/lib/python3.6/site-packages/sklearn/feature_selection/univariate_selection.py:114: UserWarning: Features [0] are constant.\n",
      "  UserWarning)\n",
      "/Users/coraames/git/BimanualModeling/py_36_env/lib/python3.6/site-packages/sklearn/feature_selection/univariate_selection.py:115: RuntimeWarning: invalid value encountered in true_divide\n",
      "  f = msb / msw\n",
      "/Users/coraames/git/BimanualModeling/py_36_env/lib/python3.6/site-packages/sklearn/feature_selection/univariate_selection.py:114: UserWarning: Features [0] are constant.\n",
      "  UserWarning)\n",
      "/Users/coraames/git/BimanualModeling/py_36_env/lib/python3.6/site-packages/sklearn/feature_selection/univariate_selection.py:115: RuntimeWarning: invalid value encountered in true_divide\n",
      "  f = msb / msw\n"
     ]
    },
    {
     "name": "stderr",
     "output_type": "stream",
     "text": [
      "/Users/coraames/git/BimanualModeling/py_36_env/lib/python3.6/site-packages/sklearn/feature_selection/univariate_selection.py:114: UserWarning: Features [ 0 11 43] are constant.\n",
      "  UserWarning)\n",
      "/Users/coraames/git/BimanualModeling/py_36_env/lib/python3.6/site-packages/sklearn/feature_selection/univariate_selection.py:115: RuntimeWarning: invalid value encountered in true_divide\n",
      "  f = msb / msw\n",
      "/Users/coraames/git/BimanualModeling/py_36_env/lib/python3.6/site-packages/sklearn/feature_selection/univariate_selection.py:114: UserWarning: Features [0] are constant.\n",
      "  UserWarning)\n",
      "/Users/coraames/git/BimanualModeling/py_36_env/lib/python3.6/site-packages/sklearn/feature_selection/univariate_selection.py:115: RuntimeWarning: invalid value encountered in true_divide\n",
      "  f = msb / msw\n",
      "/Users/coraames/git/BimanualModeling/py_36_env/lib/python3.6/site-packages/sklearn/feature_selection/univariate_selection.py:114: UserWarning: Features [0] are constant.\n",
      "  UserWarning)\n",
      "/Users/coraames/git/BimanualModeling/py_36_env/lib/python3.6/site-packages/sklearn/feature_selection/univariate_selection.py:115: RuntimeWarning: invalid value encountered in true_divide\n",
      "  f = msb / msw\n",
      "/Users/coraames/git/BimanualModeling/py_36_env/lib/python3.6/site-packages/sklearn/feature_selection/univariate_selection.py:114: UserWarning: Features [ 0 11 43] are constant.\n",
      "  UserWarning)\n",
      "/Users/coraames/git/BimanualModeling/py_36_env/lib/python3.6/site-packages/sklearn/feature_selection/univariate_selection.py:115: RuntimeWarning: invalid value encountered in true_divide\n",
      "  f = msb / msw\n",
      "/Users/coraames/git/BimanualModeling/py_36_env/lib/python3.6/site-packages/sklearn/feature_selection/univariate_selection.py:114: UserWarning: Features [0] are constant.\n",
      "  UserWarning)\n",
      "/Users/coraames/git/BimanualModeling/py_36_env/lib/python3.6/site-packages/sklearn/feature_selection/univariate_selection.py:115: RuntimeWarning: invalid value encountered in true_divide\n",
      "  f = msb / msw\n",
      "/Users/coraames/git/BimanualModeling/py_36_env/lib/python3.6/site-packages/sklearn/feature_selection/univariate_selection.py:114: UserWarning: Features [0] are constant.\n",
      "  UserWarning)\n",
      "/Users/coraames/git/BimanualModeling/py_36_env/lib/python3.6/site-packages/sklearn/feature_selection/univariate_selection.py:115: RuntimeWarning: invalid value encountered in true_divide\n",
      "  f = msb / msw\n"
     ]
    },
    {
     "name": "stdout",
     "output_type": "stream",
     "text": [
      "Best performance was 0.4838724507958077\n",
      "Best model value for kbest__k = 27\n",
      "Best model value for lr__max_iter = 161\n"
     ]
    },
    {
     "data": {
      "image/png": "[encoded data removed]",
      "text/plain": [
       "<Figure size 720x720 with 4 Axes>"
      ]
     },
     "metadata": {
      "needs_background": "light"
     },
     "output_type": "display_data"
    }
   ],
   "source": [
    "# logistic regression\n",
    "\n",
    "# Build the pipeline\n",
    "lr_pipeline = Pipeline([\n",
    "    ('kbest', SelectKBest(k=20,score_func=f_classif)),    # subselect the best k predictors (based on )\n",
    "    ('lr',LogisticRegression(solver='lbfgs',max_iter=200)),\n",
    "    ])\n",
    "\n",
    "# select parameters to tune\n",
    "lr_params = {\n",
    "    'kbest__k': randint(1,30),\n",
    "    'lr__max_iter':randint(100,300),\n",
    "}\n",
    "\n",
    "# Iteratively check parameters (randomized)  \n",
    "n_iter = 30\n",
    "random_search = RandomizedSearchCV(lr_pipeline,\n",
    "                                   param_distributions=lr_params,\n",
    "                                   n_iter=n_iter, \n",
    "                                   cv=3, \n",
    "                                   iid=False,\n",
    "                                   scoring=make_scorer(log_loss,needs_proba=True,greater_is_better=False),\n",
    "                                   verbose=0,\n",
    "                                   refit=0,\n",
    "                                   return_train_score=True\n",
    "                                  )\n",
    "random_search.fit(line_stats.astype('float64'),target)\n",
    "Plot_results(random_search)"
   ]
  },
  {
   "cell_type": "markdown",
   "metadata": {},
   "source": [
    "### 1.3.3 Optimizing Naive Bayes"
   ]
  },
  {
   "cell_type": "code",
   "execution_count": 96,
   "metadata": {},
   "outputs": [
    {
     "name": "stdout",
     "output_type": "stream",
     "text": [
      "Best performance was 0.5131745367775918\n",
      "Best model value for nb__alpha = 1.0\n",
      "Best model value for nb__fit_prior = True\n"
     ]
    },
    {
     "data": {
      "image/png": "[encoded data removed]",
      "text/plain": [
       "<Figure size 720x720 with 4 Axes>"
      ]
     },
     "metadata": {
      "needs_background": "light"
     },
     "output_type": "display_data"
    }
   ],
   "source": [
    "# naive bayes\n",
    "\n",
    "# Build the pipeline\n",
    "nb_pipeline = Pipeline([\n",
    "    ('nb',MultinomialNB()),\n",
    "    ])\n",
    "\n",
    "# select parameters to tune\n",
    "nb_params = {\n",
    "    'nb__fit_prior': [True,False],\n",
    "    'nb__alpha':[0.1,1.0,10.0,100.0]\n",
    "}\n",
    "\n",
    "# Iteratively check parameters (randomized)  \n",
    "random_search = GridSearchCV(nb_pipeline,\n",
    "                                   param_grid=nb_params,\n",
    "                                   cv=3, \n",
    "                                   iid=False,\n",
    "                                   scoring=make_scorer(log_loss,needs_proba=True,greater_is_better=False),\n",
    "                                   verbose=0,\n",
    "                                   refit=0,\n",
    "                                   n_jobs=-1,\n",
    "                                   return_train_score=True\n",
    "                                  )\n",
    "random_search.fit(line_stats,target)\n",
    "Plot_results(random_search)"
   ]
  },
  {
   "cell_type": "markdown",
   "metadata": {},
   "source": [
    "### 1.3.4 Optimizing Random Forest"
   ]
  },
  {
   "cell_type": "code",
   "execution_count": 102,
   "metadata": {},
   "outputs": [
    {
     "name": "stdout",
     "output_type": "stream",
     "text": [
      "Fitting 3 folds for each of 30 candidates, totalling 90 fits\n"
     ]
    },
    {
     "name": "stderr",
     "output_type": "stream",
     "text": [
      "[Parallel(n_jobs=-1)]: Using backend LokyBackend with 8 concurrent workers.\n",
      "[Parallel(n_jobs=-1)]: Done  34 tasks      | elapsed:  2.4min\n",
      "[Parallel(n_jobs=-1)]: Done  90 out of  90 | elapsed:  6.0min finished\n"
     ]
    },
    {
     "name": "stdout",
     "output_type": "stream",
     "text": [
      "Best performance was 0.4495430315893945\n",
      "Best model value for rf__max_depth = 24\n",
      "Best model value for rf__min_samples_leaf = 2\n",
      "Best model value for rf__min_samples_split = 118\n",
      "Best model value for rf__n_estimators = 109\n"
     ]
    },
    {
     "data": {
      "image/png": "[encoded data removed]",
      "text/plain": [
       "<Figure size 1440x720 with 8 Axes>"
      ]
     },
     "metadata": {
      "needs_background": "light"
     },
     "output_type": "display_data"
    }
   ],
   "source": [
    "# Extra Trees\n",
    "\n",
    "# Build the pipeline\n",
    "rf_pipeline = Pipeline([\n",
    "    ('rf',ExtraTreesClassifier(n_estimators=50)),\n",
    "    ])\n",
    "\n",
    "# select parameters to tune\n",
    "rf_params = {\n",
    "    'rf__max_depth': randint(20,31),\n",
    "    'rf__min_samples_split' : randint(75,125),\n",
    "    'rf__min_samples_leaf' : randint(1,8),\n",
    "#     'rf__n_estimators' : randint(50,150)\n",
    "}\n",
    "\n",
    "# Iteratively check parameters (randomized)  \n",
    "n_iter = 30\n",
    "random_search = RandomizedSearchCV(rf_pipeline,\n",
    "                                   param_distributions=rf_params,\n",
    "                                   n_iter=n_iter, \n",
    "                                   cv=3, \n",
    "                                   iid=False,\n",
    "                                   scoring=make_scorer(log_loss,needs_proba=True,greater_is_better=False),\n",
    "                                   verbose=1,\n",
    "                                   refit=0,\n",
    "                                   n_jobs=-1,\n",
    "                                   return_train_score=True\n",
    "                                  )\n",
    "random_search.fit(line_stats,target)\n",
    "\n",
    "# Report performance\n",
    "Plot_results(random_search)\n"
   ]
  },
  {
   "cell_type": "markdown",
   "metadata": {},
   "source": [
    "### 1.3.5 Optimizing Gradient Boosted Trees"
   ]
  },
  {
   "cell_type": "code",
   "execution_count": 105,
   "metadata": {
    "scrolled": false
   },
   "outputs": [
    {
     "name": "stdout",
     "output_type": "stream",
     "text": [
      "Fitting 3 folds for each of 20 candidates, totalling 60 fits\n"
     ]
    },
    {
     "name": "stderr",
     "output_type": "stream",
     "text": [
      "[Parallel(n_jobs=-1)]: Using backend LokyBackend with 8 concurrent workers.\n",
      "[Parallel(n_jobs=-1)]: Done  34 tasks      | elapsed: 15.3min\n",
      "[Parallel(n_jobs=-1)]: Done  60 out of  60 | elapsed: 23.1min finished\n"
     ]
    },
    {
     "name": "stdout",
     "output_type": "stream",
     "text": [
      "Best performance was 0.4506442901369545\n",
      "Best model value for rf__min_samples_leaf = 4\n",
      "Best model value for rf__n_estimators = 111\n",
      "Best model value for rf__subsample = 0.5\n"
     ]
    },
    {
     "data": {
      "image/png": "[encoded data removed]",
      "text/plain": [
       "<Figure size 1080x720 with 6 Axes>"
      ]
     },
     "metadata": {
      "needs_background": "light"
     },
     "output_type": "display_data"
    }
   ],
   "source": [
    "# Gradient Boosted Trees\n",
    "\n",
    "# Build the pipeline\n",
    "xgb_pipeline = Pipeline([\n",
    "    ('rf',GradientBoostingClassifier(max_depth=6)),\n",
    "    ])\n",
    "\n",
    "# select parameters to tune\n",
    "xgb_params = {\n",
    "    'rf__min_samples_leaf' : randint(1,6),\n",
    "    'rf__n_estimators' : randint(50,100),\n",
    "    'rf__subsample' : [.5,.75,1]\n",
    "}\n",
    "\n",
    "# Iteratively check parameters (randomized)  \n",
    "n_iter = 20\n",
    "random_search = RandomizedSearchCV(xgb_pipeline,\n",
    "                                   param_distributions=xgb_params,\n",
    "                                   n_iter=n_iter, \n",
    "                                   cv=3, \n",
    "                                   iid=False,\n",
    "                                   scoring=make_scorer(log_loss,needs_proba=True,greater_is_better=False),\n",
    "                                   verbose=1,\n",
    "                                   refit=0,\n",
    "                                   n_jobs=-1,\n",
    "                                   return_train_score=True\n",
    "                                  )\n",
    "random_search.fit(line_stats,target)\n",
    "\n",
    "# Report performance\n",
    "Plot_results(random_search)"
   ]
  },
  {
   "cell_type": "markdown",
   "metadata": {},
   "source": [
    "### 1.3.6 Optimization Summary\n",
    "\n",
    "I found that optimizing the simpler regressors (Naive Bayes, Logistic Regression) does not significantly improve their performance. This tends to be the case, that the simpler the model, the less hyperparameter selection tends to matter. Indeed, there are often many fewer hyper-parameters to optimize in the first place.\n",
    "\n",
    "The Random Forest improves a great deal with parameter optimization. This indicates that this model is actually able to generate accurate predictions, but the \"default\" parameters are not good choices for this particular dataset.\n",
    "\n",
    "The Gradient Boosted trees improve slightly with optimizaiton, but less dramatically so. The default parameters for this function already generated good performance (relative to the other predictors), so there was less room for improvement.\n",
    "\n",
    "#### The **final performance** of each of my classifiers, predicting humor based on line statistics, is:\n",
    "1. **Random Forest**: 0.449\n",
    "2. **Gradient Boosted Trees**: 0.450\n",
    "3. **Logistic Regression**: 0.482\n",
    "4. **Naive Bayes**: 0.501"
   ]
  },
  {
   "cell_type": "markdown",
   "metadata": {},
   "source": [
    "## 1.4 Predicting humor based on words"
   ]
  },
  {
   "cell_type": "markdown",
   "metadata": {},
   "source": [
    "My next goal is to predict whether a line is funny by actually looking at the words of the line, rather than just statistics about the speaker, line length, and segment.\n",
    "\n",
    "This can be quite a complicated process, as sentences need a decent amount of processing before a classifier can examine them. I'm going to use a **Bag of words** strategy (which builds a single vector that is the \"average\" of the words in each line), which performs the following steps:\n",
    "1. Construct a vector of dimension num_words, where the value is the number of times each word appears in the sentence.\n",
    "2. Transform this vector based on word frequency, where words that are uncommon across all of the lines are weighted as more important than common words. So the word \"Rutabega\", for example, would be weighted more strongly than the word \"The.\"\n",
    "3. Perform unsupervised dimensionality reduction to project the vectors into a smaller space that captures most of the variance.\n",
    "4. Feed the resulting vectors into the classifier.\n",
    "\n",
    "For this section, I will only be examining the \"forest\" style classifiers. This is largely because simple, largely linear classifiers are unlikely to be able to capture the relationship between words and humor - it's a much more complicated space than those classifiers are designed to capture. "
   ]
  },
  {
   "cell_type": "code",
   "execution_count": 58,
   "metadata": {},
   "outputs": [
    {
     "name": "stdout",
     "output_type": "stream",
     "text": [
      "Loss for mean guessing is 0.5173517993693959\n",
      "Dumb guessing yields accuracy of 0.7095864217931165\n"
     ]
    }
   ],
   "source": [
    "print(f'Loss for mean guessing is {naive_loss}')\n",
    "print(f'Dumb guessing yields accuracy of {1-target.mean()}')"
   ]
  },
  {
   "cell_type": "markdown",
   "metadata": {},
   "source": [
    "### 1.4.1 Random Forest \n"
   ]
  },
  {
   "cell_type": "code",
   "execution_count": 61,
   "metadata": {
    "scrolled": false
   },
   "outputs": [
    {
     "name": "stdout",
     "output_type": "stream",
     "text": [
      "Fitting 3 folds for each of 20 candidates, totalling 60 fits\n"
     ]
    },
    {
     "name": "stderr",
     "output_type": "stream",
     "text": [
      "[Parallel(n_jobs=-1)]: Using backend LokyBackend with 8 concurrent workers.\n",
      "[Parallel(n_jobs=-1)]: Done  25 tasks      | elapsed:  5.4min\n",
      "[Parallel(n_jobs=-1)]: Done  60 out of  60 | elapsed: 10.2min finished\n"
     ]
    },
    {
     "name": "stdout",
     "output_type": "stream",
     "text": [
      "Best performance was 0.44729726892728344\n",
      "Best model value for clf__max_depth = 48\n",
      "Best model value for clf__min_samples_leaf = 2\n",
      "Best model value for clf__min_samples_split = 30\n",
      "Best model value for tsvd__n_components = 64\n"
     ]
    },
    {
     "data": {
      "image/png": "[encoded data removed]",
      "text/plain": [
       "<Figure size 1440x720 with 8 Axes>"
      ]
     },
     "metadata": {
      "needs_background": "light"
     },
     "output_type": "display_data"
    }
   ],
   "source": [
    "tree_text_pipeline = Pipeline([\n",
    "     ('vect', CountVectorizer(max_df=.9,min_df=100,ngram_range=(1,3))),\n",
    "     ('tfidf', TfidfTransformer()),\n",
    "     ('tsvd',TruncatedSVD(n_components=50)),\n",
    "     ('clf', ExtraTreesClassifier(n_estimators=50))\n",
    "  ])\n",
    "\n",
    "param_dict = {\n",
    "#     'vect__ngram_range': [ (1, 2), (1, 3),(1,4)],\n",
    "    'tsvd__n_components':randint(60,81),\n",
    "    'clf__max_depth': randint(40,51),\n",
    "    'clf__min_samples_split' : randint(20,40),\n",
    "    'clf__min_samples_leaf' : randint(1,3),\n",
    "}\n",
    "\n",
    "n_iter = 20\n",
    "\n",
    "random_search = RandomizedSearchCV(tree_text_pipeline,\n",
    "                                   param_distributions=param_dict,\n",
    "                                   n_iter=n_iter, \n",
    "                                   cv=3, \n",
    "                                   iid=False,\n",
    "                                   scoring=make_scorer(log_loss,\n",
    "                                                       needs_proba=True,\n",
    "                                                       greater_is_better=False),\n",
    "                                   verbose=2,\n",
    "                                   return_train_score=False,\n",
    "                                   n_jobs=-1,\n",
    "                                   refit=0,\n",
    "                                  )\n",
    "\n",
    "random_search.fit(lines_df.loc[lines_df.train,'lines'],\n",
    "                  lines_df.loc[lines_df.train,'funny'].astype(int));\n",
    "\n",
    "Plot_results(random_search)"
   ]
  },
  {
   "cell_type": "markdown",
   "metadata": {},
   "source": [
    "### 1.4.2 Gradient Boosted Trees\n"
   ]
  },
  {
   "cell_type": "code",
   "execution_count": 113,
   "metadata": {
    "scrolled": false
   },
   "outputs": [
    {
     "name": "stdout",
     "output_type": "stream",
     "text": [
      "Fitting 3 folds for each of 5 candidates, totalling 15 fits\n"
     ]
    },
    {
     "name": "stderr",
     "output_type": "stream",
     "text": [
      "[Parallel(n_jobs=-1)]: Using backend LokyBackend with 8 concurrent workers.\n",
      "[Parallel(n_jobs=-1)]: Done   8 out of  15 | elapsed:  9.6min remaining:  8.4min\n",
      "[Parallel(n_jobs=-1)]: Done  15 out of  15 | elapsed: 11.8min finished\n"
     ]
    },
    {
     "name": "stdout",
     "output_type": "stream",
     "text": [
      "Best performance was 0.4550280067459071\n",
      "Best model value for clf__n_estimators = 178\n",
      "Best model value for clf__subsample = 0.5\n",
      "Best model value for tsvd__n_components = 98\n",
      "Best model value for vect__ngram_range = (1, 3)\n"
     ]
    },
    {
     "data": {
      "image/png": "[encoded data removed]",
      "text/plain": [
       "<Figure size 1440x720 with 8 Axes>"
      ]
     },
     "metadata": {
      "needs_background": "light"
     },
     "output_type": "display_data"
    }
   ],
   "source": [
    "tree_text_pipeline = Pipeline([\n",
    "     ('vect', CountVectorizer(max_df=.9,min_df=100,ngram_range=(1,2))),\n",
    "     ('tfidf', TfidfTransformer()),\n",
    "     ('tsvd',TruncatedSVD(n_components=50)),\n",
    "     ('clf', GradientBoostingClassifier(n_estimators=10,max_depth=2))\n",
    "  ])\n",
    "\n",
    "param_dict = {\n",
    "    'tsvd__n_components':randint(20,100),\n",
    "    'clf__n_estimators': randint(100,200),\n",
    "    'clf__subsample' : [.5,.75,1]\n",
    "}\n",
    "\n",
    "n_iter = 5\n",
    "\n",
    "random_search = RandomizedSearchCV(tree_text_pipeline,\n",
    "                                   param_distributions=param_dict,\n",
    "                                   n_iter=n_iter, \n",
    "                                   cv=3, \n",
    "                                   iid=False,\n",
    "                                   scoring=make_scorer(log_loss,needs_proba=True,greater_is_better=False),\n",
    "                                   verbose=2,\n",
    "                                   return_train_score=False,\n",
    "                                   n_jobs=-1,\n",
    "                                   refit=0,\n",
    "                                  )\n",
    "\n",
    "random_search.fit(lines_df.loc[lines_df.train,'lines'],\n",
    "                  lines_df.loc[lines_df.train,'funny'].astype(int));\n",
    "\n",
    "Plot_results(random_search)"
   ]
  },
  {
   "cell_type": "markdown",
   "metadata": {},
   "source": [
    "### 1.4.3 Text Prediction Conclusions\n",
    "\n",
    "Both methods were able to perform well at predicting humor based on the text of the lines. This is still a relatively \"rough\" way of looking at line content, since it doesn't know anything about word order, so it would likely be possible to take that information into account as well, in order to improve performance.\n",
    "\n",
    "At this stage, the classifiers perform at:\n",
    "\n",
    "1. **Random Forest: loss = 0.446**\n",
    "2. **Gradient Boosted Trees: loss = 0.452**"
   ]
  },
  {
   "cell_type": "markdown",
   "metadata": {},
   "source": [
    "## 1.3 Combining stats and text for prediction\n",
    "Often, models can do best when they can take into account as much information about the data as possible. In fact, my previous models performed similarly well using two (largely but not entirely independent) sources of information: the text of the line, and statistics about the line. This indicates that we are **likely to perform better if we combine both sources of information.** So my next step is to incorporate what I have learned from the previous sections, and build a \"mega predictor\" that takes in both the line text and the line statistics in order to make the best combined prediction.\n",
    "\n",
    "This requires a slightly more complicated pipeline. Essentially, I'll first build a pipeline to transform the text - this will have the same parameters as I selected for the \"optimal\" text transformer above. I will then build a second transformer which selects some columns of the input dataframe to pass directly to the classifier, and passes the \"lines\" column to the text-processing pipeline first. Finally, I bring the full transformer together with the classifier to build the final, complete pipeline. Then, pulling in the data, transforming it, and classifying it will all be performed automatically by the final pipeline."
   ]
  },
  {
   "cell_type": "code",
   "execution_count": 24,
   "metadata": {},
   "outputs": [],
   "source": [
    "from sklearn.compose import ColumnTransformer\n",
    "\n",
    "# I will build a transformer to treat columns in different ways:\n",
    "text_col = 'lines' # encode and process the words\n",
    "passthrough_col = ['num_words', 'uniform_words', 'prev_line_funny', 'BABYLON', 'BLOUNT',\n",
    "       'BODDEN', 'BODETT', 'BURBANK', 'BURKE', 'CONNOR', 'DICKINSON', 'FARSAD',\n",
    "       'FELBER', 'FERO', 'GOLDTHWAIT', 'GROSZ', 'HONG', 'JOBRANI', 'KLEIN',\n",
    "       'PIERCE', 'POUNDSTONE', 'ROBERTS', 'ROCCA', 'ROURKE', 'SALIE', 'SAGAL',\n",
    "       'KURTIS', 'KASELL', 'who', 'panel', 'bluff', 'job', 'predictions',\n",
    "       'limerick', 'lightning'] # pass through stats/speakers/segment\n",
    "\n",
    "# Transformation specifically for the line text\n",
    "text_transformer = Pipeline([\n",
    "     ('vect', CountVectorizer(min_df=75,max_df=.8,ngram_range=(1, 3))),\n",
    "     ('tfidf', TfidfTransformer()),\n",
    "     ('tsvd',TruncatedSVD(n_components=100)),\n",
    "  ])\n",
    "\n",
    "# Transform the text and pass the statistics\n",
    "full_transformer= ColumnTransformer([\n",
    "    (\"text\",text_transformer,text_col),\n",
    "    (\"pass\",\"passthrough\",passthrough_col)\n",
    "])\n",
    "\n",
    "# Pipeline first uses the full_transformer, then the classifier\n",
    "full_pipeline = Pipeline([\n",
    "     ('transform',full_transformer),\n",
    "     ('clf', ExtraTreesClassifier(max_depth=35,n_estimators=100,min_samples_leaf=2))\n",
    "  ])"
   ]
  },
  {
   "cell_type": "code",
   "execution_count": 25,
   "metadata": {},
   "outputs": [
    {
     "name": "stdout",
     "output_type": "stream",
     "text": [
      "Fitting 3 folds for each of 6 candidates, totalling 18 fits\n"
     ]
    },
    {
     "name": "stderr",
     "output_type": "stream",
     "text": [
      "[Parallel(n_jobs=10)]: Using backend LokyBackend with 10 concurrent workers.\n",
      "[Parallel(n_jobs=10)]: Done   9 out of  18 | elapsed:    5.4s remaining:    5.4s\n"
     ]
    },
    {
     "ename": "KeyboardInterrupt",
     "evalue": "",
     "output_type": "error",
     "traceback": [
      "\u001b[0;31m---------------------------------------------------------------------------\u001b[0m",
      "\u001b[0;31mKeyboardInterrupt\u001b[0m                         Traceback (most recent call last)",
      "\u001b[0;32m<ipython-input-25-6eaae14a9640>\u001b[0m in \u001b[0;36m<module>\u001b[0;34m()\u001b[0m\n\u001b[1;32m     16\u001b[0m                            \u001b[0mrefit\u001b[0m\u001b[0;34m=\u001b[0m\u001b[0;32mTrue\u001b[0m\u001b[0;34m,\u001b[0m\u001b[0;34m\u001b[0m\u001b[0m\n\u001b[1;32m     17\u001b[0m                           )\n\u001b[0;32m---> 18\u001b[0;31m \u001b[0msearch\u001b[0m\u001b[0;34m.\u001b[0m\u001b[0mfit\u001b[0m\u001b[0;34m(\u001b[0m\u001b[0mlines_df\u001b[0m\u001b[0;34m.\u001b[0m\u001b[0mloc\u001b[0m\u001b[0;34m[\u001b[0m\u001b[0mlines_df\u001b[0m\u001b[0;34m.\u001b[0m\u001b[0mtrain\u001b[0m\u001b[0;34m,\u001b[0m\u001b[0;34m:\u001b[0m\u001b[0;34m]\u001b[0m\u001b[0;34m,\u001b[0m\u001b[0mtarget\u001b[0m\u001b[0;34m[\u001b[0m\u001b[0mlines_df\u001b[0m\u001b[0;34m.\u001b[0m\u001b[0mtrain\u001b[0m\u001b[0;34m]\u001b[0m\u001b[0;34m)\u001b[0m\u001b[0;34m;\u001b[0m\u001b[0;34m\u001b[0m\u001b[0m\n\u001b[0m\u001b[1;32m     19\u001b[0m \u001b[0mPlot_results\u001b[0m\u001b[0;34m(\u001b[0m\u001b[0msearch\u001b[0m\u001b[0;34m)\u001b[0m\u001b[0;34m\u001b[0m\u001b[0m\n",
      "\u001b[0;32m~/git/BimanualModeling/py_36_env/lib/python3.6/site-packages/sklearn/model_selection/_search.py\u001b[0m in \u001b[0;36mfit\u001b[0;34m(self, X, y, groups, **fit_params)\u001b[0m\n\u001b[1;32m    720\u001b[0m                 \u001b[0;32mreturn\u001b[0m \u001b[0mresults_container\u001b[0m\u001b[0;34m[\u001b[0m\u001b[0;36m0\u001b[0m\u001b[0;34m]\u001b[0m\u001b[0;34m\u001b[0m\u001b[0m\n\u001b[1;32m    721\u001b[0m \u001b[0;34m\u001b[0m\u001b[0m\n\u001b[0;32m--> 722\u001b[0;31m             \u001b[0mself\u001b[0m\u001b[0;34m.\u001b[0m\u001b[0m_run_search\u001b[0m\u001b[0;34m(\u001b[0m\u001b[0mevaluate_candidates\u001b[0m\u001b[0;34m)\u001b[0m\u001b[0;34m\u001b[0m\u001b[0m\n\u001b[0m\u001b[1;32m    723\u001b[0m \u001b[0;34m\u001b[0m\u001b[0m\n\u001b[1;32m    724\u001b[0m         \u001b[0mresults\u001b[0m \u001b[0;34m=\u001b[0m \u001b[0mresults_container\u001b[0m\u001b[0;34m[\u001b[0m\u001b[0;36m0\u001b[0m\u001b[0;34m]\u001b[0m\u001b[0;34m\u001b[0m\u001b[0m\n",
      "\u001b[0;32m~/git/BimanualModeling/py_36_env/lib/python3.6/site-packages/sklearn/model_selection/_search.py\u001b[0m in \u001b[0;36m_run_search\u001b[0;34m(self, evaluate_candidates)\u001b[0m\n\u001b[1;32m   1513\u001b[0m         evaluate_candidates(ParameterSampler(\n\u001b[1;32m   1514\u001b[0m             \u001b[0mself\u001b[0m\u001b[0;34m.\u001b[0m\u001b[0mparam_distributions\u001b[0m\u001b[0;34m,\u001b[0m \u001b[0mself\u001b[0m\u001b[0;34m.\u001b[0m\u001b[0mn_iter\u001b[0m\u001b[0;34m,\u001b[0m\u001b[0;34m\u001b[0m\u001b[0m\n\u001b[0;32m-> 1515\u001b[0;31m             random_state=self.random_state))\n\u001b[0m",
      "\u001b[0;32m~/git/BimanualModeling/py_36_env/lib/python3.6/site-packages/sklearn/model_selection/_search.py\u001b[0m in \u001b[0;36mevaluate_candidates\u001b[0;34m(candidate_params)\u001b[0m\n\u001b[1;32m    709\u001b[0m                                \u001b[0;32mfor\u001b[0m \u001b[0mparameters\u001b[0m\u001b[0;34m,\u001b[0m \u001b[0;34m(\u001b[0m\u001b[0mtrain\u001b[0m\u001b[0;34m,\u001b[0m \u001b[0mtest\u001b[0m\u001b[0;34m)\u001b[0m\u001b[0;34m\u001b[0m\u001b[0m\n\u001b[1;32m    710\u001b[0m                                in product(candidate_params,\n\u001b[0;32m--> 711\u001b[0;31m                                           cv.split(X, y, groups)))\n\u001b[0m\u001b[1;32m    712\u001b[0m \u001b[0;34m\u001b[0m\u001b[0m\n\u001b[1;32m    713\u001b[0m                 \u001b[0mall_candidate_params\u001b[0m\u001b[0;34m.\u001b[0m\u001b[0mextend\u001b[0m\u001b[0;34m(\u001b[0m\u001b[0mcandidate_params\u001b[0m\u001b[0;34m)\u001b[0m\u001b[0;34m\u001b[0m\u001b[0m\n",
      "\u001b[0;32m~/git/BimanualModeling/py_36_env/lib/python3.6/site-packages/sklearn/externals/joblib/parallel.py\u001b[0m in \u001b[0;36m__call__\u001b[0;34m(self, iterable)\u001b[0m\n\u001b[1;32m    928\u001b[0m \u001b[0;34m\u001b[0m\u001b[0m\n\u001b[1;32m    929\u001b[0m             \u001b[0;32mwith\u001b[0m \u001b[0mself\u001b[0m\u001b[0;34m.\u001b[0m\u001b[0m_backend\u001b[0m\u001b[0;34m.\u001b[0m\u001b[0mretrieval_context\u001b[0m\u001b[0;34m(\u001b[0m\u001b[0;34m)\u001b[0m\u001b[0;34m:\u001b[0m\u001b[0;34m\u001b[0m\u001b[0m\n\u001b[0;32m--> 930\u001b[0;31m                 \u001b[0mself\u001b[0m\u001b[0;34m.\u001b[0m\u001b[0mretrieve\u001b[0m\u001b[0;34m(\u001b[0m\u001b[0;34m)\u001b[0m\u001b[0;34m\u001b[0m\u001b[0m\n\u001b[0m\u001b[1;32m    931\u001b[0m             \u001b[0;31m# Make sure that we get a last message telling us we are done\u001b[0m\u001b[0;34m\u001b[0m\u001b[0;34m\u001b[0m\u001b[0m\n\u001b[1;32m    932\u001b[0m             \u001b[0melapsed_time\u001b[0m \u001b[0;34m=\u001b[0m \u001b[0mtime\u001b[0m\u001b[0;34m.\u001b[0m\u001b[0mtime\u001b[0m\u001b[0;34m(\u001b[0m\u001b[0;34m)\u001b[0m \u001b[0;34m-\u001b[0m \u001b[0mself\u001b[0m\u001b[0;34m.\u001b[0m\u001b[0m_start_time\u001b[0m\u001b[0;34m\u001b[0m\u001b[0m\n",
      "\u001b[0;32m~/git/BimanualModeling/py_36_env/lib/python3.6/site-packages/sklearn/externals/joblib/parallel.py\u001b[0m in \u001b[0;36mretrieve\u001b[0;34m(self)\u001b[0m\n\u001b[1;32m    831\u001b[0m             \u001b[0;32mtry\u001b[0m\u001b[0;34m:\u001b[0m\u001b[0;34m\u001b[0m\u001b[0m\n\u001b[1;32m    832\u001b[0m                 \u001b[0;32mif\u001b[0m \u001b[0mgetattr\u001b[0m\u001b[0;34m(\u001b[0m\u001b[0mself\u001b[0m\u001b[0;34m.\u001b[0m\u001b[0m_backend\u001b[0m\u001b[0;34m,\u001b[0m \u001b[0;34m'supports_timeout'\u001b[0m\u001b[0;34m,\u001b[0m \u001b[0;32mFalse\u001b[0m\u001b[0;34m)\u001b[0m\u001b[0;34m:\u001b[0m\u001b[0;34m\u001b[0m\u001b[0m\n\u001b[0;32m--> 833\u001b[0;31m                     \u001b[0mself\u001b[0m\u001b[0;34m.\u001b[0m\u001b[0m_output\u001b[0m\u001b[0;34m.\u001b[0m\u001b[0mextend\u001b[0m\u001b[0;34m(\u001b[0m\u001b[0mjob\u001b[0m\u001b[0;34m.\u001b[0m\u001b[0mget\u001b[0m\u001b[0;34m(\u001b[0m\u001b[0mtimeout\u001b[0m\u001b[0;34m=\u001b[0m\u001b[0mself\u001b[0m\u001b[0;34m.\u001b[0m\u001b[0mtimeout\u001b[0m\u001b[0;34m)\u001b[0m\u001b[0;34m)\u001b[0m\u001b[0;34m\u001b[0m\u001b[0m\n\u001b[0m\u001b[1;32m    834\u001b[0m                 \u001b[0;32melse\u001b[0m\u001b[0;34m:\u001b[0m\u001b[0;34m\u001b[0m\u001b[0m\n\u001b[1;32m    835\u001b[0m                     \u001b[0mself\u001b[0m\u001b[0;34m.\u001b[0m\u001b[0m_output\u001b[0m\u001b[0;34m.\u001b[0m\u001b[0mextend\u001b[0m\u001b[0;34m(\u001b[0m\u001b[0mjob\u001b[0m\u001b[0;34m.\u001b[0m\u001b[0mget\u001b[0m\u001b[0;34m(\u001b[0m\u001b[0;34m)\u001b[0m\u001b[0;34m)\u001b[0m\u001b[0;34m\u001b[0m\u001b[0m\n",
      "\u001b[0;32m~/git/BimanualModeling/py_36_env/lib/python3.6/site-packages/sklearn/externals/joblib/_parallel_backends.py\u001b[0m in \u001b[0;36mwrap_future_result\u001b[0;34m(future, timeout)\u001b[0m\n\u001b[1;32m    519\u001b[0m         AsyncResults.get from multiprocessing.\"\"\"\n\u001b[1;32m    520\u001b[0m         \u001b[0;32mtry\u001b[0m\u001b[0;34m:\u001b[0m\u001b[0;34m\u001b[0m\u001b[0m\n\u001b[0;32m--> 521\u001b[0;31m             \u001b[0;32mreturn\u001b[0m \u001b[0mfuture\u001b[0m\u001b[0;34m.\u001b[0m\u001b[0mresult\u001b[0m\u001b[0;34m(\u001b[0m\u001b[0mtimeout\u001b[0m\u001b[0;34m=\u001b[0m\u001b[0mtimeout\u001b[0m\u001b[0;34m)\u001b[0m\u001b[0;34m\u001b[0m\u001b[0m\n\u001b[0m\u001b[1;32m    522\u001b[0m         \u001b[0;32mexcept\u001b[0m \u001b[0mLokyTimeoutError\u001b[0m\u001b[0;34m:\u001b[0m\u001b[0;34m\u001b[0m\u001b[0m\n\u001b[1;32m    523\u001b[0m             \u001b[0;32mraise\u001b[0m \u001b[0mTimeoutError\u001b[0m\u001b[0;34m(\u001b[0m\u001b[0;34m)\u001b[0m\u001b[0;34m\u001b[0m\u001b[0m\n",
      "\u001b[0;32m~/anaconda3/lib/python3.6/concurrent/futures/_base.py\u001b[0m in \u001b[0;36mresult\u001b[0;34m(self, timeout)\u001b[0m\n\u001b[1;32m    425\u001b[0m                 \u001b[0;32mreturn\u001b[0m \u001b[0mself\u001b[0m\u001b[0;34m.\u001b[0m\u001b[0m__get_result\u001b[0m\u001b[0;34m(\u001b[0m\u001b[0;34m)\u001b[0m\u001b[0;34m\u001b[0m\u001b[0m\n\u001b[1;32m    426\u001b[0m \u001b[0;34m\u001b[0m\u001b[0m\n\u001b[0;32m--> 427\u001b[0;31m             \u001b[0mself\u001b[0m\u001b[0;34m.\u001b[0m\u001b[0m_condition\u001b[0m\u001b[0;34m.\u001b[0m\u001b[0mwait\u001b[0m\u001b[0;34m(\u001b[0m\u001b[0mtimeout\u001b[0m\u001b[0;34m)\u001b[0m\u001b[0;34m\u001b[0m\u001b[0m\n\u001b[0m\u001b[1;32m    428\u001b[0m \u001b[0;34m\u001b[0m\u001b[0m\n\u001b[1;32m    429\u001b[0m             \u001b[0;32mif\u001b[0m \u001b[0mself\u001b[0m\u001b[0;34m.\u001b[0m\u001b[0m_state\u001b[0m \u001b[0;32min\u001b[0m \u001b[0;34m[\u001b[0m\u001b[0mCANCELLED\u001b[0m\u001b[0;34m,\u001b[0m \u001b[0mCANCELLED_AND_NOTIFIED\u001b[0m\u001b[0;34m]\u001b[0m\u001b[0;34m:\u001b[0m\u001b[0;34m\u001b[0m\u001b[0m\n",
      "\u001b[0;32m~/anaconda3/lib/python3.6/threading.py\u001b[0m in \u001b[0;36mwait\u001b[0;34m(self, timeout)\u001b[0m\n\u001b[1;32m    293\u001b[0m         \u001b[0;32mtry\u001b[0m\u001b[0;34m:\u001b[0m    \u001b[0;31m# restore state no matter what (e.g., KeyboardInterrupt)\u001b[0m\u001b[0;34m\u001b[0m\u001b[0m\n\u001b[1;32m    294\u001b[0m             \u001b[0;32mif\u001b[0m \u001b[0mtimeout\u001b[0m \u001b[0;32mis\u001b[0m \u001b[0;32mNone\u001b[0m\u001b[0;34m:\u001b[0m\u001b[0;34m\u001b[0m\u001b[0m\n\u001b[0;32m--> 295\u001b[0;31m                 \u001b[0mwaiter\u001b[0m\u001b[0;34m.\u001b[0m\u001b[0macquire\u001b[0m\u001b[0;34m(\u001b[0m\u001b[0;34m)\u001b[0m\u001b[0;34m\u001b[0m\u001b[0m\n\u001b[0m\u001b[1;32m    296\u001b[0m                 \u001b[0mgotit\u001b[0m \u001b[0;34m=\u001b[0m \u001b[0;32mTrue\u001b[0m\u001b[0;34m\u001b[0m\u001b[0m\n\u001b[1;32m    297\u001b[0m             \u001b[0;32melse\u001b[0m\u001b[0;34m:\u001b[0m\u001b[0;34m\u001b[0m\u001b[0m\n",
      "\u001b[0;31mKeyboardInterrupt\u001b[0m: "
     ]
    }
   ],
   "source": [
    "param_dict = {\n",
    "          'clf__max_depth': randint(28,40),\n",
    "          'clf__min_samples_leaf':[2,3],\n",
    "}\n",
    "n_iter = 6\n",
    "\n",
    "search = RandomizedSearchCV(full_pipeline,\n",
    "                           param_distributions=param_dict,\n",
    "                           cv=3,\n",
    "                           n_jobs=10,\n",
    "                           n_iter = n_iter,\n",
    "                           iid=False,\n",
    "                           scoring=make_scorer(log_loss,needs_proba=True,greater_is_better=False),\n",
    "                           verbose=2,\n",
    "                           return_train_score=False,\n",
    "                           refit=True,\n",
    "                          )\n",
    "search.fit(lines_df.loc[lines_df.train,:],target[lines_df.train]);\n",
    "Plot_results(search)"
   ]
  },
  {
   "cell_type": "code",
   "execution_count": null,
   "metadata": {},
   "outputs": [],
   "source": [
    "scores = cross_validate(full_pipeline,\n",
    "                       X=lines_df.loc[lines_df.train,:],\n",
    "                       y=lines_df.loc[lines_df.train,'funny'].astype('int'),\n",
    "                       scoring=make_scorer(log_loss,needs_proba=True,greater_is_better=False),\n",
    "                       cv=10,\n",
    "                       n_jobs=10,\n",
    "                       return_train_score=False,\n",
    "                   )\n",
    "\n",
    "print(f\"Cross-validated loss for full pipeline is {-scores['test_score'].mean()}\")"
   ]
  },
  {
   "cell_type": "markdown",
   "metadata": {},
   "source": [
    "## 1.4 Predict the test set\n",
    "\n",
    "Finally, let's combine everything we learned in the above sections. I'll attempt to build the best model that I can. In this case, that will be a random forest, which receives both line statistics and the text of the lines themselves. I will train it on the full training set, and then evaluate it on the testing set."
   ]
  },
  {
   "cell_type": "code",
   "execution_count": null,
   "metadata": {},
   "outputs": [],
   "source": [
    "final_pipeline = full_pipeline.fit(X=lines_df.loc[lines_df.train,:],\n",
    "                       y=lines_df.loc[lines_df.train,'funny'].astype('int'))\n",
    "\n",
    "y_test = lines_df.loc[~lines_df.train,'funny'].astype('int')\n",
    "X_test = lines_df.loc[~lines_df.train,:]\n",
    "y_prob = final_pipeline.predict_proba(X_test)\n",
    "y_pred = final_pipeline.predict(X_test)\n",
    "\n",
    "# Report performance\n",
    "print(f'Test set predicted with {(y_pred==y_test).mean()*100}% accuracy.')\n",
    "print(f'Test score (log loss) is {log_loss(y_test,y_prob)}.')"
   ]
  },
  {
   "cell_type": "markdown",
   "metadata": {},
   "source": [
    "Our final predictor improves a great deal compared with our \"just guess the mean\" approach. We get just over 85% accuracy, and our log-loss is much better, at only 0.34. This means that not only is the predictor doing a pretty good job of understanding whether or not a line will be funny, but it also has a good estimate of certainty. "
   ]
  },
  {
   "cell_type": "markdown",
   "metadata": {},
   "source": [
    "# 2 Predicting Humor with Neural Networks"
   ]
  },
  {
   "cell_type": "markdown",
   "metadata": {},
   "source": [
    "One major challenge with our previous approach is that the text analysis we were capable of doing was relatively course. Because we did not consider word ordering at all, we are potentially missing a great deal of important information contained in the text. While statistical analyses like the ones used above can be quite useful, neural network architectures can be beneficial to learn time-dependent functions and thus gather more detailed information from a block of text. I will therefore move now to training neural networks to predict whether or not a line was funny, and see how well I can do with this approach.\n",
    "\n",
    "The type of neural network I will be using is called a Recurrent Neural Network (RNN). Instead of being ordered in feed-forward layers, recurrent neural network layers connect with themselves over time, and thus can take time-varying inputs into account. The specific type of RNN I will be using is called a GRU (Gated Recurrent Units). These units have a hidden state which can be either held onto or updated at each time step, depending on the state of the network and the inputs. This architecture helps the network to take longer-scale time information into account (traditionally a major challenge with \"basic\" recurrent neural networks.) \n",
    "\n",
    "This section was closely based on [this tutorial](https://keras.io/examples/pretrained_word_embeddings/), although I have made a number of small changes as I have been playing with the data."
   ]
  },
  {
   "cell_type": "markdown",
   "metadata": {},
   "source": [
    "## 2.1 Preparing the inputs\n",
    "\n",
    "In order to feed the lines into the neural networks, I must perform a number of preprocessing steps. \n",
    "1. **[GloVe Embeddings](https://nlp.stanford.edu/projects/glove/)** (Global Vectors for Word Representation) are pre-trained vectors that embed words in a high-dimensional space, such that \"similar\" words will be close together. These embeddings were trained on Wikipedia articles, and therefore have a sense of typical english language structure. Using a pre-trained embedding can help to get text input data into a useful structure for subsequent learning.\n",
    "2. **Data augmentation**: It can often be useful to try to train neural networks on as many training examples as possible. A good way to add additional data to text is to take the training data and replace some of the words with synonyms. This (usually) doesn't change the nature of the sentence, but adds some nice variation and helps reduce over-fitting. I'll generate two extra versions of each training example via random synonym replacement.\n",
    "3. **Sentence padding**: Recurrent neural networks typically need to be trained with inputs that have the same number of words (at the very least, each batch must contain the same dimensions of input). But my lines can vary from a single word to several hundred words in length. So, I will for the moment cut every sentence to a maximum of 50 words long. For those sentences that are shorter than 50 words, I will add a \"filler word\" to grow them to 50 words long. Because the end of the sentence is likely to be more informative about funniness than the beginning, I will keep the last 50 words of each sentence, rather than the first 50 words of each sentence."
   ]
  },
  {
   "cell_type": "code",
   "execution_count": 26,
   "metadata": {},
   "outputs": [],
   "source": [
    "# First, load all of the libraries I'll be using in this section\n",
    "from __future__ import print_function\n",
    "\n",
    "import os\n",
    "import sys\n",
    "import numpy as np\n",
    "from keras.preprocessing.text import Tokenizer\n",
    "from keras.preprocessing.sequence import pad_sequences\n",
    "from keras.utils import to_categorical\n",
    "from keras.layers import Dense, Input, GlobalMaxPooling1D\n",
    "from keras.layers import Conv1D, MaxPooling1D, Embedding,Flatten,SpatialDropout1D\n",
    "from keras.layers import GRU,Bidirectional,Lambda,Add\n",
    "from keras.layers import Dropout,Concatenate,BatchNormalization,Add,GaussianNoise,Activation\n",
    "from keras.models import Model\n",
    "from keras.activations import relu\n",
    "from keras.initializers import Constant\n",
    "from keras.callbacks import EarlyStopping\n",
    "from keras.optimizers import Adadelta, Adam, Nadam\n",
    "import keras.backend as K\n",
    "from keras.regularizers import L1L2"
   ]
  },
  {
   "cell_type": "code",
   "execution_count": 27,
   "metadata": {},
   "outputs": [],
   "source": [
    "#### establish some constants/meta parameters\n",
    "BASE_DIR = './'\n",
    "GLOVE_DIR = os.path.join(BASE_DIR, 'glove.6B')\n",
    "MAX_SEQUENCE_LENGTH = 50\n",
    "MAX_NUM_WORDS = 20000\n",
    "EMBEDDING_DIM = 200\n",
    "VALIDATION_SPLIT = 0.2"
   ]
  },
  {
   "cell_type": "markdown",
   "metadata": {},
   "source": [
    "### Process input for model\n",
    "- Tokenize words\n",
    "- Separate x (word tokens) from y (funniness boolean)\n",
    "- Get training and validation sets\n",
    "- Extract an embedding matrix from GLOVE embeddings to be used by the model"
   ]
  },
  {
   "cell_type": "code",
   "execution_count": 15,
   "metadata": {},
   "outputs": [],
   "source": [
    "# Function to take the training data and divide it into x (lines) and y (funniness)\n",
    "def Segment_input(lines_df, min_words=20):\n",
    "    \n",
    "    # subselect to lines whose length is at least min_words\n",
    "    x = lines_df[lines_df.num_words>=min_words].lines.values  # list of text samples\n",
    "    \n",
    "    # Whether or not each trial is funny\n",
    "    y = lines_df[lines_df.num_words>=min_words].funny.values \n",
    "    \n",
    "    return x,y\n"
   ]
  },
  {
   "cell_type": "code",
   "execution_count": 16,
   "metadata": {},
   "outputs": [],
   "source": [
    "# take in the lines in the training and validation sets, and encode it as a series of integers\n",
    "def Encode_lines(x_list,max_num_words = MAX_NUM_WORDS,sequence_length = MAX_SEQUENCE_LENGTH):\n",
    "    \n",
    "    # Vectorize the text samples into a 2D integer tensor (using the training data only for the encoder)\n",
    "    tokenizer = Tokenizer(num_words=max_num_words)\n",
    "    tokenizer.fit_on_texts(np.concatenate(x_list))\n",
    "    word_index = tokenizer.word_index\n",
    "    \n",
    "    # Encode each of the inputs\n",
    "    x_encoded = []\n",
    "    for x in x_list:\n",
    "        x_encoded.append(Encode_and_pad(x,tokenizer,sequence_length))\n",
    "    \n",
    "    return x_encoded,word_index\n",
    "\n",
    "# support function for Encode_lines (apply encoder to lines, crop all lines to the same length)\n",
    "def Encode_and_pad(x,tokenizer,sequence_length):\n",
    "    sequences = tokenizer.texts_to_sequences(x)\n",
    "    x_encoded = pad_sequences(sequences,truncating='post', maxlen=sequence_length) # keep the end of the lines\n",
    "    return x_encoded"
   ]
  },
  {
   "cell_type": "code",
   "execution_count": 17,
   "metadata": {},
   "outputs": [],
   "source": [
    "# Make the embedding matrix\n",
    "def Make_embedding_matrix(word_index):\n",
    "    # Create a dictionary mapping words to GLOVE embeddings\n",
    "    print('Indexing word vectors.')\n",
    "    embeddings_index = {}\n",
    "    with open(os.path.join(GLOVE_DIR, f'glove.6B.{EMBEDDING_DIM}d.txt')) as f:\n",
    "        for line in f:\n",
    "            values = line.split()\n",
    "            word = values[0]\n",
    "            coefs = np.asarray(values[1:], dtype='float32')\n",
    "            embeddings_index[word] = coefs\n",
    "    print(f'Found {len(embeddings_index)} word vectors.')\n",
    "    \n",
    "    # Prepare embedding matrix\n",
    "    num_words = min(MAX_NUM_WORDS, len(word_index)) + 1\n",
    "    embedding_matrix = np.zeros((num_words, EMBEDDING_DIM))\n",
    "    for word, i in word_index.items():\n",
    "        if i > MAX_NUM_WORDS:\n",
    "            continue\n",
    "        embedding_vector = embeddings_index.get(word)\n",
    "        if embedding_vector is not None:\n",
    "            # words not found in embedding index will be all-zeros.\n",
    "            embedding_matrix[i] = embedding_vector\n",
    "    \n",
    "    return embedding_matrix"
   ]
  },
  {
   "cell_type": "code",
   "execution_count": 18,
   "metadata": {},
   "outputs": [],
   "source": [
    "# Wrapper function to take in a lines data structure, and \n",
    "# output training and validation sets and the GLOVE embedding matrix\n",
    "def Process_data(lines_df, min_words=20,\n",
    "                 max_num_words = MAX_NUM_WORDS,sequence_length = MAX_SEQUENCE_LENGTH):\n",
    "    \n",
    "    # Get the x/y data for training and validation sets\n",
    "    x_train,y_train = Segment_input(lines_df.loc[lines_df.train,:],min_words=min_words)\n",
    "    x_val,y_val = Segment_input(lines_df.loc[lines_df.val,:],min_words=min_words)\n",
    "    x_test,y_test = Segment_input(lines_df.loc[~lines_df.train & ~lines_df.val,:],\n",
    "                                  min_words=min_words)\n",
    "\n",
    "    # Encode words as integers\n",
    "    [x_train_encoded,x_val_encoded,x_test_encoded],word_index = \\\n",
    "        Encode_lines([x_train,x_val,x_test])\n",
    "    \n",
    "    # Make an embedding matrix\n",
    "    embedding_matrix = Make_embedding_matrix(word_index)\n",
    "    return x_train,x_train_encoded,y_train,x_val,x_val_encoded,y_val,x_test,x_test_encoded,y_test,embedding_matrix\n",
    "\n"
   ]
  },
  {
   "cell_type": "code",
   "execution_count": 29,
   "metadata": {},
   "outputs": [
    {
     "name": "stdout",
     "output_type": "stream",
     "text": [
      "Indexing word vectors.\n",
      "Found 400000 word vectors.\n"
     ]
    }
   ],
   "source": [
    "x_train,x_train_encoded,y_train,x_val,x_val_encoded,y_val,x_test,x_test_encoded,y_test,embedding_matrix = Process_data(lines_df,min_words=25)\n"
   ]
  },
  {
   "cell_type": "markdown",
   "metadata": {},
   "source": [
    "### Model analysis functions\n",
    "- Precision\n",
    "- Recall\n",
    "- Example true positives, false positives, true negatives, false negatives"
   ]
  },
  {
   "cell_type": "markdown",
   "metadata": {},
   "source": [
    "## 2.1 Building and training a model\n",
    "The next step is to take these processed inputs, and generate a model. \n",
    "This model has a few properties that I have found useful through trial-and-error testing with my training and validation sets.\n",
    "1. **Dropout**: Because neural networks tend to have many, many parameters, they are prone to \"overfit\" - memorizing the training data instead of learning properties that generalize to new data points. One way of preventing overfitting is to use dropout during training - randomly removing some units or connections, to ensure that the output is not overly reliant on the exact values of any one of its internal parameters.\n",
    "2. **Bidirectional Layers**: This means that I have one network that runs forward on the data, and one network that runs backward on the data. This gives a better sense of each word in context - informed not only by the words that come before, but also by those that come after.\n",
    "3. **Two GRU layers**: More than that seems not to be helpful. In theory, multiple layers ought not to be necessary, but in practice I find that it helps. Perhaps it can help the system to capture more nonlinearities in the relationship between words, locations, and humor. "
   ]
  },
  {
   "cell_type": "code",
   "execution_count": 30,
   "metadata": {},
   "outputs": [],
   "source": [
    "# Model architecture\n",
    "def generate_model(num_recurrent=64,num_dense = 64,drop_prob=.2,depth=2):\n",
    "\n",
    "    # load pre-trained word embeddings into an Embedding layer\n",
    "    # note that we set trainable = False so as to keep the embeddings fixed\n",
    "    embedding_layer = Embedding(embedding_matrix.shape[0],\n",
    "                                embedding_matrix.shape[1],\n",
    "                                embeddings_initializer=Constant(embedding_matrix),\n",
    "                                input_length=None,\n",
    "                                trainable=False)\n",
    "\n",
    "    # This is a layer to take only the final state of a GRU network output that has been set to return sequences\n",
    "    Slice_layer = Lambda(lambda x: K.squeeze(K.slice(x, [0,49,0],[K.shape(x1)[0],1,num_recurrent*2]),axis=1))\n",
    "\n",
    "\n",
    "    # This is where the model input is specified: encoded inputs of MAX_SEQUENCE_LENGTH timepoints\n",
    "    sequence_input = Input(shape=(MAX_SEQUENCE_LENGTH,),\n",
    "                           dtype='int32')\n",
    "\n",
    "    # Next, embed the input\n",
    "    x1 = embedding_layer(sequence_input)   \n",
    "    x1 = keras.layers.SpatialDropout1D(drop_prob)(x1) # dropout random dimensions of the embedding\n",
    "\n",
    "    # establish the first GRU layer outside of the depth loop, to initialize some final variables\n",
    "    x1 = Bidirectional(GRU(num_recurrent,\n",
    "             return_sequences=True,\n",
    "             \n",
    "            ))(x1)\n",
    "    x1 = keras.layers.SpatialDropout1D(drop_prob)(x1) # dropout random dimensions of the output of the prev. network\n",
    "    x = Slice_layer(x1)\n",
    "    \n",
    "    # For each layer of the GRU, run a bidirectional GRU network, feeding the time-varying output to the next\n",
    "    # GRU, and taking the last timestep in a resnet-style architecture\n",
    "    for layer in range(depth):\n",
    "        x1 = Bidirectional(GRU(num_recurrent,\n",
    "             return_sequences=True,\n",
    "            ))(x1)\n",
    "        x1 = keras.layers.SpatialDropout1D(drop_prob)(x1) # dropout random dimensions of the output of the prev. network\n",
    "        x = Add()([x,Slice_layer(x1)])\n",
    "\n",
    "    # Add one dense layer, with relu activations and batch normalization\n",
    "    x = Dense(num_dense,activation='relu')(x)\n",
    "    x = BatchNormalization()(x)\n",
    "    x = Dropout(drop_prob)(x)\n",
    "\n",
    "    # Finally, the output is a single unit whose output should be the estimated probability of the line being funny\n",
    "    preds = Dense(1, activation='sigmoid')(x)\n",
    "\n",
    "    # The Adam optimizer usually works well\n",
    "    optimizer = Adam(amsgrad=True)\n",
    "    #     optimizer = Nadam()\n",
    "\n",
    "    # This line specifies and compiles the model\n",
    "    model = Model(inputs=[sequence_input], outputs=[preds])\n",
    "    model.compile(loss='binary_crossentropy',\n",
    "                  optimizer=optimizer,\n",
    "              metrics=['acc'])\n",
    "\n",
    "    return model"
   ]
  },
  {
   "cell_type": "code",
   "execution_count": 32,
   "metadata": {},
   "outputs": [
    {
     "name": "stdout",
     "output_type": "stream",
     "text": [
      "baseline accuracy is: 0.635605406960023\n",
      "baseline loss is: 0.6562039781114073\n",
      "Train on 29140 samples, validate on 6954 samples\n",
      "Epoch 1/30\n",
      " 7104/29140 [======>.......................] - ETA: 25s - loss: 0.7587 - acc: 0.5736"
     ]
    },
    {
     "ename": "KeyboardInterrupt",
     "evalue": "",
     "output_type": "error",
     "traceback": [
      "\u001b[0;31m---------------------------------------------------------------------------\u001b[0m",
      "\u001b[0;31mKeyboardInterrupt\u001b[0m                         Traceback (most recent call last)",
      "\u001b[0;32m<ipython-input-32-e588287da7f9>\u001b[0m in \u001b[0;36m<module>\u001b[0;34m()\u001b[0m\n\u001b[1;32m     19\u001b[0m               \u001b[0mvalidation_data\u001b[0m \u001b[0;34m=\u001b[0m \u001b[0;34m(\u001b[0m\u001b[0;34m[\u001b[0m\u001b[0mx_val_encoded\u001b[0m\u001b[0;34m]\u001b[0m\u001b[0;34m,\u001b[0m\u001b[0my_val\u001b[0m\u001b[0;34m)\u001b[0m\u001b[0;34m,\u001b[0m\u001b[0;34m\u001b[0m\u001b[0m\n\u001b[1;32m     20\u001b[0m               \u001b[0mcallbacks\u001b[0m\u001b[0;34m=\u001b[0m\u001b[0;34m[\u001b[0m\u001b[0mearly_stopping\u001b[0m\u001b[0;34m]\u001b[0m\u001b[0;34m,\u001b[0m\u001b[0;34m\u001b[0m\u001b[0m\n\u001b[0;32m---> 21\u001b[0;31m               \u001b[0mverbose\u001b[0m\u001b[0;34m=\u001b[0m\u001b[0;36m1\u001b[0m\u001b[0;34m,\u001b[0m\u001b[0;34m\u001b[0m\u001b[0m\n\u001b[0m\u001b[1;32m     22\u001b[0m              )\n\u001b[1;32m     23\u001b[0m \u001b[0;34m\u001b[0m\u001b[0m\n",
      "\u001b[0;32m~/git/BimanualModeling/py_36_env/lib/python3.6/site-packages/keras/engine/training.py\u001b[0m in \u001b[0;36mfit\u001b[0;34m(self, x, y, batch_size, epochs, verbose, callbacks, validation_split, validation_data, shuffle, class_weight, sample_weight, initial_epoch, steps_per_epoch, validation_steps, **kwargs)\u001b[0m\n\u001b[1;32m   1037\u001b[0m                                         \u001b[0minitial_epoch\u001b[0m\u001b[0;34m=\u001b[0m\u001b[0minitial_epoch\u001b[0m\u001b[0;34m,\u001b[0m\u001b[0;34m\u001b[0m\u001b[0m\n\u001b[1;32m   1038\u001b[0m                                         \u001b[0msteps_per_epoch\u001b[0m\u001b[0;34m=\u001b[0m\u001b[0msteps_per_epoch\u001b[0m\u001b[0;34m,\u001b[0m\u001b[0;34m\u001b[0m\u001b[0m\n\u001b[0;32m-> 1039\u001b[0;31m                                         validation_steps=validation_steps)\n\u001b[0m\u001b[1;32m   1040\u001b[0m \u001b[0;34m\u001b[0m\u001b[0m\n\u001b[1;32m   1041\u001b[0m     def evaluate(self, x=None, y=None,\n",
      "\u001b[0;32m~/git/BimanualModeling/py_36_env/lib/python3.6/site-packages/keras/engine/training_arrays.py\u001b[0m in \u001b[0;36mfit_loop\u001b[0;34m(model, f, ins, out_labels, batch_size, epochs, verbose, callbacks, val_f, val_ins, shuffle, callback_metrics, initial_epoch, steps_per_epoch, validation_steps)\u001b[0m\n\u001b[1;32m    197\u001b[0m                     \u001b[0mins_batch\u001b[0m\u001b[0;34m[\u001b[0m\u001b[0mi\u001b[0m\u001b[0;34m]\u001b[0m \u001b[0;34m=\u001b[0m \u001b[0mins_batch\u001b[0m\u001b[0;34m[\u001b[0m\u001b[0mi\u001b[0m\u001b[0;34m]\u001b[0m\u001b[0;34m.\u001b[0m\u001b[0mtoarray\u001b[0m\u001b[0;34m(\u001b[0m\u001b[0;34m)\u001b[0m\u001b[0;34m\u001b[0m\u001b[0m\n\u001b[1;32m    198\u001b[0m \u001b[0;34m\u001b[0m\u001b[0m\n\u001b[0;32m--> 199\u001b[0;31m                 \u001b[0mouts\u001b[0m \u001b[0;34m=\u001b[0m \u001b[0mf\u001b[0m\u001b[0;34m(\u001b[0m\u001b[0mins_batch\u001b[0m\u001b[0;34m)\u001b[0m\u001b[0;34m\u001b[0m\u001b[0m\n\u001b[0m\u001b[1;32m    200\u001b[0m                 \u001b[0mouts\u001b[0m \u001b[0;34m=\u001b[0m \u001b[0mto_list\u001b[0m\u001b[0;34m(\u001b[0m\u001b[0mouts\u001b[0m\u001b[0;34m)\u001b[0m\u001b[0;34m\u001b[0m\u001b[0m\n\u001b[1;32m    201\u001b[0m                 \u001b[0;32mfor\u001b[0m \u001b[0ml\u001b[0m\u001b[0;34m,\u001b[0m \u001b[0mo\u001b[0m \u001b[0;32min\u001b[0m \u001b[0mzip\u001b[0m\u001b[0;34m(\u001b[0m\u001b[0mout_labels\u001b[0m\u001b[0;34m,\u001b[0m \u001b[0mouts\u001b[0m\u001b[0;34m)\u001b[0m\u001b[0;34m:\u001b[0m\u001b[0;34m\u001b[0m\u001b[0m\n",
      "\u001b[0;32m~/git/BimanualModeling/py_36_env/lib/python3.6/site-packages/keras/backend/tensorflow_backend.py\u001b[0m in \u001b[0;36m__call__\u001b[0;34m(self, inputs)\u001b[0m\n\u001b[1;32m   2713\u001b[0m                 \u001b[0;32mreturn\u001b[0m \u001b[0mself\u001b[0m\u001b[0;34m.\u001b[0m\u001b[0m_legacy_call\u001b[0m\u001b[0;34m(\u001b[0m\u001b[0minputs\u001b[0m\u001b[0;34m)\u001b[0m\u001b[0;34m\u001b[0m\u001b[0m\n\u001b[1;32m   2714\u001b[0m \u001b[0;34m\u001b[0m\u001b[0m\n\u001b[0;32m-> 2715\u001b[0;31m             \u001b[0;32mreturn\u001b[0m \u001b[0mself\u001b[0m\u001b[0;34m.\u001b[0m\u001b[0m_call\u001b[0m\u001b[0;34m(\u001b[0m\u001b[0minputs\u001b[0m\u001b[0;34m)\u001b[0m\u001b[0;34m\u001b[0m\u001b[0m\n\u001b[0m\u001b[1;32m   2716\u001b[0m         \u001b[0;32melse\u001b[0m\u001b[0;34m:\u001b[0m\u001b[0;34m\u001b[0m\u001b[0m\n\u001b[1;32m   2717\u001b[0m             \u001b[0;32mif\u001b[0m \u001b[0mpy_any\u001b[0m\u001b[0;34m(\u001b[0m\u001b[0mis_tensor\u001b[0m\u001b[0;34m(\u001b[0m\u001b[0mx\u001b[0m\u001b[0;34m)\u001b[0m \u001b[0;32mfor\u001b[0m \u001b[0mx\u001b[0m \u001b[0;32min\u001b[0m \u001b[0minputs\u001b[0m\u001b[0;34m)\u001b[0m\u001b[0;34m:\u001b[0m\u001b[0;34m\u001b[0m\u001b[0m\n",
      "\u001b[0;32m~/git/BimanualModeling/py_36_env/lib/python3.6/site-packages/keras/backend/tensorflow_backend.py\u001b[0m in \u001b[0;36m_call\u001b[0;34m(self, inputs)\u001b[0m\n\u001b[1;32m   2673\u001b[0m             \u001b[0mfetched\u001b[0m \u001b[0;34m=\u001b[0m \u001b[0mself\u001b[0m\u001b[0;34m.\u001b[0m\u001b[0m_callable_fn\u001b[0m\u001b[0;34m(\u001b[0m\u001b[0;34m*\u001b[0m\u001b[0marray_vals\u001b[0m\u001b[0;34m,\u001b[0m \u001b[0mrun_metadata\u001b[0m\u001b[0;34m=\u001b[0m\u001b[0mself\u001b[0m\u001b[0;34m.\u001b[0m\u001b[0mrun_metadata\u001b[0m\u001b[0;34m)\u001b[0m\u001b[0;34m\u001b[0m\u001b[0m\n\u001b[1;32m   2674\u001b[0m         \u001b[0;32melse\u001b[0m\u001b[0;34m:\u001b[0m\u001b[0;34m\u001b[0m\u001b[0m\n\u001b[0;32m-> 2675\u001b[0;31m             \u001b[0mfetched\u001b[0m \u001b[0;34m=\u001b[0m \u001b[0mself\u001b[0m\u001b[0;34m.\u001b[0m\u001b[0m_callable_fn\u001b[0m\u001b[0;34m(\u001b[0m\u001b[0;34m*\u001b[0m\u001b[0marray_vals\u001b[0m\u001b[0;34m)\u001b[0m\u001b[0;34m\u001b[0m\u001b[0m\n\u001b[0m\u001b[1;32m   2676\u001b[0m         \u001b[0;32mreturn\u001b[0m \u001b[0mfetched\u001b[0m\u001b[0;34m[\u001b[0m\u001b[0;34m:\u001b[0m\u001b[0mlen\u001b[0m\u001b[0;34m(\u001b[0m\u001b[0mself\u001b[0m\u001b[0;34m.\u001b[0m\u001b[0moutputs\u001b[0m\u001b[0;34m)\u001b[0m\u001b[0;34m]\u001b[0m\u001b[0;34m\u001b[0m\u001b[0m\n\u001b[1;32m   2677\u001b[0m \u001b[0;34m\u001b[0m\u001b[0m\n",
      "\u001b[0;32m~/git/BimanualModeling/py_36_env/lib/python3.6/site-packages/tensorflow/python/client/session.py\u001b[0m in \u001b[0;36m__call__\u001b[0;34m(self, *args, **kwargs)\u001b[0m\n\u001b[1;32m   1437\u001b[0m           ret = tf_session.TF_SessionRunCallable(\n\u001b[1;32m   1438\u001b[0m               \u001b[0mself\u001b[0m\u001b[0;34m.\u001b[0m\u001b[0m_session\u001b[0m\u001b[0;34m.\u001b[0m\u001b[0m_session\u001b[0m\u001b[0;34m,\u001b[0m \u001b[0mself\u001b[0m\u001b[0;34m.\u001b[0m\u001b[0m_handle\u001b[0m\u001b[0;34m,\u001b[0m \u001b[0margs\u001b[0m\u001b[0;34m,\u001b[0m \u001b[0mstatus\u001b[0m\u001b[0;34m,\u001b[0m\u001b[0;34m\u001b[0m\u001b[0m\n\u001b[0;32m-> 1439\u001b[0;31m               run_metadata_ptr)\n\u001b[0m\u001b[1;32m   1440\u001b[0m         \u001b[0;32mif\u001b[0m \u001b[0mrun_metadata\u001b[0m\u001b[0;34m:\u001b[0m\u001b[0;34m\u001b[0m\u001b[0m\n\u001b[1;32m   1441\u001b[0m           \u001b[0mproto_data\u001b[0m \u001b[0;34m=\u001b[0m \u001b[0mtf_session\u001b[0m\u001b[0;34m.\u001b[0m\u001b[0mTF_GetBuffer\u001b[0m\u001b[0;34m(\u001b[0m\u001b[0mrun_metadata_ptr\u001b[0m\u001b[0;34m)\u001b[0m\u001b[0;34m\u001b[0m\u001b[0m\n",
      "\u001b[0;31mKeyboardInterrupt\u001b[0m: "
     ]
    }
   ],
   "source": [
    "# Run a baseline model\n",
    "\n",
    "print(f'baseline accuracy is: {1-np.mean(y_val)}')\n",
    "print(f'baseline loss is: {log_loss(y_val.astype(\"int\"),y_train.mean()*np.ones(y_val.size))}')\n",
    "\n",
    "# Time the computation\n",
    "start = time.time()\n",
    "\n",
    "# Generate a model with the specified parameters\n",
    "model = generate_model(num_recurrent = 64,drop_prob=.25,num_dense=32,depth=2)\n",
    "early_stopping = EarlyStopping(monitor='val_loss',patience = 1, restore_best_weights=True)\n",
    "\n",
    "# Fit the model\n",
    "history = model.fit(x=[x_train_encoded],\n",
    "              y=y_train,\n",
    "              batch_size=64,\n",
    "              epochs=30,\n",
    "              shuffle=True,\n",
    "              validation_data = ([x_val_encoded],y_val),\n",
    "              callbacks=[early_stopping],\n",
    "              verbose=1,\n",
    "             )\n",
    "\n",
    "# Calculate the run time\n",
    "end = time.time()\n",
    "\n",
    "# Plot the performance\n",
    "plt.plot(history.history['loss'],'b')\n",
    "plt.plot(history.history['val_loss'],'r')\n",
    "min_loss = min(history.history[\"val_loss\"])"
   ]
  },
  {
   "cell_type": "code",
   "execution_count": 33,
   "metadata": {},
   "outputs": [
    {
     "ename": "NameError",
     "evalue": "name 'Evaluate_model' is not defined",
     "output_type": "error",
     "traceback": [
      "\u001b[0;31m---------------------------------------------------------------------------\u001b[0m",
      "\u001b[0;31mNameError\u001b[0m                                 Traceback (most recent call last)",
      "\u001b[0;32m<ipython-input-33-19d725ed4721>\u001b[0m in \u001b[0;36m<module>\u001b[0;34m()\u001b[0m\n\u001b[0;32m----> 1\u001b[0;31m \u001b[0mEvaluate_model\u001b[0m\u001b[0;34m(\u001b[0m\u001b[0mmodel\u001b[0m\u001b[0;34m)\u001b[0m\u001b[0;34m\u001b[0m\u001b[0m\n\u001b[0m",
      "\u001b[0;31mNameError\u001b[0m: name 'Evaluate_model' is not defined"
     ]
    }
   ],
   "source": [
    "Evaluate_model(model)"
   ]
  },
  {
   "cell_type": "code",
   "execution_count": 21,
   "metadata": {
    "scrolled": true
   },
   "outputs": [],
   "source": [
    "\n",
    "# support function for random_search: Select a random value for each parameter being tested\n",
    "def Select_Parameters(drops_to_test,num_dense_to_test,depth_to_test,batch_size_to_test):\n",
    "    # randomly select parameters in the specified ranges\n",
    "    drop = np.random.uniform(low = drops_to_test[0],high=drops_to_test[1])\n",
    "    num_dense = np.random.randint(low = num_dense_to_test[0],high  = num_dense_to_test[1])\n",
    "    depth = np.random.choice(depth_to_test)\n",
    "    batch_size = np.random.randint(low = batch_size_to_test[0],high = batch_size_to_test[1])\n",
    "\n",
    "    # Report the conditions so we can track performance as we go\n",
    "    print(f'Training model with {num_dense} dense units')\n",
    "    print(f'Training model with dropout at {drop*100}%')\n",
    "    print(f'Training model with batch size {batch_size}')\n",
    "    print(f'Training model with depth {depth}')\n",
    "    \n",
    "    return drop,num_dense,depth,batch_size\n",
    "\n",
    "def random_search(model_fun = generate_model,\n",
    "                  num_runs = 1, \n",
    "                  num_recurrent=32,\n",
    "                  drops_to_test=[.25],\n",
    "                  num_dense_to_test=[75],\n",
    "                  depth_to_test=[2],\n",
    "                  batch_size_to_test = [120],\n",
    "                  patience=2\n",
    "                 ):\n",
    "    \n",
    "    # Callback to stop learning when the network stops improving\n",
    "    early_stopping = EarlyStopping(monitor='val_loss',patience = patience, restore_best_weights=True)\n",
    "    \n",
    "    # Report expected baseline accuracy\n",
    "    print(f'baseline accuracy is: {1-np.mean(y_train[:40000])}')\n",
    "    \n",
    "    # intialize results vector\n",
    "    random_search_results = pd.DataFrame({'dropout': [],\n",
    "                                    'num_dense': [],\n",
    "                                    'batch_size':[],\n",
    "                                    'depth':[],\n",
    "                                    'run_time_m':[],\n",
    "                                    'min_val_loss':[],\n",
    "                                    'val_loss':[],\n",
    "                                    'val_acc':[],\n",
    "                                    'train_loss':[],\n",
    "                                    'train_acc':[],\n",
    "                                   })\n",
    "    \n",
    "    # Randomly generate models with parameters in the specified ranges, and report their performance\n",
    "    for run in range(num_runs):\n",
    "        print(f'Run number {run}:')\n",
    "        \n",
    "        drop,num_dense,depth,batch_size = Select_Parameters(drops_to_test,\n",
    "                                                            num_dense_to_test,\n",
    "                                                            depth_to_test,\n",
    "                                                            batch_size_to_test)\n",
    "\n",
    "        # Time the computation\n",
    "        start = time.time()\n",
    "\n",
    "        # Generate a model with the specified parameters\n",
    "        model = model_fun(num_recurrent = num_recurrent,drop_prob=drop,num_dense=num_dense,depth=depth)\n",
    "\n",
    "        # Fit the model\n",
    "        history = model.fit(x=[x_train_encoded[:40000,:]],\n",
    "                      y=y_train[:40000],\n",
    "                      batch_size=batch_size,\n",
    "                      epochs=30,\n",
    "                      shuffle=True,\n",
    "                      validation_data = ([x_val_encoded],y_val),\n",
    "                      callbacks=[early_stopping],\n",
    "                      verbose=1,\n",
    "                     )\n",
    "\n",
    "        # Calculate the run time\n",
    "        end = time.time()\n",
    "\n",
    "        # Save the results\n",
    "        random_search_results = random_search_results.append(  \n",
    "                                        {'dropout': drop,\n",
    "                                        'num_dense': num_dense,\n",
    "                                        'batch_size':batch_size,\n",
    "                                        'depth':depth,\n",
    "                                        'run_time_m':(end - start)/60,\n",
    "                                        'min_val_loss':min(history.history[\"val_loss\"]),\n",
    "                                        'val_loss':history.history[\"val_loss\"],\n",
    "                                        'val_acc':history.history[\"val_acc\"],\n",
    "                                        'train_loss':history.history[\"loss\"],\n",
    "                                        'train_acc':history.history[\"acc\"],\n",
    "                                       },ignore_index=True)\n",
    "\n",
    "        # Report the results\n",
    "        print(f'With drop probability = {drop}')\n",
    "        print(f'minimum val loss is {min(history.history[\"val_loss\"])}')\n",
    "        print(f'maximum val accuracy is {max(history.history[\"val_acc\"])}')\n",
    "        print(f'Run time = {(end - start)/60} mins')\n",
    "        print('')\n",
    "        print('')\n",
    "\n",
    "        # Plot the performance\n",
    "        plt.plot(history.history['loss'],'b')\n",
    "        plt.plot(history.history['val_loss'],'r')\n",
    "        min_loss = min(history.history[\"val_loss\"])\n",
    "        \n",
    "        # If this is the first run, or if this is the best model so far, save the model\n",
    "        if run==0 or min_loss<best_val:\n",
    "            best_model = model\n",
    "            best_val = min_loss\n",
    "        \n",
    "    # When we have finished testing, return the results\n",
    "    return random_search_results,best_model"
   ]
  },
  {
   "cell_type": "code",
   "execution_count": 116,
   "metadata": {},
   "outputs": [
    {
     "name": "stdout",
     "output_type": "stream",
     "text": [
      "baseline accuracy is: 0.76435\n",
      "Run number 0:\n"
     ]
    },
    {
     "ename": "ValueError",
     "evalue": "low >= high",
     "output_type": "error",
     "traceback": [
      "\u001b[0;31m---------------------------------------------------------------------------\u001b[0m",
      "\u001b[0;31mValueError\u001b[0m                                Traceback (most recent call last)",
      "\u001b[0;32m<ipython-input-116-76a734ebf426>\u001b[0m in \u001b[0;36m<module>\u001b[0;34m()\u001b[0m\n\u001b[0;32m----> 1\u001b[0;31m \u001b[0mrandom_search\u001b[0m\u001b[0;34m(\u001b[0m\u001b[0;34m)\u001b[0m\u001b[0;34m\u001b[0m\u001b[0m\n\u001b[0m",
      "\u001b[0;32m<ipython-input-115-55d489d1f6f5>\u001b[0m in \u001b[0;36mrandom_search\u001b[0;34m(model_fun, num_runs, num_recurrent, drops_to_test, num_dense_to_test, depth_to_test, batch_size_to_test, patience)\u001b[0m\n\u001b[1;32m     52\u001b[0m                                                             \u001b[0mnum_dense_to_test\u001b[0m\u001b[0;34m,\u001b[0m\u001b[0;34m\u001b[0m\u001b[0m\n\u001b[1;32m     53\u001b[0m                                                             \u001b[0mdepth_to_test\u001b[0m\u001b[0;34m,\u001b[0m\u001b[0;34m\u001b[0m\u001b[0m\n\u001b[0;32m---> 54\u001b[0;31m                                                             batch_size_to_test)\n\u001b[0m\u001b[1;32m     55\u001b[0m \u001b[0;34m\u001b[0m\u001b[0m\n\u001b[1;32m     56\u001b[0m         \u001b[0;31m# Time the computation\u001b[0m\u001b[0;34m\u001b[0m\u001b[0;34m\u001b[0m\u001b[0m\n",
      "\u001b[0;32m<ipython-input-115-55d489d1f6f5>\u001b[0m in \u001b[0;36mSelect_Parameters\u001b[0;34m(drops_to_test, num_dense_to_test, depth_to_test, batch_size_to_test)\u001b[0m\n\u001b[1;32m      4\u001b[0m     \u001b[0;31m# randomly select parameters in the specified ranges\u001b[0m\u001b[0;34m\u001b[0m\u001b[0;34m\u001b[0m\u001b[0m\n\u001b[1;32m      5\u001b[0m     \u001b[0mdrop\u001b[0m \u001b[0;34m=\u001b[0m \u001b[0mnp\u001b[0m\u001b[0;34m.\u001b[0m\u001b[0mrandom\u001b[0m\u001b[0;34m.\u001b[0m\u001b[0muniform\u001b[0m\u001b[0;34m(\u001b[0m\u001b[0mlow\u001b[0m \u001b[0;34m=\u001b[0m \u001b[0mdrops_to_test\u001b[0m\u001b[0;34m[\u001b[0m\u001b[0;36m0\u001b[0m\u001b[0;34m]\u001b[0m\u001b[0;34m,\u001b[0m\u001b[0mhigh\u001b[0m\u001b[0;34m=\u001b[0m\u001b[0mdrops_to_test\u001b[0m\u001b[0;34m[\u001b[0m\u001b[0;36m1\u001b[0m\u001b[0;34m]\u001b[0m\u001b[0;34m)\u001b[0m\u001b[0;34m\u001b[0m\u001b[0m\n\u001b[0;32m----> 6\u001b[0;31m     \u001b[0mnum_dense\u001b[0m \u001b[0;34m=\u001b[0m \u001b[0mnp\u001b[0m\u001b[0;34m.\u001b[0m\u001b[0mrandom\u001b[0m\u001b[0;34m.\u001b[0m\u001b[0mrandint\u001b[0m\u001b[0;34m(\u001b[0m\u001b[0mlow\u001b[0m \u001b[0;34m=\u001b[0m \u001b[0mnum_dense_to_test\u001b[0m\u001b[0;34m[\u001b[0m\u001b[0;36m0\u001b[0m\u001b[0;34m]\u001b[0m\u001b[0;34m,\u001b[0m\u001b[0mhigh\u001b[0m  \u001b[0;34m=\u001b[0m \u001b[0mnum_dense_to_test\u001b[0m\u001b[0;34m[\u001b[0m\u001b[0;36m1\u001b[0m\u001b[0;34m]\u001b[0m\u001b[0;34m)\u001b[0m\u001b[0;34m\u001b[0m\u001b[0m\n\u001b[0m\u001b[1;32m      7\u001b[0m     \u001b[0mdepth\u001b[0m \u001b[0;34m=\u001b[0m \u001b[0mnp\u001b[0m\u001b[0;34m.\u001b[0m\u001b[0mrandom\u001b[0m\u001b[0;34m.\u001b[0m\u001b[0mchoice\u001b[0m\u001b[0;34m(\u001b[0m\u001b[0mdepth_to_test\u001b[0m\u001b[0;34m)\u001b[0m\u001b[0;34m\u001b[0m\u001b[0m\n\u001b[1;32m      8\u001b[0m     \u001b[0mbatch_size\u001b[0m \u001b[0;34m=\u001b[0m \u001b[0mnp\u001b[0m\u001b[0;34m.\u001b[0m\u001b[0mrandom\u001b[0m\u001b[0;34m.\u001b[0m\u001b[0mrandint\u001b[0m\u001b[0;34m(\u001b[0m\u001b[0mlow\u001b[0m \u001b[0;34m=\u001b[0m \u001b[0mbatch_size_to_test\u001b[0m\u001b[0;34m[\u001b[0m\u001b[0;36m0\u001b[0m\u001b[0;34m]\u001b[0m\u001b[0;34m,\u001b[0m\u001b[0mhigh\u001b[0m \u001b[0;34m=\u001b[0m \u001b[0mbatch_size_to_test\u001b[0m\u001b[0;34m[\u001b[0m\u001b[0;36m1\u001b[0m\u001b[0;34m]\u001b[0m\u001b[0;34m)\u001b[0m\u001b[0;34m\u001b[0m\u001b[0m\n",
      "\u001b[0;32mmtrand.pyx\u001b[0m in \u001b[0;36mmtrand.RandomState.randint\u001b[0;34m()\u001b[0m\n",
      "\u001b[0;31mValueError\u001b[0m: low >= high"
     ]
    }
   ],
   "source": [
    "random_search()"
   ]
  },
  {
   "cell_type": "code",
   "execution_count": 71,
   "metadata": {
    "scrolled": false
   },
   "outputs": [
    {
     "name": "stdout",
     "output_type": "stream",
     "text": [
      "baseline accuracy is: 0.6468\n",
      "Run number 0:\n",
      "Training model with 23 dense units\n",
      "Training model with dropout at 39.54288208229975%\n",
      "Training model with batch size 194\n",
      "Training model with depth 2\n",
      "Train on 40000 samples, validate on 10286 samples\n",
      "Epoch 1/30\n",
      "40000/40000 [==============================] - 64s 2ms/step - loss: 0.7179 - acc: 0.5658 - val_loss: 0.6101 - val_acc: 0.6544\n",
      "Epoch 2/30\n",
      "40000/40000 [==============================] - 55s 1ms/step - loss: 0.6226 - acc: 0.6331 - val_loss: 0.5667 - val_acc: 0.6670\n",
      "Epoch 3/30\n",
      "40000/40000 [==============================] - 56s 1ms/step - loss: 0.5813 - acc: 0.6587 - val_loss: 0.5327 - val_acc: 0.7003\n",
      "Epoch 4/30\n",
      "40000/40000 [==============================] - 52s 1ms/step - loss: 0.5597 - acc: 0.6871 - val_loss: 0.5224 - val_acc: 0.7138\n",
      "Epoch 5/30\n",
      "40000/40000 [==============================] - 54s 1ms/step - loss: 0.5451 - acc: 0.7026 - val_loss: 0.5147 - val_acc: 0.7248\n",
      "Epoch 6/30\n",
      "40000/40000 [==============================] - 53s 1ms/step - loss: 0.5337 - acc: 0.7117 - val_loss: 0.5036 - val_acc: 0.7285\n",
      "Epoch 7/30\n",
      "40000/40000 [==============================] - 55s 1ms/step - loss: 0.5251 - acc: 0.7220 - val_loss: 0.4971 - val_acc: 0.7382\n",
      "Epoch 8/30\n",
      "40000/40000 [==============================] - 53s 1ms/step - loss: 0.5215 - acc: 0.7213 - val_loss: 0.4947 - val_acc: 0.7372\n",
      "Epoch 9/30\n",
      "40000/40000 [==============================] - 51s 1ms/step - loss: 0.5135 - acc: 0.7291 - val_loss: 0.4915 - val_acc: 0.7416\n",
      "Epoch 10/30\n",
      "40000/40000 [==============================] - 52s 1ms/step - loss: 0.5092 - acc: 0.7337 - val_loss: 0.4897 - val_acc: 0.7437\n",
      "Epoch 11/30\n",
      "40000/40000 [==============================] - 55s 1ms/step - loss: 0.5045 - acc: 0.7372 - val_loss: 0.4883 - val_acc: 0.7462\n",
      "Epoch 12/30\n",
      "40000/40000 [==============================] - 53s 1ms/step - loss: 0.5001 - acc: 0.7410 - val_loss: 0.4908 - val_acc: 0.7421\n",
      "With drop probability = 0.39542882082299746\n",
      "minimum val loss is 0.48834475914305014\n",
      "maximum val accuracy is 0.7461598283837052\n",
      "Run time = 11.033745300769805 mins\n",
      "\n",
      "\n",
      "Run number 1:\n",
      "Training model with 20 dense units\n",
      "Training model with dropout at 28.584158553126603%\n",
      "Training model with batch size 238\n",
      "Training model with depth 2\n",
      "Train on 40000 samples, validate on 10286 samples\n",
      "Epoch 1/30\n",
      "40000/40000 [==============================] - 62s 2ms/step - loss: 0.7325 - acc: 0.5761 - val_loss: 0.6032 - val_acc: 0.6571\n",
      "Epoch 2/30\n",
      "40000/40000 [==============================] - 51s 1ms/step - loss: 0.6351 - acc: 0.6356 - val_loss: 0.5810 - val_acc: 0.6613\n",
      "Epoch 3/30\n",
      "40000/40000 [==============================] - 50s 1ms/step - loss: 0.5919 - acc: 0.6569 - val_loss: 0.5460 - val_acc: 0.6968\n",
      "Epoch 4/30\n",
      "40000/40000 [==============================] - 49s 1ms/step - loss: 0.5605 - acc: 0.6857 - val_loss: 0.5402 - val_acc: 0.7082\n",
      "Epoch 5/30\n",
      "40000/40000 [==============================] - 51s 1ms/step - loss: 0.5438 - acc: 0.7023 - val_loss: 0.5094 - val_acc: 0.7294\n",
      "Epoch 6/30\n",
      "40000/40000 [==============================] - 50s 1ms/step - loss: 0.5348 - acc: 0.7107 - val_loss: 0.5030 - val_acc: 0.7332\n",
      "Epoch 7/30\n",
      "40000/40000 [==============================] - 50s 1ms/step - loss: 0.5257 - acc: 0.7189 - val_loss: 0.4966 - val_acc: 0.7402\n",
      "Epoch 8/30\n",
      "40000/40000 [==============================] - 50s 1ms/step - loss: 0.5160 - acc: 0.7279 - val_loss: 0.4935 - val_acc: 0.7392\n",
      "Epoch 9/30\n",
      "40000/40000 [==============================] - 48s 1ms/step - loss: 0.5110 - acc: 0.7301 - val_loss: 0.4878 - val_acc: 0.7451\n",
      "Epoch 10/30\n",
      "40000/40000 [==============================] - 51s 1ms/step - loss: 0.5037 - acc: 0.7374 - val_loss: 0.4896 - val_acc: 0.7446\n",
      "With drop probability = 0.28584158553126604\n",
      "minimum val loss is 0.4877960106961671\n",
      "maximum val accuracy is 0.7450904134134363\n",
      "Run time = 8.692565619945526 mins\n",
      "\n",
      "\n"
     ]
    },
    {
     "data": {
      "image/png": "[encoded data removed]",
      "text/plain": [
       "<Figure size 432x288 with 1 Axes>"
      ]
     },
     "metadata": {
      "needs_background": "light"
     },
     "output_type": "display_data"
    }
   ],
   "source": [
    "# set parameter ranges to test via grid parameter search\n",
    "random_search_results,best_model = random_search(model_fun = generate_model,\n",
    "                                                  num_runs = 2, \n",
    "                                                  num_recurrent=32,\n",
    "                                                  drops_to_test=[0.25,0.5],\n",
    "                                                  num_dense_to_test=[10,100],\n",
    "                                                  depth_to_test=[2],\n",
    "                                                  batch_size_to_test = [64,256]\n",
    "                                                 )"
   ]
  },
  {
   "cell_type": "code",
   "execution_count": 60,
   "metadata": {},
   "outputs": [
    {
     "data": {
      "text/html": [
       "<div>\n",
       "<style scoped>\n",
       "    .dataframe tbody tr th:only-of-type {\n",
       "        vertical-align: middle;\n",
       "    }\n",
       "\n",
       "    .dataframe tbody tr th {\n",
       "        vertical-align: top;\n",
       "    }\n",
       "\n",
       "    .dataframe thead th {\n",
       "        text-align: right;\n",
       "    }\n",
       "</style>\n",
       "<table border=\"1\" class=\"dataframe\">\n",
       "  <thead>\n",
       "    <tr style=\"text-align: right;\">\n",
       "      <th></th>\n",
       "      <th>dropout</th>\n",
       "      <th>num_dense</th>\n",
       "      <th>batch_size</th>\n",
       "      <th>depth</th>\n",
       "      <th>run_time_m</th>\n",
       "      <th>min_val_loss</th>\n",
       "      <th>val_loss</th>\n",
       "      <th>val_acc</th>\n",
       "      <th>train_loss</th>\n",
       "      <th>train_acc</th>\n",
       "    </tr>\n",
       "  </thead>\n",
       "  <tbody>\n",
       "    <tr>\n",
       "      <th>0</th>\n",
       "      <td>0.427168</td>\n",
       "      <td>15.0</td>\n",
       "      <td>83.0</td>\n",
       "      <td>2.0</td>\n",
       "      <td>24.024170</td>\n",
       "      <td>0.468042</td>\n",
       "      <td>[0.6102870684721904, 0.5529747064935774, 0.528...</td>\n",
       "      <td>[0.6525374303879544, 0.6871475767943267, 0.704...</td>\n",
       "      <td>[0.7066168329834938, 0.6172136186137795, 0.574...</td>\n",
       "      <td>[0.5954999983131886, 0.6508999999970198, 0.672...</td>\n",
       "    </tr>\n",
       "    <tr>\n",
       "      <th>1</th>\n",
       "      <td>0.441693</td>\n",
       "      <td>93.0</td>\n",
       "      <td>122.0</td>\n",
       "      <td>2.0</td>\n",
       "      <td>21.104634</td>\n",
       "      <td>0.466434</td>\n",
       "      <td>[0.5993144478219367, 0.5714199955410562, 0.542...</td>\n",
       "      <td>[0.6533151845419288, 0.6556484534620844, 0.688...</td>\n",
       "      <td>[0.7352322915673256, 0.627588625767827, 0.5866...</td>\n",
       "      <td>[0.5877249967232346, 0.6322499973863364, 0.651...</td>\n",
       "    </tr>\n",
       "    <tr>\n",
       "      <th>2</th>\n",
       "      <td>0.390785</td>\n",
       "      <td>49.0</td>\n",
       "      <td>124.0</td>\n",
       "      <td>2.0</td>\n",
       "      <td>21.919825</td>\n",
       "      <td>0.468365</td>\n",
       "      <td>[0.6015449217871055, 0.5520487543722082, 0.527...</td>\n",
       "      <td>[0.6589539157794928, 0.6835504535939845, 0.714...</td>\n",
       "      <td>[0.7372428162038326, 0.626137675267458, 0.5769...</td>\n",
       "      <td>[0.5895250008285046, 0.6353500008821488, 0.669...</td>\n",
       "    </tr>\n",
       "    <tr>\n",
       "      <th>3</th>\n",
       "      <td>0.281324</td>\n",
       "      <td>13.0</td>\n",
       "      <td>102.0</td>\n",
       "      <td>2.0</td>\n",
       "      <td>20.172515</td>\n",
       "      <td>0.464598</td>\n",
       "      <td>[0.5852318999833596, 0.5403261406572788, 0.518...</td>\n",
       "      <td>[0.6656620686049131, 0.6913280217373577, 0.716...</td>\n",
       "      <td>[0.6914529414564371, 0.5893429758682847, 0.559...</td>\n",
       "      <td>[0.5996250077471137, 0.6550250051259995, 0.679...</td>\n",
       "    </tr>\n",
       "    <tr>\n",
       "      <th>4</th>\n",
       "      <td>0.407341</td>\n",
       "      <td>77.0</td>\n",
       "      <td>124.0</td>\n",
       "      <td>2.0</td>\n",
       "      <td>20.105674</td>\n",
       "      <td>0.463545</td>\n",
       "      <td>[0.5972372770494879, 0.5681544087078236, 0.528...</td>\n",
       "      <td>[0.6555512343286518, 0.663231576170505, 0.7109...</td>\n",
       "      <td>[0.7222352611243725, 0.6256702508509159, 0.582...</td>\n",
       "      <td>[0.5879999999016523, 0.6356750015676021, 0.656...</td>\n",
       "    </tr>\n",
       "    <tr>\n",
       "      <th>5</th>\n",
       "      <td>0.270300</td>\n",
       "      <td>86.0</td>\n",
       "      <td>113.0</td>\n",
       "      <td>2.0</td>\n",
       "      <td>11.266824</td>\n",
       "      <td>0.472430</td>\n",
       "      <td>[0.5776328914868514, 0.5288167593603396, 0.513...</td>\n",
       "      <td>[0.6544818146067001, 0.699008359708328, 0.7165...</td>\n",
       "      <td>[0.6672435186088085, 0.5774091209918261, 0.546...</td>\n",
       "      <td>[0.615624997176975, 0.6612749993771314, 0.6942...</td>\n",
       "    </tr>\n",
       "    <tr>\n",
       "      <th>6</th>\n",
       "      <td>0.479302</td>\n",
       "      <td>31.0</td>\n",
       "      <td>94.0</td>\n",
       "      <td>2.0</td>\n",
       "      <td>28.435869</td>\n",
       "      <td>0.471731</td>\n",
       "      <td>[0.6177181589529251, 0.5935039280303693, 0.549...</td>\n",
       "      <td>[0.6540929295894772, 0.6597316607111464, 0.684...</td>\n",
       "      <td>[0.7841613159656524, 0.6482704216629267, 0.604...</td>\n",
       "      <td>[0.5804999904185534, 0.6289999852061272, 0.649...</td>\n",
       "    </tr>\n",
       "    <tr>\n",
       "      <th>7</th>\n",
       "      <td>0.256976</td>\n",
       "      <td>81.0</td>\n",
       "      <td>120.0</td>\n",
       "      <td>2.0</td>\n",
       "      <td>20.013219</td>\n",
       "      <td>0.459656</td>\n",
       "      <td>[0.5705275721826281, 0.5330134877406645, 0.511...</td>\n",
       "      <td>[0.6636204509310469, 0.7062998222465671, 0.727...</td>\n",
       "      <td>[0.6768223298192024, 0.5861789566874505, 0.546...</td>\n",
       "      <td>[0.6120249988138675, 0.6578750003576279, 0.699...</td>\n",
       "    </tr>\n",
       "    <tr>\n",
       "      <th>8</th>\n",
       "      <td>0.430666</td>\n",
       "      <td>21.0</td>\n",
       "      <td>118.0</td>\n",
       "      <td>2.0</td>\n",
       "      <td>24.431202</td>\n",
       "      <td>0.466333</td>\n",
       "      <td>[0.6006294494180069, 0.5620435356989506, 0.538...</td>\n",
       "      <td>[0.6555512391730502, 0.6712035789184712, 0.693...</td>\n",
       "      <td>[0.7489323770582675, 0.6310937543481588, 0.585...</td>\n",
       "      <td>[0.5782750015482306, 0.632350002592802, 0.6570...</td>\n",
       "    </tr>\n",
       "    <tr>\n",
       "      <th>9</th>\n",
       "      <td>0.427176</td>\n",
       "      <td>83.0</td>\n",
       "      <td>67.0</td>\n",
       "      <td>2.0</td>\n",
       "      <td>17.440702</td>\n",
       "      <td>0.481440</td>\n",
       "      <td>[0.5932232545069074, 0.5505450653434147, 0.523...</td>\n",
       "      <td>[0.6576900664016521, 0.6757728954262476, 0.711...</td>\n",
       "      <td>[0.7109468399837613, 0.6075833718843758, 0.569...</td>\n",
       "      <td>[0.5945250019513071, 0.643500000269711, 0.6743...</td>\n",
       "    </tr>\n",
       "  </tbody>\n",
       "</table>\n",
       "</div>"
      ],
      "text/plain": [
       "    dropout  num_dense  batch_size  depth  run_time_m  min_val_loss  \\\n",
       "0  0.427168       15.0        83.0    2.0   24.024170      0.468042   \n",
       "1  0.441693       93.0       122.0    2.0   21.104634      0.466434   \n",
       "2  0.390785       49.0       124.0    2.0   21.919825      0.468365   \n",
       "3  0.281324       13.0       102.0    2.0   20.172515      0.464598   \n",
       "4  0.407341       77.0       124.0    2.0   20.105674      0.463545   \n",
       "5  0.270300       86.0       113.0    2.0   11.266824      0.472430   \n",
       "6  0.479302       31.0        94.0    2.0   28.435869      0.471731   \n",
       "7  0.256976       81.0       120.0    2.0   20.013219      0.459656   \n",
       "8  0.430666       21.0       118.0    2.0   24.431202      0.466333   \n",
       "9  0.427176       83.0        67.0    2.0   17.440702      0.481440   \n",
       "\n",
       "                                            val_loss  \\\n",
       "0  [0.6102870684721904, 0.5529747064935774, 0.528...   \n",
       "1  [0.5993144478219367, 0.5714199955410562, 0.542...   \n",
       "2  [0.6015449217871055, 0.5520487543722082, 0.527...   \n",
       "3  [0.5852318999833596, 0.5403261406572788, 0.518...   \n",
       "4  [0.5972372770494879, 0.5681544087078236, 0.528...   \n",
       "5  [0.5776328914868514, 0.5288167593603396, 0.513...   \n",
       "6  [0.6177181589529251, 0.5935039280303693, 0.549...   \n",
       "7  [0.5705275721826281, 0.5330134877406645, 0.511...   \n",
       "8  [0.6006294494180069, 0.5620435356989506, 0.538...   \n",
       "9  [0.5932232545069074, 0.5505450653434147, 0.523...   \n",
       "\n",
       "                                             val_acc  \\\n",
       "0  [0.6525374303879544, 0.6871475767943267, 0.704...   \n",
       "1  [0.6533151845419288, 0.6556484534620844, 0.688...   \n",
       "2  [0.6589539157794928, 0.6835504535939845, 0.714...   \n",
       "3  [0.6656620686049131, 0.6913280217373577, 0.716...   \n",
       "4  [0.6555512343286518, 0.663231576170505, 0.7109...   \n",
       "5  [0.6544818146067001, 0.699008359708328, 0.7165...   \n",
       "6  [0.6540929295894772, 0.6597316607111464, 0.684...   \n",
       "7  [0.6636204509310469, 0.7062998222465671, 0.727...   \n",
       "8  [0.6555512391730502, 0.6712035789184712, 0.693...   \n",
       "9  [0.6576900664016521, 0.6757728954262476, 0.711...   \n",
       "\n",
       "                                          train_loss  \\\n",
       "0  [0.7066168329834938, 0.6172136186137795, 0.574...   \n",
       "1  [0.7352322915673256, 0.627588625767827, 0.5866...   \n",
       "2  [0.7372428162038326, 0.626137675267458, 0.5769...   \n",
       "3  [0.6914529414564371, 0.5893429758682847, 0.559...   \n",
       "4  [0.7222352611243725, 0.6256702508509159, 0.582...   \n",
       "5  [0.6672435186088085, 0.5774091209918261, 0.546...   \n",
       "6  [0.7841613159656524, 0.6482704216629267, 0.604...   \n",
       "7  [0.6768223298192024, 0.5861789566874505, 0.546...   \n",
       "8  [0.7489323770582675, 0.6310937543481588, 0.585...   \n",
       "9  [0.7109468399837613, 0.6075833718843758, 0.569...   \n",
       "\n",
       "                                           train_acc  \n",
       "0  [0.5954999983131886, 0.6508999999970198, 0.672...  \n",
       "1  [0.5877249967232346, 0.6322499973863364, 0.651...  \n",
       "2  [0.5895250008285046, 0.6353500008821488, 0.669...  \n",
       "3  [0.5996250077471137, 0.6550250051259995, 0.679...  \n",
       "4  [0.5879999999016523, 0.6356750015676021, 0.656...  \n",
       "5  [0.615624997176975, 0.6612749993771314, 0.6942...  \n",
       "6  [0.5804999904185534, 0.6289999852061272, 0.649...  \n",
       "7  [0.6120249988138675, 0.6578750003576279, 0.699...  \n",
       "8  [0.5782750015482306, 0.632350002592802, 0.6570...  \n",
       "9  [0.5945250019513071, 0.643500000269711, 0.6743...  "
      ]
     },
     "execution_count": 60,
     "metadata": {},
     "output_type": "execute_result"
    }
   ],
   "source": [
    "random_search_results.head(10)"
   ]
  },
  {
   "cell_type": "code",
   "execution_count": 66,
   "metadata": {},
   "outputs": [
    {
     "data": {
      "text/plain": [
       "dropout        -1.0\n",
       "num_dense       1.0\n",
       "batch_size      1.0\n",
       "depth           NaN\n",
       "run_time_m     -1.0\n",
       "min_val_loss    1.0\n",
       "Name: min_val_loss, dtype: float64"
      ]
     },
     "execution_count": 66,
     "metadata": {},
     "output_type": "execute_result"
    }
   ],
   "source": [
    "random_search_results.corr()['min_val_loss']"
   ]
  },
  {
   "cell_type": "code",
   "execution_count": 67,
   "metadata": {},
   "outputs": [
    {
     "data": {
      "text/plain": [
       "[<matplotlib.lines.Line2D at 0x183dfe2b0>]"
      ]
     },
     "execution_count": 67,
     "metadata": {},
     "output_type": "execute_result"
    },
    {
     "data": {
      "image/png": "[encoded data removed]",
      "text/plain": [
       "<Figure size 432x288 with 1 Axes>"
      ]
     },
     "metadata": {
      "needs_background": "light"
     },
     "output_type": "display_data"
    }
   ],
   "source": [
    "plt.plot(random_search_results.batch_size,random_search_results.min_val_loss,'.')"
   ]
  },
  {
   "cell_type": "markdown",
   "metadata": {},
   "source": [
    "# Attention network\n",
    "I'm curious to try implementing attention in my network. At a high level, attention infers which words are \"important\" for the computation, and up-regulates how much it uses those words in its computation. Similarly, it down-regulates how much it uses unimportant words in its computation. I'm referencing a number of different sources to figure out how to implement attention. Particularly useful are the discussion [here](https://github.com/keras-team/keras/issues/4962), [this paper](https://aclweb.org/anthology/N16-1174), and [this blog post](https://lilianweng.github.io/lil-log/2018/06/24/attention-attention.html#summary).\n",
    "\n",
    "Interestingly, I found that quite a complex attention calculation seemed to work very well for me: Instead of doing a simple dense calculation on the inputs, adding a few convolutional layers before calculating the final attention weights really boosted performance. Not sure what the intuition here is necessarily, except that the relationship between which words are and are not important may be quite nonlinear, so having some convolutions in there helps the model to select the correct spots to attend to."
   ]
  },
  {
   "cell_type": "code",
   "execution_count": 22,
   "metadata": {},
   "outputs": [],
   "source": [
    "# support function to add attention weighting over time to a given times x units array\n",
    "def add_attention(x,num_recurrent,drop_prob,num_dense):\n",
    "    # Attention layer (closely based on: https://github.com/keras-team/keras/issues/4962#issuecomment-271934502)\n",
    "    x = keras.layers.SpatialDropout1D(drop_prob)(x) # dropout random dimensions of the model\n",
    "    x_red = Conv1D(num_dense,kernel_size=1,strides=1,padding='same',activation='relu')(x) # reduce dimensionality to calculate attention faster        \n",
    "    attention = keras.layers.Conv1D(1,kernel_size=3,strides=1,padding='same')(x) # this is the initial attention vector (not scaled)\n",
    "    attention = keras.layers.Flatten()(attention) # size: (batch_size,n_times,1) -> (batch_size,n_times)\n",
    "    attention = keras.layers.Activation('softmax',name='Attention')(attention) # Converts attention to a probability\n",
    "    attention = keras.layers.RepeatVector(num_recurrent*2)(attention)\n",
    "    attention = keras.layers.Permute([2, 1])(attention)\n",
    "\n",
    "    # Output of the GRU is now weighted by the attention\n",
    "    x = keras.layers.Multiply()([x,attention])\n",
    "    \n",
    "    # finally, take a sum of all of the values across time, weighted by attention\n",
    "    x = keras.layers.pooling.GlobalAveragePooling1D()(x) # kind of a hack, scale issues counteracted by batch norm\n",
    "    x = BatchNormalization()(x)\n",
    "    return x\n",
    "\n",
    "# Model architecture\n",
    "# Note: depth and num_dense input are not used, but included so that I can more easily swap this model generator\n",
    "# with my previous model generator\n",
    "def generate_attention_model(num_recurrent=64,drop_prob=.2,depth=0,num_dense = 4):\n",
    "\n",
    "    # load pre-trained word embeddings into an Embedding layer\n",
    "    # note that we set trainable = False so as to keep the embeddings fixed\n",
    "    embedding_layer = Embedding(embedding_matrix.shape[0],\n",
    "                                embedding_matrix.shape[1],\n",
    "                                embeddings_initializer=Constant(embedding_matrix),\n",
    "                                input_length=None,\n",
    "                                trainable=False)\n",
    "\n",
    "    # This is a layer to take only the final state of a GRU network output that has been set to return sequences\n",
    "    Slice_layer = Lambda(lambda x: K.squeeze(K.slice(x, [0,49,0],[K.shape(x1)[0],1,num_recurrent*2]),axis=1))\n",
    "\n",
    "    # This is where the model input is specified: encoded inputs of MAX_SEQUENCE_LENGTH timepoints\n",
    "    sequence_input = Input(shape=(MAX_SEQUENCE_LENGTH,),\n",
    "                           dtype='int32')\n",
    "\n",
    "    # Next, embed the input\n",
    "    x1 = embedding_layer(sequence_input)   \n",
    "\n",
    "    # Use a GRU to encode the input\n",
    "    x1 = Bidirectional(GRU(num_recurrent,\n",
    "             return_sequences=True,\n",
    "             dropout=drop_prob,\n",
    "             recurrent_dropout=drop_prob,\n",
    "            ))(x1)\n",
    "    x1 = keras.layers.SpatialDropout1D(drop_prob)(x1) # dropout random dimensions of the model\n",
    "    x = add_attention(x1,num_recurrent,drop_prob,num_dense) # Calculate attention weights\n",
    "\n",
    "    # Finally, the output is a single unit whose output should be the estimated probability of the line being funny\n",
    "    #     x1 = Flatten()(x1)\n",
    "\n",
    "    preds = Dense(1, activation='sigmoid')(x)\n",
    "\n",
    "    # This line specifies and compiles the model\n",
    "    model = Model(inputs=[sequence_input], outputs=[preds])\n",
    "    model.compile(loss='binary_crossentropy',\n",
    "                  optimizer='nadam',\n",
    "              metrics=['acc'])\n",
    "\n",
    "    return model"
   ]
  },
  {
   "cell_type": "code",
   "execution_count": 24,
   "metadata": {},
   "outputs": [
    {
     "name": "stdout",
     "output_type": "stream",
     "text": [
      "baseline accuracy is: 0.73105\n",
      "Run number 0:\n",
      "Training model with 2 dense units\n",
      "Training model with dropout at 20.0%\n",
      "Training model with batch size 74\n",
      "Training model with depth 2\n",
      "Train on 40000 samples, validate on 25326 samples\n",
      "Epoch 1/30\n",
      "40000/40000 [==============================] - 59s 1ms/step - loss: 0.5189 - acc: 0.7458 - val_loss: 0.4819 - val_acc: 0.7652\n",
      "Epoch 2/30\n",
      "40000/40000 [==============================] - 56s 1ms/step - loss: 0.4817 - acc: 0.7665 - val_loss: 0.4773 - val_acc: 0.7672\n",
      "Epoch 3/30\n",
      "40000/40000 [==============================] - 56s 1ms/step - loss: 0.4639 - acc: 0.7765 - val_loss: 0.4683 - val_acc: 0.7717\n",
      "Epoch 4/30\n",
      "40000/40000 [==============================] - 57s 1ms/step - loss: 0.4472 - acc: 0.7866 - val_loss: 0.4787 - val_acc: 0.7662\n",
      "Epoch 5/30\n",
      "40000/40000 [==============================] - 52s 1ms/step - loss: 0.4348 - acc: 0.7946 - val_loss: 0.4690 - val_acc: 0.7725\n",
      "With drop probability = 0.2\n",
      "minimum val loss is 0.4682513574135489\n",
      "maximum val accuracy is 0.77248677399301\n",
      "Run time = 4.716236666838328 mins\n",
      "\n",
      "\n",
      "Run number 1:\n",
      "Training model with 4 dense units\n",
      "Training model with dropout at 20.0%\n",
      "Training model with batch size 77\n",
      "Training model with depth 2\n",
      "Train on 40000 samples, validate on 25326 samples\n",
      "Epoch 1/30\n",
      "40000/40000 [==============================] - 54s 1ms/step - loss: 0.5179 - acc: 0.7469 - val_loss: 0.4858 - val_acc: 0.7646\n",
      "Epoch 2/30\n",
      "40000/40000 [==============================] - 52s 1ms/step - loss: 0.4813 - acc: 0.7638 - val_loss: 0.4826 - val_acc: 0.7666\n",
      "Epoch 3/30\n",
      "40000/40000 [==============================] - 51s 1ms/step - loss: 0.4646 - acc: 0.7758 - val_loss: 0.4718 - val_acc: 0.7721\n",
      "Epoch 4/30\n",
      "19712/40000 [=============>................] - ETA: 20s - loss: 0.4464 - acc: 0.7876"
     ]
    },
    {
     "ename": "KeyboardInterrupt",
     "evalue": "",
     "output_type": "error",
     "traceback": [
      "\u001b[0;31m---------------------------------------------------------------------------\u001b[0m",
      "\u001b[0;31mKeyboardInterrupt\u001b[0m                         Traceback (most recent call last)",
      "\u001b[0;32m<ipython-input-24-bd5a0d9d670e>\u001b[0m in \u001b[0;36m<module>\u001b[0;34m()\u001b[0m\n\u001b[1;32m      7\u001b[0m                                                   \u001b[0mdepth_to_test\u001b[0m\u001b[0;34m=\u001b[0m\u001b[0;34m[\u001b[0m\u001b[0;36m2\u001b[0m\u001b[0;34m]\u001b[0m\u001b[0;34m,\u001b[0m\u001b[0;34m\u001b[0m\u001b[0m\n\u001b[1;32m      8\u001b[0m                                                   \u001b[0mbatch_size_to_test\u001b[0m \u001b[0;34m=\u001b[0m \u001b[0;34m[\u001b[0m\u001b[0;36m64\u001b[0m\u001b[0;34m,\u001b[0m\u001b[0;36m128\u001b[0m\u001b[0;34m]\u001b[0m\u001b[0;34m,\u001b[0m\u001b[0;34m\u001b[0m\u001b[0m\n\u001b[0;32m----> 9\u001b[0;31m                                                   \u001b[0mpatience\u001b[0m \u001b[0;34m=\u001b[0m \u001b[0;36m2\u001b[0m\u001b[0;34m\u001b[0m\u001b[0m\n\u001b[0m\u001b[1;32m     10\u001b[0m                                                  )\n",
      "\u001b[0;32m<ipython-input-21-b4c13cec17a9>\u001b[0m in \u001b[0;36mrandom_search\u001b[0;34m(model_fun, num_runs, num_recurrent, drops_to_test, num_dense_to_test, depth_to_test, batch_size_to_test, patience)\u001b[0m\n\u001b[1;32m     68\u001b[0m                       \u001b[0mvalidation_data\u001b[0m \u001b[0;34m=\u001b[0m \u001b[0;34m(\u001b[0m\u001b[0;34m[\u001b[0m\u001b[0mx_val_encoded\u001b[0m\u001b[0;34m]\u001b[0m\u001b[0;34m,\u001b[0m\u001b[0my_val\u001b[0m\u001b[0;34m)\u001b[0m\u001b[0;34m,\u001b[0m\u001b[0;34m\u001b[0m\u001b[0m\n\u001b[1;32m     69\u001b[0m                       \u001b[0mcallbacks\u001b[0m\u001b[0;34m=\u001b[0m\u001b[0;34m[\u001b[0m\u001b[0mearly_stopping\u001b[0m\u001b[0;34m]\u001b[0m\u001b[0;34m,\u001b[0m\u001b[0;34m\u001b[0m\u001b[0m\n\u001b[0;32m---> 70\u001b[0;31m                       \u001b[0mverbose\u001b[0m\u001b[0;34m=\u001b[0m\u001b[0;36m1\u001b[0m\u001b[0;34m,\u001b[0m\u001b[0;34m\u001b[0m\u001b[0m\n\u001b[0m\u001b[1;32m     71\u001b[0m                      )\n\u001b[1;32m     72\u001b[0m \u001b[0;34m\u001b[0m\u001b[0m\n",
      "\u001b[0;32m~/git/BimanualModeling/py_36_env/lib/python3.6/site-packages/keras/engine/training.py\u001b[0m in \u001b[0;36mfit\u001b[0;34m(self, x, y, batch_size, epochs, verbose, callbacks, validation_split, validation_data, shuffle, class_weight, sample_weight, initial_epoch, steps_per_epoch, validation_steps, **kwargs)\u001b[0m\n\u001b[1;32m   1037\u001b[0m                                         \u001b[0minitial_epoch\u001b[0m\u001b[0;34m=\u001b[0m\u001b[0minitial_epoch\u001b[0m\u001b[0;34m,\u001b[0m\u001b[0;34m\u001b[0m\u001b[0m\n\u001b[1;32m   1038\u001b[0m                                         \u001b[0msteps_per_epoch\u001b[0m\u001b[0;34m=\u001b[0m\u001b[0msteps_per_epoch\u001b[0m\u001b[0;34m,\u001b[0m\u001b[0;34m\u001b[0m\u001b[0m\n\u001b[0;32m-> 1039\u001b[0;31m                                         validation_steps=validation_steps)\n\u001b[0m\u001b[1;32m   1040\u001b[0m \u001b[0;34m\u001b[0m\u001b[0m\n\u001b[1;32m   1041\u001b[0m     def evaluate(self, x=None, y=None,\n",
      "\u001b[0;32m~/git/BimanualModeling/py_36_env/lib/python3.6/site-packages/keras/engine/training_arrays.py\u001b[0m in \u001b[0;36mfit_loop\u001b[0;34m(model, f, ins, out_labels, batch_size, epochs, verbose, callbacks, val_f, val_ins, shuffle, callback_metrics, initial_epoch, steps_per_epoch, validation_steps)\u001b[0m\n\u001b[1;32m    197\u001b[0m                     \u001b[0mins_batch\u001b[0m\u001b[0;34m[\u001b[0m\u001b[0mi\u001b[0m\u001b[0;34m]\u001b[0m \u001b[0;34m=\u001b[0m \u001b[0mins_batch\u001b[0m\u001b[0;34m[\u001b[0m\u001b[0mi\u001b[0m\u001b[0;34m]\u001b[0m\u001b[0;34m.\u001b[0m\u001b[0mtoarray\u001b[0m\u001b[0;34m(\u001b[0m\u001b[0;34m)\u001b[0m\u001b[0;34m\u001b[0m\u001b[0m\n\u001b[1;32m    198\u001b[0m \u001b[0;34m\u001b[0m\u001b[0m\n\u001b[0;32m--> 199\u001b[0;31m                 \u001b[0mouts\u001b[0m \u001b[0;34m=\u001b[0m \u001b[0mf\u001b[0m\u001b[0;34m(\u001b[0m\u001b[0mins_batch\u001b[0m\u001b[0;34m)\u001b[0m\u001b[0;34m\u001b[0m\u001b[0m\n\u001b[0m\u001b[1;32m    200\u001b[0m                 \u001b[0mouts\u001b[0m \u001b[0;34m=\u001b[0m \u001b[0mto_list\u001b[0m\u001b[0;34m(\u001b[0m\u001b[0mouts\u001b[0m\u001b[0;34m)\u001b[0m\u001b[0;34m\u001b[0m\u001b[0m\n\u001b[1;32m    201\u001b[0m                 \u001b[0;32mfor\u001b[0m \u001b[0ml\u001b[0m\u001b[0;34m,\u001b[0m \u001b[0mo\u001b[0m \u001b[0;32min\u001b[0m \u001b[0mzip\u001b[0m\u001b[0;34m(\u001b[0m\u001b[0mout_labels\u001b[0m\u001b[0;34m,\u001b[0m \u001b[0mouts\u001b[0m\u001b[0;34m)\u001b[0m\u001b[0;34m:\u001b[0m\u001b[0;34m\u001b[0m\u001b[0m\n",
      "\u001b[0;32m~/git/BimanualModeling/py_36_env/lib/python3.6/site-packages/keras/backend/tensorflow_backend.py\u001b[0m in \u001b[0;36m__call__\u001b[0;34m(self, inputs)\u001b[0m\n\u001b[1;32m   2713\u001b[0m                 \u001b[0;32mreturn\u001b[0m \u001b[0mself\u001b[0m\u001b[0;34m.\u001b[0m\u001b[0m_legacy_call\u001b[0m\u001b[0;34m(\u001b[0m\u001b[0minputs\u001b[0m\u001b[0;34m)\u001b[0m\u001b[0;34m\u001b[0m\u001b[0m\n\u001b[1;32m   2714\u001b[0m \u001b[0;34m\u001b[0m\u001b[0m\n\u001b[0;32m-> 2715\u001b[0;31m             \u001b[0;32mreturn\u001b[0m \u001b[0mself\u001b[0m\u001b[0;34m.\u001b[0m\u001b[0m_call\u001b[0m\u001b[0;34m(\u001b[0m\u001b[0minputs\u001b[0m\u001b[0;34m)\u001b[0m\u001b[0;34m\u001b[0m\u001b[0m\n\u001b[0m\u001b[1;32m   2716\u001b[0m         \u001b[0;32melse\u001b[0m\u001b[0;34m:\u001b[0m\u001b[0;34m\u001b[0m\u001b[0m\n\u001b[1;32m   2717\u001b[0m             \u001b[0;32mif\u001b[0m \u001b[0mpy_any\u001b[0m\u001b[0;34m(\u001b[0m\u001b[0mis_tensor\u001b[0m\u001b[0;34m(\u001b[0m\u001b[0mx\u001b[0m\u001b[0;34m)\u001b[0m \u001b[0;32mfor\u001b[0m \u001b[0mx\u001b[0m \u001b[0;32min\u001b[0m \u001b[0minputs\u001b[0m\u001b[0;34m)\u001b[0m\u001b[0;34m:\u001b[0m\u001b[0;34m\u001b[0m\u001b[0m\n",
      "\u001b[0;32m~/git/BimanualModeling/py_36_env/lib/python3.6/site-packages/keras/backend/tensorflow_backend.py\u001b[0m in \u001b[0;36m_call\u001b[0;34m(self, inputs)\u001b[0m\n\u001b[1;32m   2673\u001b[0m             \u001b[0mfetched\u001b[0m \u001b[0;34m=\u001b[0m \u001b[0mself\u001b[0m\u001b[0;34m.\u001b[0m\u001b[0m_callable_fn\u001b[0m\u001b[0;34m(\u001b[0m\u001b[0;34m*\u001b[0m\u001b[0marray_vals\u001b[0m\u001b[0;34m,\u001b[0m \u001b[0mrun_metadata\u001b[0m\u001b[0;34m=\u001b[0m\u001b[0mself\u001b[0m\u001b[0;34m.\u001b[0m\u001b[0mrun_metadata\u001b[0m\u001b[0;34m)\u001b[0m\u001b[0;34m\u001b[0m\u001b[0m\n\u001b[1;32m   2674\u001b[0m         \u001b[0;32melse\u001b[0m\u001b[0;34m:\u001b[0m\u001b[0;34m\u001b[0m\u001b[0m\n\u001b[0;32m-> 2675\u001b[0;31m             \u001b[0mfetched\u001b[0m \u001b[0;34m=\u001b[0m \u001b[0mself\u001b[0m\u001b[0;34m.\u001b[0m\u001b[0m_callable_fn\u001b[0m\u001b[0;34m(\u001b[0m\u001b[0;34m*\u001b[0m\u001b[0marray_vals\u001b[0m\u001b[0;34m)\u001b[0m\u001b[0;34m\u001b[0m\u001b[0m\n\u001b[0m\u001b[1;32m   2676\u001b[0m         \u001b[0;32mreturn\u001b[0m \u001b[0mfetched\u001b[0m\u001b[0;34m[\u001b[0m\u001b[0;34m:\u001b[0m\u001b[0mlen\u001b[0m\u001b[0;34m(\u001b[0m\u001b[0mself\u001b[0m\u001b[0;34m.\u001b[0m\u001b[0moutputs\u001b[0m\u001b[0;34m)\u001b[0m\u001b[0;34m]\u001b[0m\u001b[0;34m\u001b[0m\u001b[0m\n\u001b[1;32m   2677\u001b[0m \u001b[0;34m\u001b[0m\u001b[0m\n",
      "\u001b[0;32m~/git/BimanualModeling/py_36_env/lib/python3.6/site-packages/tensorflow/python/client/session.py\u001b[0m in \u001b[0;36m__call__\u001b[0;34m(self, *args, **kwargs)\u001b[0m\n\u001b[1;32m   1437\u001b[0m           ret = tf_session.TF_SessionRunCallable(\n\u001b[1;32m   1438\u001b[0m               \u001b[0mself\u001b[0m\u001b[0;34m.\u001b[0m\u001b[0m_session\u001b[0m\u001b[0;34m.\u001b[0m\u001b[0m_session\u001b[0m\u001b[0;34m,\u001b[0m \u001b[0mself\u001b[0m\u001b[0;34m.\u001b[0m\u001b[0m_handle\u001b[0m\u001b[0;34m,\u001b[0m \u001b[0margs\u001b[0m\u001b[0;34m,\u001b[0m \u001b[0mstatus\u001b[0m\u001b[0;34m,\u001b[0m\u001b[0;34m\u001b[0m\u001b[0m\n\u001b[0;32m-> 1439\u001b[0;31m               run_metadata_ptr)\n\u001b[0m\u001b[1;32m   1440\u001b[0m         \u001b[0;32mif\u001b[0m \u001b[0mrun_metadata\u001b[0m\u001b[0;34m:\u001b[0m\u001b[0;34m\u001b[0m\u001b[0m\n\u001b[1;32m   1441\u001b[0m           \u001b[0mproto_data\u001b[0m \u001b[0;34m=\u001b[0m \u001b[0mtf_session\u001b[0m\u001b[0;34m.\u001b[0m\u001b[0mTF_GetBuffer\u001b[0m\u001b[0;34m(\u001b[0m\u001b[0mrun_metadata_ptr\u001b[0m\u001b[0;34m)\u001b[0m\u001b[0;34m\u001b[0m\u001b[0m\n",
      "\u001b[0;31mKeyboardInterrupt\u001b[0m: "
     ]
    },
    {
     "data": {
      "image/png": "[encoded data removed]",
      "text/plain": [
       "<Figure size 432x288 with 1 Axes>"
      ]
     },
     "metadata": {
      "needs_background": "light"
     },
     "output_type": "display_data"
    }
   ],
   "source": [
    "# set parameter ranges to test via grid parameter search\n",
    "attn_search_results,best_attn_model = random_search(model_fun = generate_attention_model,\n",
    "                                                  num_runs = 5, \n",
    "                                                  num_recurrent=64,\n",
    "                                                  drops_to_test=[0.2,0.2],\n",
    "                                                  num_dense_to_test=[2,10],\n",
    "                                                  depth_to_test=[2],\n",
    "                                                  batch_size_to_test = [64,128],\n",
    "                                                  patience = 2\n",
    "                                                 )"
   ]
  },
  {
   "cell_type": "code",
   "execution_count": 118,
   "metadata": {},
   "outputs": [
    {
     "data": {
      "text/plain": [
       "dropout         0.538085\n",
       "num_dense       0.344139\n",
       "batch_size      0.375213\n",
       "depth                NaN\n",
       "run_time_m     -0.286931\n",
       "min_val_loss    1.000000\n",
       "Name: min_val_loss, dtype: float64"
      ]
     },
     "execution_count": 118,
     "metadata": {},
     "output_type": "execute_result"
    }
   ],
   "source": [
    "attn_search_results.corr()['min_val_loss']"
   ]
  },
  {
   "cell_type": "code",
   "execution_count": 127,
   "metadata": {},
   "outputs": [
    {
     "data": {
      "image/png": "[encoded data removed]",
      "text/plain": [
       "<Figure size 720x720 with 16 Axes>"
      ]
     },
     "metadata": {
      "needs_background": "light"
     },
     "output_type": "display_data"
    }
   ],
   "source": [
    "pd.plotting.scatter_matrix(attn_search_results.loc[:,['min_val_loss','dropout','num_dense','batch_size']],\n",
    "                           figsize=(10,10),\n",
    "                          range_padding=0.1);\n",
    "\n"
   ]
  },
  {
   "cell_type": "code",
   "execution_count": 114,
   "metadata": {},
   "outputs": [
    {
     "name": "stdout",
     "output_type": "stream",
     "text": [
      "__________________________________________________________________________________________________\n",
      "Layer (type)                    Output Shape         Param #     Connected to                     \n",
      "==================================================================================================\n",
      "input_28 (InputLayer)           (None, 50)           0                                            \n",
      "__________________________________________________________________________________________________\n",
      "embedding_28 (Embedding)        (None, 50, 200)      4000200     input_28[0][0]                   \n",
      "__________________________________________________________________________________________________\n",
      "spatial_dropout1d_98 (SpatialDr (None, 50, 200)      0           embedding_28[0][0]               \n",
      "__________________________________________________________________________________________________\n",
      "bidirectional_61 (Bidirectional (None, 50, 128)      101760      spatial_dropout1d_98[0][0]       \n",
      "__________________________________________________________________________________________________\n",
      "spatial_dropout1d_99 (SpatialDr (None, 50, 128)      0           bidirectional_61[0][0]           \n",
      "__________________________________________________________________________________________________\n",
      "spatial_dropout1d_100 (SpatialD (None, 50, 128)      0           spatial_dropout1d_99[0][0]       \n",
      "__________________________________________________________________________________________________\n",
      "conv1d_22 (Conv1D)              (None, 50, 1)        385         spatial_dropout1d_100[0][0]      \n",
      "__________________________________________________________________________________________________\n",
      "flatten_11 (Flatten)            (None, 50)           0           conv1d_22[0][0]                  \n",
      "__________________________________________________________________________________________________\n",
      "Attention (Activation)          (None, 50)           0           flatten_11[0][0]                 \n",
      "__________________________________________________________________________________________________\n",
      "repeat_vector_11 (RepeatVector) (None, 128, 50)      0           Attention[0][0]                  \n",
      "__________________________________________________________________________________________________\n",
      "permute_11 (Permute)            (None, 50, 128)      0           repeat_vector_11[0][0]           \n",
      "__________________________________________________________________________________________________\n",
      "multiply_11 (Multiply)          (None, 50, 128)      0           spatial_dropout1d_100[0][0]      \n",
      "                                                                 permute_11[0][0]                 \n",
      "__________________________________________________________________________________________________\n",
      "global_average_pooling1d_10 (Gl (None, 128)          0           multiply_11[0][0]                \n",
      "__________________________________________________________________________________________________\n",
      "batch_normalization_27 (BatchNo (None, 128)          512         global_average_pooling1d_10[0][0]\n",
      "__________________________________________________________________________________________________\n",
      "dense_44 (Dense)                (None, 1)            129         batch_normalization_27[0][0]     \n",
      "==================================================================================================\n",
      "Total params: 4,102,986\n",
      "Trainable params: 102,530\n",
      "Non-trainable params: 4,000,456\n",
      "__________________________________________________________________________________________________\n",
      "10286/10286 [==============================] - 6s 627us/step\n",
      "Best attention model validation loss is 0.4488877546003814\n"
     ]
    }
   ],
   "source": [
    "best_attn_model.summary()\n",
    "print(f'Best attention model validation loss is {best_attn_model.evaluate([x_val_encoded],y_val)[0]}')"
   ]
  },
  {
   "cell_type": "markdown",
   "metadata": {},
   "source": [
    "### Visualizing attention\n",
    "We can plot the activations of the attention layer to see what the attention network is looking at while making its funny/not funny decisions. Hopefully, this will be something interpretable. "
   ]
  },
  {
   "cell_type": "code",
   "execution_count": 102,
   "metadata": {},
   "outputs": [],
   "source": [
    "# Function which runs the model up to the attention layer, then outputs the activation of that layer\n",
    "# https://keras.io/getting-started/faq/#how-can-i-obtain-the-output-of-an-intermediate-layer\n",
    "Attn_output = K.function([best_attn_model.layers[0].input],[best_attn_model.get_layer('Attention').output])\n",
    "\n",
    "def Plot_Validation_attention(val_idx):\n",
    "    # Get the output of the attention layer\n",
    "    attn = Attn_output([x_val_encoded[val_idx:val_idx+1,:]])[0][0]\n",
    "    \n",
    "    # Get whether the line was funny, and whether the model thought the line was funny\n",
    "    prediction = model.predict([x_val_encoded[val_idx:val_idx+1,:]])\n",
    "    true_y = y_val[val_idx]\n",
    "    \n",
    "    # Generate the figure\n",
    "    plt.figure(figsize=(15,5))\n",
    "    plt.plot(attn)\n",
    "#     plt.ylim([0,.5])\n",
    "    for i,word in enumerate(x_val[val_idx].split()[::-1]):\n",
    "        plt.text(49-i,attn[49-i],word,horizontalalignment='center')\n",
    "        \n",
    "    # For a title, say the answer and whether the model predicted it correctly\n",
    "    if true_y:\n",
    "        plt.title(f'Model prediction {100*(prediction[0][0])//1}% chance funny (actual: FUNNY)')\n",
    "    else:\n",
    "        plt.title(f'Model prediction {100*(prediction[0][0])//1}% chance funny (actual: NOT funny)')"
   ]
  },
  {
   "cell_type": "code",
   "execution_count": 103,
   "metadata": {},
   "outputs": [
    {
     "data": {
      "image/png": "[encoded data removed]",
      "text/plain": [
       "<Figure size 1080x360 with 1 Axes>"
      ]
     },
     "metadata": {
      "needs_background": "light"
     },
     "output_type": "display_data"
    }
   ],
   "source": [
    "Plot_Validation_attention(2240)"
   ]
  },
  {
   "cell_type": "code",
   "execution_count": 121,
   "metadata": {},
   "outputs": [],
   "source": [
    "def example_phrases(trials,y_pred,num_phrases=3,step=-1):\n",
    "    # find the items the model was most confident were funny\n",
    "    true_pos_index = np.where(trials)[0]\n",
    "    funny_order = y_pred[np.where(trials)].argsort()\n",
    "    true_pos_index = true_pos_index[funny_order]\n",
    "    for i in range(1,num_phrases*step,step):\n",
    "        print(x_val[true_pos_index[i]])\n",
    "\n",
    "def Evaluate_model(model):\n",
    "    # predict on validation set\n",
    "    y_pred = model.predict([x_val_encoded])\n",
    "    y_pred = y_pred.reshape(y_pred.size)\n",
    "    \n",
    "    # Calculate true and false positives and negatives\n",
    "    true_pos = (y_pred > .5 ) & (y_val ==1)\n",
    "    false_pos = (y_pred > .5 ) & (y_val ==0)\n",
    "    false_neg = (y_pred < .5 ) & (y_val ==1)\n",
    "    true_neg = (y_pred < .5 ) & (y_val ==0)\n",
    "    \n",
    "    # report precision and recall\n",
    "    print(f'Precision = {sum(true_pos)/(sum(true_pos)+sum(false_pos))}')    \n",
    "    print(f'Recall = {sum(true_pos)/(sum(true_pos)+sum(false_neg))}')\n",
    "    \n",
    "    # Give a few examples of ture and false positives and negatives\n",
    "    print('\\nExample \"true positive\" phrases')\n",
    "    example_phrases(true_pos,y_pred)\n",
    "\n",
    "    print('\\nExample \"false positive\" phrases')\n",
    "    example_phrases(false_pos,y_pred)\n",
    "\n",
    "    print('\\nExample \"false negative\" phrases')\n",
    "    example_phrases(false_neg,y_pred,step=1)\n",
    "\n",
    "    print('\\nExample \"true negative\" phrases')\n",
    "    example_phrases(true_neg,y_pred,num_phrases=4,step=1)"
   ]
  },
  {
   "cell_type": "code",
   "execution_count": 84,
   "metadata": {},
   "outputs": [
    {
     "name": "stdout",
     "output_type": "stream",
     "text": [
      "Precision = 0.6540632054176072\n",
      "Recall = 0.6498458088029156\n",
      "\n",
      "Example \"true positive\" phrases\n",
      " Was it hard to be embarrassed by your dad, even though he was literally the coolest man in the entire world?\n",
      " Was it hard to be embarrassed by your dad even though he was literally the coolest man in the entire world?\n",
      " The New York Times says yoga may help a hangover. While some poses, particularly those which bring the head below the waist may increase head pounding, others help blood flow and oxygen intake. One yoga instructor says some poses, quote, \"squeeze your organs like wet sponge.\" And if you're hung over, that imagine probably made you throw up and now you feel better.\n",
      " The New York Times says yoga may help a hangover. While some poses, particularly those which bring the head below the waist may increase head pounding, others help blood flow and oxygen intake. One yoga instructor says some poses, quote, \"squeeze your organs like wet sponge.\" And if you're hung over, that imagine probably made you throw up and now you feel better.\n",
      "\n",
      "Example \"false positive\" phrases\n",
      " There's a new study in the Journal of Applied Psychology. It suggests that angry statements like \"get this done or you're fired,\" well it motivates them, but it shuts down creativity. Statements like, \"I'm sure a person of your intellectual greatness will find this spreadsheet a snap,\" that helps stimulate workers to do complex jobs.\n",
      " Well, it's a big group, he's part of it, and they're very depressed. And they've been whining. And they're about to be really badly beaten by the other guys.\n",
      " Hillary Clinton isn't the only politician to get into trouble over use of her personal phone. Last month, journalists and opposition ministers in South Korea found it increasingly difficult to get hold of Kristal Yong-June (ph), the country's minister for culture and tourism, on her personal cell phone. As complaints mounted, the National Assembly launched an internal investigation involving a government official following ministry interns during work hours. The staffer was shadowed to a local park full of young people staring at their phones. Consultation with a reporter from the Seoul Herald solved the mystery. The local park was a popular pokestop for the popular mobile game Pokemon Go.\n",
      " Modern hearing aids are a marvel of technical sound processing allowing the hearing impaired to stay tuned to the conversations around them. The problem with all that technology is that it can cost north of $6,000 and puts help out of reach for many. Enter the RAM horn, Restorative Audio Modulator. Modeled after the ear horn and made for centuries from tin or brass into shapes of various funnels and bugles, audiologist Sarah Moore's company Speak Up uses 21st-century 3-D printing units to produce custom-fitted ear horns.\n",
      "\n",
      "Example \"false negative\" phrases\n",
      " Thank you, Carl Kasell. Thank you also to Tom Bodett, Kyrie O'Connor, and Brian Babylon and, thanks to all of you for listening. I'm Drew Carey filling in for Peter Sagal, and we'll see you next week on \"The Price Is Right.\"\n",
      " So prepare yourselves. Give me a chance to mangle your name as well. Give us a call the number is 1-888-WAIT-WAIT, that's 1-888-924-8924. Yes, it's Wandy Wayne White on WAIT WAIT.\n",
      "\n",
      "Example \"true negative\" phrases\n",
      " All we want from you is a sign of affection is that you give us a call. The number is 1-888-WAIT-WAIT. That's 1-888-924-8924. Now, let us welcome our first listener contestant. Hi, you're on WAIT WAIT... DON’T TELL ME.\n",
      " It's the listener limerick challenge. If you'd like to play, give us a call at 1-888-Wait-Wait. That's 1-888-924-8924. But before we move on to questions for you, panel, we'd like to correct an error. On last week's show, we did a story about how Senator Russ Feingold of Wisconsin had done a campaign ad which showed him in front of his home in the Badger State. The idea being that he hadn't gone all Washington despite his years in the Senate.\n",
      " But we invite you to give 110 percent when you call in to play our games. We're at 1-888-WAIT-WAIT. That's 1-888-924-8924. It's time to welcome our first listener contestant. Hello, you are on WAIT WAIT...DON'T TELL ME!\n"
     ]
    }
   ],
   "source": [
    "Evaluate_model(best_attn_model)"
   ]
  },
  {
   "cell_type": "markdown",
   "metadata": {},
   "source": [
    "# Augmenting the data: synonyms\n",
    "In training my models so far, I'm definitely struggling with the problem of over-fitting: the model starts to \"memorize\" the training data, and thus performs poorly on the validation data. I can try to combat this in a few ways: regularizing the model, via dropout or imposed loss functions on the weights. Another powerful method is to generate more training data. Since my training data currently includes 10 years' worth of transcripts (and the years prior to this don't have transcripts), I'm unlikely to be able to get \"new\" transcripts to help train on.\n",
    "\n",
    "Instead, I will be trying a form of text regularization: I will replace some of the words in each sentence with synonyms. This will ahve the effect of slightly changing the phrasing of many sentences, without dramatically altering the meaning. I can then learn on both the original sentences and the \"altered\" sentences, essentially doubling (or more) my training set. Code for replacing words with synonyms is based on this tutorial: http://rwet.decontextualize.com/book/textblob/"
   ]
  },
  {
   "cell_type": "code",
   "execution_count": 44,
   "metadata": {},
   "outputs": [],
   "source": [
    "from textblob import TextBlob\n",
    "\n",
    "# Use a dictionary of positions, to specify what part of speech a word is being used as and select better synonyms\n",
    "pos_dict = {'NN':'n','NNS':'n','NNP':'n','NNPS':'n' ,\n",
    "           'VB':'v', 'VBD':'v','VBG':'v','VBN':'v','VBP':'v','VBZ':'v',\n",
    "           'JJ':'a','JJR':'a','JJS':'a','RB':'r','RBR':'r','RBS':'r'} # part of speech dictionary\n",
    "part_of_speech_list = pos_dict.keys()\n",
    "    \n",
    "# Function to replace a dataset with synonyms. \n",
    "# This function will be performed num_samples times, so if I want to make 3 new sentences for every 1 input sentence,\n",
    "# then num_samples should be 3\n",
    "def Augment_training_set(x_train,y_train,num_samples=1,p=0.5):\n",
    "    \n",
    "    # initialize the augmented outputs\n",
    "    y_augmented = y_train\n",
    "    x_augmented = x_train\n",
    "    \n",
    "    # For each line, with some probability, switch up nouns, verbs, adjectives, and adverbs with synonyms\n",
    "    for sample in range(num_samples):\n",
    "        x_syn = Replace_synonyms(x_train,p)\n",
    "        \n",
    "        # combine the initial dataset and the new datasets together\n",
    "        x_augmented = np.concatenate((x_augmented,x_syn))\n",
    "        y_augmented = np.concatenate((y_augmented,y_train))\n",
    "        \n",
    "    # Finally, re-calculate the encoding so that we can feed the new sentences into our models\n",
    "    x_train_augmented_encoded,x_val_encoded,word_index = Encode_lines(x_augmented,x_val)\n",
    "    embedding_matrix = Make_embedding_matrix(word_index)\n",
    "    \n",
    "    return x_augmented,x_train_augmented_encoded,y_augmented,x_val_encoded,embedding_matrix\n",
    "\n",
    "# Helper function for Augment training set: replace words in x_train with synonyms with specified probability\n",
    "def Replace_synonyms(x,p=0.5):\n",
    "    # Use a dictionary of positions, to specify what part of speech a word is being used as and select better synonyms\n",
    "    pos_dict = {'NN':'n','NNS':'n','NNP':'n','NNPS':'n' ,\n",
    "               'VB':'v', 'VBD':'v','VBG':'v','VBN':'v','VBP':'v','VBZ':'v',\n",
    "               'JJ':'a','JJR':'a','JJS':'a','RB':'r','RBR':'r','RBS':'r'} # part of speech dictionary\n",
    "    part_of_speech_list = pos_dict.keys()\n",
    "    \n",
    "    x_syn = []\n",
    "    for idx,line in enumerate(x):\n",
    "\n",
    "        # Use TextBlob to identify words + part of speech\n",
    "        blob = TextBlob(line)\n",
    "        output = list()\n",
    "\n",
    "        # Replace nouns, verbs, adjectives, and adverbs with synonyms (with specified probability)\n",
    "        for word,tag in blob.tags:\n",
    "            if (len(word) > 4) and (tag in part_of_speech_list) and len(word.get_synsets(pos=pos_dict[tag])) > 0:\n",
    "                if np.random.rand() >p:\n",
    "                    random_synset = np.random.choice(word.get_synsets(pos=pos_dict[tag]))\n",
    "                    random_lemma = np.random.choice(random_synset.lemma_names())\n",
    "                    output.append(random_lemma.replace('_', ' '))\n",
    "            else:\n",
    "                output.append(word)\n",
    "        x_syn[idx] = ' '.join(output) # replace the original phrase with the new phrase\n",
    "        \n",
    "        if idx%10000 == 0:\n",
    "            print(f'Completed line {idx}.')\n",
    "    return x_syn"
   ]
  },
  {
   "cell_type": "code",
   "execution_count": 45,
   "metadata": {
    "scrolled": true
   },
   "outputs": [
    {
     "ename": "IndexError",
     "evalue": "list assignment index out of range",
     "output_type": "error",
     "traceback": [
      "\u001b[0;31m---------------------------------------------------------------------------\u001b[0m",
      "\u001b[0;31mIndexError\u001b[0m                                Traceback (most recent call last)",
      "\u001b[0;32m<ipython-input-45-bd7a5c82f91c>\u001b[0m in \u001b[0;36m<module>\u001b[0;34m()\u001b[0m\n\u001b[0;32m----> 1\u001b[0;31m \u001b[0mx_augmented\u001b[0m\u001b[0;34m,\u001b[0m\u001b[0mx_train_augmented_encoded\u001b[0m\u001b[0;34m,\u001b[0m\u001b[0my_augmented\u001b[0m\u001b[0;34m,\u001b[0m\u001b[0mx_val_encoded\u001b[0m\u001b[0;34m,\u001b[0m\u001b[0membedding_matrix\u001b[0m \u001b[0;34m=\u001b[0m \u001b[0mAugment_training_set\u001b[0m\u001b[0;34m(\u001b[0m\u001b[0mx_train\u001b[0m\u001b[0;34m,\u001b[0m\u001b[0my_train\u001b[0m\u001b[0;34m,\u001b[0m\u001b[0mnum_samples\u001b[0m\u001b[0;34m=\u001b[0m\u001b[0;36m1\u001b[0m\u001b[0;34m)\u001b[0m\u001b[0;34m\u001b[0m\u001b[0m\n\u001b[0m",
      "\u001b[0;32m<ipython-input-44-cf56d7bd3642>\u001b[0m in \u001b[0;36mAugment_training_set\u001b[0;34m(x_train, y_train, num_samples, p)\u001b[0m\n\u001b[1;32m     18\u001b[0m     \u001b[0;31m# For each line, with some probability, switch up nouns, verbs, adjectives, and adverbs with synonyms\u001b[0m\u001b[0;34m\u001b[0m\u001b[0;34m\u001b[0m\u001b[0m\n\u001b[1;32m     19\u001b[0m     \u001b[0;32mfor\u001b[0m \u001b[0msample\u001b[0m \u001b[0;32min\u001b[0m \u001b[0mrange\u001b[0m\u001b[0;34m(\u001b[0m\u001b[0mnum_samples\u001b[0m\u001b[0;34m)\u001b[0m\u001b[0;34m:\u001b[0m\u001b[0;34m\u001b[0m\u001b[0m\n\u001b[0;32m---> 20\u001b[0;31m         \u001b[0mx_syn\u001b[0m \u001b[0;34m=\u001b[0m \u001b[0mReplace_synonyms\u001b[0m\u001b[0;34m(\u001b[0m\u001b[0mx_train\u001b[0m\u001b[0;34m,\u001b[0m\u001b[0mp\u001b[0m\u001b[0;34m)\u001b[0m\u001b[0;34m\u001b[0m\u001b[0m\n\u001b[0m\u001b[1;32m     21\u001b[0m \u001b[0;34m\u001b[0m\u001b[0m\n\u001b[1;32m     22\u001b[0m         \u001b[0;31m# combine the initial dataset and the new datasets together\u001b[0m\u001b[0;34m\u001b[0m\u001b[0;34m\u001b[0m\u001b[0m\n",
      "\u001b[0;32m<ipython-input-44-cf56d7bd3642>\u001b[0m in \u001b[0;36mReplace_synonyms\u001b[0;34m(x, p)\u001b[0m\n\u001b[1;32m     54\u001b[0m             \u001b[0;32melse\u001b[0m\u001b[0;34m:\u001b[0m\u001b[0;34m\u001b[0m\u001b[0m\n\u001b[1;32m     55\u001b[0m                 \u001b[0moutput\u001b[0m\u001b[0;34m.\u001b[0m\u001b[0mappend\u001b[0m\u001b[0;34m(\u001b[0m\u001b[0mword\u001b[0m\u001b[0;34m)\u001b[0m\u001b[0;34m\u001b[0m\u001b[0m\n\u001b[0;32m---> 56\u001b[0;31m         \u001b[0mx_syn\u001b[0m\u001b[0;34m[\u001b[0m\u001b[0midx\u001b[0m\u001b[0;34m]\u001b[0m \u001b[0;34m=\u001b[0m \u001b[0;34m' '\u001b[0m\u001b[0;34m.\u001b[0m\u001b[0mjoin\u001b[0m\u001b[0;34m(\u001b[0m\u001b[0moutput\u001b[0m\u001b[0;34m)\u001b[0m \u001b[0;31m# replace the original phrase with the new phrase\u001b[0m\u001b[0;34m\u001b[0m\u001b[0m\n\u001b[0m\u001b[1;32m     57\u001b[0m \u001b[0;34m\u001b[0m\u001b[0m\n\u001b[1;32m     58\u001b[0m         \u001b[0;32mif\u001b[0m \u001b[0midx\u001b[0m\u001b[0;34m%\u001b[0m\u001b[0;36m10000\u001b[0m \u001b[0;34m==\u001b[0m \u001b[0;36m0\u001b[0m\u001b[0;34m:\u001b[0m\u001b[0;34m\u001b[0m\u001b[0m\n",
      "\u001b[0;31mIndexError\u001b[0m: list assignment index out of range"
     ]
    }
   ],
   "source": [
    "x_augmented,x_train_augmented_encoded,y_augmented,x_val_encoded,embedding_matrix = Augment_training_set(x_train,y_train,num_samples=1)\n",
    "\n"
   ]
  },
  {
   "cell_type": "markdown",
   "metadata": {},
   "source": [
    "# Generate a transcript"
   ]
  },
  {
   "cell_type": "code",
   "execution_count": 682,
   "metadata": {},
   "outputs": [],
   "source": [
    "# character-level tokenizer\n",
    "tokenizer = keras.preprocessing.text.Tokenizer(lower=False, char_level=True)\n",
    "tokenizer.fit_on_texts(train_transcript_df.transcript)"
   ]
  },
  {
   "cell_type": "code",
   "execution_count": 684,
   "metadata": {},
   "outputs": [
    {
     "data": {
      "text/plain": [
       "\"                         B I L L  K U R T I S   F r o m  N P R  a n   W B E Z  C h i c a g o   t h i s  i s  W A I T  W A I T     D O N ' T  T E L L  M E   t h e  N P R  n e  s   u i    H e y   A r t h u r  M i l l e r    s t e p  i n t o  t h i s  C r u c i  B i l l   p h         L A U G H T E R       K U R T I S   I ' m  B i l l  K u r t i s   A n   h e r e ' s  y o u r  h o s t  a t  t h e  C h a s e  B a n k  A u  i t o r i u m  i n   o  n t o  n  C h i c a g o   P e t e r  S a g a l \""
      ]
     },
     "execution_count": 684,
     "metadata": {},
     "output_type": "execute_result"
    }
   ],
   "source": [
    "# test an example transcript into and out of the tokens\n",
    "sequence = tokenizer.texts_to_sequences(train_transcript_df.transcript[1])\n",
    "' '.join(tokenizer.sequences_to_texts(sequence[:300]))"
   ]
  },
  {
   "cell_type": "code",
   "execution_count": 670,
   "metadata": {},
   "outputs": [],
   "source": [
    "# Divide the transcripts into overlapping phrases to train on\n",
    "phrase_length = 200\n",
    "num_chars = len(tokenizer.word_counts)\n",
    "step_size = 10\n",
    "\n",
    "def Make_sequences(train_transcript_df,phrase_length = phrase_length, step_size = step_size):\n",
    "    # encode all texts\n",
    "    sequences = tokenizer.texts_to_sequences(train_transcript_df.transcript)\n",
    "    \n",
    "    # Divide into overlapping chunks\n",
    "    num_chunks = np.sum(1+(train_transcript_df.transcript.str.len()-phrase_length)//step_size)\n",
    "    x = np.zeros((num_chunks,phrase_length))\n",
    "    y = np.zeros((num_chunks,num_chars)) # y will be one hot encoded\n",
    "    idx = 0\n",
    "    for sequence in sequences:\n",
    "        for start_pos in range(0,len(sequence)-phrase_length,step_size):\n",
    "            x[idx,:] = sequence[start_pos:(start_pos+phrase_length)]\n",
    "            y[idx,sequence[start_pos+phrase_length]] = 1\n",
    "            idx +=1\n",
    "    return x,y"
   ]
  },
  {
   "cell_type": "code",
   "execution_count": 677,
   "metadata": {},
   "outputs": [],
   "source": [
    "x_train,y_train = Make_sequences(train_transcript_df)"
   ]
  },
  {
   "cell_type": "code",
   "execution_count": 678,
   "metadata": {},
   "outputs": [
    {
     "name": "stdout",
     "output_type": "stream",
     "text": [
      "_________________________________________________________________\n",
      "Layer (type)                 Output Shape              Param #   \n",
      "=================================================================\n",
      "embedding_106 (Embedding)    (None, 200, 64)           6720      \n",
      "_________________________________________________________________\n",
      "gru_87 (GRU)                 (None, 64)                24768     \n",
      "_________________________________________________________________\n",
      "dense_253 (Dense)            (None, 105)               6825      \n",
      "=================================================================\n",
      "Total params: 38,313\n",
      "Trainable params: 38,313\n",
      "Non-trainable params: 0\n",
      "_________________________________________________________________\n"
     ]
    }
   ],
   "source": [
    "# design a proof-of-concept model\n",
    "model = keras.models.Sequential()\n",
    "model.add(Embedding(num_chars,64,input_length=phrase_length))\n",
    "model.add(GRU(64))\n",
    "model.add(Dense(num_chars,activation='softmax'))\n",
    "\n",
    "model.compile(loss='categorical_crossentropy',optimizer='Adam')\n",
    "model.summary()"
   ]
  },
  {
   "cell_type": "code",
   "execution_count": 681,
   "metadata": {},
   "outputs": [
    {
     "name": "stdout",
     "output_type": "stream",
     "text": [
      "Train on 1926361 samples, validate on 481591 samples\n",
      "Epoch 1/1\n",
      "  93824/1926361 [>.............................] - ETA: 42:41 - loss: 2.5716"
     ]
    },
    {
     "ename": "KeyboardInterrupt",
     "evalue": "",
     "output_type": "error",
     "traceback": [
      "\u001b[0;31m---------------------------------------------------------------------------\u001b[0m",
      "\u001b[0;31mKeyboardInterrupt\u001b[0m                         Traceback (most recent call last)",
      "\u001b[0;32m<ipython-input-681-711ce1cbe36f>\u001b[0m in \u001b[0;36m<module>\u001b[0;34m()\u001b[0m\n\u001b[1;32m      7\u001b[0m               \u001b[0mvalidation_split\u001b[0m \u001b[0;34m=\u001b[0m \u001b[0;36m0.2\u001b[0m\u001b[0;34m,\u001b[0m\u001b[0;34m\u001b[0m\u001b[0m\n\u001b[1;32m      8\u001b[0m               \u001b[0mcallbacks\u001b[0m\u001b[0;34m=\u001b[0m\u001b[0;34m[\u001b[0m\u001b[0mearly_stopping\u001b[0m\u001b[0;34m]\u001b[0m\u001b[0;34m,\u001b[0m\u001b[0;34m\u001b[0m\u001b[0m\n\u001b[0;32m----> 9\u001b[0;31m               \u001b[0mverbose\u001b[0m\u001b[0;34m=\u001b[0m\u001b[0;36m1\u001b[0m\u001b[0;34m,\u001b[0m\u001b[0;34m\u001b[0m\u001b[0m\n\u001b[0m\u001b[1;32m     10\u001b[0m              )\n\u001b[1;32m     11\u001b[0m \u001b[0;34m\u001b[0m\u001b[0m\n",
      "\u001b[0;32m~/git/BimanualModeling/py_36_env/lib/python3.6/site-packages/keras/engine/training.py\u001b[0m in \u001b[0;36mfit\u001b[0;34m(self, x, y, batch_size, epochs, verbose, callbacks, validation_split, validation_data, shuffle, class_weight, sample_weight, initial_epoch, steps_per_epoch, validation_steps, **kwargs)\u001b[0m\n\u001b[1;32m   1037\u001b[0m                                         \u001b[0minitial_epoch\u001b[0m\u001b[0;34m=\u001b[0m\u001b[0minitial_epoch\u001b[0m\u001b[0;34m,\u001b[0m\u001b[0;34m\u001b[0m\u001b[0m\n\u001b[1;32m   1038\u001b[0m                                         \u001b[0msteps_per_epoch\u001b[0m\u001b[0;34m=\u001b[0m\u001b[0msteps_per_epoch\u001b[0m\u001b[0;34m,\u001b[0m\u001b[0;34m\u001b[0m\u001b[0m\n\u001b[0;32m-> 1039\u001b[0;31m                                         validation_steps=validation_steps)\n\u001b[0m\u001b[1;32m   1040\u001b[0m \u001b[0;34m\u001b[0m\u001b[0m\n\u001b[1;32m   1041\u001b[0m     def evaluate(self, x=None, y=None,\n",
      "\u001b[0;32m~/git/BimanualModeling/py_36_env/lib/python3.6/site-packages/keras/engine/training_arrays.py\u001b[0m in \u001b[0;36mfit_loop\u001b[0;34m(model, f, ins, out_labels, batch_size, epochs, verbose, callbacks, val_f, val_ins, shuffle, callback_metrics, initial_epoch, steps_per_epoch, validation_steps)\u001b[0m\n\u001b[1;32m    197\u001b[0m                     \u001b[0mins_batch\u001b[0m\u001b[0;34m[\u001b[0m\u001b[0mi\u001b[0m\u001b[0;34m]\u001b[0m \u001b[0;34m=\u001b[0m \u001b[0mins_batch\u001b[0m\u001b[0;34m[\u001b[0m\u001b[0mi\u001b[0m\u001b[0;34m]\u001b[0m\u001b[0;34m.\u001b[0m\u001b[0mtoarray\u001b[0m\u001b[0;34m(\u001b[0m\u001b[0;34m)\u001b[0m\u001b[0;34m\u001b[0m\u001b[0m\n\u001b[1;32m    198\u001b[0m \u001b[0;34m\u001b[0m\u001b[0m\n\u001b[0;32m--> 199\u001b[0;31m                 \u001b[0mouts\u001b[0m \u001b[0;34m=\u001b[0m \u001b[0mf\u001b[0m\u001b[0;34m(\u001b[0m\u001b[0mins_batch\u001b[0m\u001b[0;34m)\u001b[0m\u001b[0;34m\u001b[0m\u001b[0m\n\u001b[0m\u001b[1;32m    200\u001b[0m                 \u001b[0mouts\u001b[0m \u001b[0;34m=\u001b[0m \u001b[0mto_list\u001b[0m\u001b[0;34m(\u001b[0m\u001b[0mouts\u001b[0m\u001b[0;34m)\u001b[0m\u001b[0;34m\u001b[0m\u001b[0m\n\u001b[1;32m    201\u001b[0m                 \u001b[0;32mfor\u001b[0m \u001b[0ml\u001b[0m\u001b[0;34m,\u001b[0m \u001b[0mo\u001b[0m \u001b[0;32min\u001b[0m \u001b[0mzip\u001b[0m\u001b[0;34m(\u001b[0m\u001b[0mout_labels\u001b[0m\u001b[0;34m,\u001b[0m \u001b[0mouts\u001b[0m\u001b[0;34m)\u001b[0m\u001b[0;34m:\u001b[0m\u001b[0;34m\u001b[0m\u001b[0m\n",
      "\u001b[0;32m~/git/BimanualModeling/py_36_env/lib/python3.6/site-packages/keras/backend/tensorflow_backend.py\u001b[0m in \u001b[0;36m__call__\u001b[0;34m(self, inputs)\u001b[0m\n\u001b[1;32m   2713\u001b[0m                 \u001b[0;32mreturn\u001b[0m \u001b[0mself\u001b[0m\u001b[0;34m.\u001b[0m\u001b[0m_legacy_call\u001b[0m\u001b[0;34m(\u001b[0m\u001b[0minputs\u001b[0m\u001b[0;34m)\u001b[0m\u001b[0;34m\u001b[0m\u001b[0m\n\u001b[1;32m   2714\u001b[0m \u001b[0;34m\u001b[0m\u001b[0m\n\u001b[0;32m-> 2715\u001b[0;31m             \u001b[0;32mreturn\u001b[0m \u001b[0mself\u001b[0m\u001b[0;34m.\u001b[0m\u001b[0m_call\u001b[0m\u001b[0;34m(\u001b[0m\u001b[0minputs\u001b[0m\u001b[0;34m)\u001b[0m\u001b[0;34m\u001b[0m\u001b[0m\n\u001b[0m\u001b[1;32m   2716\u001b[0m         \u001b[0;32melse\u001b[0m\u001b[0;34m:\u001b[0m\u001b[0;34m\u001b[0m\u001b[0m\n\u001b[1;32m   2717\u001b[0m             \u001b[0;32mif\u001b[0m \u001b[0mpy_any\u001b[0m\u001b[0;34m(\u001b[0m\u001b[0mis_tensor\u001b[0m\u001b[0;34m(\u001b[0m\u001b[0mx\u001b[0m\u001b[0;34m)\u001b[0m \u001b[0;32mfor\u001b[0m \u001b[0mx\u001b[0m \u001b[0;32min\u001b[0m \u001b[0minputs\u001b[0m\u001b[0;34m)\u001b[0m\u001b[0;34m:\u001b[0m\u001b[0;34m\u001b[0m\u001b[0m\n",
      "\u001b[0;32m~/git/BimanualModeling/py_36_env/lib/python3.6/site-packages/keras/backend/tensorflow_backend.py\u001b[0m in \u001b[0;36m_call\u001b[0;34m(self, inputs)\u001b[0m\n\u001b[1;32m   2673\u001b[0m             \u001b[0mfetched\u001b[0m \u001b[0;34m=\u001b[0m \u001b[0mself\u001b[0m\u001b[0;34m.\u001b[0m\u001b[0m_callable_fn\u001b[0m\u001b[0;34m(\u001b[0m\u001b[0;34m*\u001b[0m\u001b[0marray_vals\u001b[0m\u001b[0;34m,\u001b[0m \u001b[0mrun_metadata\u001b[0m\u001b[0;34m=\u001b[0m\u001b[0mself\u001b[0m\u001b[0;34m.\u001b[0m\u001b[0mrun_metadata\u001b[0m\u001b[0;34m)\u001b[0m\u001b[0;34m\u001b[0m\u001b[0m\n\u001b[1;32m   2674\u001b[0m         \u001b[0;32melse\u001b[0m\u001b[0;34m:\u001b[0m\u001b[0;34m\u001b[0m\u001b[0m\n\u001b[0;32m-> 2675\u001b[0;31m             \u001b[0mfetched\u001b[0m \u001b[0;34m=\u001b[0m \u001b[0mself\u001b[0m\u001b[0;34m.\u001b[0m\u001b[0m_callable_fn\u001b[0m\u001b[0;34m(\u001b[0m\u001b[0;34m*\u001b[0m\u001b[0marray_vals\u001b[0m\u001b[0;34m)\u001b[0m\u001b[0;34m\u001b[0m\u001b[0m\n\u001b[0m\u001b[1;32m   2676\u001b[0m         \u001b[0;32mreturn\u001b[0m \u001b[0mfetched\u001b[0m\u001b[0;34m[\u001b[0m\u001b[0;34m:\u001b[0m\u001b[0mlen\u001b[0m\u001b[0;34m(\u001b[0m\u001b[0mself\u001b[0m\u001b[0;34m.\u001b[0m\u001b[0moutputs\u001b[0m\u001b[0;34m)\u001b[0m\u001b[0;34m]\u001b[0m\u001b[0;34m\u001b[0m\u001b[0m\n\u001b[1;32m   2677\u001b[0m \u001b[0;34m\u001b[0m\u001b[0m\n",
      "\u001b[0;32m~/git/BimanualModeling/py_36_env/lib/python3.6/site-packages/tensorflow/python/client/session.py\u001b[0m in \u001b[0;36m__call__\u001b[0;34m(self, *args, **kwargs)\u001b[0m\n\u001b[1;32m   1437\u001b[0m           ret = tf_session.TF_SessionRunCallable(\n\u001b[1;32m   1438\u001b[0m               \u001b[0mself\u001b[0m\u001b[0;34m.\u001b[0m\u001b[0m_session\u001b[0m\u001b[0;34m.\u001b[0m\u001b[0m_session\u001b[0m\u001b[0;34m,\u001b[0m \u001b[0mself\u001b[0m\u001b[0;34m.\u001b[0m\u001b[0m_handle\u001b[0m\u001b[0;34m,\u001b[0m \u001b[0margs\u001b[0m\u001b[0;34m,\u001b[0m \u001b[0mstatus\u001b[0m\u001b[0;34m,\u001b[0m\u001b[0;34m\u001b[0m\u001b[0m\n\u001b[0;32m-> 1439\u001b[0;31m               run_metadata_ptr)\n\u001b[0m\u001b[1;32m   1440\u001b[0m         \u001b[0;32mif\u001b[0m \u001b[0mrun_metadata\u001b[0m\u001b[0;34m:\u001b[0m\u001b[0;34m\u001b[0m\u001b[0m\n\u001b[1;32m   1441\u001b[0m           \u001b[0mproto_data\u001b[0m \u001b[0;34m=\u001b[0m \u001b[0mtf_session\u001b[0m\u001b[0;34m.\u001b[0m\u001b[0mTF_GetBuffer\u001b[0m\u001b[0;34m(\u001b[0m\u001b[0mrun_metadata_ptr\u001b[0m\u001b[0;34m)\u001b[0m\u001b[0;34m\u001b[0m\u001b[0m\n",
      "\u001b[0;31mKeyboardInterrupt\u001b[0m: "
     ]
    }
   ],
   "source": [
    "batch_size = 128\n",
    "start=time.time()\n",
    "history = model.fit(x=x_train,\n",
    "              y=y_train,\n",
    "              batch_size=batch_size,\n",
    "              epochs=1,\n",
    "              shuffle=True,\n",
    "              validation_split = 0.2,\n",
    "              callbacks=[early_stopping],\n",
    "              verbose=1,\n",
    "             )\n",
    "\n",
    "end = time.time()\n",
    "print(f'minimum val loss is {min(history.history[\"val_loss\"])}')\n",
    "print(f'maximum val accuracy is {max(history.history[\"val_acc\"])}')\n",
    "print(f'Run time = {(end - start)/60} mins')\n",
    "\n",
    "plt.plot(history.history['loss'])\n",
    "plt.plot(history.history['val_loss'])\n",
    "\n",
    "# Evaluate_model(model)"
   ]
  },
  {
   "cell_type": "code",
   "execution_count": null,
   "metadata": {},
   "outputs": [],
   "source": []
  }
 ],
 "metadata": {
  "kernelspec": {
   "display_name": "py_36_env",
   "language": "python",
   "name": "py_36_env"
  },
  "language_info": {
   "codemirror_mode": {
    "name": "ipython",
    "version": 3
   },
   "file_extension": ".py",
   "mimetype": "text/x-python",
   "name": "python",
   "nbconvert_exporter": "python",
   "pygments_lexer": "ipython3",
   "version": "3.6.5"
  }
 },
 "nbformat": 4,
 "nbformat_minor": 2
}
