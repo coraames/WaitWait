{
 "cells": [
  {
   "cell_type": "code",
   "execution_count": 3,
   "metadata": {},
   "outputs": [
    {
     "name": "stderr",
     "output_type": "stream",
     "text": [
      "/Users/coraames/git/BimanualModeling/py_36_env/lib/python3.6/site-packages/keras_preprocessing/text.py:177: UserWarning: The `nb_words` argument in `Tokenizer` has been renamed `num_words`.\n",
      "  warnings.warn('The `nb_words` argument in `Tokenizer` '\n"
     ]
    }
   ],
   "source": [
    "from keras.preprocessing.text import Tokenizer\n",
    "import numpy as np\n",
    "\n",
    "texts = ['The cat sat on the mat.',\n",
    "         'The dog sat on the log.',\n",
    "         'Dogs and cats living together.']\n",
    "tokenizer = Tokenizer(nb_words=10)\n",
    "tokenizer.fit_on_texts(texts)\n",
    "\n",
    "sequences = []\n",
    "for seq in tokenizer.texts_to_sequences_generator(texts):\n",
    "    sequences.append(seq)\n",
    "assert np.max(np.max(sequences)) < 10\n",
    "assert np.min(np.min(sequences)) == 1\n",
    "\n",
    "# tokenizer.fit_on_sequences(sequences)\n",
    "\n",
    "# for mode in ['binary', 'count', 'tfidf', 'freq']:\n",
    "#     matrix = tokenizer.texts_to_matrix(texts, mode) "
   ]
  },
  {
   "cell_type": "code",
   "execution_count": 10,
   "metadata": {},
   "outputs": [
    {
     "name": "stdout",
     "output_type": "stream",
     "text": [
      "Help on method texts_to_matrix in module keras_preprocessing.text:\n",
      "\n",
      "texts_to_matrix(texts, mode='binary') method of keras_preprocessing.text.Tokenizer instance\n",
      "    Convert a list of texts to a Numpy matrix.\n",
      "    \n",
      "    # Arguments\n",
      "        texts: list of strings.\n",
      "        mode: one of \"binary\", \"count\", \"tfidf\", \"freq\".\n",
      "    \n",
      "    # Returns\n",
      "        A Numpy matrix.\n",
      "\n"
     ]
    }
   ],
   "source": [
    "help(tokenizer.texts_to_sequences)"
   ]
  },
  {
   "cell_type": "code",
   "execution_count": null,
   "metadata": {},
   "outputs": [],
   "source": []
  }
 ],
 "metadata": {
  "kernelspec": {
   "display_name": "py_36_env",
   "language": "python",
   "name": "py_36_env"
  },
  "language_info": {
   "codemirror_mode": {
    "name": "ipython",
    "version": 3
   },
   "file_extension": ".py",
   "mimetype": "text/x-python",
   "name": "python",
   "nbconvert_exporter": "python",
   "pygments_lexer": "ipython3",
   "version": "3.6.5"
  }
 },
 "nbformat": 4,
 "nbformat_minor": 2
}
