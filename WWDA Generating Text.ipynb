{
 "cells": [
  {
   "cell_type": "markdown",
   "metadata": {},
   "source": [
    "# Wait Wait, Don't Analyze Me!"
   ]
  },
  {
   "cell_type": "markdown",
   "metadata": {},
   "source": [
    "![NPR logo](https://media.npr.org/branding/programs/wait-wait-dont-tell-me/branding_main-c5920a167d6a5d445ce86fac30b90454223b6b57.png \"One nerd's attempt to learn everything there is to know about NPR's greatest quiz show.\")\n"
   ]
  },
  {
   "cell_type": "markdown",
   "metadata": {},
   "source": [
    "# Introduction\n",
    "[Wait Wait, Don't Tell Me!](https://www.npr.org/programs/wait-wait-dont-tell-me/) is NPR's longest-running news quiz show. Contestents call in to answer questions about the week's news, and a rotating cast of three panelists make jokes and parody newsworthy (and not-so-newsworthy) current events. Listening to \"Wait wait\" has been a highlight of my week since I was a kid, and it remains one of NPR's most popular segments. So what better way to show my appreciation than to take it apart and see what makes it tick?\n",
    "\n",
    "For this project, I have pulled text transcripts of each episode of \"Wait, Wait\", storing them as a MySQL library. I have two goals:\n",
    "1. Understand and predict jokes in the program.\n",
    "2. Create a \"Wait wait\" transcript generator, so that I don't have to wait a whole week between episodes!\n",
    "\n",
    "In this section, I will create a transcript generator."
   ]
  },
  {
   "cell_type": "markdown",
   "metadata": {},
   "source": [
    "# Table of Contents\n",
    "\n",
    "* Data Processing\n",
    "    * 0.1 [Loading data](#data-loading)\n",
    "    * 0.2 [Example transcript](#data-example)\n",
    "    * 0.3 [Encoding transcripts](#data-encoding)\n",
    "    * 0.4 [Building a training set](#data-train)\n",
    "* Markov Model\n",
    "    * 1.1 [Markov Chain](#markov)\n",
    "* RNN Modeling\n",
    "    * 2.1 [Model Architecture](#rnn-initialize)\n",
    "    * 2.2 [Model training](#rnn-train)\n",
    "    * 2.3 [Model testing](#rnn-test)\n",
    "* Attention Network Modeling\n",
    "    * 3.1 [Model Architecture](#attn-initialize)\n",
    "    * 3.2 [Model training](#attn-train)\n",
    "    * 3.3 [Model testing](#attn-test)"
   ]
  },
  {
   "cell_type": "markdown",
   "metadata": {},
   "source": [
    "# Section 0: Initial data processing"
   ]
  },
  {
   "cell_type": "markdown",
   "metadata": {},
   "source": [
    "## 0.1 Loading the data <a name=\"loading\"></a>\n",
    "Before I can analyze the data, I must first load it and process it. To accomplish this, I wrote a simple function to load in text files containing the transcripts."
   ]
  },
  {
   "cell_type": "code",
   "execution_count": 1,
   "metadata": {},
   "outputs": [],
   "source": [
    "# Importing the libraries I'll be using\n",
    "import pandas as pd\n",
    "import numpy as np\n",
    "import os\n",
    "import matplotlib.pyplot as plt\n",
    "import mysql.connector\n",
    "import re\n",
    "from sklearn.preprocessing import QuantileTransformer\n",
    "import time\n",
    "import matplotlib.cm as cm\n",
    "\n",
    "%matplotlib inline\n",
    "\n",
    "# change the default font size in figures to be larger\n",
    "font = {'size'   : 15}\n",
    "plt.rc('font', **font)"
   ]
  },
  {
   "cell_type": "code",
   "execution_count": 2,
   "metadata": {},
   "outputs": [],
   "source": [
    "# connect to the database of wait wait don't tell me transcripts\n",
    "cnx = mysql.connector.connect(database='wait_wait',\n",
    "                              user='root')"
   ]
  },
  {
   "cell_type": "code",
   "execution_count": 3,
   "metadata": {},
   "outputs": [],
   "source": [
    "# function to pull some transcripts from the database\n",
    "def pull_transcript(n=5):\n",
    "    # instantiate a cursor to select data from the database\n",
    "    curs = cnx.cursor()\n",
    "    curs.execute(f'select * from transcripts limit {n}')\n",
    "    \n",
    "    # pull the data and convert to a pandas dataframe\n",
    "    df = pd.DataFrame(data = np.array(curs.fetchmany(n)),columns=curs.column_names)\n",
    "    df = df.set_index('id')\n",
    "    \n",
    "    # close the cursor\n",
    "    curs.close()\n",
    "    return df"
   ]
  },
  {
   "cell_type": "markdown",
   "metadata": {},
   "source": [
    "Let's go ahead and pull all of the transcripts from the database - this dataset happens to be small enough that I can load it all at once.\n",
    "\n",
    "I also divide the transcripts randomly into testing, training, and validation sets. This will ensure that when I perform analyses, I don't build models that over-fit the data."
   ]
  },
  {
   "cell_type": "code",
   "execution_count": 4,
   "metadata": {},
   "outputs": [],
   "source": [
    "num_transcripts = 4131\n",
    "transcript_df = pull_transcript(n=num_transcripts)\n",
    "\n",
    "# split the tables into testing and training sets, so that we don't over-fit. \n",
    "np.random.seed(42) # Ensures that the split is the same each round\n",
    "transcript_df['train'] = np.random.rand(num_transcripts)>.2\n",
    "transcript_df['test'] = transcript_df['train']==False\n",
    "\n",
    "# Further separate the training dataset into a training and validation set\n",
    "transcript_df['val'] = (np.random.rand(num_transcripts)>.8) & (transcript_df['train'])\n",
    "\n",
    "# ensure that the training and validation sets don't overlap\n",
    "transcript_df['train'] = transcript_df['train'] & (transcript_df['val']==False)"
   ]
  },
  {
   "cell_type": "code",
   "execution_count": 5,
   "metadata": {},
   "outputs": [
    {
     "data": {
      "text/html": [
       "<div>\n",
       "<style scoped>\n",
       "    .dataframe tbody tr th:only-of-type {\n",
       "        vertical-align: middle;\n",
       "    }\n",
       "\n",
       "    .dataframe tbody tr th {\n",
       "        vertical-align: top;\n",
       "    }\n",
       "\n",
       "    .dataframe thead th {\n",
       "        text-align: right;\n",
       "    }\n",
       "</style>\n",
       "<table border=\"1\" class=\"dataframe\">\n",
       "  <thead>\n",
       "    <tr style=\"text-align: right;\">\n",
       "      <th></th>\n",
       "      <th>episode_id</th>\n",
       "      <th>aired_at</th>\n",
       "      <th>url</th>\n",
       "      <th>segment</th>\n",
       "      <th>transcript</th>\n",
       "      <th>train</th>\n",
       "      <th>test</th>\n",
       "      <th>val</th>\n",
       "    </tr>\n",
       "    <tr>\n",
       "      <th>id</th>\n",
       "      <th></th>\n",
       "      <th></th>\n",
       "      <th></th>\n",
       "      <th></th>\n",
       "      <th></th>\n",
       "      <th></th>\n",
       "      <th></th>\n",
       "      <th></th>\n",
       "    </tr>\n",
       "  </thead>\n",
       "  <tbody>\n",
       "    <tr>\n",
       "      <th>1</th>\n",
       "      <td>1</td>\n",
       "      <td>2019-05-04</td>\n",
       "      <td>https://www.npr.org/templates/transcript/trans...</td>\n",
       "      <td>who</td>\n",
       "      <td>\\n    \\n        \\n    \\n\\n    BILL KURTIS: Fro...</td>\n",
       "      <td>True</td>\n",
       "      <td>False</td>\n",
       "      <td>False</td>\n",
       "    </tr>\n",
       "    <tr>\n",
       "      <th>2</th>\n",
       "      <td>1</td>\n",
       "      <td>2019-05-04</td>\n",
       "      <td>https://www.npr.org/templates/transcript/trans...</td>\n",
       "      <td>panel</td>\n",
       "      <td>\\n    \\n        \\n    \\n\\n    PETER SAGAL, HOS...</td>\n",
       "      <td>True</td>\n",
       "      <td>False</td>\n",
       "      <td>False</td>\n",
       "    </tr>\n",
       "    <tr>\n",
       "      <th>3</th>\n",
       "      <td>1</td>\n",
       "      <td>2019-05-04</td>\n",
       "      <td>https://www.npr.org/templates/transcript/trans...</td>\n",
       "      <td>bluff</td>\n",
       "      <td>\\n    \\n        \\n    \\n\\n    BILL KURTIS: Fro...</td>\n",
       "      <td>True</td>\n",
       "      <td>False</td>\n",
       "      <td>False</td>\n",
       "    </tr>\n",
       "    <tr>\n",
       "      <th>4</th>\n",
       "      <td>1</td>\n",
       "      <td>2019-05-04</td>\n",
       "      <td>https://www.npr.org/templates/transcript/trans...</td>\n",
       "      <td>job</td>\n",
       "      <td>\\n    \\n        \\n    \\n\\n    PETER SAGAL, HOS...</td>\n",
       "      <td>True</td>\n",
       "      <td>False</td>\n",
       "      <td>False</td>\n",
       "    </tr>\n",
       "    <tr>\n",
       "      <th>5</th>\n",
       "      <td>1</td>\n",
       "      <td>2019-05-04</td>\n",
       "      <td>https://www.npr.org/templates/transcript/trans...</td>\n",
       "      <td>panel</td>\n",
       "      <td>\\n    \\n        \\n    \\n\\n    PETER SAGAL, HOS...</td>\n",
       "      <td>False</td>\n",
       "      <td>True</td>\n",
       "      <td>False</td>\n",
       "    </tr>\n",
       "    <tr>\n",
       "      <th>6</th>\n",
       "      <td>1</td>\n",
       "      <td>2019-05-04</td>\n",
       "      <td>https://www.npr.org/templates/transcript/trans...</td>\n",
       "      <td>limerick</td>\n",
       "      <td>\\n    \\n        \\n    \\n\\n    PETER SAGAL, HOS...</td>\n",
       "      <td>False</td>\n",
       "      <td>True</td>\n",
       "      <td>False</td>\n",
       "    </tr>\n",
       "    <tr>\n",
       "      <th>7</th>\n",
       "      <td>1</td>\n",
       "      <td>2019-05-04</td>\n",
       "      <td>https://www.npr.org/templates/transcript/trans...</td>\n",
       "      <td>lightning</td>\n",
       "      <td>\\n    \\n        \\n    \\n\\n    PETER SAGAL, HOS...</td>\n",
       "      <td>False</td>\n",
       "      <td>True</td>\n",
       "      <td>False</td>\n",
       "    </tr>\n",
       "    <tr>\n",
       "      <th>8</th>\n",
       "      <td>1</td>\n",
       "      <td>2019-05-04</td>\n",
       "      <td>https://www.npr.org/templates/transcript/trans...</td>\n",
       "      <td>predictions</td>\n",
       "      <td>\\n    \\n        \\n    \\n\\n    PETER SAGAL, HOS...</td>\n",
       "      <td>True</td>\n",
       "      <td>False</td>\n",
       "      <td>False</td>\n",
       "    </tr>\n",
       "    <tr>\n",
       "      <th>9</th>\n",
       "      <td>2</td>\n",
       "      <td>2019-04-27</td>\n",
       "      <td>https://www.npr.org/templates/transcript/trans...</td>\n",
       "      <td>who</td>\n",
       "      <td>\\n    \\n        \\n    \\n\\n    BILL KURTIS: Fro...</td>\n",
       "      <td>True</td>\n",
       "      <td>False</td>\n",
       "      <td>False</td>\n",
       "    </tr>\n",
       "    <tr>\n",
       "      <th>10</th>\n",
       "      <td>2</td>\n",
       "      <td>2019-04-27</td>\n",
       "      <td>https://www.npr.org/templates/transcript/trans...</td>\n",
       "      <td>panel</td>\n",
       "      <td>\\n    \\n        \\n    \\n\\n    PETER SAGAL, HOS...</td>\n",
       "      <td>True</td>\n",
       "      <td>False</td>\n",
       "      <td>False</td>\n",
       "    </tr>\n",
       "  </tbody>\n",
       "</table>\n",
       "</div>"
      ],
      "text/plain": [
       "   episode_id    aired_at                                                url  \\\n",
       "id                                                                             \n",
       "1           1  2019-05-04  https://www.npr.org/templates/transcript/trans...   \n",
       "2           1  2019-05-04  https://www.npr.org/templates/transcript/trans...   \n",
       "3           1  2019-05-04  https://www.npr.org/templates/transcript/trans...   \n",
       "4           1  2019-05-04  https://www.npr.org/templates/transcript/trans...   \n",
       "5           1  2019-05-04  https://www.npr.org/templates/transcript/trans...   \n",
       "6           1  2019-05-04  https://www.npr.org/templates/transcript/trans...   \n",
       "7           1  2019-05-04  https://www.npr.org/templates/transcript/trans...   \n",
       "8           1  2019-05-04  https://www.npr.org/templates/transcript/trans...   \n",
       "9           2  2019-04-27  https://www.npr.org/templates/transcript/trans...   \n",
       "10          2  2019-04-27  https://www.npr.org/templates/transcript/trans...   \n",
       "\n",
       "        segment                                         transcript  train  \\\n",
       "id                                                                          \n",
       "1           who  \\n    \\n        \\n    \\n\\n    BILL KURTIS: Fro...   True   \n",
       "2         panel  \\n    \\n        \\n    \\n\\n    PETER SAGAL, HOS...   True   \n",
       "3         bluff  \\n    \\n        \\n    \\n\\n    BILL KURTIS: Fro...   True   \n",
       "4           job  \\n    \\n        \\n    \\n\\n    PETER SAGAL, HOS...   True   \n",
       "5         panel  \\n    \\n        \\n    \\n\\n    PETER SAGAL, HOS...  False   \n",
       "6      limerick  \\n    \\n        \\n    \\n\\n    PETER SAGAL, HOS...  False   \n",
       "7     lightning  \\n    \\n        \\n    \\n\\n    PETER SAGAL, HOS...  False   \n",
       "8   predictions  \\n    \\n        \\n    \\n\\n    PETER SAGAL, HOS...   True   \n",
       "9           who  \\n    \\n        \\n    \\n\\n    BILL KURTIS: Fro...   True   \n",
       "10        panel  \\n    \\n        \\n    \\n\\n    PETER SAGAL, HOS...   True   \n",
       "\n",
       "     test    val  \n",
       "id                \n",
       "1   False  False  \n",
       "2   False  False  \n",
       "3   False  False  \n",
       "4   False  False  \n",
       "5    True  False  \n",
       "6    True  False  \n",
       "7    True  False  \n",
       "8   False  False  \n",
       "9   False  False  \n",
       "10  False  False  "
      ]
     },
     "execution_count": 5,
     "metadata": {},
     "output_type": "execute_result"
    }
   ],
   "source": [
    "transcript_df.head(10)"
   ]
  },
  {
   "cell_type": "code",
   "execution_count": 6,
   "metadata": {},
   "outputs": [],
   "source": [
    "# For simplicity, I'll set all letters to lower-case\n",
    "transcript_df.loc[:,'transcript'] = transcript_df.loc[:,'transcript'].str.lower()"
   ]
  },
  {
   "cell_type": "markdown",
   "metadata": {},
   "source": [
    "## 0.2 Example transcript<a name=\"data-example\"></a>\n",
    "\n",
    "To understand the data, it helps to first see what the raw data looks like. Let's print a little bit of the transcript from the first dataset."
   ]
  },
  {
   "cell_type": "code",
   "execution_count": 7,
   "metadata": {},
   "outputs": [
    {
     "name": "stdout",
     "output_type": "stream",
     "text": [
      "\n",
      "    \n",
      "        \n",
      "    \n",
      "\n",
      "    bill kurtis: from npr and wbez chicago, this is wait wait... don't tell me, the npr news quiz. hey, arthur miller - step into this cruci-bill (ph).\n",
      "    (laughter)\n",
      "    kurtis: i'm bill kurtis. and here's your host at the chase bank auditorium in downtown chicago, peter sagal.\n",
      "    peter sagal, host: \n",
      "    thank you, bill. thank you, everybody.\n",
      "    (cheering)\n",
      "    sagal: thank you so much. we have a very interesting show for you today. later on, we're going to be talking to m\n"
     ]
    }
   ],
   "source": [
    "print(transcript_df.loc[1,'transcript'][:500])"
   ]
  },
  {
   "cell_type": "code",
   "execution_count": 8,
   "metadata": {},
   "outputs": [
    {
     "data": {
      "text/plain": [
       "\"\\n    \\n        \\n    \\n\\n    bill kurtis: from npr and wbez chicago, this is wait wait... don't tell me, the npr news quiz. hey, arthur miller - step into this cruci-bill (ph).\\n    (laughter)\\n    kurtis: i'm bill kurtis. and here's your host at the chase bank auditorium in downtown chicago, peter sagal.\\n    peter sagal, host: \\n    thank you, bill. thank you, everybody.\\n    (cheering)\\n    sagal: thank you so much. we have a very interesting show for you today. later on, we're going to be talking to microsoft co-founder steve ballmer. he is, we believe, the richest guest we've ever had. but, of course, your true wealth is measured in your friends. and this just in - he has more friends, too.\\n    (laughter)\\n    sagal: but first, as many of you know, the npr podcast feeds got all screwed up last week. people who tried to download our show got, for example, how i built this instead, for which i apologize. and the people who wanted how i built this got us, for which i apologize even more.\\n    (l\""
      ]
     },
     "execution_count": 8,
     "metadata": {},
     "output_type": "execute_result"
    }
   ],
   "source": [
    "transcript_df.loc[1,'transcript'][:1000]"
   ]
  },
  {
   "cell_type": "markdown",
   "metadata": {},
   "source": [
    "Initially, we can note a number of features. First, audience responses are noted with the '(LAUGHTER)' marker and '(APPLAUSE)' marker. This will prove very useful, as we have an automatic metric for \"funniness\" of the preceding text. \n",
    "\n",
    "Speakers' names are in all caps, followed by a colon. Speakers are also separated by a line break and a tab, which could potentially be used to segment the text into phrases by various people. "
   ]
  },
  {
   "cell_type": "markdown",
   "metadata": {},
   "source": [
    "## 0.3 Encoding the text <a name='data-encoding'></a>\n",
    "\n"
   ]
  },
  {
   "cell_type": "markdown",
   "metadata": {},
   "source": [
    "I will be building a letter-based generator for now, so I want a way to encode both letters and punctuation as integers (eventually, to be transferred into a one-hot encoding scheme for transferring to the model)."
   ]
  },
  {
   "cell_type": "code",
   "execution_count": 502,
   "metadata": {},
   "outputs": [],
   "source": [
    "from sklearn.preprocessing import OneHotEncoder"
   ]
  },
  {
   "cell_type": "code",
   "execution_count": 503,
   "metadata": {
    "scrolled": false
   },
   "outputs": [
    {
     "name": "stdout",
     "output_type": "stream",
     "text": [
      "The dataset includes 77 unique tokens\n"
     ]
    }
   ],
   "source": [
    "all_tokens = set(transcript_df.loc[transcript_df.train,'transcript'].str.cat())\n",
    "print(f'The dataset includes {len(all_tokens)} unique tokens')"
   ]
  },
  {
   "cell_type": "code",
   "execution_count": 504,
   "metadata": {},
   "outputs": [],
   "source": [
    "# Make a dictionary converting letters/punctuation to integers\n",
    "conversion_dict = {}\n",
    "for i, token in enumerate(all_tokens):\n",
    "    conversion_dict[token] = i\n",
    "    \n",
    "# Make a second dictionary to go in the other direction\n",
    "reversion_dict = dict( (v,k) for k, v in conversion_dict.items() )"
   ]
  },
  {
   "cell_type": "code",
   "execution_count": 505,
   "metadata": {},
   "outputs": [],
   "source": [
    "# simple function to encode transcript\n",
    "def encode_transcript(transcript):\n",
    "    return [conversion_dict.get(n,len(all_tokens)) for n in transcript]\n",
    "def decode_transcript(transcript):\n",
    "    return [reversion_dict.get(n,len(all_tokens)) for n in transcript]"
   ]
  },
  {
   "cell_type": "code",
   "execution_count": 506,
   "metadata": {},
   "outputs": [],
   "source": [
    "# Encode each of the transcripts by converting letters and punctuation to integers\n",
    "transcript_df['encoded'] = transcript_df.loc[:,'transcript'].apply(encode_transcript)"
   ]
  },
  {
   "cell_type": "code",
   "execution_count": 507,
   "metadata": {},
   "outputs": [
    {
     "data": {
      "text/html": [
       "<div>\n",
       "<style scoped>\n",
       "    .dataframe tbody tr th:only-of-type {\n",
       "        vertical-align: middle;\n",
       "    }\n",
       "\n",
       "    .dataframe tbody tr th {\n",
       "        vertical-align: top;\n",
       "    }\n",
       "\n",
       "    .dataframe thead th {\n",
       "        text-align: right;\n",
       "    }\n",
       "</style>\n",
       "<table border=\"1\" class=\"dataframe\">\n",
       "  <thead>\n",
       "    <tr style=\"text-align: right;\">\n",
       "      <th></th>\n",
       "      <th>episode_id</th>\n",
       "      <th>aired_at</th>\n",
       "      <th>url</th>\n",
       "      <th>segment</th>\n",
       "      <th>transcript</th>\n",
       "      <th>train</th>\n",
       "      <th>test</th>\n",
       "      <th>val</th>\n",
       "      <th>encoded</th>\n",
       "      <th>encoded_words</th>\n",
       "    </tr>\n",
       "    <tr>\n",
       "      <th>id</th>\n",
       "      <th></th>\n",
       "      <th></th>\n",
       "      <th></th>\n",
       "      <th></th>\n",
       "      <th></th>\n",
       "      <th></th>\n",
       "      <th></th>\n",
       "      <th></th>\n",
       "      <th></th>\n",
       "      <th></th>\n",
       "    </tr>\n",
       "  </thead>\n",
       "  <tbody>\n",
       "    <tr>\n",
       "      <th>1</th>\n",
       "      <td>1</td>\n",
       "      <td>2019-05-04</td>\n",
       "      <td>https://www.npr.org/templates/transcript/trans...</td>\n",
       "      <td>who</td>\n",
       "      <td>\\n    \\n        \\n    \\n\\n    bill kurtis: fro...</td>\n",
       "      <td>True</td>\n",
       "      <td>False</td>\n",
       "      <td>False</td>\n",
       "      <td>[3, 33, 33, 33, 33, 3, 33, 33, 33, 33, 33, 33,...</td>\n",
       "      <td>[88, 78, 39, 21, 6, 336, 161, 17, 11, 44, 44, ...</td>\n",
       "    </tr>\n",
       "    <tr>\n",
       "      <th>2</th>\n",
       "      <td>1</td>\n",
       "      <td>2019-05-04</td>\n",
       "      <td>https://www.npr.org/templates/transcript/trans...</td>\n",
       "      <td>panel</td>\n",
       "      <td>\\n    \\n        \\n    \\n\\n    peter sagal, hos...</td>\n",
       "      <td>True</td>\n",
       "      <td>False</td>\n",
       "      <td>False</td>\n",
       "      <td>[3, 33, 33, 33, 33, 3, 33, 33, 33, 33, 33, 33,...</td>\n",
       "      <td>[84, 2, 107, 23, 63, 317, 27, 102, 14, 7, 5, 2...</td>\n",
       "    </tr>\n",
       "    <tr>\n",
       "      <th>3</th>\n",
       "      <td>1</td>\n",
       "      <td>2019-05-04</td>\n",
       "      <td>https://www.npr.org/templates/transcript/trans...</td>\n",
       "      <td>bluff</td>\n",
       "      <td>\\n    \\n        \\n    \\n\\n    bill kurtis: fro...</td>\n",
       "      <td>True</td>\n",
       "      <td>False</td>\n",
       "      <td>False</td>\n",
       "      <td>[3, 33, 33, 33, 33, 3, 33, 33, 33, 33, 33, 33,...</td>\n",
       "      <td>[88, 78, 39, 21, 6, 336, 161, 17, 11, 44, 44, ...</td>\n",
       "    </tr>\n",
       "    <tr>\n",
       "      <th>4</th>\n",
       "      <td>1</td>\n",
       "      <td>2019-05-04</td>\n",
       "      <td>https://www.npr.org/templates/transcript/trans...</td>\n",
       "      <td>job</td>\n",
       "      <td>\\n    \\n        \\n    \\n\\n    peter sagal, hos...</td>\n",
       "      <td>True</td>\n",
       "      <td>False</td>\n",
       "      <td>False</td>\n",
       "      <td>[3, 33, 33, 33, 33, 3, 33, 33, 33, 33, 33, 33,...</td>\n",
       "      <td>[84, 2, 107, 6, 63, 1, 119, 144, 3659, 81, 243...</td>\n",
       "    </tr>\n",
       "    <tr>\n",
       "      <th>5</th>\n",
       "      <td>1</td>\n",
       "      <td>2019-05-04</td>\n",
       "      <td>https://www.npr.org/templates/transcript/trans...</td>\n",
       "      <td>panel</td>\n",
       "      <td>\\n    \\n        \\n    \\n\\n    peter sagal, hos...</td>\n",
       "      <td>False</td>\n",
       "      <td>True</td>\n",
       "      <td>False</td>\n",
       "      <td>[3, 33, 33, 33, 33, 3, 33, 33, 33, 33, 33, 33,...</td>\n",
       "      <td>[84, 2, 107, 23, 63, 317, 117, 99, 255, 14, 7,...</td>\n",
       "    </tr>\n",
       "  </tbody>\n",
       "</table>\n",
       "</div>"
      ],
      "text/plain": [
       "   episode_id    aired_at                                                url  \\\n",
       "id                                                                             \n",
       "1           1  2019-05-04  https://www.npr.org/templates/transcript/trans...   \n",
       "2           1  2019-05-04  https://www.npr.org/templates/transcript/trans...   \n",
       "3           1  2019-05-04  https://www.npr.org/templates/transcript/trans...   \n",
       "4           1  2019-05-04  https://www.npr.org/templates/transcript/trans...   \n",
       "5           1  2019-05-04  https://www.npr.org/templates/transcript/trans...   \n",
       "\n",
       "   segment                                         transcript  train   test  \\\n",
       "id                                                                            \n",
       "1      who  \\n    \\n        \\n    \\n\\n    bill kurtis: fro...   True  False   \n",
       "2    panel  \\n    \\n        \\n    \\n\\n    peter sagal, hos...   True  False   \n",
       "3    bluff  \\n    \\n        \\n    \\n\\n    bill kurtis: fro...   True  False   \n",
       "4      job  \\n    \\n        \\n    \\n\\n    peter sagal, hos...   True  False   \n",
       "5    panel  \\n    \\n        \\n    \\n\\n    peter sagal, hos...  False   True   \n",
       "\n",
       "      val                                            encoded  \\\n",
       "id                                                             \n",
       "1   False  [3, 33, 33, 33, 33, 3, 33, 33, 33, 33, 33, 33,...   \n",
       "2   False  [3, 33, 33, 33, 33, 3, 33, 33, 33, 33, 33, 33,...   \n",
       "3   False  [3, 33, 33, 33, 33, 3, 33, 33, 33, 33, 33, 33,...   \n",
       "4   False  [3, 33, 33, 33, 33, 3, 33, 33, 33, 33, 33, 33,...   \n",
       "5   False  [3, 33, 33, 33, 33, 3, 33, 33, 33, 33, 33, 33,...   \n",
       "\n",
       "                                        encoded_words  \n",
       "id                                                     \n",
       "1   [88, 78, 39, 21, 6, 336, 161, 17, 11, 44, 44, ...  \n",
       "2   [84, 2, 107, 23, 63, 317, 27, 102, 14, 7, 5, 2...  \n",
       "3   [88, 78, 39, 21, 6, 336, 161, 17, 11, 44, 44, ...  \n",
       "4   [84, 2, 107, 6, 63, 1, 119, 144, 3659, 81, 243...  \n",
       "5   [84, 2, 107, 23, 63, 317, 117, 99, 255, 14, 7,...  "
      ]
     },
     "execution_count": 507,
     "metadata": {},
     "output_type": "execute_result"
    }
   ],
   "source": [
    "transcript_df.head()"
   ]
  },
  {
   "cell_type": "code",
   "execution_count": 508,
   "metadata": {},
   "outputs": [
    {
     "data": {
      "text/plain": [
       "OneHotEncoder(categorical_features=None, categories='auto', drop=None,\n",
       "              dtype=<class 'numpy.float64'>, handle_unknown='error',\n",
       "              n_values=None, sparse=False)"
      ]
     },
     "execution_count": 508,
     "metadata": {},
     "output_type": "execute_result"
    }
   ],
   "source": [
    "# Generate a one-hot encoder to finally yield data in a one-hot version\n",
    "onehotencoder = OneHotEncoder(categories='auto',sparse=False)\n",
    "onehotencoder.fit(np.concatenate(transcript_df.encoded.values).reshape(-1,1))"
   ]
  },
  {
   "cell_type": "code",
   "execution_count": 509,
   "metadata": {},
   "outputs": [],
   "source": [
    "# Define a function to apply the one hot scheme to the integer-encoded values\n",
    "def one_hot_transcript(transcript):\n",
    "    integer_transcript = np.array(encode_transcript(transcript)).reshape(-1,1)\n",
    "    return onehotencoder.transform(integer_transcript)"
   ]
  },
  {
   "cell_type": "code",
   "execution_count": 510,
   "metadata": {},
   "outputs": [],
   "source": [
    "# Convert the encoded transcript values to the one-hot encodings\n",
    "transcript_df['encoded'] = transcript_df.loc[:,'transcript'].apply(one_hot_transcript)"
   ]
  },
  {
   "cell_type": "markdown",
   "metadata": {},
   "source": [
    "## 0.5 Data Generator\n",
    "This is a different way of making the data. Doing the massive conversion of transcript to one-hot encoding is pretty memory-intensive. One way to improve that is to only process some of the data at a time, using a generator. This could also enable me to add some additional randomization into my process, so I'm going to play around with it. This code is closely based on the tutorial here: https://stanford.edu/~shervine/blog/keras-how-to-generate-data-on-the-fly"
   ]
  },
  {
   "cell_type": "code",
   "execution_count": 530,
   "metadata": {},
   "outputs": [],
   "source": [
    "# parameters\n",
    "n_times = 100\n",
    "n_components = len(all_tokens)+1\n",
    "batch_size = 64"
   ]
  },
  {
   "cell_type": "code",
   "execution_count": 531,
   "metadata": {},
   "outputs": [],
   "source": [
    "import keras\n",
    "class DataGenerator(keras.utils.Sequence):\n",
    "    # Generates data for Keras\n",
    "    def __init__(self, df, batch_size=batch_size,n_times=n_times,n_components=n_components,shuffle=True):\n",
    "        # Initialization\n",
    "        self.batch_size = batch_size\n",
    "        self.df = df.encoded\n",
    "        self.indices = np.copy(self.df.index.values)\n",
    "        self.dim = (batch_size,n_times,n_components)\n",
    "        self.shuffle = shuffle\n",
    "        self.on_epoch_end()\n",
    "\n",
    "    def __len__(self):\n",
    "        # Denotes the number of batches per epoch\n",
    "        return len(self.df.index.values)\n",
    "\n",
    "    def __getitem__(self, index):\n",
    "\n",
    "        # Generate data\n",
    "        X, y = self.__data_generation(self.indices[index])\n",
    "\n",
    "        return X, y\n",
    "\n",
    "    def __data_generation(self, transcript_num):\n",
    "        #'Generates data containing batch_size samples' \n",
    "        # Initialization\n",
    "        X = np.empty(self.dim)\n",
    "        y = np.empty((self.batch_size,self.dim[-1]), dtype=int)\n",
    "\n",
    "        # Pull batch_size random samples from the specified transcript\n",
    "        indices = np.random.randint(low=0,\n",
    "                                    high=self.df[transcript_num].shape[0]-n_times-1,\n",
    "                                    size=self.batch_size)\n",
    "        \n",
    "        # for each start position, pull a sequence of n_times chars for X, and the next char for y\n",
    "        for i, startpos in enumerate(indices):\n",
    "            # Store sample\n",
    "            X[i,] = self.df[transcript_num][startpos:startpos+n_times,:]\n",
    "\n",
    "            # Store class\n",
    "            y[i] = self.df[transcript_num][startpos+n_times,:]\n",
    "\n",
    "        return X, y"
   ]
  },
  {
   "cell_type": "code",
   "execution_count": 532,
   "metadata": {},
   "outputs": [],
   "source": [
    "train_gen = DataGenerator(transcript_df.loc[transcript_df.train,:],shuffle=False)\n",
    "val_gen = DataGenerator(transcript_df.loc[transcript_df.val,:],shuffle=False)"
   ]
  },
  {
   "cell_type": "code",
   "execution_count": 533,
   "metadata": {},
   "outputs": [
    {
     "data": {
      "text/plain": [
       "[<matplotlib.lines.Line2D at 0x6f602a160>]"
      ]
     },
     "execution_count": 533,
     "metadata": {},
     "output_type": "execute_result"
    },
    {
     "data": {
      "image/png": "[encoded data removed]",
      "text/plain": [
       "<Figure size 432x288 with 1 Axes>"
      ]
     },
     "metadata": {
      "needs_background": "light"
     },
     "output_type": "display_data"
    }
   ],
   "source": [
    "plt.plot(train_gen.__getitem__(0)[0][0].sum(axis=0))\n",
    "plt.plot(train_gen.__getitem__(0)[0][0].sum(axis=0))\n",
    "plt.plot(train_gen.__getitem__(0)[0][0].sum(axis=0))\n"
   ]
  },
  {
   "cell_type": "markdown",
   "metadata": {},
   "source": [
    "# 1.0 Markov Chain <a name=\"markov\"></a>\n",
    "As a control, let's build a very simple system, called a \"Markov chain.\" This system simply calculates the probability of a next character, given the previous characters (how many previous characters is a selectable parameter). It then generates text by sampling this probability matrix. We can compare the performance of the Markov chain with the performance of the neural networks we build later.\n",
    "\n",
    "This code initialized with the tutorial provided here: https://eli.thegreenplace.net/2018/elegant-python-code-for-a-markov-chain-text-generator/"
   ]
  },
  {
   "cell_type": "code",
   "execution_count": 515,
   "metadata": {},
   "outputs": [],
   "source": [
    "from collections import defaultdict, Counter\n",
    "import random\n",
    "\n",
    "# This is the length of the \"state\" the current character is predicted from.\n",
    "STATE_LEN = 15"
   ]
  },
  {
   "cell_type": "code",
   "execution_count": 516,
   "metadata": {},
   "outputs": [],
   "source": [
    "# join all transcripts together\n",
    "data = transcript_df.loc[:,'transcript'].str.cat()\n"
   ]
  },
  {
   "cell_type": "code",
   "execution_count": 517,
   "metadata": {},
   "outputs": [
    {
     "name": "stdout",
     "output_type": "stream",
     "text": [
      "Learning model...\n",
      "0/31012208\n",
      "10000000/31012208\n",
      "20000000/31012208\n",
      "30000000/31012208\n"
     ]
    }
   ],
   "source": [
    "# initialize model\n",
    "markovmodel = defaultdict(Counter)\n",
    "print('Learning model...')\n",
    "for i in range(len(data) - STATE_LEN):\n",
    "    state = data[i:i + STATE_LEN]\n",
    "    nxt = data[i + STATE_LEN]\n",
    "    markovmodel[state][nxt] += 1\n",
    "    if i%10000000 ==0:\n",
    "        print(f'{i}/{len(data)}')"
   ]
  },
  {
   "cell_type": "code",
   "execution_count": 518,
   "metadata": {
    "scrolled": false
   },
   "outputs": [
    {
     "name": "stdout",
     "output_type": "stream",
     "text": [
      "Sampling...\n",
      " mr. burbank: because, like, the end of the world have some special feature - the low income tenants will get their very own.\n",
      "    (laughter)\n",
      "    sagal: ...of the squirrel in the motor. \n",
      "    sagal: right.\n",
      "    (soundbite of laughter) \n",
      "    mr. bodett: you know, the saddle is throwing you and stuff...\n",
      "    poundstone: there you go.\n",
      "    sagal: i know, mo, i've said this before on this program for kids.\n",
      "    (soundbite of laughter)\n",
      "    (soundbite of bell)\n",
      "    sagal: that was john boehner said he was a monk.\"\n",
      "    (laughter)\n",
      "    bodden: her tv. no idea.\n",
      "    sagal: right.\n",
      "    (soundbite of bell)\n",
      "    sagal: it's true.\n",
      "    (soundbite of laughter)\n",
      "    m: because he wasn't talking to the super bowl, the denver broncos, washington state used a bow and arrow. scientists tested this milk substance, and they found him behind the wheel. so you can blame it for anything. it's not like a state occasion or an official occasion. like he pays for his kids' rice crispies, that's, like, america's youth. they weren't, you know,\n"
     ]
    }
   ],
   "source": [
    "print('Sampling...')\n",
    "state = random.choice(list(markovmodel))\n",
    "out = state\n",
    "for i in range(1000):\n",
    "    out += random.choices(list(markovmodel[state]), markovmodel[state].values())[0]\n",
    "    state = out[-STATE_LEN:]\n",
    "print(out)"
   ]
  },
  {
   "cell_type": "markdown",
   "metadata": {},
   "source": [
    "### Markov Chain conclusions\n",
    "Because the Markov chain samples from the distribution of previously-seen phrases, everything that it says sounds like language. Phrases even make sense for short durations, but rarely over long ones, due to the fact that it only uses a set amount of past characters to generate future characters. So it does an OK job, but certainly doesn't make anything that truly sounds like language."
   ]
  },
  {
   "cell_type": "markdown",
   "metadata": {},
   "source": [
    "## 2.0 Recurrent Neural Network Model <a name='rnn-initialize'></a>"
   ]
  },
  {
   "cell_type": "markdown",
   "metadata": {},
   "source": [
    "### Generate transcript function\n",
    "First, specify a function that, given a model and a sample of text, will generate the next text for the transcript. We'll run this function occasionally in order to visualize how our model learning is progressing."
   ]
  },
  {
   "cell_type": "code",
   "execution_count": 534,
   "metadata": {},
   "outputs": [],
   "source": [
    "def Predict_transcript(model,generator,chars_to_generate=50):\n",
    "    sample = generator.__getitem__(np.random.randint(500))[0][np.random.randint(batch_size)]\n",
    "    sample = sample.reshape(1,sample.shape[0],sample.shape[1])\n",
    "    \n",
    "    # initialize the phrase\n",
    "    predicted_phrase = np.concatenate((sample,np.zeros((1,chars_to_generate,n_components))),axis=1)\n",
    "\n",
    "    for char in range(n_times,n_times+chars_to_generate):\n",
    "        # calculate the probability distribution\n",
    "        probability = model.predict(sample).squeeze()\n",
    "\n",
    "        # guess the next character and add it to our prediction\n",
    "        guess = np.random.choice(a=n_components,p=probability)\n",
    "        predicted_phrase[0,char,guess] = 1\n",
    "\n",
    "        # feed the results into the next step of the model\n",
    "        sample = predicted_phrase[:,(char+1-n_times):char+1,:]\n",
    "\n",
    "    # Convert to text\n",
    "    predicted_phrase = ''.join(decode_transcript(np.argmax(predicted_phrase,axis=-1).squeeze()))\n",
    "    \n",
    "    # output the phrase\n",
    "    return predicted_phrase\n",
    "    "
   ]
  },
  {
   "cell_type": "markdown",
   "metadata": {},
   "source": [
    "I'm going to use a recurrent neural network (GRU) to generate my text. There are other systems I would also like to play with in the future (e.g. Markov models, transformer network), but this will make a good start."
   ]
  },
  {
   "cell_type": "code",
   "execution_count": 520,
   "metadata": {},
   "outputs": [],
   "source": [
    "# Sequential models are pretty simple, I'll start there.\n",
    "from keras.models import Model\n",
    "from keras.layers import GRU,Dense,Bidirectional,Input,Add,Dropout,SpatialDropout1D,GlobalAveragePooling1D,BatchNormalization\n",
    "from keras.callbacks import Callback\n",
    "from keras.optimizers import Adam,Nadam\n",
    "\n",
    "# Later on I'm going to try out some attention\n",
    "# for speed at the moment, I'll use attention layers that have already been written\n",
    "from keras_self_attention import SeqSelfAttention # source: https://github.com/CyberZHG/keras-self-attention"
   ]
  },
  {
   "cell_type": "code",
   "execution_count": 521,
   "metadata": {},
   "outputs": [],
   "source": [
    "# parameter setting\n",
    "n_units = 128 # size of RNN layers\n",
    "\n",
    "# helper function to add in a middle GRU layer and sum the outputs+inputs to that layer\n",
    "def Add_GRU_layer(inp,n_units):\n",
    "    mid = Bidirectional(GRU(n_units,activation='tanh',input_shape=(n_times,n_components),return_sequences=True))(inp)\n",
    "    mid = SeqSelfAttention(attention_activation='sigmoid')(mid)\n",
    "    final = Add()([mid,inp])\n",
    "    final = BatchNormalization()(final)\n",
    "    return final\n",
    "\n",
    "# helper function to incorporate attention\n",
    "\n",
    "## Model layer definitions start here\n",
    "x_in = Input(shape=(n_times,n_components))\n",
    "\n",
    "# GRU layer\n",
    "x = Bidirectional(GRU(n_units,activation='tanh',input_shape=(n_times,n_components),return_sequences=True))(x_in)\n",
    "x = SeqSelfAttention(attention_activation='sigmoid')(x)\n",
    "\n",
    "# middle layers, with skip-gram combinations & attention\n",
    "for mid_layer in range(1):\n",
    "    x = Add_GRU_layer(x,n_units)\n",
    "\n",
    "# final layer, average over time\n",
    "x = GlobalAveragePooling1D()(x)\n",
    "x = Dropout(rate=0.25)(x)\n",
    "x = Dense(128,activation='relu')(x)\n",
    "x = Dropout(rate=0.25)(x)\n",
    "dense_out = Dense(n_components,activation='softmax')(x)\n",
    "\n",
    "optimizer = keras.optimizers.RMSprop()\n",
    "model = Model(inputs=[x_in],outputs=[dense_out])\n",
    "model.compile(loss='categorical_crossentropy',optimizer=optimizer)"
   ]
  },
  {
   "cell_type": "code",
   "execution_count": 501,
   "metadata": {},
   "outputs": [
    {
     "name": "stdout",
     "output_type": "stream",
     "text": [
      "Model: \"model_39\"\n",
      "_________________________________________________________________\n",
      "Layer (type)                 Output Shape              Param #   \n",
      "=================================================================\n",
      "input_29 (InputLayer)        (None, 10, 78)            0         \n",
      "_________________________________________________________________\n",
      "bidirectional_13 (Bidirectio (None, 10, 256)           158976    \n",
      "_________________________________________________________________\n",
      "seq_self_attention_13 (SeqSe (None, 10, 256)           16449     \n",
      "_________________________________________________________________\n",
      "global_average_pooling1d_51  (None, 256)               0         \n",
      "_________________________________________________________________\n",
      "dropout_46 (Dropout)         (None, 256)               0         \n",
      "_________________________________________________________________\n",
      "dense_230 (Dense)            (None, 128)               32896     \n",
      "_________________________________________________________________\n",
      "dropout_47 (Dropout)         (None, 128)               0         \n",
      "_________________________________________________________________\n",
      "dense_231 (Dense)            (None, 78)                10062     \n",
      "=================================================================\n",
      "Total params: 218,383\n",
      "Trainable params: 218,383\n",
      "Non-trainable params: 0\n",
      "_________________________________________________________________\n"
     ]
    }
   ],
   "source": [
    "# Generate a model summary to visualize the layers and model size\n",
    "model.summary()"
   ]
  },
  {
   "cell_type": "markdown",
   "metadata": {},
   "source": [
    "### 2.2 Train the model<a name='rnn-train'></a>"
   ]
  },
  {
   "cell_type": "code",
   "execution_count": 537,
   "metadata": {},
   "outputs": [
    {
     "name": "stdout",
     "output_type": "stream",
     "text": [
      "Epoch 1/3\n",
      "2639/2639 [==============================] - 904s 342ms/step - loss: 2.4362 - val_loss: 2.2565\n",
      "Epoch 2/3\n",
      "2639/2639 [==============================] - 906s 343ms/step - loss: 2.3492 - val_loss: 2.1829\n",
      "Epoch 3/3\n",
      "2639/2639 [==============================] - 877s 332ms/step - loss: 2.3003 - val_loss: 2.1667\n",
      "r news quiz. i'm bill kurtis. and here is your host at the chase bank auditorium in downtown chicagoc rogpet lirram? fairi.. od, lodginrre. tharode kat ghoteridgaen leiwrirylisbaatam ak\n",
      "    het\n",
      "    re\n",
      "Epoch 1/3\n",
      "2639/2639 [==============================] - 926s 351ms/step - loss: 2.2334 - val_loss: 2.0935\n",
      "Epoch 2/3\n",
      "2639/2639 [==============================] - 879s 333ms/step - loss: 2.2271 - val_loss: 2.0714\n",
      "Epoch 3/3\n",
      "2639/2639 [==============================] - 847s 321ms/step - loss: 2.2109 - val_loss: 2.0501\n",
      "nd an owl makes and nothing else.\n",
      "    goldthwait: so it's hooters.\n",
      "    sagal: but for...\n",
      "    goldthwh.ecis. rei pifisad: oi a: fagats a'nrt tond that.. idly..\n",
      "    parpares ehigo es to roem chitim. seu\n",
      "Epoch 1/3\n",
      "1695/2639 [==================>...........] - ETA: 4:47 - loss: 2.1904"
     ]
    },
    {
     "ename": "KeyboardInterrupt",
     "evalue": "",
     "output_type": "error",
     "traceback": [
      "\u001b[0;31m---------------------------------------------------------------------------\u001b[0m",
      "\u001b[0;31mKeyboardInterrupt\u001b[0m                         Traceback (most recent call last)",
      "\u001b[0;32m<ipython-input-537-7a824e047f5a>\u001b[0m in \u001b[0;36m<module>\u001b[0;34m()\u001b[0m\n\u001b[1;32m     12\u001b[0m                                   \u001b[0mvalidation_steps\u001b[0m \u001b[0;34m=\u001b[0m \u001b[0msum\u001b[0m\u001b[0;34m(\u001b[0m\u001b[0mtranscript_df\u001b[0m\u001b[0;34m.\u001b[0m\u001b[0mval\u001b[0m\u001b[0;34m)\u001b[0m\u001b[0;34m,\u001b[0m\u001b[0;34m\u001b[0m\u001b[0m\n\u001b[1;32m     13\u001b[0m                                   \u001b[0msteps_per_epoch\u001b[0m\u001b[0;34m=\u001b[0m\u001b[0msum\u001b[0m\u001b[0;34m(\u001b[0m\u001b[0mtranscript_df\u001b[0m\u001b[0;34m.\u001b[0m\u001b[0mtrain\u001b[0m\u001b[0;34m)\u001b[0m\u001b[0;34m,\u001b[0m\u001b[0;34m\u001b[0m\u001b[0m\n\u001b[0;32m---> 14\u001b[0;31m                                   callbacks = [early_stopping])\n\u001b[0m\u001b[1;32m     15\u001b[0m     \u001b[0mprint\u001b[0m\u001b[0;34m(\u001b[0m\u001b[0mPredict_transcript\u001b[0m\u001b[0;34m(\u001b[0m\u001b[0mmodel\u001b[0m\u001b[0;34m,\u001b[0m\u001b[0mval_gen\u001b[0m\u001b[0;34m,\u001b[0m\u001b[0mchars_to_generate\u001b[0m\u001b[0;34m=\u001b[0m\u001b[0;36m100\u001b[0m\u001b[0;34m)\u001b[0m\u001b[0;34m)\u001b[0m\u001b[0;34m;\u001b[0m\u001b[0;34m\u001b[0m\u001b[0m\n\u001b[1;32m     16\u001b[0m \u001b[0mplt\u001b[0m\u001b[0;34m.\u001b[0m\u001b[0mplot\u001b[0m\u001b[0;34m(\u001b[0m\u001b[0mhistory\u001b[0m\u001b[0;34m.\u001b[0m\u001b[0mhistory\u001b[0m\u001b[0;34m[\u001b[0m\u001b[0;34m'loss'\u001b[0m\u001b[0;34m]\u001b[0m\u001b[0;34m)\u001b[0m\u001b[0;34m\u001b[0m\u001b[0m\n",
      "\u001b[0;32m~/git/BimanualModeling/py_36_env/lib/python3.6/site-packages/keras/legacy/interfaces.py\u001b[0m in \u001b[0;36mwrapper\u001b[0;34m(*args, **kwargs)\u001b[0m\n\u001b[1;32m     89\u001b[0m                 warnings.warn('Update your `' + object_name + '` call to the ' +\n\u001b[1;32m     90\u001b[0m                               'Keras 2 API: ' + signature, stacklevel=2)\n\u001b[0;32m---> 91\u001b[0;31m             \u001b[0;32mreturn\u001b[0m \u001b[0mfunc\u001b[0m\u001b[0;34m(\u001b[0m\u001b[0;34m*\u001b[0m\u001b[0margs\u001b[0m\u001b[0;34m,\u001b[0m \u001b[0;34m**\u001b[0m\u001b[0mkwargs\u001b[0m\u001b[0;34m)\u001b[0m\u001b[0;34m\u001b[0m\u001b[0m\n\u001b[0m\u001b[1;32m     92\u001b[0m         \u001b[0mwrapper\u001b[0m\u001b[0;34m.\u001b[0m\u001b[0m_original_function\u001b[0m \u001b[0;34m=\u001b[0m \u001b[0mfunc\u001b[0m\u001b[0;34m\u001b[0m\u001b[0m\n\u001b[1;32m     93\u001b[0m         \u001b[0;32mreturn\u001b[0m \u001b[0mwrapper\u001b[0m\u001b[0;34m\u001b[0m\u001b[0m\n",
      "\u001b[0;32m~/git/BimanualModeling/py_36_env/lib/python3.6/site-packages/keras/engine/training.py\u001b[0m in \u001b[0;36mfit_generator\u001b[0;34m(self, generator, steps_per_epoch, epochs, verbose, callbacks, validation_data, validation_steps, validation_freq, class_weight, max_queue_size, workers, use_multiprocessing, shuffle, initial_epoch)\u001b[0m\n\u001b[1;32m   1656\u001b[0m             \u001b[0muse_multiprocessing\u001b[0m\u001b[0;34m=\u001b[0m\u001b[0muse_multiprocessing\u001b[0m\u001b[0;34m,\u001b[0m\u001b[0;34m\u001b[0m\u001b[0m\n\u001b[1;32m   1657\u001b[0m             \u001b[0mshuffle\u001b[0m\u001b[0;34m=\u001b[0m\u001b[0mshuffle\u001b[0m\u001b[0;34m,\u001b[0m\u001b[0;34m\u001b[0m\u001b[0m\n\u001b[0;32m-> 1658\u001b[0;31m             initial_epoch=initial_epoch)\n\u001b[0m\u001b[1;32m   1659\u001b[0m \u001b[0;34m\u001b[0m\u001b[0m\n\u001b[1;32m   1660\u001b[0m     \u001b[0;34m@\u001b[0m\u001b[0minterfaces\u001b[0m\u001b[0;34m.\u001b[0m\u001b[0mlegacy_generator_methods_support\u001b[0m\u001b[0;34m\u001b[0m\u001b[0m\n",
      "\u001b[0;32m~/git/BimanualModeling/py_36_env/lib/python3.6/site-packages/keras/engine/training_generator.py\u001b[0m in \u001b[0;36mfit_generator\u001b[0;34m(model, generator, steps_per_epoch, epochs, verbose, callbacks, validation_data, validation_steps, validation_freq, class_weight, max_queue_size, workers, use_multiprocessing, shuffle, initial_epoch)\u001b[0m\n\u001b[1;32m    213\u001b[0m                 outs = model.train_on_batch(x, y,\n\u001b[1;32m    214\u001b[0m                                             \u001b[0msample_weight\u001b[0m\u001b[0;34m=\u001b[0m\u001b[0msample_weight\u001b[0m\u001b[0;34m,\u001b[0m\u001b[0;34m\u001b[0m\u001b[0m\n\u001b[0;32m--> 215\u001b[0;31m                                             class_weight=class_weight)\n\u001b[0m\u001b[1;32m    216\u001b[0m \u001b[0;34m\u001b[0m\u001b[0m\n\u001b[1;32m    217\u001b[0m                 \u001b[0mouts\u001b[0m \u001b[0;34m=\u001b[0m \u001b[0mto_list\u001b[0m\u001b[0;34m(\u001b[0m\u001b[0mouts\u001b[0m\u001b[0;34m)\u001b[0m\u001b[0;34m\u001b[0m\u001b[0m\n",
      "\u001b[0;32m~/git/BimanualModeling/py_36_env/lib/python3.6/site-packages/keras/engine/training.py\u001b[0m in \u001b[0;36mtrain_on_batch\u001b[0;34m(self, x, y, sample_weight, class_weight)\u001b[0m\n\u001b[1;32m   1447\u001b[0m             \u001b[0mins\u001b[0m \u001b[0;34m=\u001b[0m \u001b[0mx\u001b[0m \u001b[0;34m+\u001b[0m \u001b[0my\u001b[0m \u001b[0;34m+\u001b[0m \u001b[0msample_weights\u001b[0m\u001b[0;34m\u001b[0m\u001b[0m\n\u001b[1;32m   1448\u001b[0m         \u001b[0mself\u001b[0m\u001b[0;34m.\u001b[0m\u001b[0m_make_train_function\u001b[0m\u001b[0;34m(\u001b[0m\u001b[0;34m)\u001b[0m\u001b[0;34m\u001b[0m\u001b[0m\n\u001b[0;32m-> 1449\u001b[0;31m         \u001b[0moutputs\u001b[0m \u001b[0;34m=\u001b[0m \u001b[0mself\u001b[0m\u001b[0;34m.\u001b[0m\u001b[0mtrain_function\u001b[0m\u001b[0;34m(\u001b[0m\u001b[0mins\u001b[0m\u001b[0;34m)\u001b[0m\u001b[0;34m\u001b[0m\u001b[0m\n\u001b[0m\u001b[1;32m   1450\u001b[0m         \u001b[0;32mreturn\u001b[0m \u001b[0munpack_singleton\u001b[0m\u001b[0;34m(\u001b[0m\u001b[0moutputs\u001b[0m\u001b[0;34m)\u001b[0m\u001b[0;34m\u001b[0m\u001b[0m\n\u001b[1;32m   1451\u001b[0m \u001b[0;34m\u001b[0m\u001b[0m\n",
      "\u001b[0;32m~/git/BimanualModeling/py_36_env/lib/python3.6/site-packages/keras/backend/tensorflow_backend.py\u001b[0m in \u001b[0;36m__call__\u001b[0;34m(self, inputs)\u001b[0m\n\u001b[1;32m   2977\u001b[0m                     \u001b[0;32mreturn\u001b[0m \u001b[0mself\u001b[0m\u001b[0;34m.\u001b[0m\u001b[0m_legacy_call\u001b[0m\u001b[0;34m(\u001b[0m\u001b[0minputs\u001b[0m\u001b[0;34m)\u001b[0m\u001b[0;34m\u001b[0m\u001b[0m\n\u001b[1;32m   2978\u001b[0m \u001b[0;34m\u001b[0m\u001b[0m\n\u001b[0;32m-> 2979\u001b[0;31m             \u001b[0;32mreturn\u001b[0m \u001b[0mself\u001b[0m\u001b[0;34m.\u001b[0m\u001b[0m_call\u001b[0m\u001b[0;34m(\u001b[0m\u001b[0minputs\u001b[0m\u001b[0;34m)\u001b[0m\u001b[0;34m\u001b[0m\u001b[0m\n\u001b[0m\u001b[1;32m   2980\u001b[0m         \u001b[0;32melse\u001b[0m\u001b[0;34m:\u001b[0m\u001b[0;34m\u001b[0m\u001b[0m\n\u001b[1;32m   2981\u001b[0m             \u001b[0;32mif\u001b[0m \u001b[0mpy_any\u001b[0m\u001b[0;34m(\u001b[0m\u001b[0mis_tensor\u001b[0m\u001b[0;34m(\u001b[0m\u001b[0mx\u001b[0m\u001b[0;34m)\u001b[0m \u001b[0;32mfor\u001b[0m \u001b[0mx\u001b[0m \u001b[0;32min\u001b[0m \u001b[0minputs\u001b[0m\u001b[0;34m)\u001b[0m\u001b[0;34m:\u001b[0m\u001b[0;34m\u001b[0m\u001b[0m\n",
      "\u001b[0;32m~/git/BimanualModeling/py_36_env/lib/python3.6/site-packages/keras/backend/tensorflow_backend.py\u001b[0m in \u001b[0;36m_call\u001b[0;34m(self, inputs)\u001b[0m\n\u001b[1;32m   2935\u001b[0m             \u001b[0mfetched\u001b[0m \u001b[0;34m=\u001b[0m \u001b[0mself\u001b[0m\u001b[0;34m.\u001b[0m\u001b[0m_callable_fn\u001b[0m\u001b[0;34m(\u001b[0m\u001b[0;34m*\u001b[0m\u001b[0marray_vals\u001b[0m\u001b[0;34m,\u001b[0m \u001b[0mrun_metadata\u001b[0m\u001b[0;34m=\u001b[0m\u001b[0mself\u001b[0m\u001b[0;34m.\u001b[0m\u001b[0mrun_metadata\u001b[0m\u001b[0;34m)\u001b[0m\u001b[0;34m\u001b[0m\u001b[0m\n\u001b[1;32m   2936\u001b[0m         \u001b[0;32melse\u001b[0m\u001b[0;34m:\u001b[0m\u001b[0;34m\u001b[0m\u001b[0m\n\u001b[0;32m-> 2937\u001b[0;31m             \u001b[0mfetched\u001b[0m \u001b[0;34m=\u001b[0m \u001b[0mself\u001b[0m\u001b[0;34m.\u001b[0m\u001b[0m_callable_fn\u001b[0m\u001b[0;34m(\u001b[0m\u001b[0;34m*\u001b[0m\u001b[0marray_vals\u001b[0m\u001b[0;34m)\u001b[0m\u001b[0;34m\u001b[0m\u001b[0m\n\u001b[0m\u001b[1;32m   2938\u001b[0m         \u001b[0;32mreturn\u001b[0m \u001b[0mfetched\u001b[0m\u001b[0;34m[\u001b[0m\u001b[0;34m:\u001b[0m\u001b[0mlen\u001b[0m\u001b[0;34m(\u001b[0m\u001b[0mself\u001b[0m\u001b[0;34m.\u001b[0m\u001b[0moutputs\u001b[0m\u001b[0;34m)\u001b[0m\u001b[0;34m]\u001b[0m\u001b[0;34m\u001b[0m\u001b[0m\n\u001b[1;32m   2939\u001b[0m \u001b[0;34m\u001b[0m\u001b[0m\n",
      "\u001b[0;32m~/git/BimanualModeling/py_36_env/lib/python3.6/site-packages/tensorflow/python/client/session.py\u001b[0m in \u001b[0;36m__call__\u001b[0;34m(self, *args, **kwargs)\u001b[0m\n\u001b[1;32m   1456\u001b[0m         ret = tf_session.TF_SessionRunCallable(self._session._session,\n\u001b[1;32m   1457\u001b[0m                                                \u001b[0mself\u001b[0m\u001b[0;34m.\u001b[0m\u001b[0m_handle\u001b[0m\u001b[0;34m,\u001b[0m \u001b[0margs\u001b[0m\u001b[0;34m,\u001b[0m\u001b[0;34m\u001b[0m\u001b[0m\n\u001b[0;32m-> 1458\u001b[0;31m                                                run_metadata_ptr)\n\u001b[0m\u001b[1;32m   1459\u001b[0m         \u001b[0;32mif\u001b[0m \u001b[0mrun_metadata\u001b[0m\u001b[0;34m:\u001b[0m\u001b[0;34m\u001b[0m\u001b[0m\n\u001b[1;32m   1460\u001b[0m           \u001b[0mproto_data\u001b[0m \u001b[0;34m=\u001b[0m \u001b[0mtf_session\u001b[0m\u001b[0;34m.\u001b[0m\u001b[0mTF_GetBuffer\u001b[0m\u001b[0;34m(\u001b[0m\u001b[0mrun_metadata_ptr\u001b[0m\u001b[0;34m)\u001b[0m\u001b[0;34m\u001b[0m\u001b[0m\n",
      "\u001b[0;31mKeyboardInterrupt\u001b[0m: "
     ]
    }
   ],
   "source": [
    "# Train the model\n",
    "early_stopping = keras.callbacks.EarlyStopping(monitor='val_loss',patience=1,restore_best_weights=True)\n",
    "n_epochs = 3\n",
    "decay_rate = 1/(sum(transcript_df.train)*n_epochs)\n",
    "\n",
    "for lr in [0.01,0.005,0.001,0.0005,0.0001]:\n",
    "    optimizer=keras.optimizers.RMSprop(lr=lr,decay=decay_rate)\n",
    "    model.compile(loss='categorical_crossentropy',optimizer=optimizer)\n",
    "    history = model.fit_generator(train_gen,\n",
    "                                  epochs=n_epochs,\n",
    "                                  validation_data = val_gen,\n",
    "                                  validation_steps = sum(transcript_df.val),\n",
    "                                  steps_per_epoch=sum(transcript_df.train),\n",
    "                                  callbacks = [early_stopping])\n",
    "    print(Predict_transcript(model,val_gen,chars_to_generate=100));\n",
    "plt.plot(history.history['loss'])\n",
    "plt.plot(history.history['val_loss'])\n"
   ]
  },
  {
   "cell_type": "code",
   "execution_count": 178,
   "metadata": {},
   "outputs": [],
   "source": [
    "model_path = './GRU_Text_Generator2'\n",
    "model.save(model_path)"
   ]
  },
  {
   "cell_type": "code",
   "execution_count": 186,
   "metadata": {},
   "outputs": [],
   "source": [
    "model = keras.models.load_model(model_path, custom_objects=SeqSelfAttention.get_custom_objects())"
   ]
  },
  {
   "cell_type": "markdown",
   "metadata": {},
   "source": [
    "### 2.3 Assess performance<a name='rnn-test'></a>"
   ]
  },
  {
   "cell_type": "code",
   "execution_count": 273,
   "metadata": {},
   "outputs": [
    {
     "name": "stdout",
     "output_type": "stream",
     "text": [
      "one: how will they know? i mean, don't you just buy a ticket and go in?\n",
      "    (laughter)\n",
      "    bodden: he'll. allny, fonts, amores the ars the, couldersfar blanidiesns?\n",
      "    sagal: po amber do e it's lay w\n"
     ]
    }
   ],
   "source": [
    "print(Predict_transcript(model,val_gen,chars_to_generate=100));"
   ]
  },
  {
   "cell_type": "markdown",
   "metadata": {},
   "source": [
    "This network is doing ok, but nothing to write home about at the moment. We get a couple of \"real\" words, and the included punctuation looks reasonable. However, the final result is not recognizable English. This suggests to me that the network likely needs more training time, or possibly more units or more training data."
   ]
  },
  {
   "cell_type": "code",
   "execution_count": null,
   "metadata": {},
   "outputs": [],
   "source": []
  },
  {
   "cell_type": "markdown",
   "metadata": {},
   "source": [
    "### Attention network <a name='attn-initialize'></a>"
   ]
  },
  {
   "cell_type": "code",
   "execution_count": 274,
   "metadata": {},
   "outputs": [],
   "source": [
    "import keras\n",
    "from keras_multi_head import MultiHeadAttention,MultiHead"
   ]
  },
  {
   "cell_type": "code",
   "execution_count": 279,
   "metadata": {},
   "outputs": [
    {
     "name": "stdout",
     "output_type": "stream",
     "text": [
      "Model: \"model_18\"\n",
      "__________________________________________________________________________________________________\n",
      "Layer (type)                    Output Shape         Param #     Connected to                     \n",
      "==================================================================================================\n",
      "Input (InputLayer)              (None, 100, 78)      0                                            \n",
      "__________________________________________________________________________________________________\n",
      "time_distributed_12 (TimeDistri (None, 100, 128)     10112       Input[0][0]                      \n",
      "__________________________________________________________________________________________________\n",
      "spatial_dropout1d_55 (SpatialDr (None, 100, 128)     0           time_distributed_12[0][0]        \n",
      "__________________________________________________________________________________________________\n",
      "multi_head_attention_54 (MultiH (None, 100, 128)     66048       spatial_dropout1d_55[0][0]       \n",
      "__________________________________________________________________________________________________\n",
      "add_23 (Add)                    (None, 100, 128)     0           spatial_dropout1d_55[0][0]       \n",
      "                                                                 multi_head_attention_54[0][0]    \n",
      "__________________________________________________________________________________________________\n",
      "batch_normalization_91 (BatchNo (None, 100, 128)     512         add_23[0][0]                     \n",
      "__________________________________________________________________________________________________\n",
      "dense_93 (Dense)                (None, 100, 128)     16512       batch_normalization_91[0][0]     \n",
      "__________________________________________________________________________________________________\n",
      "batch_normalization_92 (BatchNo (None, 100, 128)     512         dense_93[0][0]                   \n",
      "__________________________________________________________________________________________________\n",
      "spatial_dropout1d_56 (SpatialDr (None, 100, 128)     0           batch_normalization_92[0][0]     \n",
      "__________________________________________________________________________________________________\n",
      "multi_head_attention_55 (MultiH (None, 100, 128)     66048       spatial_dropout1d_56[0][0]       \n",
      "__________________________________________________________________________________________________\n",
      "add_24 (Add)                    (None, 100, 128)     0           spatial_dropout1d_55[0][0]       \n",
      "                                                                 multi_head_attention_55[0][0]    \n",
      "__________________________________________________________________________________________________\n",
      "batch_normalization_93 (BatchNo (None, 100, 128)     512         add_24[0][0]                     \n",
      "__________________________________________________________________________________________________\n",
      "dense_94 (Dense)                (None, 100, 128)     16512       batch_normalization_93[0][0]     \n",
      "__________________________________________________________________________________________________\n",
      "batch_normalization_94 (BatchNo (None, 100, 128)     512         dense_94[0][0]                   \n",
      "__________________________________________________________________________________________________\n",
      "global_average_pooling1d_37 (Gl (None, 128)          0           batch_normalization_94[0][0]     \n",
      "__________________________________________________________________________________________________\n",
      "dropout_35 (Dropout)            (None, 128)          0           global_average_pooling1d_37[0][0]\n",
      "__________________________________________________________________________________________________\n",
      "dense_95 (Dense)                (None, 78)           10062       dropout_35[0][0]                 \n",
      "==================================================================================================\n",
      "Total params: 187,342\n",
      "Trainable params: 186,318\n",
      "Non-trainable params: 1,024\n",
      "__________________________________________________________________________________________________\n"
     ]
    }
   ],
   "source": [
    "layer_size = 128\n",
    "\n",
    "# Function to add a set of layers that together make up a \"transformer\"\n",
    "def Add_Transformer(inp_layer,head_num=16):\n",
    "    att_layer = MultiHeadAttention(\n",
    "        head_num=head_num,\n",
    "        activation='sigmoid',\n",
    "    )(inp_layer)\n",
    "\n",
    "    summed = keras.layers.Add()([embedded,att_layer])\n",
    "    normed = BatchNormalization()(summed)\n",
    "    \n",
    "    # follow each attention layer with a feed-forward layer\n",
    "    feed_forward = Dense(layer_size)(normed)\n",
    "    normed = BatchNormalization()(feed_forward)\n",
    "    \n",
    "    return normed\n",
    "\n",
    "# Start building layers\n",
    "input_layer = keras.layers.Input(\n",
    "    shape=(n_times, n_components),\n",
    "    name='Input',\n",
    ")\n",
    "embedded = keras.layers.TimeDistributed(Dense(layer_size))(input_layer)\n",
    "embedded = SpatialDropout1D(rate=0.25)(embedded)\n",
    "\n",
    "# Transformer 1\n",
    "x = Add_Transformer(embedded)\n",
    "x = SpatialDropout1D(rate=0.25)(x)\n",
    "\n",
    "# Transformer layer 2\n",
    "for layer in range(1):\n",
    "    x = Add_Transformer(x)\n",
    "\n",
    "# readout\n",
    "flattened = keras.layers.GlobalAveragePooling1D()(x)\n",
    "flattened = Dropout(rate=0.25)(flattened)\n",
    "dense_out = Dense(n_components,activation='softmax')(flattened)\n",
    "\n",
    "model2 = keras.models.Model(inputs=input_layer, outputs=dense_out)\n",
    "model2.compile(\n",
    "    optimizer='nadam',\n",
    "    loss='categorical_crossentropy',\n",
    ")\n",
    "\n",
    "model2.summary()"
   ]
  },
  {
   "cell_type": "markdown",
   "metadata": {},
   "source": [
    "## 3.2 Train the attention model <a name='attn-train'></a>"
   ]
  },
  {
   "cell_type": "code",
   "execution_count": 281,
   "metadata": {},
   "outputs": [
    {
     "name": "stdout",
     "output_type": "stream",
     "text": [
      "Epoch 1/100\n",
      "2639/2639 [==============================] - 737s 279ms/step - loss: 3.0500 - val_loss: 2.9940\n",
      "Epoch 2/100\n",
      " 506/2639 [====>.........................] - ETA: 9:10 - loss: 3.0062"
     ]
    },
    {
     "ename": "KeyboardInterrupt",
     "evalue": "",
     "output_type": "error",
     "traceback": [
      "\u001b[0;31m---------------------------------------------------------------------------\u001b[0m",
      "\u001b[0;31mKeyboardInterrupt\u001b[0m                         Traceback (most recent call last)",
      "\u001b[0;32m<ipython-input-281-8cdf078fb490>\u001b[0m in \u001b[0;36m<module>\u001b[0;34m()\u001b[0m\n\u001b[1;32m      6\u001b[0m                               \u001b[0mvalidation_steps\u001b[0m \u001b[0;34m=\u001b[0m \u001b[0msum\u001b[0m\u001b[0;34m(\u001b[0m\u001b[0mtranscript_df\u001b[0m\u001b[0;34m.\u001b[0m\u001b[0mval\u001b[0m\u001b[0;34m)\u001b[0m\u001b[0;34m,\u001b[0m\u001b[0;34m\u001b[0m\u001b[0m\n\u001b[1;32m      7\u001b[0m                               \u001b[0msteps_per_epoch\u001b[0m\u001b[0;34m=\u001b[0m\u001b[0msum\u001b[0m\u001b[0;34m(\u001b[0m\u001b[0mtranscript_df\u001b[0m\u001b[0;34m.\u001b[0m\u001b[0mtrain\u001b[0m\u001b[0;34m)\u001b[0m\u001b[0;34m,\u001b[0m\u001b[0;34m\u001b[0m\u001b[0m\n\u001b[0;32m----> 8\u001b[0;31m                               callbacks = [early_stopping])\n\u001b[0m\u001b[1;32m      9\u001b[0m \u001b[0mplt\u001b[0m\u001b[0;34m.\u001b[0m\u001b[0mplot\u001b[0m\u001b[0;34m(\u001b[0m\u001b[0mhistory\u001b[0m\u001b[0;34m.\u001b[0m\u001b[0mhistory\u001b[0m\u001b[0;34m[\u001b[0m\u001b[0;34m'loss'\u001b[0m\u001b[0;34m]\u001b[0m\u001b[0;34m)\u001b[0m\u001b[0;34m\u001b[0m\u001b[0m\n\u001b[1;32m     10\u001b[0m \u001b[0mplt\u001b[0m\u001b[0;34m.\u001b[0m\u001b[0mplot\u001b[0m\u001b[0;34m(\u001b[0m\u001b[0mhistory\u001b[0m\u001b[0;34m.\u001b[0m\u001b[0mhistory\u001b[0m\u001b[0;34m[\u001b[0m\u001b[0;34m'val_loss'\u001b[0m\u001b[0;34m]\u001b[0m\u001b[0;34m)\u001b[0m\u001b[0;34m\u001b[0m\u001b[0m\n",
      "\u001b[0;32m~/git/BimanualModeling/py_36_env/lib/python3.6/site-packages/keras/legacy/interfaces.py\u001b[0m in \u001b[0;36mwrapper\u001b[0;34m(*args, **kwargs)\u001b[0m\n\u001b[1;32m     89\u001b[0m                 warnings.warn('Update your `' + object_name + '` call to the ' +\n\u001b[1;32m     90\u001b[0m                               'Keras 2 API: ' + signature, stacklevel=2)\n\u001b[0;32m---> 91\u001b[0;31m             \u001b[0;32mreturn\u001b[0m \u001b[0mfunc\u001b[0m\u001b[0;34m(\u001b[0m\u001b[0;34m*\u001b[0m\u001b[0margs\u001b[0m\u001b[0;34m,\u001b[0m \u001b[0;34m**\u001b[0m\u001b[0mkwargs\u001b[0m\u001b[0;34m)\u001b[0m\u001b[0;34m\u001b[0m\u001b[0m\n\u001b[0m\u001b[1;32m     92\u001b[0m         \u001b[0mwrapper\u001b[0m\u001b[0;34m.\u001b[0m\u001b[0m_original_function\u001b[0m \u001b[0;34m=\u001b[0m \u001b[0mfunc\u001b[0m\u001b[0;34m\u001b[0m\u001b[0m\n\u001b[1;32m     93\u001b[0m         \u001b[0;32mreturn\u001b[0m \u001b[0mwrapper\u001b[0m\u001b[0;34m\u001b[0m\u001b[0m\n",
      "\u001b[0;32m~/git/BimanualModeling/py_36_env/lib/python3.6/site-packages/keras/engine/training.py\u001b[0m in \u001b[0;36mfit_generator\u001b[0;34m(self, generator, steps_per_epoch, epochs, verbose, callbacks, validation_data, validation_steps, validation_freq, class_weight, max_queue_size, workers, use_multiprocessing, shuffle, initial_epoch)\u001b[0m\n\u001b[1;32m   1656\u001b[0m             \u001b[0muse_multiprocessing\u001b[0m\u001b[0;34m=\u001b[0m\u001b[0muse_multiprocessing\u001b[0m\u001b[0;34m,\u001b[0m\u001b[0;34m\u001b[0m\u001b[0m\n\u001b[1;32m   1657\u001b[0m             \u001b[0mshuffle\u001b[0m\u001b[0;34m=\u001b[0m\u001b[0mshuffle\u001b[0m\u001b[0;34m,\u001b[0m\u001b[0;34m\u001b[0m\u001b[0m\n\u001b[0;32m-> 1658\u001b[0;31m             initial_epoch=initial_epoch)\n\u001b[0m\u001b[1;32m   1659\u001b[0m \u001b[0;34m\u001b[0m\u001b[0m\n\u001b[1;32m   1660\u001b[0m     \u001b[0;34m@\u001b[0m\u001b[0minterfaces\u001b[0m\u001b[0;34m.\u001b[0m\u001b[0mlegacy_generator_methods_support\u001b[0m\u001b[0;34m\u001b[0m\u001b[0m\n",
      "\u001b[0;32m~/git/BimanualModeling/py_36_env/lib/python3.6/site-packages/keras/engine/training_generator.py\u001b[0m in \u001b[0;36mfit_generator\u001b[0;34m(model, generator, steps_per_epoch, epochs, verbose, callbacks, validation_data, validation_steps, validation_freq, class_weight, max_queue_size, workers, use_multiprocessing, shuffle, initial_epoch)\u001b[0m\n\u001b[1;32m    213\u001b[0m                 outs = model.train_on_batch(x, y,\n\u001b[1;32m    214\u001b[0m                                             \u001b[0msample_weight\u001b[0m\u001b[0;34m=\u001b[0m\u001b[0msample_weight\u001b[0m\u001b[0;34m,\u001b[0m\u001b[0;34m\u001b[0m\u001b[0m\n\u001b[0;32m--> 215\u001b[0;31m                                             class_weight=class_weight)\n\u001b[0m\u001b[1;32m    216\u001b[0m \u001b[0;34m\u001b[0m\u001b[0m\n\u001b[1;32m    217\u001b[0m                 \u001b[0mouts\u001b[0m \u001b[0;34m=\u001b[0m \u001b[0mto_list\u001b[0m\u001b[0;34m(\u001b[0m\u001b[0mouts\u001b[0m\u001b[0;34m)\u001b[0m\u001b[0;34m\u001b[0m\u001b[0m\n",
      "\u001b[0;32m~/git/BimanualModeling/py_36_env/lib/python3.6/site-packages/keras/engine/training.py\u001b[0m in \u001b[0;36mtrain_on_batch\u001b[0;34m(self, x, y, sample_weight, class_weight)\u001b[0m\n\u001b[1;32m   1447\u001b[0m             \u001b[0mins\u001b[0m \u001b[0;34m=\u001b[0m \u001b[0mx\u001b[0m \u001b[0;34m+\u001b[0m \u001b[0my\u001b[0m \u001b[0;34m+\u001b[0m \u001b[0msample_weights\u001b[0m\u001b[0;34m\u001b[0m\u001b[0m\n\u001b[1;32m   1448\u001b[0m         \u001b[0mself\u001b[0m\u001b[0;34m.\u001b[0m\u001b[0m_make_train_function\u001b[0m\u001b[0;34m(\u001b[0m\u001b[0;34m)\u001b[0m\u001b[0;34m\u001b[0m\u001b[0m\n\u001b[0;32m-> 1449\u001b[0;31m         \u001b[0moutputs\u001b[0m \u001b[0;34m=\u001b[0m \u001b[0mself\u001b[0m\u001b[0;34m.\u001b[0m\u001b[0mtrain_function\u001b[0m\u001b[0;34m(\u001b[0m\u001b[0mins\u001b[0m\u001b[0;34m)\u001b[0m\u001b[0;34m\u001b[0m\u001b[0m\n\u001b[0m\u001b[1;32m   1450\u001b[0m         \u001b[0;32mreturn\u001b[0m \u001b[0munpack_singleton\u001b[0m\u001b[0;34m(\u001b[0m\u001b[0moutputs\u001b[0m\u001b[0;34m)\u001b[0m\u001b[0;34m\u001b[0m\u001b[0m\n\u001b[1;32m   1451\u001b[0m \u001b[0;34m\u001b[0m\u001b[0m\n",
      "\u001b[0;32m~/git/BimanualModeling/py_36_env/lib/python3.6/site-packages/keras/backend/tensorflow_backend.py\u001b[0m in \u001b[0;36m__call__\u001b[0;34m(self, inputs)\u001b[0m\n\u001b[1;32m   2977\u001b[0m                     \u001b[0;32mreturn\u001b[0m \u001b[0mself\u001b[0m\u001b[0;34m.\u001b[0m\u001b[0m_legacy_call\u001b[0m\u001b[0;34m(\u001b[0m\u001b[0minputs\u001b[0m\u001b[0;34m)\u001b[0m\u001b[0;34m\u001b[0m\u001b[0m\n\u001b[1;32m   2978\u001b[0m \u001b[0;34m\u001b[0m\u001b[0m\n\u001b[0;32m-> 2979\u001b[0;31m             \u001b[0;32mreturn\u001b[0m \u001b[0mself\u001b[0m\u001b[0;34m.\u001b[0m\u001b[0m_call\u001b[0m\u001b[0;34m(\u001b[0m\u001b[0minputs\u001b[0m\u001b[0;34m)\u001b[0m\u001b[0;34m\u001b[0m\u001b[0m\n\u001b[0m\u001b[1;32m   2980\u001b[0m         \u001b[0;32melse\u001b[0m\u001b[0;34m:\u001b[0m\u001b[0;34m\u001b[0m\u001b[0m\n\u001b[1;32m   2981\u001b[0m             \u001b[0;32mif\u001b[0m \u001b[0mpy_any\u001b[0m\u001b[0;34m(\u001b[0m\u001b[0mis_tensor\u001b[0m\u001b[0;34m(\u001b[0m\u001b[0mx\u001b[0m\u001b[0;34m)\u001b[0m \u001b[0;32mfor\u001b[0m \u001b[0mx\u001b[0m \u001b[0;32min\u001b[0m \u001b[0minputs\u001b[0m\u001b[0;34m)\u001b[0m\u001b[0;34m:\u001b[0m\u001b[0;34m\u001b[0m\u001b[0m\n",
      "\u001b[0;32m~/git/BimanualModeling/py_36_env/lib/python3.6/site-packages/keras/backend/tensorflow_backend.py\u001b[0m in \u001b[0;36m_call\u001b[0;34m(self, inputs)\u001b[0m\n\u001b[1;32m   2935\u001b[0m             \u001b[0mfetched\u001b[0m \u001b[0;34m=\u001b[0m \u001b[0mself\u001b[0m\u001b[0;34m.\u001b[0m\u001b[0m_callable_fn\u001b[0m\u001b[0;34m(\u001b[0m\u001b[0;34m*\u001b[0m\u001b[0marray_vals\u001b[0m\u001b[0;34m,\u001b[0m \u001b[0mrun_metadata\u001b[0m\u001b[0;34m=\u001b[0m\u001b[0mself\u001b[0m\u001b[0;34m.\u001b[0m\u001b[0mrun_metadata\u001b[0m\u001b[0;34m)\u001b[0m\u001b[0;34m\u001b[0m\u001b[0m\n\u001b[1;32m   2936\u001b[0m         \u001b[0;32melse\u001b[0m\u001b[0;34m:\u001b[0m\u001b[0;34m\u001b[0m\u001b[0m\n\u001b[0;32m-> 2937\u001b[0;31m             \u001b[0mfetched\u001b[0m \u001b[0;34m=\u001b[0m \u001b[0mself\u001b[0m\u001b[0;34m.\u001b[0m\u001b[0m_callable_fn\u001b[0m\u001b[0;34m(\u001b[0m\u001b[0;34m*\u001b[0m\u001b[0marray_vals\u001b[0m\u001b[0;34m)\u001b[0m\u001b[0;34m\u001b[0m\u001b[0m\n\u001b[0m\u001b[1;32m   2938\u001b[0m         \u001b[0;32mreturn\u001b[0m \u001b[0mfetched\u001b[0m\u001b[0;34m[\u001b[0m\u001b[0;34m:\u001b[0m\u001b[0mlen\u001b[0m\u001b[0;34m(\u001b[0m\u001b[0mself\u001b[0m\u001b[0;34m.\u001b[0m\u001b[0moutputs\u001b[0m\u001b[0;34m)\u001b[0m\u001b[0;34m]\u001b[0m\u001b[0;34m\u001b[0m\u001b[0m\n\u001b[1;32m   2939\u001b[0m \u001b[0;34m\u001b[0m\u001b[0m\n",
      "\u001b[0;32m~/git/BimanualModeling/py_36_env/lib/python3.6/site-packages/tensorflow/python/client/session.py\u001b[0m in \u001b[0;36m__call__\u001b[0;34m(self, *args, **kwargs)\u001b[0m\n\u001b[1;32m   1456\u001b[0m         ret = tf_session.TF_SessionRunCallable(self._session._session,\n\u001b[1;32m   1457\u001b[0m                                                \u001b[0mself\u001b[0m\u001b[0;34m.\u001b[0m\u001b[0m_handle\u001b[0m\u001b[0;34m,\u001b[0m \u001b[0margs\u001b[0m\u001b[0;34m,\u001b[0m\u001b[0;34m\u001b[0m\u001b[0m\n\u001b[0;32m-> 1458\u001b[0;31m                                                run_metadata_ptr)\n\u001b[0m\u001b[1;32m   1459\u001b[0m         \u001b[0;32mif\u001b[0m \u001b[0mrun_metadata\u001b[0m\u001b[0;34m:\u001b[0m\u001b[0;34m\u001b[0m\u001b[0m\n\u001b[1;32m   1460\u001b[0m           \u001b[0mproto_data\u001b[0m \u001b[0;34m=\u001b[0m \u001b[0mtf_session\u001b[0m\u001b[0;34m.\u001b[0m\u001b[0mTF_GetBuffer\u001b[0m\u001b[0;34m(\u001b[0m\u001b[0mrun_metadata_ptr\u001b[0m\u001b[0;34m)\u001b[0m\u001b[0;34m\u001b[0m\u001b[0m\n",
      "\u001b[0;31mKeyboardInterrupt\u001b[0m: "
     ]
    }
   ],
   "source": [
    "# Train the model\n",
    "early_stopping = keras.callbacks.EarlyStopping(monitor='val_loss',patience=1,restore_best_weights=True)\n",
    "history = model2.fit_generator(train_gen,\n",
    "                              epochs=100,\n",
    "                              validation_data = val_gen,\n",
    "                              validation_steps = sum(transcript_df.val),\n",
    "                              steps_per_epoch=sum(transcript_df.train),\n",
    "                              callbacks = [early_stopping])\n",
    "plt.plot(history.history['loss'])\n",
    "plt.plot(history.history['val_loss'])"
   ]
  },
  {
   "cell_type": "markdown",
   "metadata": {},
   "source": [
    "## 3.3 Assess attention model performance <a name='attn-test'></a>"
   ]
  },
  {
   "cell_type": "code",
   "execution_count": null,
   "metadata": {},
   "outputs": [],
   "source": [
    "model2.evaluate_generator(val_gen)\n",
    "print(Predict_transcript(model2, val_gen,chars_to_generate=100));"
   ]
  },
  {
   "cell_type": "markdown",
   "metadata": {},
   "source": [
    "# 4.0 Word-based model\n",
    "Looks like the letter-based models are pretty hard to get accurate, especially given that at the moment I am only running on a CPU. I wonder if a word-based model would perform better, given that the thorny \"first learn English\" problem is less of a worry. To do this, I'll need to process the inputs differently. Let's see what I can do.\n",
    "\n",
    "**Edit**: I realized a subtle bug that I had in my character training/validation generator function above, such that selections were being repeated from epoch to epoch. I have fixed it, and will go back soon and see if things improve once I'm actually training on more of my training data."
   ]
  },
  {
   "cell_type": "markdown",
   "metadata": {},
   "source": [
    "## 4.1 Processing Input"
   ]
  },
  {
   "cell_type": "markdown",
   "metadata": {},
   "source": [
    "We'll need to \"tokenize\" the input, e.g. convert words into numbers"
   ]
  },
  {
   "cell_type": "code",
   "execution_count": 369,
   "metadata": {},
   "outputs": [],
   "source": [
    "# import the tokenizer class, specify vocabulary size\n",
    "from keras.preprocessing.text import Tokenizer\n",
    "n_words = 10000\n",
    "\n",
    "# build and train a tokenizer instance\n",
    "tokenizer = Tokenizer(num_words=n_words)\n",
    "tokenizer.fit_on_texts(transcript_df.transcript)\n",
    "\n",
    "# tokenize our texts\n",
    "transcript_df['encoded_words'] = tokenizer.texts_to_sequences(transcript_df.transcript)"
   ]
  },
  {
   "cell_type": "markdown",
   "metadata": {},
   "source": [
    "So that we don't have to re-invent the wheel, I'll also use GLOVE embeddings to incorporate some fore-knowledge of word similarities into my model."
   ]
  },
  {
   "cell_type": "code",
   "execution_count": 370,
   "metadata": {},
   "outputs": [],
   "source": [
    "BASE_DIR = './'\n",
    "GLOVE_DIR = os.path.join(BASE_DIR, 'glove.6B')\n",
    "EMBEDDING_DIM = 50\n",
    "\n",
    "# Make the embedding matrix\n",
    "def Make_embedding_matrix(tokenizer):\n",
    "    word_index = tokenizer.word_index\n",
    "    # Create a dictionary mapping words to GLOVE embeddings\n",
    "    print('Indexing word vectors.')\n",
    "    embeddings_index = {}\n",
    "    with open(os.path.join(GLOVE_DIR, f'glove.6B.{EMBEDDING_DIM}d.txt')) as f:\n",
    "        for line in f:\n",
    "            values = line.split()\n",
    "            word = values[0]\n",
    "            coefs = np.asarray(values[1:], dtype='float32')\n",
    "            embeddings_index[word] = coefs\n",
    "    print(f'Found {len(embeddings_index)} word vectors.')\n",
    "    \n",
    "    # Prepare embedding matrix\n",
    "    num_words = len(word_index) + 1\n",
    "    embedding_matrix = np.zeros((num_words, EMBEDDING_DIM))\n",
    "    for word, i in word_index.items():\n",
    "        if i > n_words:\n",
    "            continue\n",
    "        embedding_vector = embeddings_index.get(word)\n",
    "        if embedding_vector is not None:\n",
    "            # words not found in embedding index will be all-zeros.\n",
    "            embedding_matrix[i] = embedding_vector\n",
    "    \n",
    "    return embedding_matrix"
   ]
  },
  {
   "cell_type": "code",
   "execution_count": 371,
   "metadata": {},
   "outputs": [
    {
     "name": "stdout",
     "output_type": "stream",
     "text": [
      "Indexing word vectors.\n",
      "Found 400000 word vectors.\n"
     ]
    }
   ],
   "source": [
    "embedding_matrix = Make_embedding_matrix(tokenizer)"
   ]
  },
  {
   "cell_type": "markdown",
   "metadata": {},
   "source": [
    "### Make a generator\n",
    "As before, we'll want to make a generator to make data to feed our networks."
   ]
  },
  {
   "cell_type": "code",
   "execution_count": 485,
   "metadata": {},
   "outputs": [],
   "source": [
    "class DataGenerator_words(keras.utils.Sequence):\n",
    "    # Generates data for Keras\n",
    "    def __init__(self, df, batch_size=batch_size,n_times=n_times,n_components=n_words,shuffle=True):\n",
    "        # Initialization\n",
    "        self.batch_size = batch_size\n",
    "        self.df = df.encoded_words\n",
    "        self.indices = np.copy(self.df.index.values)\n",
    "        self.dim = (batch_size,n_times)\n",
    "        self.shuffle = shuffle\n",
    "        self.n_components = n_components\n",
    "        self.on_epoch_end()\n",
    "\n",
    "    def __len__(self):\n",
    "        # Denotes the number of batches per epoch\n",
    "        return len(self.df.index.values)\n",
    "\n",
    "    def __getitem__(self, index):\n",
    "\n",
    "        # Generate data\n",
    "        X, y = self.__data_generation(self.indices[index])\n",
    "\n",
    "        return X, y\n",
    "\n",
    "    def __data_generation(self, transcript_num):\n",
    "        #'Generates data containing batch_size samples' \n",
    "        \n",
    "        \n",
    "        # timing signal so that the network can figure out how to use longer times\n",
    "        timing_signal = np.sin(np.repeat(np.arange(n_times).reshape(-1,1),10,axis=1)/np.arange(1,11)).reshape(1,n_times,10)\n",
    "        timing_signal = np.repeat(timing_signal,batch_size,axis=0)\n",
    "        # start from last word, so that encoding for later words is consistent as duration increases\n",
    "        timing_signal = timing_signal[:,::-1,:] \n",
    "        \n",
    "        # Initialization\n",
    "        X = np.empty(self.dim)\n",
    "        y = np.zeros((self.batch_size,self.n_components), dtype=int)\n",
    "\n",
    "        # Pull batch_size random samples from the specified transcript\n",
    "        indices = np.random.randint(low=0,\n",
    "                                    high=len(self.df[transcript_num])-n_times-1,\n",
    "                                    size=self.batch_size)\n",
    "        \n",
    "        # for each start position, pull a sequence of n_times chars for X, and the next char for y\n",
    "        for i, startpos in enumerate(indices):\n",
    "            # Store sample\n",
    "            X[i,] = self.df[transcript_num][startpos:startpos+n_times]\n",
    "\n",
    "            # Store next word\n",
    "            y[i, self.df[transcript_num][startpos+n_times]] = 1 # one-hot encoding\n",
    "        \n",
    "        X = [X,timing_signal]\n",
    "\n",
    "        return X, y\n",
    "\n",
    "n_times=10\n",
    "train_gen = DataGenerator_words(transcript_df.loc[transcript_df.train,:],shuffle=True,n_times=n_times)\n",
    "val_gen = DataGenerator_words(transcript_df.loc[transcript_df.val,:],shuffle=True,n_times=n_times)"
   ]
  },
  {
   "cell_type": "markdown",
   "metadata": {},
   "source": [
    "## 4.2 Attention model"
   ]
  },
  {
   "cell_type": "code",
   "execution_count": 497,
   "metadata": {},
   "outputs": [
    {
     "data": {
      "text/plain": [
       "(54080, 50)"
      ]
     },
     "execution_count": 497,
     "metadata": {},
     "output_type": "execute_result"
    }
   ],
   "source": [
    "embedding_matrix.shape"
   ]
  },
  {
   "cell_type": "code",
   "execution_count": 495,
   "metadata": {},
   "outputs": [
    {
     "name": "stdout",
     "output_type": "stream",
     "text": [
      "Model: \"model_38\"\n",
      "__________________________________________________________________________________________________\n",
      "Layer (type)                    Output Shape         Param #     Connected to                     \n",
      "==================================================================================================\n",
      "Words (InputLayer)              (None, 10)           0                                            \n",
      "__________________________________________________________________________________________________\n",
      "embedding_77 (Embedding)        (None, 10, 50)       2704000     Words[0][0]                      \n",
      "__________________________________________________________________________________________________\n",
      "dense_225 (Dense)               (None, 10, 502)      25602       embedding_77[0][0]               \n",
      "__________________________________________________________________________________________________\n",
      "times (InputLayer)              (None, 10, 10)       0                                            \n",
      "__________________________________________________________________________________________________\n",
      "concatenate_13 (Concatenate)    (None, 10, 512)      0           dense_225[0][0]                  \n",
      "                                                                 times[0][0]                      \n",
      "__________________________________________________________________________________________________\n",
      "multi_head_attention_104 (Multi (None, 10, 512)      1050624     concatenate_13[0][0]             \n",
      "__________________________________________________________________________________________________\n",
      "add_97 (Add)                    (None, 10, 512)      0           concatenate_13[0][0]             \n",
      "                                                                 multi_head_attention_104[0][0]   \n",
      "__________________________________________________________________________________________________\n",
      "layer_normalization_83 (LayerNo (None, 10, 512)      1024        add_97[0][0]                     \n",
      "__________________________________________________________________________________________________\n",
      "dense_226 (Dense)               (None, 10, 512)      262656      layer_normalization_83[0][0]     \n",
      "__________________________________________________________________________________________________\n",
      "add_98 (Add)                    (None, 10, 512)      0           dense_226[0][0]                  \n",
      "                                                                 layer_normalization_83[0][0]     \n",
      "__________________________________________________________________________________________________\n",
      "layer_normalization_84 (LayerNo (None, 10, 512)      1024        add_98[0][0]                     \n",
      "__________________________________________________________________________________________________\n",
      "spatial_dropout1d_71 (SpatialDr (None, 10, 512)      0           layer_normalization_84[0][0]     \n",
      "__________________________________________________________________________________________________\n",
      "multi_head_attention_105 (Multi (None, 10, 512)      1050624     spatial_dropout1d_71[0][0]       \n",
      "__________________________________________________________________________________________________\n",
      "add_99 (Add)                    (None, 10, 512)      0           spatial_dropout1d_71[0][0]       \n",
      "                                                                 multi_head_attention_105[0][0]   \n",
      "__________________________________________________________________________________________________\n",
      "layer_normalization_85 (LayerNo (None, 10, 512)      1024        add_99[0][0]                     \n",
      "__________________________________________________________________________________________________\n",
      "dense_227 (Dense)               (None, 10, 512)      262656      layer_normalization_85[0][0]     \n",
      "__________________________________________________________________________________________________\n",
      "add_100 (Add)                   (None, 10, 512)      0           dense_227[0][0]                  \n",
      "                                                                 layer_normalization_85[0][0]     \n",
      "__________________________________________________________________________________________________\n",
      "layer_normalization_86 (LayerNo (None, 10, 512)      1024        add_100[0][0]                    \n",
      "__________________________________________________________________________________________________\n",
      "spatial_dropout1d_72 (SpatialDr (None, 10, 512)      0           layer_normalization_86[0][0]     \n",
      "__________________________________________________________________________________________________\n",
      "flatten_20 (Flatten)            (None, 5120)         0           spatial_dropout1d_72[0][0]       \n",
      "__________________________________________________________________________________________________\n",
      "dense_228 (Dense)               (None, 512)          2621952     flatten_20[0][0]                 \n",
      "__________________________________________________________________________________________________\n",
      "dense_229 (Dense)               (None, 10000)        5130000     dense_228[0][0]                  \n",
      "==================================================================================================\n",
      "Total params: 13,112,210\n",
      "Trainable params: 10,408,210\n",
      "Non-trainable params: 2,704,000\n",
      "__________________________________________________________________________________________________\n"
     ]
    }
   ],
   "source": [
    "from keras.layers import Embedding\n",
    "from keras.models import Sequential\n",
    "from keras.initializers import Constant\n",
    "from keras_layer_normalization import LayerNormalization\n",
    "\n",
    "layer_size = 512\n",
    "head_num = 8\n",
    "\n",
    "sequence_input = Input(shape=(n_times,),\n",
    "                           dtype='int32',name='Words')\n",
    "timing_input = Input(shape=(n_times,10),name='times')\n",
    "\n",
    "# embedded = Embedding(embedding_matrix.shape[0],\n",
    "#                             embedding_matrix.shape[1],\n",
    "# #                             embeddings_initializer=Constant(embedding_matrix),\n",
    "#                             input_length=None,\n",
    "#                             trainable=False)(sequence_input)\n",
    "embedded = Embedding(n_words,\n",
    "                            embedding_matrix.shape[1],\n",
    "#                             embeddings_initializer=Constant(embedding_matrix),\n",
    "                            input_length=None,\n",
    "                            trainable=False)(sequence_input)\n",
    " = Dense()(embedded)\n",
    "\n",
    "# add in a timing signal\n",
    "x = keras.layers.Concatenate()([x,timing_input])\n",
    "\n",
    "# Multi-head attention layer\n",
    "attn = MultiHeadAttention(head_num=head_num,activation='sigmoid')(x)\n",
    "summed = Add()([x,attn])\n",
    "normed = LayerNormalization()(summed)\n",
    "\n",
    "# Feed-forward layer\n",
    "x = Dense(layer_size,activation='relu')(normed)\n",
    "summed = Add()([x,normed])\n",
    "normed = LayerNormalization()(summed)\n",
    "normed = SpatialDropout1D(rate=0.25)(normed)\n",
    "\n",
    "# Multi-head attention layer\n",
    "for mid_layers in range(1):\n",
    "    attn = MultiHeadAttention(head_num=head_num,activation='sigmoid')(normed)\n",
    "    summed = Add()([normed,attn])\n",
    "    normed = LayerNormalization()(summed)\n",
    "\n",
    "    # Feed-forward layer\n",
    "    x = Dense(layer_size,activation='relu')(normed)\n",
    "    summed = Add()([x,normed])\n",
    "    normed = LayerNormalization()(summed)\n",
    "    normed = SpatialDropout1D(rate=0.25)(normed)\n",
    "\n",
    "# Final readout\n",
    "pooled = keras.layers.Flatten()(normed)\n",
    "linear = Dense(layer_size,activation='relu')(pooled)\n",
    "readout = Dense(n_words,activation='softmax')(linear)\n",
    "\n",
    "\n",
    "# compile the model\n",
    "optimizer = keras.optimizers.RMSprop(decay=0.001)\n",
    "model = Model(inputs=[sequence_input,timing_input],outputs = readout)\n",
    "model.compile(\n",
    "    optimizer=optimizer,\n",
    "    loss='categorical_crossentropy',\n",
    ")\n",
    "\n",
    "model.summary()"
   ]
  },
  {
   "cell_type": "code",
   "execution_count": 496,
   "metadata": {},
   "outputs": [],
   "source": [
    "def Predict_words(model,val_gen,n_words_to_predict=10):\n",
    "    inp = val_gen.__getitem__(np.random.randint(sum(transcript_df.val)))[0][0]\n",
    "    predicted_text = inp[np.random.randint(batch_size)].reshape(1,-1)\n",
    "    for word in range(n_words_to_predict):\n",
    "        predicted_token = np.random.choice(a=n_words,size=1,p=model2.predict(predicted_text)[0]).reshape(1,1)\n",
    "        predicted_text = np.concatenate((predicted_text,predicted_token),axis=-1)\n",
    "    print(tokenizer.sequences_to_texts(predicted_text)[0])"
   ]
  },
  {
   "cell_type": "code",
   "execution_count": 489,
   "metadata": {},
   "outputs": [],
   "source": [
    "class PredictionCallback(keras.callbacks.Callback):\n",
    "    \n",
    "    def on_epoch_end(x,y,z):\n",
    "        Predict_words(model,val_gen)"
   ]
  },
  {
   "cell_type": "code",
   "execution_count": 494,
   "metadata": {},
   "outputs": [
    {
     "name": "stdout",
     "output_type": "stream",
     "text": [
      "Epoch 1/5\n",
      "1589/2639 [=================>............] - ETA: 3:54 - loss: 5.8593"
     ]
    },
    {
     "ename": "KeyboardInterrupt",
     "evalue": "",
     "output_type": "error",
     "traceback": [
      "\u001b[0;31m---------------------------------------------------------------------------\u001b[0m",
      "\u001b[0;31mKeyboardInterrupt\u001b[0m                         Traceback (most recent call last)",
      "\u001b[0;32m<ipython-input-494-0d9ef8832c6f>\u001b[0m in \u001b[0;36m<module>\u001b[0;34m()\u001b[0m\n\u001b[1;32m     12\u001b[0m                               \u001b[0mvalidation_steps\u001b[0m \u001b[0;34m=\u001b[0m \u001b[0msum\u001b[0m\u001b[0;34m(\u001b[0m\u001b[0mtranscript_df\u001b[0m\u001b[0;34m.\u001b[0m\u001b[0mval\u001b[0m\u001b[0;34m)\u001b[0m\u001b[0;34m,\u001b[0m\u001b[0;34m\u001b[0m\u001b[0m\n\u001b[1;32m     13\u001b[0m                               \u001b[0msteps_per_epoch\u001b[0m\u001b[0;34m=\u001b[0m\u001b[0msum\u001b[0m\u001b[0;34m(\u001b[0m\u001b[0mtranscript_df\u001b[0m\u001b[0;34m.\u001b[0m\u001b[0mtrain\u001b[0m\u001b[0;34m)\u001b[0m\u001b[0;34m,\u001b[0m\u001b[0;34m\u001b[0m\u001b[0m\n\u001b[0;32m---> 14\u001b[0;31m                               callbacks = [early_stopping,PredictionCallback()])\n\u001b[0m\u001b[1;32m     15\u001b[0m     \u001b[0mplt\u001b[0m\u001b[0;34m.\u001b[0m\u001b[0mplot\u001b[0m\u001b[0;34m(\u001b[0m\u001b[0mhistory\u001b[0m\u001b[0;34m.\u001b[0m\u001b[0mhistory\u001b[0m\u001b[0;34m[\u001b[0m\u001b[0;34m'loss'\u001b[0m\u001b[0;34m]\u001b[0m\u001b[0;34m)\u001b[0m\u001b[0;34m\u001b[0m\u001b[0m\n\u001b[1;32m     16\u001b[0m     \u001b[0mplt\u001b[0m\u001b[0;34m.\u001b[0m\u001b[0mplot\u001b[0m\u001b[0;34m(\u001b[0m\u001b[0mhistory\u001b[0m\u001b[0;34m.\u001b[0m\u001b[0mhistory\u001b[0m\u001b[0;34m[\u001b[0m\u001b[0;34m'val_loss'\u001b[0m\u001b[0;34m]\u001b[0m\u001b[0;34m)\u001b[0m\u001b[0;34m\u001b[0m\u001b[0m\n",
      "\u001b[0;32m~/git/BimanualModeling/py_36_env/lib/python3.6/site-packages/keras/legacy/interfaces.py\u001b[0m in \u001b[0;36mwrapper\u001b[0;34m(*args, **kwargs)\u001b[0m\n\u001b[1;32m     89\u001b[0m                 warnings.warn('Update your `' + object_name + '` call to the ' +\n\u001b[1;32m     90\u001b[0m                               'Keras 2 API: ' + signature, stacklevel=2)\n\u001b[0;32m---> 91\u001b[0;31m             \u001b[0;32mreturn\u001b[0m \u001b[0mfunc\u001b[0m\u001b[0;34m(\u001b[0m\u001b[0;34m*\u001b[0m\u001b[0margs\u001b[0m\u001b[0;34m,\u001b[0m \u001b[0;34m**\u001b[0m\u001b[0mkwargs\u001b[0m\u001b[0;34m)\u001b[0m\u001b[0;34m\u001b[0m\u001b[0m\n\u001b[0m\u001b[1;32m     92\u001b[0m         \u001b[0mwrapper\u001b[0m\u001b[0;34m.\u001b[0m\u001b[0m_original_function\u001b[0m \u001b[0;34m=\u001b[0m \u001b[0mfunc\u001b[0m\u001b[0;34m\u001b[0m\u001b[0m\n\u001b[1;32m     93\u001b[0m         \u001b[0;32mreturn\u001b[0m \u001b[0mwrapper\u001b[0m\u001b[0;34m\u001b[0m\u001b[0m\n",
      "\u001b[0;32m~/git/BimanualModeling/py_36_env/lib/python3.6/site-packages/keras/engine/training.py\u001b[0m in \u001b[0;36mfit_generator\u001b[0;34m(self, generator, steps_per_epoch, epochs, verbose, callbacks, validation_data, validation_steps, validation_freq, class_weight, max_queue_size, workers, use_multiprocessing, shuffle, initial_epoch)\u001b[0m\n\u001b[1;32m   1656\u001b[0m             \u001b[0muse_multiprocessing\u001b[0m\u001b[0;34m=\u001b[0m\u001b[0muse_multiprocessing\u001b[0m\u001b[0;34m,\u001b[0m\u001b[0;34m\u001b[0m\u001b[0m\n\u001b[1;32m   1657\u001b[0m             \u001b[0mshuffle\u001b[0m\u001b[0;34m=\u001b[0m\u001b[0mshuffle\u001b[0m\u001b[0;34m,\u001b[0m\u001b[0;34m\u001b[0m\u001b[0m\n\u001b[0;32m-> 1658\u001b[0;31m             initial_epoch=initial_epoch)\n\u001b[0m\u001b[1;32m   1659\u001b[0m \u001b[0;34m\u001b[0m\u001b[0m\n\u001b[1;32m   1660\u001b[0m     \u001b[0;34m@\u001b[0m\u001b[0minterfaces\u001b[0m\u001b[0;34m.\u001b[0m\u001b[0mlegacy_generator_methods_support\u001b[0m\u001b[0;34m\u001b[0m\u001b[0m\n",
      "\u001b[0;32m~/git/BimanualModeling/py_36_env/lib/python3.6/site-packages/keras/engine/training_generator.py\u001b[0m in \u001b[0;36mfit_generator\u001b[0;34m(model, generator, steps_per_epoch, epochs, verbose, callbacks, validation_data, validation_steps, validation_freq, class_weight, max_queue_size, workers, use_multiprocessing, shuffle, initial_epoch)\u001b[0m\n\u001b[1;32m    213\u001b[0m                 outs = model.train_on_batch(x, y,\n\u001b[1;32m    214\u001b[0m                                             \u001b[0msample_weight\u001b[0m\u001b[0;34m=\u001b[0m\u001b[0msample_weight\u001b[0m\u001b[0;34m,\u001b[0m\u001b[0;34m\u001b[0m\u001b[0m\n\u001b[0;32m--> 215\u001b[0;31m                                             class_weight=class_weight)\n\u001b[0m\u001b[1;32m    216\u001b[0m \u001b[0;34m\u001b[0m\u001b[0m\n\u001b[1;32m    217\u001b[0m                 \u001b[0mouts\u001b[0m \u001b[0;34m=\u001b[0m \u001b[0mto_list\u001b[0m\u001b[0;34m(\u001b[0m\u001b[0mouts\u001b[0m\u001b[0;34m)\u001b[0m\u001b[0;34m\u001b[0m\u001b[0m\n",
      "\u001b[0;32m~/git/BimanualModeling/py_36_env/lib/python3.6/site-packages/keras/engine/training.py\u001b[0m in \u001b[0;36mtrain_on_batch\u001b[0;34m(self, x, y, sample_weight, class_weight)\u001b[0m\n\u001b[1;32m   1447\u001b[0m             \u001b[0mins\u001b[0m \u001b[0;34m=\u001b[0m \u001b[0mx\u001b[0m \u001b[0;34m+\u001b[0m \u001b[0my\u001b[0m \u001b[0;34m+\u001b[0m \u001b[0msample_weights\u001b[0m\u001b[0;34m\u001b[0m\u001b[0m\n\u001b[1;32m   1448\u001b[0m         \u001b[0mself\u001b[0m\u001b[0;34m.\u001b[0m\u001b[0m_make_train_function\u001b[0m\u001b[0;34m(\u001b[0m\u001b[0;34m)\u001b[0m\u001b[0;34m\u001b[0m\u001b[0m\n\u001b[0;32m-> 1449\u001b[0;31m         \u001b[0moutputs\u001b[0m \u001b[0;34m=\u001b[0m \u001b[0mself\u001b[0m\u001b[0;34m.\u001b[0m\u001b[0mtrain_function\u001b[0m\u001b[0;34m(\u001b[0m\u001b[0mins\u001b[0m\u001b[0;34m)\u001b[0m\u001b[0;34m\u001b[0m\u001b[0m\n\u001b[0m\u001b[1;32m   1450\u001b[0m         \u001b[0;32mreturn\u001b[0m \u001b[0munpack_singleton\u001b[0m\u001b[0;34m(\u001b[0m\u001b[0moutputs\u001b[0m\u001b[0;34m)\u001b[0m\u001b[0;34m\u001b[0m\u001b[0m\n\u001b[1;32m   1451\u001b[0m \u001b[0;34m\u001b[0m\u001b[0m\n",
      "\u001b[0;32m~/git/BimanualModeling/py_36_env/lib/python3.6/site-packages/keras/backend/tensorflow_backend.py\u001b[0m in \u001b[0;36m__call__\u001b[0;34m(self, inputs)\u001b[0m\n\u001b[1;32m   2977\u001b[0m                     \u001b[0;32mreturn\u001b[0m \u001b[0mself\u001b[0m\u001b[0;34m.\u001b[0m\u001b[0m_legacy_call\u001b[0m\u001b[0;34m(\u001b[0m\u001b[0minputs\u001b[0m\u001b[0;34m)\u001b[0m\u001b[0;34m\u001b[0m\u001b[0m\n\u001b[1;32m   2978\u001b[0m \u001b[0;34m\u001b[0m\u001b[0m\n\u001b[0;32m-> 2979\u001b[0;31m             \u001b[0;32mreturn\u001b[0m \u001b[0mself\u001b[0m\u001b[0;34m.\u001b[0m\u001b[0m_call\u001b[0m\u001b[0;34m(\u001b[0m\u001b[0minputs\u001b[0m\u001b[0;34m)\u001b[0m\u001b[0;34m\u001b[0m\u001b[0m\n\u001b[0m\u001b[1;32m   2980\u001b[0m         \u001b[0;32melse\u001b[0m\u001b[0;34m:\u001b[0m\u001b[0;34m\u001b[0m\u001b[0m\n\u001b[1;32m   2981\u001b[0m             \u001b[0;32mif\u001b[0m \u001b[0mpy_any\u001b[0m\u001b[0;34m(\u001b[0m\u001b[0mis_tensor\u001b[0m\u001b[0;34m(\u001b[0m\u001b[0mx\u001b[0m\u001b[0;34m)\u001b[0m \u001b[0;32mfor\u001b[0m \u001b[0mx\u001b[0m \u001b[0;32min\u001b[0m \u001b[0minputs\u001b[0m\u001b[0;34m)\u001b[0m\u001b[0;34m:\u001b[0m\u001b[0;34m\u001b[0m\u001b[0m\n",
      "\u001b[0;32m~/git/BimanualModeling/py_36_env/lib/python3.6/site-packages/keras/backend/tensorflow_backend.py\u001b[0m in \u001b[0;36m_call\u001b[0;34m(self, inputs)\u001b[0m\n\u001b[1;32m   2935\u001b[0m             \u001b[0mfetched\u001b[0m \u001b[0;34m=\u001b[0m \u001b[0mself\u001b[0m\u001b[0;34m.\u001b[0m\u001b[0m_callable_fn\u001b[0m\u001b[0;34m(\u001b[0m\u001b[0;34m*\u001b[0m\u001b[0marray_vals\u001b[0m\u001b[0;34m,\u001b[0m \u001b[0mrun_metadata\u001b[0m\u001b[0;34m=\u001b[0m\u001b[0mself\u001b[0m\u001b[0;34m.\u001b[0m\u001b[0mrun_metadata\u001b[0m\u001b[0;34m)\u001b[0m\u001b[0;34m\u001b[0m\u001b[0m\n\u001b[1;32m   2936\u001b[0m         \u001b[0;32melse\u001b[0m\u001b[0;34m:\u001b[0m\u001b[0;34m\u001b[0m\u001b[0m\n\u001b[0;32m-> 2937\u001b[0;31m             \u001b[0mfetched\u001b[0m \u001b[0;34m=\u001b[0m \u001b[0mself\u001b[0m\u001b[0;34m.\u001b[0m\u001b[0m_callable_fn\u001b[0m\u001b[0;34m(\u001b[0m\u001b[0;34m*\u001b[0m\u001b[0marray_vals\u001b[0m\u001b[0;34m)\u001b[0m\u001b[0;34m\u001b[0m\u001b[0m\n\u001b[0m\u001b[1;32m   2938\u001b[0m         \u001b[0;32mreturn\u001b[0m \u001b[0mfetched\u001b[0m\u001b[0;34m[\u001b[0m\u001b[0;34m:\u001b[0m\u001b[0mlen\u001b[0m\u001b[0;34m(\u001b[0m\u001b[0mself\u001b[0m\u001b[0;34m.\u001b[0m\u001b[0moutputs\u001b[0m\u001b[0;34m)\u001b[0m\u001b[0;34m]\u001b[0m\u001b[0;34m\u001b[0m\u001b[0m\n\u001b[1;32m   2939\u001b[0m \u001b[0;34m\u001b[0m\u001b[0m\n",
      "\u001b[0;32m~/git/BimanualModeling/py_36_env/lib/python3.6/site-packages/tensorflow/python/client/session.py\u001b[0m in \u001b[0;36m__call__\u001b[0;34m(self, *args, **kwargs)\u001b[0m\n\u001b[1;32m   1456\u001b[0m         ret = tf_session.TF_SessionRunCallable(self._session._session,\n\u001b[1;32m   1457\u001b[0m                                                \u001b[0mself\u001b[0m\u001b[0;34m.\u001b[0m\u001b[0m_handle\u001b[0m\u001b[0;34m,\u001b[0m \u001b[0margs\u001b[0m\u001b[0;34m,\u001b[0m\u001b[0;34m\u001b[0m\u001b[0m\n\u001b[0;32m-> 1458\u001b[0;31m                                                run_metadata_ptr)\n\u001b[0m\u001b[1;32m   1459\u001b[0m         \u001b[0;32mif\u001b[0m \u001b[0mrun_metadata\u001b[0m\u001b[0;34m:\u001b[0m\u001b[0;34m\u001b[0m\u001b[0m\n\u001b[1;32m   1460\u001b[0m           \u001b[0mproto_data\u001b[0m \u001b[0;34m=\u001b[0m \u001b[0mtf_session\u001b[0m\u001b[0;34m.\u001b[0m\u001b[0mTF_GetBuffer\u001b[0m\u001b[0;34m(\u001b[0m\u001b[0mrun_metadata_ptr\u001b[0m\u001b[0;34m)\u001b[0m\u001b[0;34m\u001b[0m\u001b[0m\n",
      "\u001b[0;31mKeyboardInterrupt\u001b[0m: "
     ]
    }
   ],
   "source": [
    "# progressively learn longer strings\n",
    "early_stopping = keras.callbacks.EarlyStopping(monitor='val_loss',patience=2,restore_best_weights=True)\n",
    "batch_size = 64\n",
    "\n",
    "for n_times in range(10,100,10):\n",
    "    train_gen = DataGenerator_words(transcript_df.loc[transcript_df.train,:],shuffle=True,n_times=n_times,batch_size=batch_size)\n",
    "    val_gen = DataGenerator_words(transcript_df.loc[transcript_df.val,:],shuffle=True,n_times=n_times,batch_size=batch_size)\n",
    "    \n",
    "    history = model.fit_generator(train_gen,\n",
    "                              epochs=5,\n",
    "                              validation_data = val_gen,\n",
    "                              validation_steps = sum(transcript_df.val),\n",
    "                              steps_per_epoch=sum(transcript_df.train),\n",
    "                              callbacks = [early_stopping,PredictionCallback()])\n",
    "    plt.plot(history.history['loss'])\n",
    "    plt.plot(history.history['val_loss'])"
   ]
  },
  {
   "cell_type": "code",
   "execution_count": 484,
   "metadata": {},
   "outputs": [
    {
     "name": "stdout",
     "output_type": "stream",
     "text": [
      "o'clock you got him yep i got him i'm following wait wait he's a white guy he's a white guy hold fire stand down peaceful laughter jobrani tell it like it is my brother sagal i know jobrani as the iranian i appreciate you saying that laughter salie no this these are is pair soundbite wondered a go soundbite their\n"
     ]
    }
   ],
   "source": [
    "Predict_words(model,val_gen)"
   ]
  },
  {
   "cell_type": "code",
   "execution_count": 395,
   "metadata": {},
   "outputs": [],
   "source": []
  },
  {
   "cell_type": "code",
   "execution_count": 396,
   "metadata": {},
   "outputs": [
    {
     "data": {
      "text/plain": [
       "(10, 20)"
      ]
     },
     "execution_count": 396,
     "metadata": {},
     "output_type": "execute_result"
    }
   ],
   "source": [
    "timing_signal.shape"
   ]
  },
  {
   "cell_type": "code",
   "execution_count": null,
   "metadata": {},
   "outputs": [],
   "source": []
  }
 ],
 "metadata": {
  "kernelspec": {
   "display_name": "py_36_env",
   "language": "python",
   "name": "py_36_env"
  },
  "language_info": {
   "codemirror_mode": {
    "name": "ipython",
    "version": 3
   },
   "file_extension": ".py",
   "mimetype": "text/x-python",
   "name": "python",
   "nbconvert_exporter": "python",
   "pygments_lexer": "ipython3",
   "version": "3.6.5"
  }
 },
 "nbformat": 4,
 "nbformat_minor": 2
}
